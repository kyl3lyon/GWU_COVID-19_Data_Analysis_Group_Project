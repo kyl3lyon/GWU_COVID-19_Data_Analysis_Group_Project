{
 "cells": [
  {
   "cell_type": "markdown",
   "id": "2b085b80",
   "metadata": {},
   "source": [
    "# Final Project (Group 9)\n",
    "\n",
    "Lily Zheng, Zeeshan Raza, Harshit Aggarwal, Kyle Lyon, Charlotte Lu, Tivon Johnson"
   ]
  },
  {
   "cell_type": "markdown",
   "id": "2f166e2f",
   "metadata": {},
   "source": [
    "## Acquiring the Data"
   ]
  },
  {
   "cell_type": "markdown",
   "id": "881b2dbc",
   "metadata": {},
   "source": [
    "Use the cases.csv provided to download the cases and deaths recorded."
   ]
  },
  {
   "cell_type": "code",
   "execution_count": null,
   "id": "d1324865",
   "metadata": {
    "tags": []
   },
   "outputs": [],
   "source": [
    "!wget -i cases.csv -p '/home/ubuntu/notebooks/Final/'"
   ]
  },
  {
   "cell_type": "code",
   "execution_count": null,
   "id": "d6ecb7bc",
   "metadata": {},
   "outputs": [],
   "source": [
    "import os\n",
    "import glob\n",
    "\n",
    "os.chdir ('/home/ubuntu/notebooks/Final/raw.githubusercontent.com/CSSEGISandData/COVID-19/master/csse_covid_19_data/csse_covid_19_daily_reports_us')\n",
    "\n",
    "!csvstack *.csv > cases_and_deaths.csv"
   ]
  },
  {
   "cell_type": "code",
   "execution_count": null,
   "id": "bb698521",
   "metadata": {},
   "outputs": [],
   "source": [
    "!mv cases_and_deaths.csv /home/ubuntu/notebooks/Final/cases_and_deaths.csv"
   ]
  },
  {
   "cell_type": "code",
   "execution_count": null,
   "id": "ba458f59",
   "metadata": {},
   "outputs": [],
   "source": [
    "os.chdir ('/home/ubuntu/notebooks/Final/')\n",
    "!rm -r 'raw.githubusercontent.com'"
   ]
  },
  {
   "cell_type": "markdown",
   "id": "5e7cb69f",
   "metadata": {},
   "source": [
    "Grab the Vaccine data file"
   ]
  },
  {
   "cell_type": "code",
   "execution_count": null,
   "id": "fc775ad6",
   "metadata": {},
   "outputs": [],
   "source": [
    "!wget https://raw.githubusercontent.com/govex/COVID-19/master/data_tables/vaccine_data/us_data/time_series/vaccine_data_us_timeline.csv"
   ]
  },
  {
   "cell_type": "markdown",
   "id": "e0b0ad9b",
   "metadata": {},
   "source": [
    "Grab the People Vaccinated data file and the testing data file"
   ]
  },
  {
   "cell_type": "code",
   "execution_count": null,
   "id": "00449d05",
   "metadata": {
    "tags": []
   },
   "outputs": [],
   "source": [
    "!wget https://raw.githubusercontent.com/govex/COVID-19/master/data_tables/vaccine_data/us_data/time_series/people_vaccinated_us_timeline.csv\n",
    "!wget https://raw.githubusercontent.com/govex/COVID-19/master/data_tables/testing_data/time_series_covid19_US.csv"
   ]
  },
  {
   "cell_type": "markdown",
   "id": "6aabe6b5",
   "metadata": {},
   "source": [
    "Grab the file containing the population of each state"
   ]
  },
  {
   "cell_type": "markdown",
   "id": "50286569",
   "metadata": {},
   "source": [
    "population data source: https://data.census.gov/cedsci/table?y=2020&d=DEC%20Redistricting%20Data%20%28PL%2094-171%29&tid=DECENNIALPL2020.P1&hidePreview=true&tp=false"
   ]
  },
  {
   "cell_type": "markdown",
   "id": "296586d5",
   "metadata": {},
   "source": [
    "## Exploratory Data Analysis"
   ]
  },
  {
   "cell_type": "code",
   "execution_count": 200,
   "id": "44a4b2b1",
   "metadata": {
    "tags": []
   },
   "outputs": [
    {
     "name": "stdout",
     "output_type": "stream",
     "text": [
      "  1. \"date\"\n",
      "\n",
      "\tType of data:          Date\n",
      "\tContains null values:  False\n",
      "\tUnique values:         9\n",
      "\tSmallest value:        2020-03-06\n",
      "\tLargest value:         2020-03-14\n",
      "\tMost common values:    2020-03-06 (1x)\n",
      "\t                       2020-03-07 (1x)\n",
      "\t                       2020-03-08 (1x)\n",
      "\t                       2020-03-09 (1x)\n",
      "\t                       2020-03-10 (1x)\n",
      "\n",
      "  2. \"state\"\n",
      "\n",
      "\tType of data:          Text\n",
      "\tContains null values:  False\n",
      "\tUnique values:         1\n",
      "\tLongest value:         2 characters\n",
      "\tMost common values:    AK (9x)\n",
      "\n",
      "  3. \"cases_conf_probable\"\n",
      "\n",
      "\tType of data:          Boolean\n",
      "\tContains null values:  True (excluded from calculations)\n",
      "\tUnique values:         1\n",
      "\tMost common values:    None (9x)\n",
      "\n",
      "  4. \"cases_confirmed\"\n",
      "\n",
      "\tType of data:          Boolean\n",
      "\tContains null values:  True (excluded from calculations)\n",
      "\tUnique values:         1\n",
      "\tMost common values:    None (9x)\n",
      "\n",
      "  5. \"cases_probable\"\n",
      "\n",
      "\tType of data:          Boolean\n",
      "\tContains null values:  True (excluded from calculations)\n",
      "\tUnique values:         1\n",
      "\tMost common values:    None (9x)\n",
      "\n",
      "  6. \"tests_viral_positive\"\n",
      "\n",
      "\tType of data:          Boolean\n",
      "\tContains null values:  True (excluded from calculations)\n",
      "\tUnique values:         1\n",
      "\tMost common values:    None (9x)\n",
      "\n",
      "  7. \"tests_viral_negative\"\n",
      "\n",
      "\tType of data:          Boolean\n",
      "\tContains null values:  True (excluded from calculations)\n",
      "\tUnique values:         1\n",
      "\tMost common values:    None (9x)\n",
      "\n",
      "  8. \"tests_viral_total\"\n",
      "\n",
      "\tType of data:          Number\n",
      "\tContains null values:  False\n",
      "\tUnique values:         7\n",
      "\tSmallest value:        8\n",
      "\tLargest value:         144\n",
      "\tSum:                   376\n",
      "\tMean:                  41.777778\n",
      "\tMedian:                23\n",
      "\tStDev:                 42.310689\n",
      "\tMost common values:    23 (2x)\n",
      "\t                       46 (2x)\n",
      "\t                       8 (1x)\n",
      "\t                       12 (1x)\n",
      "\t                       14 (1x)\n",
      "\n",
      "  9. \"tests_antigen_positive\"\n",
      "\n",
      "\tType of data:          Boolean\n",
      "\tContains null values:  True (excluded from calculations)\n",
      "\tUnique values:         1\n",
      "\tMost common values:    None (9x)\n",
      "\n",
      " 10. \"tests_antigen_total\"\n",
      "\n",
      "\tType of data:          Boolean\n",
      "\tContains null values:  True (excluded from calculations)\n",
      "\tUnique values:         1\n",
      "\tMost common values:    None (9x)\n",
      "\n",
      " 11. \"people_viral_positive\"\n",
      "\n",
      "\tType of data:          Boolean\n",
      "\tContains null values:  True (excluded from calculations)\n",
      "\tUnique values:         1\n",
      "\tMost common values:    None (9x)\n",
      "\n",
      " 12. \"people_viral_total\"\n",
      "\n",
      "\tType of data:          Boolean\n",
      "\tContains null values:  True (excluded from calculations)\n",
      "\tUnique values:         1\n",
      "\tMost common values:    None (9x)\n",
      "\n",
      " 13. \"people_antigen_positive\"\n",
      "\n",
      "\tType of data:          Boolean\n",
      "\tContains null values:  True (excluded from calculations)\n",
      "\tUnique values:         1\n",
      "\tMost common values:    None (9x)\n",
      "\n",
      " 14. \"people_antigen_total\"\n",
      "\n",
      "\tType of data:          Boolean\n",
      "\tContains null values:  True (excluded from calculations)\n",
      "\tUnique values:         1\n",
      "\tMost common values:    None (9x)\n",
      "\n",
      " 15. \"encounters_viral_total\"\n",
      "\n",
      "\tType of data:          Boolean\n",
      "\tContains null values:  True (excluded from calculations)\n",
      "\tUnique values:         1\n",
      "\tMost common values:    None (9x)\n",
      "\n",
      " 16. \"tests_combined_total\"\n",
      "\n",
      "\tType of data:          Number\n",
      "\tContains null values:  False\n",
      "\tUnique values:         7\n",
      "\tSmallest value:        8\n",
      "\tLargest value:         144\n",
      "\tSum:                   376\n",
      "\tMean:                  41.777778\n",
      "\tMedian:                23\n",
      "\tStDev:                 42.310689\n",
      "\tMost common values:    23 (2x)\n",
      "\t                       46 (2x)\n",
      "\t                       8 (1x)\n",
      "\t                       12 (1x)\n",
      "\t                       14 (1x)\n",
      "\n",
      "Row count: 9\n"
     ]
    }
   ],
   "source": [
    "!head -n 10 time_series_covid19_US.csv | csvstat"
   ]
  },
  {
   "cell_type": "code",
   "execution_count": 201,
   "id": "fac2a6cb",
   "metadata": {
    "tags": []
   },
   "outputs": [
    {
     "name": "stdout",
     "output_type": "stream",
     "text": [
      "  1. \"Province_State\"\n",
      "\n",
      "\tType of data:          Text\n",
      "\tContains null values:  False\n",
      "\tUnique values:         9\n",
      "\tLongest value:         14 characters\n",
      "\tMost common values:    Alabama (1x)\n",
      "\t                       Alaska (1x)\n",
      "\t                       American Samoa (1x)\n",
      "\t                       Arizona (1x)\n",
      "\t                       Arkansas (1x)\n",
      "\n",
      "  2. \"Country_Region\"\n",
      "\n",
      "\tType of data:          Text\n",
      "\tContains null values:  False\n",
      "\tUnique values:         1\n",
      "\tLongest value:         2 characters\n",
      "\tMost common values:    US (9x)\n",
      "\n",
      "  3. \"Last_Update\"\n",
      "\n",
      "\tType of data:          DateTime\n",
      "\tContains null values:  False\n",
      "\tUnique values:         1\n",
      "\tSmallest value:        2021-01-02 05:30:44\n",
      "\tLargest value:         2021-01-02 05:30:44\n",
      "\tMost common values:    2021-01-02 05:30:44 (9x)\n",
      "\n",
      "  4. \"Lat\"\n",
      "\n",
      "\tType of data:          Number\n",
      "\tContains null values:  False\n",
      "\tUnique values:         9\n",
      "\tSmallest value:        -14.271\n",
      "\tLargest value:         61.3707\n",
      "\tSum:                   304.2097\n",
      "\tMean:                  33.801078\n",
      "\tMedian:                36.1162\n",
      "\tStDev:                 19.996322\n",
      "\tMost common values:    32.3182 (1x)\n",
      "\t                       61.3707 (1x)\n",
      "\t                       -14.271 (1x)\n",
      "\t                       33.7298 (1x)\n",
      "\t                       34.9697 (1x)\n",
      "\n",
      "  5. \"Long_\"\n",
      "\n",
      "\tType of data:          Number\n",
      "\tContains null values:  False\n",
      "\tUnique values:         9\n",
      "\tSmallest value:        -170.132\n",
      "\tLargest value:         -72.7554\n",
      "\tSum:                   -986.4982\n",
      "\tMean:                  -109.610911\n",
      "\tMedian:                -105.3111\n",
      "\tStDev:                 33.450574\n",
      "\tMost common values:    -86.9023 (1x)\n",
      "\t                       -152.4044 (1x)\n",
      "\t                       -170.132 (1x)\n",
      "\t                       -111.4312 (1x)\n",
      "\t                       -92.3731 (1x)\n",
      "\n",
      "  6. \"Confirmed\"\n",
      "\n",
      "\tType of data:          Number\n",
      "\tContains null values:  False\n",
      "\tUnique values:         9\n",
      "\tSmallest value:        0\n",
      "\tLargest value:         2437397\n",
      "\tSum:                   4190805\n",
      "\tMean:                  465645\n",
      "\tMedian:                229442\n",
      "\tStDev:                 759178.960102\n",
      "\tMost common values:    365747 (1x)\n",
      "\t                       47019 (1x)\n",
      "\t                       0 (1x)\n",
      "\t                       530267 (1x)\n",
      "\t                       229442 (1x)\n",
      "\n",
      "  7. \"Deaths\"\n",
      "\n",
      "\tType of data:          Number\n",
      "\tContains null values:  False\n",
      "\tUnique values:         9\n",
      "\tSmallest value:        0\n",
      "\tLargest value:         26168\n",
      "\tSum:                   55905\n",
      "\tMean:                  6211.666667\n",
      "\tMedian:                4872\n",
      "\tStDev:                 8040.071082\n",
      "\tMost common values:    4872 (1x)\n",
      "\t                       206 (1x)\n",
      "\t                       0 (1x)\n",
      "\t                       9015 (1x)\n",
      "\t                       3711 (1x)\n",
      "\n",
      "  8. \"Recovered\"\n",
      "\n",
      "\tType of data:          Number\n",
      "\tContains null values:  True (excluded from calculations)\n",
      "\tUnique values:         8\n",
      "\tSmallest value:        7165\n",
      "\tLargest value:         202137\n",
      "\tSum:                   532236\n",
      "\tMean:                  76033.714286\n",
      "\tMedian:                18851\n",
      "\tStDev:                 88355.450697\n",
      "\tMost common values:    None (2x)\n",
      "\t                       202137 (1x)\n",
      "\t                       7165 (1x)\n",
      "\t                       76934 (1x)\n",
      "\t                       199247 (1x)\n",
      "\n",
      "  9. \"Active\"\n",
      "\n",
      "\tType of data:          Number\n",
      "\tContains null values:  False\n",
      "\tUnique values:         9\n",
      "\tSmallest value:        0\n",
      "\tLargest value:         2309915\n",
      "\tSum:                   3501452\n",
      "\tMean:                  389050.222222\n",
      "\tMedian:                158738\n",
      "\tStDev:                 735476.246645\n",
      "\tMost common values:    158738 (1x)\n",
      "\t                       39615 (1x)\n",
      "\t                       0 (1x)\n",
      "\t                       444318 (1x)\n",
      "\t                       26484 (1x)\n",
      "\n",
      " 10. \"FIPS\"\n",
      "\n",
      "\tType of data:          Number\n",
      "\tContains null values:  False\n",
      "\tUnique values:         9\n",
      "\tSmallest value:        1\n",
      "\tLargest value:         60\n",
      "\tSum:                   105\n",
      "\tMean:                  11.666667\n",
      "\tMedian:                6\n",
      "\tStDev:                 18.377976\n",
      "\tMost common values:    1 (1x)\n",
      "\t                       2 (1x)\n",
      "\t                       60 (1x)\n",
      "\t                       4 (1x)\n",
      "\t                       5 (1x)\n",
      "\n",
      " 11. \"Incident_Rate\"\n",
      "\n",
      "\tType of data:          Number\n",
      "\tContains null values:  False\n",
      "\tUnique values:         9\n",
      "\tSmallest value:        0\n",
      "\tLargest value:         7602.945718\n",
      "\tSum:                   51709.337695\n",
      "\tMean:                  5745.481966\n",
      "\tMedian:                5962.841099\n",
      "\tStDev:                 2307.671923\n",
      "\tMost common values:    7459.375895 (1x)\n",
      "\t                       6422.844801 (1x)\n",
      "\t                       0 (1x)\n",
      "\t                       7285.171274 (1x)\n",
      "\t                       7602.945718 (1x)\n",
      "\n",
      " 12. \"Total_Test_Results\"\n",
      "\n",
      "\tType of data:          Number\n",
      "\tContains null values:  False\n",
      "\tUnique values:         9\n",
      "\tSmallest value:        2140\n",
      "\tLargest value:         33058311\n",
      "\tSum:                   54567865\n",
      "\tMean:                  6063096.111111\n",
      "\tMedian:                3275341\n",
      "\tStDev:                 10274555.658135\n",
      "\tMost common values:    3275341 (1x)\n",
      "\t                       1275750 (1x)\n",
      "\t                       2140 (1x)\n",
      "\t                       5155330 (1x)\n",
      "\t                       2051488 (1x)\n",
      "\n",
      " 13. \"People_Hospitalized\"\n",
      "\n",
      "\tType of data:          Boolean\n",
      "\tContains null values:  True (excluded from calculations)\n",
      "\tUnique values:         1\n",
      "\tMost common values:    None (9x)\n",
      "\n",
      " 14. \"Case_Fatality_Ratio\"\n",
      "\n",
      "\tType of data:          Number\n",
      "\tContains null values:  True (excluded from calculations)\n",
      "\tUnique values:         9\n",
      "\tSmallest value:        0.438428\n",
      "\tLargest value:         3.228186\n",
      "\tSum:                   12.488317\n",
      "\tMean:                  1.56104\n",
      "\tMedian:                1.523492\n",
      "\tStDev:                 0.785549\n",
      "\tMost common values:    1.332068 (1x)\n",
      "\t                       0.438428 (1x)\n",
      "\t                       None (1x)\n",
      "\t                       1.700087 (1x)\n",
      "\t                       1.617402 (1x)\n",
      "\n",
      " 15. \"UID\"\n",
      "\n",
      "\tType of data:          Number\n",
      "\tContains null values:  False\n",
      "\tUnique values:         9\n",
      "\tSmallest value:        16\n",
      "\tLargest value:         84000010\n",
      "\tSum:                   672000061\n",
      "\tMean:                  74666673.444444\n",
      "\tMedian:                84000005\n",
      "\tStDev:                 27999996.541667\n",
      "\tMost common values:    84000001 (1x)\n",
      "\t                       84000002 (1x)\n",
      "\t                       16 (1x)\n",
      "\t                       84000004 (1x)\n",
      "\t                       84000005 (1x)\n",
      "\n",
      " 16. \"ISO3\"\n",
      "\n",
      "\tType of data:          Text\n",
      "\tContains null values:  False\n",
      "\tUnique values:         2\n",
      "\tLongest value:         3 characters\n",
      "\tMost common values:    USA (8x)\n",
      "\t                       ASM (1x)\n",
      "\n",
      " 17. \"Testing_Rate\"\n",
      "\n",
      "\tType of data:          Number\n",
      "\tContains null values:  False\n",
      "\tUnique values:         9\n",
      "\tSmallest value:        3846.084722\n",
      "\tLargest value:         174391.185778\n",
      "\tSum:                   735709.443439\n",
      "\tMean:                  81745.493715\n",
      "\tMedian:                77173.289416\n",
      "\tStDev:                 48476.94384\n",
      "\tMost common values:    66800.2737 (1x)\n",
      "\t                       174391.185778 (1x)\n",
      "\t                       3846.084722 (1x)\n",
      "\t                       39551.860582 (1x)\n",
      "\t                       67979.497674 (1x)\n",
      "\n",
      " 18. \"Hospitalization_Rate\"\n",
      "\n",
      "\tType of data:          Boolean\n",
      "\tContains null values:  True (excluded from calculations)\n",
      "\tUnique values:         1\n",
      "\tMost common values:    None (9x)\n",
      "\n",
      "Row count: 9\n"
     ]
    }
   ],
   "source": [
    "!head -n 10 cases_and_deaths.csv | csvstat"
   ]
  },
  {
   "cell_type": "code",
   "execution_count": 202,
   "id": "dc833b63",
   "metadata": {},
   "outputs": [
    {
     "name": "stdout",
     "output_type": "stream",
     "text": [
      "  1. \"FIPS\"\n",
      "\n",
      "\tType of data:          Boolean\n",
      "\tContains null values:  False\n",
      "\tUnique values:         1\n",
      "\tMost common values:    True (9x)\n",
      "\n",
      "  2. \"Province_State\"\n",
      "\n",
      "\tType of data:          Text\n",
      "\tContains null values:  False\n",
      "\tUnique values:         1\n",
      "\tLongest value:         7 characters\n",
      "\tMost common values:    Alabama (9x)\n",
      "\n",
      "  3. \"Country_Region\"\n",
      "\n",
      "\tType of data:          Text\n",
      "\tContains null values:  False\n",
      "\tUnique values:         1\n",
      "\tLongest value:         2 characters\n",
      "\tMost common values:    US (9x)\n",
      "\n",
      "  4. \"Date\"\n",
      "\n",
      "\tType of data:          Date\n",
      "\tContains null values:  False\n",
      "\tUnique values:         9\n",
      "\tSmallest value:        2020-12-10\n",
      "\tLargest value:         2020-12-18\n",
      "\tMost common values:    2020-12-10 (1x)\n",
      "\t                       2020-12-11 (1x)\n",
      "\t                       2020-12-12 (1x)\n",
      "\t                       2020-12-13 (1x)\n",
      "\t                       2020-12-14 (1x)\n",
      "\n",
      "  5. \"Lat\"\n",
      "\n",
      "\tType of data:          Number\n",
      "\tContains null values:  False\n",
      "\tUnique values:         1\n",
      "\tSmallest value:        32.3182\n",
      "\tLargest value:         32.3182\n",
      "\tSum:                   290.8638\n",
      "\tMean:                  32.3182\n",
      "\tMedian:                32.3182\n",
      "\tStDev:                 0\n",
      "\tMost common values:    32.3182 (9x)\n",
      "\n",
      "  6. \"Long_\"\n",
      "\n",
      "\tType of data:          Number\n",
      "\tContains null values:  False\n",
      "\tUnique values:         1\n",
      "\tSmallest value:        -86.9023\n",
      "\tLargest value:         -86.9023\n",
      "\tSum:                   -782.1207\n",
      "\tMean:                  -86.9023\n",
      "\tMedian:                -86.9023\n",
      "\tStDev:                 0\n",
      "\tMost common values:    -86.9023 (9x)\n",
      "\n",
      "  7. \"Combined_Key\"\n",
      "\n",
      "\tType of data:          Text\n",
      "\tContains null values:  False\n",
      "\tUnique values:         1\n",
      "\tLongest value:         11 characters\n",
      "\tMost common values:    Alabama, US (9x)\n",
      "\n",
      "  8. \"People_Fully_Vaccinated\"\n",
      "\n",
      "\tType of data:          Boolean\n",
      "\tContains null values:  True (excluded from calculations)\n",
      "\tUnique values:         1\n",
      "\tMost common values:    None (9x)\n",
      "\n",
      "  9. \"People_Partially_Vaccinated\"\n",
      "\n",
      "\tType of data:          Boolean\n",
      "\tContains null values:  True (excluded from calculations)\n",
      "\tUnique values:         1\n",
      "\tMost common values:    None (9x)\n",
      "\n",
      "Row count: 9\n"
     ]
    }
   ],
   "source": [
    "!head -n 10 people_vaccinated_us_timeline.csv | csvstat"
   ]
  },
  {
   "cell_type": "code",
   "execution_count": 203,
   "id": "2ade7837",
   "metadata": {},
   "outputs": [
    {
     "name": "stdout",
     "output_type": "stream",
     "text": [
      "  1. \"Province_State\"\n",
      "\n",
      "\tType of data:          Text\n",
      "\tContains null values:  False\n",
      "\tUnique values:         1\n",
      "\tLongest value:         7 characters\n",
      "\tMost common values:    Alabama (9x)\n",
      "\n",
      "  2. \"Date\"\n",
      "\n",
      "\tType of data:          Date\n",
      "\tContains null values:  False\n",
      "\tUnique values:         3\n",
      "\tSmallest value:        2020-12-10\n",
      "\tLargest value:         2020-12-12\n",
      "\tMost common values:    2020-12-10 (3x)\n",
      "\t                       2020-12-11 (3x)\n",
      "\t                       2020-12-12 (3x)\n",
      "\n",
      "  3. \"Vaccine_Type\"\n",
      "\n",
      "\tType of data:          Text\n",
      "\tContains null values:  False\n",
      "\tUnique values:         3\n",
      "\tLongest value:         7 characters\n",
      "\tMost common values:    All (3x)\n",
      "\t                       Moderna (3x)\n",
      "\t                       Pfizer (3x)\n",
      "\n",
      "  4. \"FIPS\"\n",
      "\n",
      "\tType of data:          Boolean\n",
      "\tContains null values:  False\n",
      "\tUnique values:         1\n",
      "\tMost common values:    True (9x)\n",
      "\n",
      "  5. \"Country_Region\"\n",
      "\n",
      "\tType of data:          Text\n",
      "\tContains null values:  False\n",
      "\tUnique values:         1\n",
      "\tLongest value:         2 characters\n",
      "\tMost common values:    US (9x)\n",
      "\n",
      "  6. \"Lat\"\n",
      "\n",
      "\tType of data:          Number\n",
      "\tContains null values:  False\n",
      "\tUnique values:         1\n",
      "\tSmallest value:        32.3182\n",
      "\tLargest value:         32.3182\n",
      "\tSum:                   290.8638\n",
      "\tMean:                  32.3182\n",
      "\tMedian:                32.3182\n",
      "\tStDev:                 0\n",
      "\tMost common values:    32.3182 (9x)\n",
      "\n",
      "  7. \"Long_\"\n",
      "\n",
      "\tType of data:          Number\n",
      "\tContains null values:  False\n",
      "\tUnique values:         1\n",
      "\tSmallest value:        -86.9023\n",
      "\tLargest value:         -86.9023\n",
      "\tSum:                   -782.1207\n",
      "\tMean:                  -86.9023\n",
      "\tMedian:                -86.9023\n",
      "\tStDev:                 0\n",
      "\tMost common values:    -86.9023 (9x)\n",
      "\n",
      "  8. \"Doses_alloc\"\n",
      "\n",
      "\tType of data:          Boolean\n",
      "\tContains null values:  True (excluded from calculations)\n",
      "\tUnique values:         1\n",
      "\tMost common values:    None (9x)\n",
      "\n",
      "  9. \"Doses_shipped\"\n",
      "\n",
      "\tType of data:          Boolean\n",
      "\tContains null values:  True (excluded from calculations)\n",
      "\tUnique values:         1\n",
      "\tMost common values:    None (9x)\n",
      "\n",
      " 10. \"Doses_admin\"\n",
      "\n",
      "\tType of data:          Boolean\n",
      "\tContains null values:  True (excluded from calculations)\n",
      "\tUnique values:         1\n",
      "\tMost common values:    None (9x)\n",
      "\n",
      " 11. \"Stage_One_Doses\"\n",
      "\n",
      "\tType of data:          Boolean\n",
      "\tContains null values:  True (excluded from calculations)\n",
      "\tUnique values:         1\n",
      "\tMost common values:    None (9x)\n",
      "\n",
      " 12. \"Stage_Two_Doses\"\n",
      "\n",
      "\tType of data:          Boolean\n",
      "\tContains null values:  True (excluded from calculations)\n",
      "\tUnique values:         1\n",
      "\tMost common values:    None (9x)\n",
      "\n",
      " 13. \"Combined_Key\"\n",
      "\n",
      "\tType of data:          Text\n",
      "\tContains null values:  False\n",
      "\tUnique values:         1\n",
      "\tLongest value:         11 characters\n",
      "\tMost common values:    Alabama, US (9x)\n",
      "\n",
      "Row count: 9\n"
     ]
    }
   ],
   "source": [
    "!head -n 10 vaccine_data_us_timeline.csv | csvstat"
   ]
  },
  {
   "cell_type": "markdown",
   "id": "49bb4b4f",
   "metadata": {},
   "source": [
    "## Loading, Cleaning and Wrangling the Data"
   ]
  },
  {
   "cell_type": "code",
   "execution_count": 204,
   "id": "94fff9d3",
   "metadata": {},
   "outputs": [
    {
     "name": "stdout",
     "output_type": "stream",
     "text": [
      "The sql extension is already loaded. To reload it, use:\n",
      "  %reload_ext sql\n"
     ]
    }
   ],
   "source": [
    "%load_ext sql"
   ]
  },
  {
   "cell_type": "code",
   "execution_count": 205,
   "id": "5ff77cbc",
   "metadata": {},
   "outputs": [],
   "source": [
    "!dropdb -U student covid"
   ]
  },
  {
   "cell_type": "code",
   "execution_count": 206,
   "id": "69a22e9d",
   "metadata": {},
   "outputs": [],
   "source": [
    "!createdb -U student covid"
   ]
  },
  {
   "cell_type": "code",
   "execution_count": 207,
   "id": "1caef336",
   "metadata": {},
   "outputs": [],
   "source": [
    "%sql postgresql://student@/week13"
   ]
  },
  {
   "cell_type": "markdown",
   "id": "5cf76de1",
   "metadata": {},
   "source": [
    "### Create the table containing cases and deaths data"
   ]
  },
  {
   "cell_type": "code",
   "execution_count": 208,
   "id": "f3408452",
   "metadata": {},
   "outputs": [
    {
     "name": "stdout",
     "output_type": "stream",
     "text": [
      " * postgresql://student@/week13\n",
      "Done.\n",
      "Done.\n"
     ]
    },
    {
     "data": {
      "text/plain": [
       "[]"
      ]
     },
     "execution_count": 208,
     "metadata": {},
     "output_type": "execute_result"
    }
   ],
   "source": [
    "%%sql\n",
    "DROP TABLE IF EXISTS cases CASCADE;\n",
    "\n",
    "CREATE TABLE cases (\n",
    " Province_State varchar(1000) null,\n",
    " Country_Region varchar null,\n",
    " Last_Update timestamp null ,\n",
    " Lat float null,\n",
    " Long_ float null,\n",
    " Confirmed float null,\n",
    " Deaths float null,\n",
    " Recovered float null,\n",
    " Active float null ,\n",
    " FIPS float null,\n",
    " Incident_Rate float null,\n",
    " Total_Test_Results float null,\n",
    " People_Hospitalized float null ,\n",
    " Case_Fatality_Ratio float  null,\n",
    " UID float not null,\n",
    " ISO3 varchar(3)  null,\n",
    " Testing_Rate float null ,\n",
    " Hospitalization_Rate float null\n",
    ")"
   ]
  },
  {
   "cell_type": "code",
   "execution_count": 209,
   "id": "e3518297",
   "metadata": {},
   "outputs": [
    {
     "name": "stdout",
     "output_type": "stream",
     "text": [
      " * postgresql://student@/week13\n",
      "34702 rows affected.\n"
     ]
    },
    {
     "data": {
      "text/plain": [
       "[]"
      ]
     },
     "execution_count": 209,
     "metadata": {},
     "output_type": "execute_result"
    }
   ],
   "source": [
    "%%sql\n",
    "COPY cases FROM '/home/ubuntu/notebooks/Final/cases_and_deaths.csv'\n",
    "CSV\n",
    "HEADER;"
   ]
  },
  {
   "cell_type": "code",
   "execution_count": 210,
   "id": "87929422",
   "metadata": {},
   "outputs": [
    {
     "name": "stdout",
     "output_type": "stream",
     "text": [
      " * postgresql://student@/week13\n",
      "59 rows affected.\n"
     ]
    },
    {
     "data": {
      "text/html": [
       "<table>\n",
       "    <thead>\n",
       "        <tr>\n",
       "            <th>province_state</th>\n",
       "        </tr>\n",
       "    </thead>\n",
       "    <tbody>\n",
       "        <tr>\n",
       "            <td>Virgin Islands</td>\n",
       "        </tr>\n",
       "        <tr>\n",
       "            <td>Nevada</td>\n",
       "        </tr>\n",
       "        <tr>\n",
       "            <td>West Virginia</td>\n",
       "        </tr>\n",
       "        <tr>\n",
       "            <td>South Carolina</td>\n",
       "        </tr>\n",
       "        <tr>\n",
       "            <td>New Mexico</td>\n",
       "        </tr>\n",
       "        <tr>\n",
       "            <td>Arkansas</td>\n",
       "        </tr>\n",
       "        <tr>\n",
       "            <td>South Dakota</td>\n",
       "        </tr>\n",
       "        <tr>\n",
       "            <td>American Samoa</td>\n",
       "        </tr>\n",
       "        <tr>\n",
       "            <td>Washington</td>\n",
       "        </tr>\n",
       "        <tr>\n",
       "            <td>Kentucky</td>\n",
       "        </tr>\n",
       "        <tr>\n",
       "            <td>Nebraska</td>\n",
       "        </tr>\n",
       "        <tr>\n",
       "            <td>Tennessee</td>\n",
       "        </tr>\n",
       "        <tr>\n",
       "            <td>Oregon</td>\n",
       "        </tr>\n",
       "        <tr>\n",
       "            <td>Idaho</td>\n",
       "        </tr>\n",
       "        <tr>\n",
       "            <td>Alabama</td>\n",
       "        </tr>\n",
       "        <tr>\n",
       "            <td>Colorado</td>\n",
       "        </tr>\n",
       "        <tr>\n",
       "            <td>Mississippi</td>\n",
       "        </tr>\n",
       "        <tr>\n",
       "            <td>Louisiana</td>\n",
       "        </tr>\n",
       "        <tr>\n",
       "            <td>Grand Princess</td>\n",
       "        </tr>\n",
       "        <tr>\n",
       "            <td>Guam</td>\n",
       "        </tr>\n",
       "        <tr>\n",
       "            <td>New Jersey</td>\n",
       "        </tr>\n",
       "        <tr>\n",
       "            <td>Recovered</td>\n",
       "        </tr>\n",
       "        <tr>\n",
       "            <td>Indiana</td>\n",
       "        </tr>\n",
       "        <tr>\n",
       "            <td>Michigan</td>\n",
       "        </tr>\n",
       "        <tr>\n",
       "            <td>Georgia</td>\n",
       "        </tr>\n",
       "        <tr>\n",
       "            <td>Maine</td>\n",
       "        </tr>\n",
       "        <tr>\n",
       "            <td>California</td>\n",
       "        </tr>\n",
       "        <tr>\n",
       "            <td>Kansas</td>\n",
       "        </tr>\n",
       "        <tr>\n",
       "            <td>Alaska</td>\n",
       "        </tr>\n",
       "        <tr>\n",
       "            <td>Oklahoma</td>\n",
       "        </tr>\n",
       "        <tr>\n",
       "            <td>Vermont</td>\n",
       "        </tr>\n",
       "        <tr>\n",
       "            <td>New York</td>\n",
       "        </tr>\n",
       "        <tr>\n",
       "            <td>Hawaii</td>\n",
       "        </tr>\n",
       "        <tr>\n",
       "            <td>Missouri</td>\n",
       "        </tr>\n",
       "        <tr>\n",
       "            <td>District of Columbia</td>\n",
       "        </tr>\n",
       "        <tr>\n",
       "            <td>Ohio</td>\n",
       "        </tr>\n",
       "        <tr>\n",
       "            <td>Minnesota</td>\n",
       "        </tr>\n",
       "        <tr>\n",
       "            <td>Arizona</td>\n",
       "        </tr>\n",
       "        <tr>\n",
       "            <td>Maryland</td>\n",
       "        </tr>\n",
       "        <tr>\n",
       "            <td>Puerto Rico</td>\n",
       "        </tr>\n",
       "        <tr>\n",
       "            <td>Wyoming</td>\n",
       "        </tr>\n",
       "        <tr>\n",
       "            <td>New Hampshire</td>\n",
       "        </tr>\n",
       "        <tr>\n",
       "            <td>North Dakota</td>\n",
       "        </tr>\n",
       "        <tr>\n",
       "            <td>North Carolina</td>\n",
       "        </tr>\n",
       "        <tr>\n",
       "            <td>Florida</td>\n",
       "        </tr>\n",
       "        <tr>\n",
       "            <td>Delaware</td>\n",
       "        </tr>\n",
       "        <tr>\n",
       "            <td>Northern Mariana Islands</td>\n",
       "        </tr>\n",
       "        <tr>\n",
       "            <td>Connecticut</td>\n",
       "        </tr>\n",
       "        <tr>\n",
       "            <td>Iowa</td>\n",
       "        </tr>\n",
       "        <tr>\n",
       "            <td>Massachusetts</td>\n",
       "        </tr>\n",
       "        <tr>\n",
       "            <td>Rhode Island</td>\n",
       "        </tr>\n",
       "        <tr>\n",
       "            <td>Pennsylvania</td>\n",
       "        </tr>\n",
       "        <tr>\n",
       "            <td>Wisconsin</td>\n",
       "        </tr>\n",
       "        <tr>\n",
       "            <td>Montana</td>\n",
       "        </tr>\n",
       "        <tr>\n",
       "            <td>Diamond Princess</td>\n",
       "        </tr>\n",
       "        <tr>\n",
       "            <td>Illinois</td>\n",
       "        </tr>\n",
       "        <tr>\n",
       "            <td>Virginia</td>\n",
       "        </tr>\n",
       "        <tr>\n",
       "            <td>Utah</td>\n",
       "        </tr>\n",
       "        <tr>\n",
       "            <td>Texas</td>\n",
       "        </tr>\n",
       "    </tbody>\n",
       "</table>"
      ],
      "text/plain": [
       "[('Virgin Islands',),\n",
       " ('Nevada',),\n",
       " ('West Virginia',),\n",
       " ('South Carolina',),\n",
       " ('New Mexico',),\n",
       " ('Arkansas',),\n",
       " ('South Dakota',),\n",
       " ('American Samoa',),\n",
       " ('Washington',),\n",
       " ('Kentucky',),\n",
       " ('Nebraska',),\n",
       " ('Tennessee',),\n",
       " ('Oregon',),\n",
       " ('Idaho',),\n",
       " ('Alabama',),\n",
       " ('Colorado',),\n",
       " ('Mississippi',),\n",
       " ('Louisiana',),\n",
       " ('Grand Princess',),\n",
       " ('Guam',),\n",
       " ('New Jersey',),\n",
       " ('Recovered',),\n",
       " ('Indiana',),\n",
       " ('Michigan',),\n",
       " ('Georgia',),\n",
       " ('Maine',),\n",
       " ('California',),\n",
       " ('Kansas',),\n",
       " ('Alaska',),\n",
       " ('Oklahoma',),\n",
       " ('Vermont',),\n",
       " ('New York',),\n",
       " ('Hawaii',),\n",
       " ('Missouri',),\n",
       " ('District of Columbia',),\n",
       " ('Ohio',),\n",
       " ('Minnesota',),\n",
       " ('Arizona',),\n",
       " ('Maryland',),\n",
       " ('Puerto Rico',),\n",
       " ('Wyoming',),\n",
       " ('New Hampshire',),\n",
       " ('North Dakota',),\n",
       " ('North Carolina',),\n",
       " ('Florida',),\n",
       " ('Delaware',),\n",
       " ('Northern Mariana Islands',),\n",
       " ('Connecticut',),\n",
       " ('Iowa',),\n",
       " ('Massachusetts',),\n",
       " ('Rhode Island',),\n",
       " ('Pennsylvania',),\n",
       " ('Wisconsin',),\n",
       " ('Montana',),\n",
       " ('Diamond Princess',),\n",
       " ('Illinois',),\n",
       " ('Virginia',),\n",
       " ('Utah',),\n",
       " ('Texas',)]"
      ]
     },
     "execution_count": 210,
     "metadata": {},
     "output_type": "execute_result"
    }
   ],
   "source": [
    "%%sql\n",
    "select distinct province_state from cases"
   ]
  },
  {
   "cell_type": "markdown",
   "id": "10d8f6be",
   "metadata": {},
   "source": [
    "In province state there are some records marked 'recovered' which is incorrect. We will remove these records."
   ]
  },
  {
   "cell_type": "code",
   "execution_count": 211,
   "id": "dcc47860",
   "metadata": {
    "tags": []
   },
   "outputs": [
    {
     "name": "stdout",
     "output_type": "stream",
     "text": [
      " * postgresql://student@/week13\n",
      "769 rows affected.\n"
     ]
    },
    {
     "data": {
      "text/html": [
       "<table>\n",
       "    <thead>\n",
       "        <tr>\n",
       "            <th>last_update</th>\n",
       "        </tr>\n",
       "    </thead>\n",
       "    <tbody>\n",
       "        <tr>\n",
       "            <td>2020-10-31 04:30:34</td>\n",
       "        </tr>\n",
       "        <tr>\n",
       "            <td>2021-04-12 04:30:34</td>\n",
       "        </tr>\n",
       "        <tr>\n",
       "            <td>2020-09-10 04:30:24</td>\n",
       "        </tr>\n",
       "        <tr>\n",
       "            <td>2020-06-30 04:34:02</td>\n",
       "        </tr>\n",
       "        <tr>\n",
       "            <td>2021-03-25 08:31:00</td>\n",
       "        </tr>\n",
       "        <tr>\n",
       "            <td>2021-08-24 04:31:24</td>\n",
       "        </tr>\n",
       "        <tr>\n",
       "            <td>2021-07-06 04:30:55</td>\n",
       "        </tr>\n",
       "        <tr>\n",
       "            <td>2021-04-23 07:30:57</td>\n",
       "        </tr>\n",
       "        <tr>\n",
       "            <td>2021-03-09 05:30:55</td>\n",
       "        </tr>\n",
       "        <tr>\n",
       "            <td>2021-11-28 04:32:14</td>\n",
       "        </tr>\n",
       "        <tr>\n",
       "            <td>2020-07-30 04:35:17</td>\n",
       "        </tr>\n",
       "        <tr>\n",
       "            <td>2021-03-30 04:31:00</td>\n",
       "        </tr>\n",
       "        <tr>\n",
       "            <td>None</td>\n",
       "        </tr>\n",
       "        <tr>\n",
       "            <td>2021-04-11 07:30:58</td>\n",
       "        </tr>\n",
       "        <tr>\n",
       "            <td>2021-11-05 04:31:58</td>\n",
       "        </tr>\n",
       "        <tr>\n",
       "            <td>2021-07-08 04:31:15</td>\n",
       "        </tr>\n",
       "        <tr>\n",
       "            <td>2021-01-10 05:30:28</td>\n",
       "        </tr>\n",
       "        <tr>\n",
       "            <td>2020-08-15 04:30:23</td>\n",
       "        </tr>\n",
       "        <tr>\n",
       "            <td>2020-09-03 04:30:31</td>\n",
       "        </tr>\n",
       "        <tr>\n",
       "            <td>2020-06-12 05:10:05</td>\n",
       "        </tr>\n",
       "        <tr>\n",
       "            <td>2021-03-14 08:30:48</td>\n",
       "        </tr>\n",
       "        <tr>\n",
       "            <td>2020-10-20 04:30:29</td>\n",
       "        </tr>\n",
       "        <tr>\n",
       "            <td>2021-10-08 04:31:23</td>\n",
       "        </tr>\n",
       "        <tr>\n",
       "            <td>2021-11-14 04:32:00</td>\n",
       "        </tr>\n",
       "        <tr>\n",
       "            <td>2021-08-23 04:31:10</td>\n",
       "        </tr>\n",
       "        <tr>\n",
       "            <td>2020-05-18 02:32:26</td>\n",
       "        </tr>\n",
       "        <tr>\n",
       "            <td>2021-01-22 05:30:39</td>\n",
       "        </tr>\n",
       "        <tr>\n",
       "            <td>2021-01-30 05:30:40</td>\n",
       "        </tr>\n",
       "        <tr>\n",
       "            <td>2021-05-09 04:31:08</td>\n",
       "        </tr>\n",
       "        <tr>\n",
       "            <td>2020-08-10 04:35:08</td>\n",
       "        </tr>\n",
       "        <tr>\n",
       "            <td>2020-08-08 04:35:11</td>\n",
       "        </tr>\n",
       "        <tr>\n",
       "            <td>2020-11-04 05:30:25</td>\n",
       "        </tr>\n",
       "        <tr>\n",
       "            <td>2020-06-14 03:33:28</td>\n",
       "        </tr>\n",
       "        <tr>\n",
       "            <td>2021-11-04 04:32:32</td>\n",
       "        </tr>\n",
       "        <tr>\n",
       "            <td>2021-05-09 07:30:54</td>\n",
       "        </tr>\n",
       "        <tr>\n",
       "            <td>2021-06-14 04:31:36</td>\n",
       "        </tr>\n",
       "        <tr>\n",
       "            <td>2021-06-02 07:31:32</td>\n",
       "        </tr>\n",
       "        <tr>\n",
       "            <td>2020-07-09 04:34:36</td>\n",
       "        </tr>\n",
       "        <tr>\n",
       "            <td>2020-08-27 04:30:22</td>\n",
       "        </tr>\n",
       "        <tr>\n",
       "            <td>2021-03-01 05:30:39</td>\n",
       "        </tr>\n",
       "        <tr>\n",
       "            <td>2020-12-20 05:30:33</td>\n",
       "        </tr>\n",
       "        <tr>\n",
       "            <td>2021-09-27 04:31:36</td>\n",
       "        </tr>\n",
       "        <tr>\n",
       "            <td>2021-09-10 07:31:21</td>\n",
       "        </tr>\n",
       "        <tr>\n",
       "            <td>2021-02-21 05:30:53</td>\n",
       "        </tr>\n",
       "        <tr>\n",
       "            <td>2020-12-28 05:30:44</td>\n",
       "        </tr>\n",
       "        <tr>\n",
       "            <td>2021-03-27 05:31:28</td>\n",
       "        </tr>\n",
       "        <tr>\n",
       "            <td>2020-12-12 05:30:32</td>\n",
       "        </tr>\n",
       "        <tr>\n",
       "            <td>2021-10-06 04:32:22</td>\n",
       "        </tr>\n",
       "        <tr>\n",
       "            <td>2020-08-12 04:30:24</td>\n",
       "        </tr>\n",
       "        <tr>\n",
       "            <td>2020-08-29 04:30:22</td>\n",
       "        </tr>\n",
       "        <tr>\n",
       "            <td>2021-05-15 04:31:25</td>\n",
       "        </tr>\n",
       "        <tr>\n",
       "            <td>2021-01-13 05:30:34</td>\n",
       "        </tr>\n",
       "        <tr>\n",
       "            <td>2021-02-27 05:30:48</td>\n",
       "        </tr>\n",
       "        <tr>\n",
       "            <td>2021-09-24 07:31:12</td>\n",
       "        </tr>\n",
       "        <tr>\n",
       "            <td>2021-07-22 04:31:11</td>\n",
       "        </tr>\n",
       "        <tr>\n",
       "            <td>2020-09-16 04:30:32</td>\n",
       "        </tr>\n",
       "        <tr>\n",
       "            <td>2021-01-18 09:30:43</td>\n",
       "        </tr>\n",
       "        <tr>\n",
       "            <td>2021-01-17 09:30:45</td>\n",
       "        </tr>\n",
       "        <tr>\n",
       "            <td>2021-09-09 07:31:20</td>\n",
       "        </tr>\n",
       "        <tr>\n",
       "            <td>2021-05-06 04:30:57</td>\n",
       "        </tr>\n",
       "        <tr>\n",
       "            <td>2020-06-17 04:33:33</td>\n",
       "        </tr>\n",
       "        <tr>\n",
       "            <td>2020-10-04 04:30:24</td>\n",
       "        </tr>\n",
       "        <tr>\n",
       "            <td>2020-08-17 04:30:23</td>\n",
       "        </tr>\n",
       "        <tr>\n",
       "            <td>2021-08-09 04:30:46</td>\n",
       "        </tr>\n",
       "        <tr>\n",
       "            <td>2021-11-02 04:32:36</td>\n",
       "        </tr>\n",
       "        <tr>\n",
       "            <td>2021-02-24 08:30:30</td>\n",
       "        </tr>\n",
       "        <tr>\n",
       "            <td>2021-05-03 04:30:41</td>\n",
       "        </tr>\n",
       "        <tr>\n",
       "            <td>2021-02-25 05:31:00</td>\n",
       "        </tr>\n",
       "        <tr>\n",
       "            <td>2020-06-29 04:33:57</td>\n",
       "        </tr>\n",
       "        <tr>\n",
       "            <td>2021-05-22 04:31:30</td>\n",
       "        </tr>\n",
       "        <tr>\n",
       "            <td>2021-07-18 04:31:17</td>\n",
       "        </tr>\n",
       "        <tr>\n",
       "            <td>2020-10-27 04:30:25</td>\n",
       "        </tr>\n",
       "        <tr>\n",
       "            <td>2021-09-28 04:31:25</td>\n",
       "        </tr>\n",
       "        <tr>\n",
       "            <td>2020-07-18 04:34:58</td>\n",
       "        </tr>\n",
       "        <tr>\n",
       "            <td>2020-12-08 05:30:26</td>\n",
       "        </tr>\n",
       "        <tr>\n",
       "            <td>2021-09-30 07:31:27</td>\n",
       "        </tr>\n",
       "        <tr>\n",
       "            <td>2021-07-28 04:31:19</td>\n",
       "        </tr>\n",
       "        <tr>\n",
       "            <td>2021-07-26 04:31:01</td>\n",
       "        </tr>\n",
       "        <tr>\n",
       "            <td>2021-07-07 07:30:42</td>\n",
       "        </tr>\n",
       "        <tr>\n",
       "            <td>2021-02-15 05:31:10</td>\n",
       "        </tr>\n",
       "        <tr>\n",
       "            <td>2020-07-23 05:15:18</td>\n",
       "        </tr>\n",
       "        <tr>\n",
       "            <td>2021-06-19 04:31:08</td>\n",
       "        </tr>\n",
       "        <tr>\n",
       "            <td>2021-11-20 04:32:51</td>\n",
       "        </tr>\n",
       "        <tr>\n",
       "            <td>2020-12-10 05:30:26</td>\n",
       "        </tr>\n",
       "        <tr>\n",
       "            <td>2020-11-28 05:30:35</td>\n",
       "        </tr>\n",
       "        <tr>\n",
       "            <td>2021-02-23 08:30:54</td>\n",
       "        </tr>\n",
       "        <tr>\n",
       "            <td>2021-01-20 09:30:27</td>\n",
       "        </tr>\n",
       "        <tr>\n",
       "            <td>2021-05-30 07:30:32</td>\n",
       "        </tr>\n",
       "        <tr>\n",
       "            <td>2021-05-26 07:30:58</td>\n",
       "        </tr>\n",
       "        <tr>\n",
       "            <td>2020-11-18 05:42:00</td>\n",
       "        </tr>\n",
       "        <tr>\n",
       "            <td>2021-04-21 07:30:41</td>\n",
       "        </tr>\n",
       "        <tr>\n",
       "            <td>2021-06-16 07:31:30</td>\n",
       "        </tr>\n",
       "        <tr>\n",
       "            <td>2021-06-05 04:31:23</td>\n",
       "        </tr>\n",
       "        <tr>\n",
       "            <td>2021-02-14 05:30:42</td>\n",
       "        </tr>\n",
       "        <tr>\n",
       "            <td>2021-09-29 04:31:45</td>\n",
       "        </tr>\n",
       "        <tr>\n",
       "            <td>2020-06-22 04:33:33</td>\n",
       "        </tr>\n",
       "        <tr>\n",
       "            <td>2021-09-14 04:31:27</td>\n",
       "        </tr>\n",
       "        <tr>\n",
       "            <td>2021-04-20 07:30:55</td>\n",
       "        </tr>\n",
       "        <tr>\n",
       "            <td>2021-08-26 04:31:02</td>\n",
       "        </tr>\n",
       "        <tr>\n",
       "            <td>2021-08-24 07:30:48</td>\n",
       "        </tr>\n",
       "        <tr>\n",
       "            <td>2021-07-01 04:30:56</td>\n",
       "        </tr>\n",
       "        <tr>\n",
       "            <td>2021-06-10 04:31:20</td>\n",
       "        </tr>\n",
       "        <tr>\n",
       "            <td>2020-11-06 05:30:35</td>\n",
       "        </tr>\n",
       "        <tr>\n",
       "            <td>2021-04-18 07:30:46</td>\n",
       "        </tr>\n",
       "        <tr>\n",
       "            <td>2020-08-20 04:30:22</td>\n",
       "        </tr>\n",
       "        <tr>\n",
       "            <td>2021-05-28 07:30:43</td>\n",
       "        </tr>\n",
       "        <tr>\n",
       "            <td>2021-05-10 07:30:55</td>\n",
       "        </tr>\n",
       "        <tr>\n",
       "            <td>2020-11-30 05:30:26</td>\n",
       "        </tr>\n",
       "        <tr>\n",
       "            <td>2020-07-01 04:34:05</td>\n",
       "        </tr>\n",
       "        <tr>\n",
       "            <td>2021-05-25 04:31:49</td>\n",
       "        </tr>\n",
       "        <tr>\n",
       "            <td>2021-01-04 05:30:45</td>\n",
       "        </tr>\n",
       "        <tr>\n",
       "            <td>2021-05-02 07:30:45</td>\n",
       "        </tr>\n",
       "        <tr>\n",
       "            <td>2021-01-06 05:30:39</td>\n",
       "        </tr>\n",
       "        <tr>\n",
       "            <td>2021-07-30 04:30:58</td>\n",
       "        </tr>\n",
       "        <tr>\n",
       "            <td>2021-07-15 04:30:56</td>\n",
       "        </tr>\n",
       "        <tr>\n",
       "            <td>2020-05-24 02:32:48</td>\n",
       "        </tr>\n",
       "        <tr>\n",
       "            <td>2021-11-09 04:32:06</td>\n",
       "        </tr>\n",
       "        <tr>\n",
       "            <td>2021-02-07 05:30:57</td>\n",
       "        </tr>\n",
       "        <tr>\n",
       "            <td>2021-09-11 04:31:41</td>\n",
       "        </tr>\n",
       "        <tr>\n",
       "            <td>2021-11-03 06:26:25</td>\n",
       "        </tr>\n",
       "        <tr>\n",
       "            <td>2021-01-25 08:30:35</td>\n",
       "        </tr>\n",
       "        <tr>\n",
       "            <td>2020-04-22 23:40:26</td>\n",
       "        </tr>\n",
       "        <tr>\n",
       "            <td>2021-02-01 05:30:44</td>\n",
       "        </tr>\n",
       "        <tr>\n",
       "            <td>2021-01-19 05:30:28</td>\n",
       "        </tr>\n",
       "        <tr>\n",
       "            <td>2020-12-14 05:30:41</td>\n",
       "        </tr>\n",
       "        <tr>\n",
       "            <td>2021-01-27 05:30:51</td>\n",
       "        </tr>\n",
       "        <tr>\n",
       "            <td>2021-11-10 04:31:55</td>\n",
       "        </tr>\n",
       "        <tr>\n",
       "            <td>2021-02-05 08:30:29</td>\n",
       "        </tr>\n",
       "        <tr>\n",
       "            <td>2021-10-19 04:31:25</td>\n",
       "        </tr>\n",
       "        <tr>\n",
       "            <td>2021-04-08 07:30:39</td>\n",
       "        </tr>\n",
       "        <tr>\n",
       "            <td>2021-02-25 08:30:46</td>\n",
       "        </tr>\n",
       "        <tr>\n",
       "            <td>2020-06-01 02:32:54</td>\n",
       "        </tr>\n",
       "        <tr>\n",
       "            <td>2021-03-26 05:30:37</td>\n",
       "        </tr>\n",
       "        <tr>\n",
       "            <td>2020-08-14 04:30:24</td>\n",
       "        </tr>\n",
       "        <tr>\n",
       "            <td>2020-09-14 04:30:37</td>\n",
       "        </tr>\n",
       "        <tr>\n",
       "            <td>2021-08-11 04:31:15</td>\n",
       "        </tr>\n",
       "        <tr>\n",
       "            <td>2021-06-04 04:32:01</td>\n",
       "        </tr>\n",
       "        <tr>\n",
       "            <td>2020-08-16 04:30:18</td>\n",
       "        </tr>\n",
       "        <tr>\n",
       "            <td>2021-07-17 04:30:56</td>\n",
       "        </tr>\n",
       "        <tr>\n",
       "            <td>2021-03-17 05:31:00</td>\n",
       "        </tr>\n",
       "        <tr>\n",
       "            <td>2021-11-16 04:33:28</td>\n",
       "        </tr>\n",
       "        <tr>\n",
       "            <td>2021-01-14 05:30:28</td>\n",
       "        </tr>\n",
       "        <tr>\n",
       "            <td>2021-08-13 04:31:21</td>\n",
       "        </tr>\n",
       "        <tr>\n",
       "            <td>2021-04-05 04:30:40</td>\n",
       "        </tr>\n",
       "        <tr>\n",
       "            <td>2020-12-07 05:30:36</td>\n",
       "        </tr>\n",
       "        <tr>\n",
       "            <td>2020-04-21 23:40:34</td>\n",
       "        </tr>\n",
       "        <tr>\n",
       "            <td>2020-04-28 02:32:46</td>\n",
       "        </tr>\n",
       "        <tr>\n",
       "            <td>2021-04-03 07:30:45</td>\n",
       "        </tr>\n",
       "        <tr>\n",
       "            <td>2021-08-28 07:31:10</td>\n",
       "        </tr>\n",
       "        <tr>\n",
       "            <td>2021-07-27 04:31:10</td>\n",
       "        </tr>\n",
       "        <tr>\n",
       "            <td>2020-11-26 05:30:40</td>\n",
       "        </tr>\n",
       "        <tr>\n",
       "            <td>2020-05-13 03:32:30</td>\n",
       "        </tr>\n",
       "        <tr>\n",
       "            <td>2021-02-26 05:30:48</td>\n",
       "        </tr>\n",
       "        <tr>\n",
       "            <td>2021-02-19 05:31:04</td>\n",
       "        </tr>\n",
       "        <tr>\n",
       "            <td>2021-07-14 04:30:39</td>\n",
       "        </tr>\n",
       "        <tr>\n",
       "            <td>2020-05-25 02:32:50</td>\n",
       "        </tr>\n",
       "        <tr>\n",
       "            <td>2021-05-12 07:31:16</td>\n",
       "        </tr>\n",
       "        <tr>\n",
       "            <td>2021-08-11 07:31:15</td>\n",
       "        </tr>\n",
       "        <tr>\n",
       "            <td>2021-02-11 08:30:52</td>\n",
       "        </tr>\n",
       "        <tr>\n",
       "            <td>2021-07-31 04:31:04</td>\n",
       "        </tr>\n",
       "        <tr>\n",
       "            <td>2020-07-07 04:34:13</td>\n",
       "        </tr>\n",
       "        <tr>\n",
       "            <td>2021-05-23 07:31:23</td>\n",
       "        </tr>\n",
       "        <tr>\n",
       "            <td>2020-05-04 02:32:32</td>\n",
       "        </tr>\n",
       "        <tr>\n",
       "            <td>2020-12-13 05:30:42</td>\n",
       "        </tr>\n",
       "        <tr>\n",
       "            <td>2020-04-20 23:44:33</td>\n",
       "        </tr>\n",
       "        <tr>\n",
       "            <td>2021-04-13 07:30:54</td>\n",
       "        </tr>\n",
       "        <tr>\n",
       "            <td>2021-02-04 05:30:42</td>\n",
       "        </tr>\n",
       "        <tr>\n",
       "            <td>2021-01-16 09:30:46</td>\n",
       "        </tr>\n",
       "        <tr>\n",
       "            <td>2021-09-23 04:31:15</td>\n",
       "        </tr>\n",
       "        <tr>\n",
       "            <td>2021-11-11 04:31:59</td>\n",
       "        </tr>\n",
       "        <tr>\n",
       "            <td>2020-09-12 04:30:24</td>\n",
       "        </tr>\n",
       "        <tr>\n",
       "            <td>2021-06-06 07:31:25</td>\n",
       "        </tr>\n",
       "        <tr>\n",
       "            <td>2020-12-09 05:30:36</td>\n",
       "        </tr>\n",
       "        <tr>\n",
       "            <td>2021-11-30 04:33:39</td>\n",
       "        </tr>\n",
       "        <tr>\n",
       "            <td>2020-06-15 03:33:25</td>\n",
       "        </tr>\n",
       "        <tr>\n",
       "            <td>2021-05-24 04:31:18</td>\n",
       "        </tr>\n",
       "        <tr>\n",
       "            <td>2020-11-12 05:30:39</td>\n",
       "        </tr>\n",
       "        <tr>\n",
       "            <td>2021-03-15 08:31:14</td>\n",
       "        </tr>\n",
       "        <tr>\n",
       "            <td>2020-07-17 04:35:02</td>\n",
       "        </tr>\n",
       "        <tr>\n",
       "            <td>2021-08-14 04:31:06</td>\n",
       "        </tr>\n",
       "        <tr>\n",
       "            <td>2021-06-05 07:31:07</td>\n",
       "        </tr>\n",
       "        <tr>\n",
       "            <td>2021-03-12 05:30:41</td>\n",
       "        </tr>\n",
       "        <tr>\n",
       "            <td>2021-01-23 08:30:39</td>\n",
       "        </tr>\n",
       "        <tr>\n",
       "            <td>2021-02-18 05:30:52</td>\n",
       "        </tr>\n",
       "        <tr>\n",
       "            <td>2020-05-22 02:36:57</td>\n",
       "        </tr>\n",
       "        <tr>\n",
       "            <td>2021-05-13 07:31:24</td>\n",
       "        </tr>\n",
       "        <tr>\n",
       "            <td>2021-08-16 04:31:19</td>\n",
       "        </tr>\n",
       "        <tr>\n",
       "            <td>2021-01-23 05:30:27</td>\n",
       "        </tr>\n",
       "        <tr>\n",
       "            <td>2021-02-06 05:30:40</td>\n",
       "        </tr>\n",
       "        <tr>\n",
       "            <td>2021-05-07 04:30:42</td>\n",
       "        </tr>\n",
       "        <tr>\n",
       "            <td>2021-04-27 04:30:56</td>\n",
       "        </tr>\n",
       "        <tr>\n",
       "            <td>2021-06-20 04:30:53</td>\n",
       "        </tr>\n",
       "        <tr>\n",
       "            <td>2021-02-19 08:30:54</td>\n",
       "        </tr>\n",
       "        <tr>\n",
       "            <td>2020-10-28 04:30:37</td>\n",
       "        </tr>\n",
       "        <tr>\n",
       "            <td>2021-04-30 04:30:59</td>\n",
       "        </tr>\n",
       "        <tr>\n",
       "            <td>2021-07-09 04:30:41</td>\n",
       "        </tr>\n",
       "        <tr>\n",
       "            <td>2021-03-15 05:31:06</td>\n",
       "        </tr>\n",
       "        <tr>\n",
       "            <td>2020-12-17 05:30:43</td>\n",
       "        </tr>\n",
       "        <tr>\n",
       "            <td>2021-07-04 04:30:43</td>\n",
       "        </tr>\n",
       "        <tr>\n",
       "            <td>2020-04-15 22:56:51</td>\n",
       "        </tr>\n",
       "        <tr>\n",
       "            <td>2020-11-20 05:30:34</td>\n",
       "        </tr>\n",
       "        <tr>\n",
       "            <td>2020-11-19 05:30:29</td>\n",
       "        </tr>\n",
       "        <tr>\n",
       "            <td>2021-04-01 04:30:33</td>\n",
       "        </tr>\n",
       "        <tr>\n",
       "            <td>2020-08-23 04:30:28</td>\n",
       "        </tr>\n",
       "        <tr>\n",
       "            <td>2021-03-06 08:31:06</td>\n",
       "        </tr>\n",
       "        <tr>\n",
       "            <td>2021-03-19 05:30:59</td>\n",
       "        </tr>\n",
       "        <tr>\n",
       "            <td>2021-02-17 05:30:30</td>\n",
       "        </tr>\n",
       "        <tr>\n",
       "            <td>2020-04-25 06:32:46</td>\n",
       "        </tr>\n",
       "        <tr>\n",
       "            <td>2020-10-25 04:30:24</td>\n",
       "        </tr>\n",
       "        <tr>\n",
       "            <td>2021-09-07 04:31:55</td>\n",
       "        </tr>\n",
       "        <tr>\n",
       "            <td>2021-11-06 04:32:28</td>\n",
       "        </tr>\n",
       "        <tr>\n",
       "            <td>2021-08-02 04:30:45</td>\n",
       "        </tr>\n",
       "        <tr>\n",
       "            <td>2020-05-29 02:32:58</td>\n",
       "        </tr>\n",
       "        <tr>\n",
       "            <td>2021-08-03 04:30:43</td>\n",
       "        </tr>\n",
       "        <tr>\n",
       "            <td>2021-04-07 07:30:57</td>\n",
       "        </tr>\n",
       "        <tr>\n",
       "            <td>2021-01-12 05:30:28</td>\n",
       "        </tr>\n",
       "        <tr>\n",
       "            <td>2021-02-08 05:30:33</td>\n",
       "        </tr>\n",
       "        <tr>\n",
       "            <td>2021-06-12 04:31:38</td>\n",
       "        </tr>\n",
       "        <tr>\n",
       "            <td>2021-04-06 07:30:46</td>\n",
       "        </tr>\n",
       "        <tr>\n",
       "            <td>2021-11-17 04:32:19</td>\n",
       "        </tr>\n",
       "        <tr>\n",
       "            <td>2021-02-22 08:30:43</td>\n",
       "        </tr>\n",
       "        <tr>\n",
       "            <td>2021-02-14 08:31:01</td>\n",
       "        </tr>\n",
       "        <tr>\n",
       "            <td>2021-11-12 04:32:16</td>\n",
       "        </tr>\n",
       "        <tr>\n",
       "            <td>2020-04-14 00:42:00</td>\n",
       "        </tr>\n",
       "        <tr>\n",
       "            <td>2021-09-05 04:31:15</td>\n",
       "        </tr>\n",
       "        <tr>\n",
       "            <td>2021-07-10 04:31:17</td>\n",
       "        </tr>\n",
       "        <tr>\n",
       "            <td>2020-10-12 04:30:24</td>\n",
       "        </tr>\n",
       "        <tr>\n",
       "            <td>2021-04-21 04:30:46</td>\n",
       "        </tr>\n",
       "        <tr>\n",
       "            <td>2021-08-04 04:31:04</td>\n",
       "        </tr>\n",
       "        <tr>\n",
       "            <td>2021-07-18 07:31:01</td>\n",
       "        </tr>\n",
       "        <tr>\n",
       "            <td>2020-04-17 23:30:52</td>\n",
       "        </tr>\n",
       "        <tr>\n",
       "            <td>2020-08-07 04:35:29</td>\n",
       "        </tr>\n",
       "        <tr>\n",
       "            <td>2021-05-24 07:31:12</td>\n",
       "        </tr>\n",
       "        <tr>\n",
       "            <td>2021-03-03 08:31:00</td>\n",
       "        </tr>\n",
       "        <tr>\n",
       "            <td>2021-02-23 05:30:53</td>\n",
       "        </tr>\n",
       "        <tr>\n",
       "            <td>2020-12-01 05:30:26</td>\n",
       "        </tr>\n",
       "        <tr>\n",
       "            <td>2021-08-07 04:31:08</td>\n",
       "        </tr>\n",
       "        <tr>\n",
       "            <td>2021-05-05 07:30:56</td>\n",
       "        </tr>\n",
       "        <tr>\n",
       "            <td>2020-12-30 05:30:45</td>\n",
       "        </tr>\n",
       "        <tr>\n",
       "            <td>2020-08-04 04:42:12</td>\n",
       "        </tr>\n",
       "        <tr>\n",
       "            <td>2020-06-03 02:33:21</td>\n",
       "        </tr>\n",
       "        <tr>\n",
       "            <td>2020-06-28 04:34:18</td>\n",
       "        </tr>\n",
       "        <tr>\n",
       "            <td>2021-06-17 04:30:41</td>\n",
       "        </tr>\n",
       "        <tr>\n",
       "            <td>2021-01-14 09:30:29</td>\n",
       "        </tr>\n",
       "        <tr>\n",
       "            <td>2020-05-31 02:32:52</td>\n",
       "        </tr>\n",
       "        <tr>\n",
       "            <td>2021-04-28 07:31:03</td>\n",
       "        </tr>\n",
       "        <tr>\n",
       "            <td>2021-08-27 04:30:55</td>\n",
       "        </tr>\n",
       "        <tr>\n",
       "            <td>2020-08-01 04:36:46</td>\n",
       "        </tr>\n",
       "        <tr>\n",
       "            <td>2021-01-08 05:30:47</td>\n",
       "        </tr>\n",
       "        <tr>\n",
       "            <td>2020-09-06 04:30:30</td>\n",
       "        </tr>\n",
       "        <tr>\n",
       "            <td>2020-11-08 05:30:26</td>\n",
       "        </tr>\n",
       "        <tr>\n",
       "            <td>2021-03-21 08:31:03</td>\n",
       "        </tr>\n",
       "        <tr>\n",
       "            <td>2021-06-03 04:31:34</td>\n",
       "        </tr>\n",
       "        <tr>\n",
       "            <td>2021-09-18 04:31:00</td>\n",
       "        </tr>\n",
       "        <tr>\n",
       "            <td>2021-01-11 05:30:40</td>\n",
       "        </tr>\n",
       "        <tr>\n",
       "            <td>2021-11-24 04:32:22</td>\n",
       "        </tr>\n",
       "        <tr>\n",
       "            <td>2021-09-02 04:31:17</td>\n",
       "        </tr>\n",
       "        <tr>\n",
       "            <td>2021-06-25 04:30:58</td>\n",
       "        </tr>\n",
       "        <tr>\n",
       "            <td>2021-03-04 05:30:41</td>\n",
       "        </tr>\n",
       "        <tr>\n",
       "            <td>2020-10-06 04:30:27</td>\n",
       "        </tr>\n",
       "        <tr>\n",
       "            <td>2021-11-27 04:32:49</td>\n",
       "        </tr>\n",
       "        <tr>\n",
       "            <td>2020-07-15 04:34:53</td>\n",
       "        </tr>\n",
       "        <tr>\n",
       "            <td>2020-09-05 04:30:29</td>\n",
       "        </tr>\n",
       "        <tr>\n",
       "            <td>2020-10-08 04:30:35</td>\n",
       "        </tr>\n",
       "        <tr>\n",
       "            <td>2020-11-02 05:30:37</td>\n",
       "        </tr>\n",
       "        <tr>\n",
       "            <td>2021-08-09 07:31:23</td>\n",
       "        </tr>\n",
       "        <tr>\n",
       "            <td>2020-09-07 04:30:33</td>\n",
       "        </tr>\n",
       "        <tr>\n",
       "            <td>2021-08-10 04:30:48</td>\n",
       "        </tr>\n",
       "        <tr>\n",
       "            <td>2021-07-25 04:31:37</td>\n",
       "        </tr>\n",
       "        <tr>\n",
       "            <td>2021-02-24 05:31:21</td>\n",
       "        </tr>\n",
       "        <tr>\n",
       "            <td>2021-09-09 04:31:04</td>\n",
       "        </tr>\n",
       "        <tr>\n",
       "            <td>2021-02-02 08:30:40</td>\n",
       "        </tr>\n",
       "        <tr>\n",
       "            <td>2021-05-07 07:30:51</td>\n",
       "        </tr>\n",
       "        <tr>\n",
       "            <td>2021-04-22 04:30:30</td>\n",
       "        </tr>\n",
       "        <tr>\n",
       "            <td>2020-05-02 02:32:31</td>\n",
       "        </tr>\n",
       "        <tr>\n",
       "            <td>2020-11-11 05:30:39</td>\n",
       "        </tr>\n",
       "        <tr>\n",
       "            <td>2021-05-23 04:31:33</td>\n",
       "        </tr>\n",
       "        <tr>\n",
       "            <td>2021-02-15 08:30:38</td>\n",
       "        </tr>\n",
       "        <tr>\n",
       "            <td>2021-01-24 05:30:28</td>\n",
       "        </tr>\n",
       "        <tr>\n",
       "            <td>2021-10-03 04:31:54</td>\n",
       "        </tr>\n",
       "        <tr>\n",
       "            <td>2020-12-05 05:30:31</td>\n",
       "        </tr>\n",
       "        <tr>\n",
       "            <td>2020-06-27 04:33:48</td>\n",
       "        </tr>\n",
       "        <tr>\n",
       "            <td>2020-11-27 05:30:26</td>\n",
       "        </tr>\n",
       "        <tr>\n",
       "            <td>2021-10-12 04:31:32</td>\n",
       "        </tr>\n",
       "        <tr>\n",
       "            <td>2021-11-18 04:32:36</td>\n",
       "        </tr>\n",
       "        <tr>\n",
       "            <td>2021-05-06 07:30:59</td>\n",
       "        </tr>\n",
       "        <tr>\n",
       "            <td>2020-04-16 23:30:51</td>\n",
       "        </tr>\n",
       "        <tr>\n",
       "            <td>2021-09-28 07:31:17</td>\n",
       "        </tr>\n",
       "        <tr>\n",
       "            <td>2021-10-07 04:31:54</td>\n",
       "        </tr>\n",
       "        <tr>\n",
       "            <td>2021-06-02 04:30:57</td>\n",
       "        </tr>\n",
       "        <tr>\n",
       "            <td>2020-09-08 04:30:25</td>\n",
       "        </tr>\n",
       "        <tr>\n",
       "            <td>2021-08-31 04:31:21</td>\n",
       "        </tr>\n",
       "        <tr>\n",
       "            <td>2021-03-08 05:31:09</td>\n",
       "        </tr>\n",
       "        <tr>\n",
       "            <td>2020-04-24 03:33:00</td>\n",
       "        </tr>\n",
       "        <tr>\n",
       "            <td>2021-01-25 05:30:45</td>\n",
       "        </tr>\n",
       "        <tr>\n",
       "            <td>2020-11-29 05:30:26</td>\n",
       "        </tr>\n",
       "        <tr>\n",
       "            <td>2021-02-12 08:30:43</td>\n",
       "        </tr>\n",
       "        <tr>\n",
       "            <td>2021-06-29 07:30:59</td>\n",
       "        </tr>\n",
       "        <tr>\n",
       "            <td>2021-04-10 07:30:45</td>\n",
       "        </tr>\n",
       "        <tr>\n",
       "            <td>2021-05-03 07:30:56</td>\n",
       "        </tr>\n",
       "        <tr>\n",
       "            <td>2020-08-24 04:30:23</td>\n",
       "        </tr>\n",
       "        <tr>\n",
       "            <td>2021-10-13 04:31:30</td>\n",
       "        </tr>\n",
       "        <tr>\n",
       "            <td>2021-03-10 05:31:08</td>\n",
       "        </tr>\n",
       "        <tr>\n",
       "            <td>2020-05-09 02:32:39</td>\n",
       "        </tr>\n",
       "        <tr>\n",
       "            <td>2021-03-25 05:30:43</td>\n",
       "        </tr>\n",
       "        <tr>\n",
       "            <td>2021-01-26 08:30:28</td>\n",
       "        </tr>\n",
       "        <tr>\n",
       "            <td>2021-06-03 07:31:26</td>\n",
       "        </tr>\n",
       "        <tr>\n",
       "            <td>2020-09-25 04:30:27</td>\n",
       "        </tr>\n",
       "        <tr>\n",
       "            <td>2021-10-14 04:31:55</td>\n",
       "        </tr>\n",
       "        <tr>\n",
       "            <td>2021-07-11 04:30:47</td>\n",
       "        </tr>\n",
       "        <tr>\n",
       "            <td>2020-11-13 05:30:30</td>\n",
       "        </tr>\n",
       "        <tr>\n",
       "            <td>2021-10-15 04:32:14</td>\n",
       "        </tr>\n",
       "        <tr>\n",
       "            <td>2020-11-16 05:30:30</td>\n",
       "        </tr>\n",
       "        <tr>\n",
       "            <td>2021-06-07 04:31:14</td>\n",
       "        </tr>\n",
       "        <tr>\n",
       "            <td>2021-03-06 04:30:38</td>\n",
       "        </tr>\n",
       "        <tr>\n",
       "            <td>2021-02-03 08:30:42</td>\n",
       "        </tr>\n",
       "        <tr>\n",
       "            <td>2021-02-18 08:30:52</td>\n",
       "        </tr>\n",
       "        <tr>\n",
       "            <td>2020-06-04 02:33:23</td>\n",
       "        </tr>\n",
       "        <tr>\n",
       "            <td>2021-11-21 04:32:41</td>\n",
       "        </tr>\n",
       "        <tr>\n",
       "            <td>2021-11-13 04:32:40</td>\n",
       "        </tr>\n",
       "        <tr>\n",
       "            <td>2020-10-13 04:30:36</td>\n",
       "        </tr>\n",
       "        <tr>\n",
       "            <td>2021-08-15 04:31:24</td>\n",
       "        </tr>\n",
       "        <tr>\n",
       "            <td>2020-06-10 04:07:14</td>\n",
       "        </tr>\n",
       "        <tr>\n",
       "            <td>2020-11-07 05:30:37</td>\n",
       "        </tr>\n",
       "        <tr>\n",
       "            <td>2020-09-04 04:30:31</td>\n",
       "        </tr>\n",
       "        <tr>\n",
       "            <td>2021-06-04 07:31:53</td>\n",
       "        </tr>\n",
       "        <tr>\n",
       "            <td>2021-04-15 07:30:52</td>\n",
       "        </tr>\n",
       "        <tr>\n",
       "            <td>2020-12-29 05:30:33</td>\n",
       "        </tr>\n",
       "        <tr>\n",
       "            <td>2021-08-29 04:31:43</td>\n",
       "        </tr>\n",
       "        <tr>\n",
       "            <td>2021-03-16 08:30:54</td>\n",
       "        </tr>\n",
       "        <tr>\n",
       "            <td>2021-05-30 04:31:16</td>\n",
       "        </tr>\n",
       "        <tr>\n",
       "            <td>2021-05-22 07:31:25</td>\n",
       "        </tr>\n",
       "        <tr>\n",
       "            <td>2020-09-27 04:30:34</td>\n",
       "        </tr>\n",
       "        <tr>\n",
       "            <td>2021-11-22 04:32:03</td>\n",
       "        </tr>\n",
       "        <tr>\n",
       "            <td>2020-04-13 23:07:54</td>\n",
       "        </tr>\n",
       "        <tr>\n",
       "            <td>2021-03-27 08:30:58</td>\n",
       "        </tr>\n",
       "        <tr>\n",
       "            <td>2021-10-30 04:31:53</td>\n",
       "        </tr>\n",
       "        <tr>\n",
       "            <td>2021-04-15 04:30:32</td>\n",
       "        </tr>\n",
       "        <tr>\n",
       "            <td>2021-03-20 08:31:02</td>\n",
       "        </tr>\n",
       "        <tr>\n",
       "            <td>2020-11-24 05:30:26</td>\n",
       "        </tr>\n",
       "        <tr>\n",
       "            <td>2021-04-28 04:30:34</td>\n",
       "        </tr>\n",
       "        <tr>\n",
       "            <td>2021-03-02 05:30:53</td>\n",
       "        </tr>\n",
       "        <tr>\n",
       "            <td>2021-03-05 05:31:07</td>\n",
       "        </tr>\n",
       "        <tr>\n",
       "            <td>2021-01-05 05:30:33</td>\n",
       "        </tr>\n",
       "        <tr>\n",
       "            <td>2020-09-30 04:30:25</td>\n",
       "        </tr>\n",
       "        <tr>\n",
       "            <td>2020-09-19 04:30:26</td>\n",
       "        </tr>\n",
       "        <tr>\n",
       "            <td>2020-10-17 04:30:24</td>\n",
       "        </tr>\n",
       "        <tr>\n",
       "            <td>2021-08-28 04:31:04</td>\n",
       "        </tr>\n",
       "        <tr>\n",
       "            <td>2021-01-10 09:30:31</td>\n",
       "        </tr>\n",
       "        <tr>\n",
       "            <td>2021-08-08 04:31:21</td>\n",
       "        </tr>\n",
       "        <tr>\n",
       "            <td>2021-05-21 07:31:13</td>\n",
       "        </tr>\n",
       "        <tr>\n",
       "            <td>2020-09-09 04:30:32</td>\n",
       "        </tr>\n",
       "        <tr>\n",
       "            <td>2021-08-06 07:30:44</td>\n",
       "        </tr>\n",
       "        <tr>\n",
       "            <td>2021-02-10 08:30:40</td>\n",
       "        </tr>\n",
       "        <tr>\n",
       "            <td>2020-12-27 05:30:43</td>\n",
       "        </tr>\n",
       "        <tr>\n",
       "            <td>2021-07-05 04:31:17</td>\n",
       "        </tr>\n",
       "        <tr>\n",
       "            <td>2020-12-19 05:30:27</td>\n",
       "        </tr>\n",
       "        <tr>\n",
       "            <td>2020-07-31 04:35:31</td>\n",
       "        </tr>\n",
       "        <tr>\n",
       "            <td>2021-09-30 04:31:20</td>\n",
       "        </tr>\n",
       "        <tr>\n",
       "            <td>2021-04-23 04:30:31</td>\n",
       "        </tr>\n",
       "        <tr>\n",
       "            <td>2021-10-02 04:31:30</td>\n",
       "        </tr>\n",
       "        <tr>\n",
       "            <td>2021-06-23 07:31:11</td>\n",
       "        </tr>\n",
       "        <tr>\n",
       "            <td>2021-06-21 04:30:46</td>\n",
       "        </tr>\n",
       "        <tr>\n",
       "            <td>2021-04-16 07:30:33</td>\n",
       "        </tr>\n",
       "        <tr>\n",
       "            <td>2021-10-29 04:32:01</td>\n",
       "        </tr>\n",
       "        <tr>\n",
       "            <td>2020-05-17 02:32:37</td>\n",
       "        </tr>\n",
       "        <tr>\n",
       "            <td>2021-01-18 05:30:33</td>\n",
       "        </tr>\n",
       "        <tr>\n",
       "            <td>2020-08-02 04:35:05</td>\n",
       "        </tr>\n",
       "        <tr>\n",
       "            <td>2020-06-02 02:33:16</td>\n",
       "        </tr>\n",
       "        <tr>\n",
       "            <td>2021-02-03 05:30:38</td>\n",
       "        </tr>\n",
       "        <tr>\n",
       "            <td>2021-08-21 04:31:06</td>\n",
       "        </tr>\n",
       "        <tr>\n",
       "            <td>2021-01-15 09:30:46</td>\n",
       "        </tr>\n",
       "        <tr>\n",
       "            <td>2021-04-09 07:31:00</td>\n",
       "        </tr>\n",
       "        <tr>\n",
       "            <td>2021-08-12 04:31:01</td>\n",
       "        </tr>\n",
       "        <tr>\n",
       "            <td>2021-01-28 05:30:28</td>\n",
       "        </tr>\n",
       "        <tr>\n",
       "            <td>2021-11-25 04:33:28</td>\n",
       "        </tr>\n",
       "        <tr>\n",
       "            <td>2021-02-06 08:30:40</td>\n",
       "        </tr>\n",
       "        <tr>\n",
       "            <td>2021-05-21 04:31:03</td>\n",
       "        </tr>\n",
       "        <tr>\n",
       "            <td>2020-05-10 02:32:34</td>\n",
       "        </tr>\n",
       "        <tr>\n",
       "            <td>2020-10-30 04:30:29</td>\n",
       "        </tr>\n",
       "        <tr>\n",
       "            <td>2020-12-03 05:30:41</td>\n",
       "        </tr>\n",
       "        <tr>\n",
       "            <td>2020-08-03 04:34:47</td>\n",
       "        </tr>\n",
       "        <tr>\n",
       "            <td>2020-07-26 04:35:13</td>\n",
       "        </tr>\n",
       "        <tr>\n",
       "            <td>2021-07-20 04:30:49</td>\n",
       "        </tr>\n",
       "        <tr>\n",
       "            <td>2021-07-10 07:30:42</td>\n",
       "        </tr>\n",
       "        <tr>\n",
       "            <td>2021-05-08 07:31:12</td>\n",
       "        </tr>\n",
       "        <tr>\n",
       "            <td>2021-06-23 04:30:50</td>\n",
       "        </tr>\n",
       "        <tr>\n",
       "            <td>2021-11-15 04:32:31</td>\n",
       "        </tr>\n",
       "        <tr>\n",
       "            <td>2020-04-27 02:32:46</td>\n",
       "        </tr>\n",
       "        <tr>\n",
       "            <td>2021-02-02 05:30:40</td>\n",
       "        </tr>\n",
       "        <tr>\n",
       "            <td>2021-10-25 04:31:58</td>\n",
       "        </tr>\n",
       "        <tr>\n",
       "            <td>2020-12-24 05:30:27</td>\n",
       "        </tr>\n",
       "        <tr>\n",
       "            <td>2021-04-03 04:30:31</td>\n",
       "        </tr>\n",
       "        <tr>\n",
       "            <td>2021-04-07 04:30:42</td>\n",
       "        </tr>\n",
       "        <tr>\n",
       "            <td>2021-03-11 08:31:04</td>\n",
       "        </tr>\n",
       "        <tr>\n",
       "            <td>2020-11-15 05:30:30</td>\n",
       "        </tr>\n",
       "        <tr>\n",
       "            <td>2021-08-20 04:31:00</td>\n",
       "        </tr>\n",
       "        <tr>\n",
       "            <td>2021-05-19 07:31:32</td>\n",
       "        </tr>\n",
       "        <tr>\n",
       "            <td>2021-11-01 04:32:12</td>\n",
       "        </tr>\n",
       "        <tr>\n",
       "            <td>2020-07-24 05:30:54</td>\n",
       "        </tr>\n",
       "        <tr>\n",
       "            <td>2020-07-06 04:34:10</td>\n",
       "        </tr>\n",
       "        <tr>\n",
       "            <td>2021-08-02 07:31:19</td>\n",
       "        </tr>\n",
       "        <tr>\n",
       "            <td>2021-04-20 04:30:55</td>\n",
       "        </tr>\n",
       "        <tr>\n",
       "            <td>2021-06-07 07:31:21</td>\n",
       "        </tr>\n",
       "        <tr>\n",
       "            <td>2021-06-16 04:31:11</td>\n",
       "        </tr>\n",
       "        <tr>\n",
       "            <td>2020-05-12 03:32:31</td>\n",
       "        </tr>\n",
       "        <tr>\n",
       "            <td>2020-12-23 05:30:33</td>\n",
       "        </tr>\n",
       "        <tr>\n",
       "            <td>2021-09-10 04:31:45</td>\n",
       "        </tr>\n",
       "        <tr>\n",
       "            <td>2021-06-18 04:30:52</td>\n",
       "        </tr>\n",
       "        <tr>\n",
       "            <td>2021-09-01 04:30:44</td>\n",
       "        </tr>\n",
       "        <tr>\n",
       "            <td>2021-03-17 08:30:46</td>\n",
       "        </tr>\n",
       "        <tr>\n",
       "            <td>2021-03-20 05:31:09</td>\n",
       "        </tr>\n",
       "        <tr>\n",
       "            <td>2021-08-17 07:31:06</td>\n",
       "        </tr>\n",
       "        <tr>\n",
       "            <td>2020-09-01 04:30:22</td>\n",
       "        </tr>\n",
       "        <tr>\n",
       "            <td>2020-10-15 04:30:37</td>\n",
       "        </tr>\n",
       "        <tr>\n",
       "            <td>2021-06-26 04:31:08</td>\n",
       "        </tr>\n",
       "        <tr>\n",
       "            <td>2020-05-30 02:32:55</td>\n",
       "        </tr>\n",
       "        <tr>\n",
       "            <td>2021-02-13 05:30:30</td>\n",
       "        </tr>\n",
       "        <tr>\n",
       "            <td>2021-10-26 04:33:10</td>\n",
       "        </tr>\n",
       "        <tr>\n",
       "            <td>2021-08-19 04:31:11</td>\n",
       "        </tr>\n",
       "        <tr>\n",
       "            <td>2020-06-20 04:33:32</td>\n",
       "        </tr>\n",
       "        <tr>\n",
       "            <td>2020-05-23 02:32:47</td>\n",
       "        </tr>\n",
       "        <tr>\n",
       "            <td>2021-04-27 07:31:09</td>\n",
       "        </tr>\n",
       "        <tr>\n",
       "            <td>2021-05-16 04:31:18</td>\n",
       "        </tr>\n",
       "        <tr>\n",
       "            <td>2021-02-21 08:31:19</td>\n",
       "        </tr>\n",
       "        <tr>\n",
       "            <td>2021-08-22 04:31:19</td>\n",
       "        </tr>\n",
       "        <tr>\n",
       "            <td>2020-07-21 04:38:59</td>\n",
       "        </tr>\n",
       "        <tr>\n",
       "            <td>2021-06-01 04:31:22</td>\n",
       "        </tr>\n",
       "        <tr>\n",
       "            <td>2020-08-19 04:30:00</td>\n",
       "        </tr>\n",
       "        <tr>\n",
       "            <td>2021-05-01 04:30:31</td>\n",
       "        </tr>\n",
       "        <tr>\n",
       "            <td>2020-08-30 04:30:24</td>\n",
       "        </tr>\n",
       "        <tr>\n",
       "            <td>2021-06-01 07:31:21</td>\n",
       "        </tr>\n",
       "        <tr>\n",
       "            <td>2021-03-07 08:30:37</td>\n",
       "        </tr>\n",
       "        <tr>\n",
       "            <td>2020-06-24 04:33:41</td>\n",
       "        </tr>\n",
       "        <tr>\n",
       "            <td>2021-05-17 07:31:41</td>\n",
       "        </tr>\n",
       "        <tr>\n",
       "            <td>2021-01-11 09:30:28</td>\n",
       "        </tr>\n",
       "        <tr>\n",
       "            <td>2021-01-03 05:30:33</td>\n",
       "        </tr>\n",
       "        <tr>\n",
       "            <td>2020-09-15 03:30:30</td>\n",
       "        </tr>\n",
       "        <tr>\n",
       "            <td>2021-04-14 07:30:58</td>\n",
       "        </tr>\n",
       "        <tr>\n",
       "            <td>2021-10-20 04:31:26</td>\n",
       "        </tr>\n",
       "        <tr>\n",
       "            <td>2021-03-29 04:31:08</td>\n",
       "        </tr>\n",
       "        <tr>\n",
       "            <td>2020-04-29 02:32:33</td>\n",
       "        </tr>\n",
       "        <tr>\n",
       "            <td>2021-07-21 04:31:08</td>\n",
       "        </tr>\n",
       "        <tr>\n",
       "            <td>2020-04-14 23:33:31</td>\n",
       "        </tr>\n",
       "        <tr>\n",
       "            <td>2021-04-26 07:31:03</td>\n",
       "        </tr>\n",
       "        <tr>\n",
       "            <td>2021-01-21 05:30:34</td>\n",
       "        </tr>\n",
       "        <tr>\n",
       "            <td>2020-10-02 04:30:36</td>\n",
       "        </tr>\n",
       "        <tr>\n",
       "            <td>2021-03-11 05:30:58</td>\n",
       "        </tr>\n",
       "        <tr>\n",
       "            <td>2020-06-21 04:33:37</td>\n",
       "        </tr>\n",
       "        <tr>\n",
       "            <td>2021-02-28 05:30:29</td>\n",
       "        </tr>\n",
       "        <tr>\n",
       "            <td>2020-11-25 05:30:40</td>\n",
       "        </tr>\n",
       "        <tr>\n",
       "            <td>2020-10-18 04:30:24</td>\n",
       "        </tr>\n",
       "        <tr>\n",
       "            <td>2020-12-22 05:30:44</td>\n",
       "        </tr>\n",
       "        <tr>\n",
       "            <td>2020-06-16 04:33:22</td>\n",
       "        </tr>\n",
       "        <tr>\n",
       "            <td>2021-07-17 07:30:40</td>\n",
       "        </tr>\n",
       "        <tr>\n",
       "            <td>2020-12-31 05:30:27</td>\n",
       "        </tr>\n",
       "        <tr>\n",
       "            <td>2020-10-24 04:30:33</td>\n",
       "        </tr>\n",
       "        <tr>\n",
       "            <td>2021-07-02 07:30:43</td>\n",
       "        </tr>\n",
       "        <tr>\n",
       "            <td>2020-11-14 05:30:30</td>\n",
       "        </tr>\n",
       "        <tr>\n",
       "            <td>2021-04-14 04:30:32</td>\n",
       "        </tr>\n",
       "        <tr>\n",
       "            <td>2020-05-05 02:32:38</td>\n",
       "        </tr>\n",
       "        <tr>\n",
       "            <td>2020-05-01 02:32:32</td>\n",
       "        </tr>\n",
       "        <tr>\n",
       "            <td>2020-06-09 03:33:19</td>\n",
       "        </tr>\n",
       "        <tr>\n",
       "            <td>2021-04-04 04:30:32</td>\n",
       "        </tr>\n",
       "        <tr>\n",
       "            <td>2020-05-14 03:32:32</td>\n",
       "        </tr>\n",
       "        <tr>\n",
       "            <td>2021-03-22 08:30:50</td>\n",
       "        </tr>\n",
       "        <tr>\n",
       "            <td>2020-10-09 04:30:36</td>\n",
       "        </tr>\n",
       "        <tr>\n",
       "            <td>2021-02-17 08:30:41</td>\n",
       "        </tr>\n",
       "        <tr>\n",
       "            <td>2020-05-07 02:32:32</td>\n",
       "        </tr>\n",
       "        <tr>\n",
       "            <td>2021-09-25 04:31:33</td>\n",
       "        </tr>\n",
       "        <tr>\n",
       "            <td>2021-05-27 04:30:49</td>\n",
       "        </tr>\n",
       "        <tr>\n",
       "            <td>2020-04-18 22:32:47</td>\n",
       "        </tr>\n",
       "        <tr>\n",
       "            <td>2020-09-13 04:32:00</td>\n",
       "        </tr>\n",
       "        <tr>\n",
       "            <td>2021-11-26 04:32:55</td>\n",
       "        </tr>\n",
       "        <tr>\n",
       "            <td>2021-06-30 04:30:49</td>\n",
       "        </tr>\n",
       "        <tr>\n",
       "            <td>2021-01-09 05:30:45</td>\n",
       "        </tr>\n",
       "        <tr>\n",
       "            <td>2020-10-14 04:30:28</td>\n",
       "        </tr>\n",
       "        <tr>\n",
       "            <td>2020-08-13 04:30:24</td>\n",
       "        </tr>\n",
       "        <tr>\n",
       "            <td>2020-09-11 04:30:23</td>\n",
       "        </tr>\n",
       "        <tr>\n",
       "            <td>2021-06-28 04:31:29</td>\n",
       "        </tr>\n",
       "        <tr>\n",
       "            <td>2020-09-29 04:30:25</td>\n",
       "        </tr>\n",
       "        <tr>\n",
       "            <td>2021-10-27 04:33:07</td>\n",
       "        </tr>\n",
       "        <tr>\n",
       "            <td>2021-09-13 04:31:17</td>\n",
       "        </tr>\n",
       "        <tr>\n",
       "            <td>2021-09-08 04:31:29</td>\n",
       "        </tr>\n",
       "        <tr>\n",
       "            <td>2020-09-23 04:30:25</td>\n",
       "        </tr>\n",
       "        <tr>\n",
       "            <td>2021-04-19 07:30:33</td>\n",
       "        </tr>\n",
       "        <tr>\n",
       "            <td>2021-04-11 04:30:51</td>\n",
       "        </tr>\n",
       "        <tr>\n",
       "            <td>2021-04-09 04:30:59</td>\n",
       "        </tr>\n",
       "        <tr>\n",
       "            <td>2021-01-20 05:30:46</td>\n",
       "        </tr>\n",
       "        <tr>\n",
       "            <td>2021-04-10 04:30:47</td>\n",
       "        </tr>\n",
       "        <tr>\n",
       "            <td>2021-02-12 05:30:51</td>\n",
       "        </tr>\n",
       "        <tr>\n",
       "            <td>2021-04-29 07:31:03</td>\n",
       "        </tr>\n",
       "        <tr>\n",
       "            <td>2021-05-02 04:30:59</td>\n",
       "        </tr>\n",
       "        <tr>\n",
       "            <td>2021-05-10 04:30:58</td>\n",
       "        </tr>\n",
       "        <tr>\n",
       "            <td>2021-04-06 04:30:57</td>\n",
       "        </tr>\n",
       "        <tr>\n",
       "            <td>2020-09-18 05:10:31</td>\n",
       "        </tr>\n",
       "        <tr>\n",
       "            <td>2020-07-02 04:33:59</td>\n",
       "        </tr>\n",
       "        <tr>\n",
       "            <td>2021-01-31 05:30:41</td>\n",
       "        </tr>\n",
       "        <tr>\n",
       "            <td>2021-04-18 04:30:57</td>\n",
       "        </tr>\n",
       "        <tr>\n",
       "            <td>2021-03-12 08:31:09</td>\n",
       "        </tr>\n",
       "        <tr>\n",
       "            <td>2021-07-29 04:30:41</td>\n",
       "        </tr>\n",
       "        <tr>\n",
       "            <td>2021-02-26 08:30:29</td>\n",
       "        </tr>\n",
       "        <tr>\n",
       "            <td>2021-04-08 04:30:30</td>\n",
       "        </tr>\n",
       "        <tr>\n",
       "            <td>2021-02-10 05:30:29</td>\n",
       "        </tr>\n",
       "        <tr>\n",
       "            <td>2021-01-02 05:30:44</td>\n",
       "        </tr>\n",
       "        <tr>\n",
       "            <td>2021-03-23 05:31:19</td>\n",
       "        </tr>\n",
       "        <tr>\n",
       "            <td>2021-08-05 04:30:41</td>\n",
       "        </tr>\n",
       "        <tr>\n",
       "            <td>2021-03-14 05:31:09</td>\n",
       "        </tr>\n",
       "        <tr>\n",
       "            <td>2020-07-04 04:34:04</td>\n",
       "        </tr>\n",
       "        <tr>\n",
       "            <td>2020-04-19 23:41:01</td>\n",
       "        </tr>\n",
       "        <tr>\n",
       "            <td>2020-06-11 03:33:54</td>\n",
       "        </tr>\n",
       "        <tr>\n",
       "            <td>2021-11-23 04:32:11</td>\n",
       "        </tr>\n",
       "        <tr>\n",
       "            <td>2020-12-18 05:30:33</td>\n",
       "        </tr>\n",
       "        <tr>\n",
       "            <td>2021-04-22 07:30:56</td>\n",
       "        </tr>\n",
       "        <tr>\n",
       "            <td>2020-12-26 05:30:27</td>\n",
       "        </tr>\n",
       "        <tr>\n",
       "            <td>2021-03-23 08:31:09</td>\n",
       "        </tr>\n",
       "        <tr>\n",
       "            <td>2021-09-04 04:31:08</td>\n",
       "        </tr>\n",
       "        <tr>\n",
       "            <td>2021-04-19 04:30:30</td>\n",
       "        </tr>\n",
       "        <tr>\n",
       "            <td>2020-07-19 04:35:12</td>\n",
       "        </tr>\n",
       "        <tr>\n",
       "            <td>2021-06-08 04:31:10</td>\n",
       "        </tr>\n",
       "        <tr>\n",
       "            <td>2021-07-24 04:31:01</td>\n",
       "        </tr>\n",
       "        <tr>\n",
       "            <td>2021-01-07 05:30:38</td>\n",
       "        </tr>\n",
       "        <tr>\n",
       "            <td>2021-09-22 04:32:02</td>\n",
       "        </tr>\n",
       "        <tr>\n",
       "            <td>2021-05-11 07:31:18</td>\n",
       "        </tr>\n",
       "        <tr>\n",
       "            <td>2020-11-17 05:30:30</td>\n",
       "        </tr>\n",
       "        <tr>\n",
       "            <td>2021-05-08 04:30:57</td>\n",
       "        </tr>\n",
       "        <tr>\n",
       "            <td>2021-03-31 07:31:23</td>\n",
       "        </tr>\n",
       "        <tr>\n",
       "            <td>2021-02-09 08:30:43</td>\n",
       "        </tr>\n",
       "        <tr>\n",
       "            <td>2021-12-01 04:33:18</td>\n",
       "        </tr>\n",
       "        <tr>\n",
       "            <td>2021-05-17 04:31:14</td>\n",
       "        </tr>\n",
       "        <tr>\n",
       "            <td>2021-02-01 08:30:40</td>\n",
       "        </tr>\n",
       "        <tr>\n",
       "            <td>2021-01-29 05:30:28</td>\n",
       "        </tr>\n",
       "        <tr>\n",
       "            <td>2021-03-07 05:31:30</td>\n",
       "        </tr>\n",
       "        <tr>\n",
       "            <td>2021-08-01 04:30:43</td>\n",
       "        </tr>\n",
       "        <tr>\n",
       "            <td>2021-01-21 08:30:39</td>\n",
       "        </tr>\n",
       "        <tr>\n",
       "            <td>2021-01-16 05:30:49</td>\n",
       "        </tr>\n",
       "        <tr>\n",
       "            <td>2021-04-16 04:31:03</td>\n",
       "        </tr>\n",
       "        <tr>\n",
       "            <td>2021-10-05 04:32:02</td>\n",
       "        </tr>\n",
       "        <tr>\n",
       "            <td>2021-05-31 04:31:50</td>\n",
       "        </tr>\n",
       "        <tr>\n",
       "            <td>2020-07-29 04:35:24</td>\n",
       "        </tr>\n",
       "        <tr>\n",
       "            <td>2021-06-11 04:30:52</td>\n",
       "        </tr>\n",
       "        <tr>\n",
       "            <td>2020-04-26 02:32:45</td>\n",
       "        </tr>\n",
       "        <tr>\n",
       "            <td>2021-07-04 07:30:58</td>\n",
       "        </tr>\n",
       "        <tr>\n",
       "            <td>2021-04-17 04:31:07</td>\n",
       "        </tr>\n",
       "        <tr>\n",
       "            <td>2020-10-01 04:30:28</td>\n",
       "        </tr>\n",
       "        <tr>\n",
       "            <td>2021-06-22 04:30:44</td>\n",
       "        </tr>\n",
       "        <tr>\n",
       "            <td>2021-10-18 04:32:57</td>\n",
       "        </tr>\n",
       "        <tr>\n",
       "            <td>2021-03-28 08:30:56</td>\n",
       "        </tr>\n",
       "        <tr>\n",
       "            <td>2021-05-04 04:30:32</td>\n",
       "        </tr>\n",
       "        <tr>\n",
       "            <td>2021-05-14 04:31:01</td>\n",
       "        </tr>\n",
       "        <tr>\n",
       "            <td>2020-11-03 06:00:57</td>\n",
       "        </tr>\n",
       "        <tr>\n",
       "            <td>2021-02-22 05:30:43</td>\n",
       "        </tr>\n",
       "        <tr>\n",
       "            <td>2020-10-11 04:30:32</td>\n",
       "        </tr>\n",
       "        <tr>\n",
       "            <td>2021-07-03 04:30:56</td>\n",
       "        </tr>\n",
       "        <tr>\n",
       "            <td>2021-06-29 04:30:56</td>\n",
       "        </tr>\n",
       "        <tr>\n",
       "            <td>2021-08-06 04:30:49</td>\n",
       "        </tr>\n",
       "        <tr>\n",
       "            <td>2021-05-19 04:30:44</td>\n",
       "        </tr>\n",
       "        <tr>\n",
       "            <td>2021-05-26 04:30:58</td>\n",
       "        </tr>\n",
       "        <tr>\n",
       "            <td>2021-11-29 04:32:07</td>\n",
       "        </tr>\n",
       "        <tr>\n",
       "            <td>2020-09-02 04:30:23</td>\n",
       "        </tr>\n",
       "        <tr>\n",
       "            <td>2020-06-25 05:27:08</td>\n",
       "        </tr>\n",
       "        <tr>\n",
       "            <td>2020-10-22 04:30:36</td>\n",
       "        </tr>\n",
       "        <tr>\n",
       "            <td>2021-02-07 08:30:40</td>\n",
       "        </tr>\n",
       "        <tr>\n",
       "            <td>2021-04-25 04:30:46</td>\n",
       "        </tr>\n",
       "        <tr>\n",
       "            <td>2020-06-19 04:33:29</td>\n",
       "        </tr>\n",
       "        <tr>\n",
       "            <td>2021-03-18 05:31:01</td>\n",
       "        </tr>\n",
       "        <tr>\n",
       "            <td>2020-05-06 02:32:35</td>\n",
       "        </tr>\n",
       "        <tr>\n",
       "            <td>2021-03-22 05:30:46</td>\n",
       "        </tr>\n",
       "        <tr>\n",
       "            <td>2020-10-05 04:30:35</td>\n",
       "        </tr>\n",
       "        <tr>\n",
       "            <td>2020-07-14 04:34:58</td>\n",
       "        </tr>\n",
       "        <tr>\n",
       "            <td>2021-05-15 07:30:54</td>\n",
       "        </tr>\n",
       "        <tr>\n",
       "            <td>2020-04-20 23:36:47</td>\n",
       "        </tr>\n",
       "        <tr>\n",
       "            <td>2020-05-21 02:32:54</td>\n",
       "        </tr>\n",
       "        <tr>\n",
       "            <td>2021-01-12 09:30:29</td>\n",
       "        </tr>\n",
       "        <tr>\n",
       "            <td>2021-09-06 04:31:49</td>\n",
       "        </tr>\n",
       "        <tr>\n",
       "            <td>2020-08-06 04:35:14</td>\n",
       "        </tr>\n",
       "        <tr>\n",
       "            <td>2021-10-28 04:32:59</td>\n",
       "        </tr>\n",
       "        <tr>\n",
       "            <td>2021-02-16 05:31:00</td>\n",
       "        </tr>\n",
       "        <tr>\n",
       "            <td>2021-06-27 04:31:21</td>\n",
       "        </tr>\n",
       "        <tr>\n",
       "            <td>2020-06-07 03:53:50</td>\n",
       "        </tr>\n",
       "        <tr>\n",
       "            <td>2021-03-24 05:31:13</td>\n",
       "        </tr>\n",
       "        <tr>\n",
       "            <td>2020-07-11 04:34:39</td>\n",
       "        </tr>\n",
       "        <tr>\n",
       "            <td>2020-12-11 05:30:31</td>\n",
       "        </tr>\n",
       "        <tr>\n",
       "            <td>2020-06-08 03:33:42</td>\n",
       "        </tr>\n",
       "        <tr>\n",
       "            <td>2020-09-22 04:30:33</td>\n",
       "        </tr>\n",
       "        <tr>\n",
       "            <td>2021-07-07 04:30:47</td>\n",
       "        </tr>\n",
       "        <tr>\n",
       "            <td>2021-03-10 08:30:50</td>\n",
       "        </tr>\n",
       "        <tr>\n",
       "            <td>2020-10-16 04:30:37</td>\n",
       "        </tr>\n",
       "        <tr>\n",
       "            <td>2021-09-03 04:32:21</td>\n",
       "        </tr>\n",
       "        <tr>\n",
       "            <td>2021-04-26 04:30:31</td>\n",
       "        </tr>\n",
       "        <tr>\n",
       "            <td>2021-05-31 07:31:29</td>\n",
       "        </tr>\n",
       "        <tr>\n",
       "            <td>2020-09-17 04:30:32</td>\n",
       "        </tr>\n",
       "        <tr>\n",
       "            <td>2021-03-28 05:31:16</td>\n",
       "        </tr>\n",
       "        <tr>\n",
       "            <td>2021-01-24 08:30:39</td>\n",
       "        </tr>\n",
       "        <tr>\n",
       "            <td>2021-03-19 08:31:06</td>\n",
       "        </tr>\n",
       "        <tr>\n",
       "            <td>2020-07-16 04:45:12</td>\n",
       "        </tr>\n",
       "        <tr>\n",
       "            <td>2020-07-25 04:47:52</td>\n",
       "        </tr>\n",
       "        <tr>\n",
       "            <td>2021-01-15 05:30:28</td>\n",
       "        </tr>\n",
       "        <tr>\n",
       "            <td>2020-06-13 03:33:25</td>\n",
       "        </tr>\n",
       "        <tr>\n",
       "            <td>2020-12-21 05:30:38</td>\n",
       "        </tr>\n",
       "        <tr>\n",
       "            <td>2020-06-06 02:33:09</td>\n",
       "        </tr>\n",
       "        <tr>\n",
       "            <td>2020-12-06 05:30:26</td>\n",
       "        </tr>\n",
       "        <tr>\n",
       "            <td>2021-09-17 04:31:58</td>\n",
       "        </tr>\n",
       "        <tr>\n",
       "            <td>2020-11-23 05:30:34</td>\n",
       "        </tr>\n",
       "        <tr>\n",
       "            <td>2020-06-18 04:33:30</td>\n",
       "        </tr>\n",
       "        <tr>\n",
       "            <td>2021-06-08 07:31:11</td>\n",
       "        </tr>\n",
       "        <tr>\n",
       "            <td>2020-10-10 04:30:24</td>\n",
       "        </tr>\n",
       "        <tr>\n",
       "            <td>2020-08-11 04:35:27</td>\n",
       "        </tr>\n",
       "        <tr>\n",
       "            <td>2020-11-22 05:30:30</td>\n",
       "        </tr>\n",
       "        <tr>\n",
       "            <td>2021-10-11 04:31:18</td>\n",
       "        </tr>\n",
       "        <tr>\n",
       "            <td>2021-04-02 07:30:30</td>\n",
       "        </tr>\n",
       "        <tr>\n",
       "            <td>2020-08-05 04:34:56</td>\n",
       "        </tr>\n",
       "        <tr>\n",
       "            <td>2021-11-07 04:32:11</td>\n",
       "        </tr>\n",
       "        <tr>\n",
       "            <td>2020-08-09 04:35:07</td>\n",
       "        </tr>\n",
       "        <tr>\n",
       "            <td>2021-02-11 05:30:49</td>\n",
       "        </tr>\n",
       "        <tr>\n",
       "            <td>2020-10-21 04:30:32</td>\n",
       "        </tr>\n",
       "        <tr>\n",
       "            <td>2021-02-05 05:30:47</td>\n",
       "        </tr>\n",
       "        <tr>\n",
       "            <td>2021-09-24 04:31:40</td>\n",
       "        </tr>\n",
       "        <tr>\n",
       "            <td>2021-03-31 04:31:15</td>\n",
       "        </tr>\n",
       "        <tr>\n",
       "            <td>2020-12-04 05:30:41</td>\n",
       "        </tr>\n",
       "        <tr>\n",
       "            <td>2021-11-18 07:32:06</td>\n",
       "        </tr>\n",
       "        <tr>\n",
       "            <td>2021-07-23 04:31:30</td>\n",
       "        </tr>\n",
       "        <tr>\n",
       "            <td>2021-09-12 04:32:09</td>\n",
       "        </tr>\n",
       "        <tr>\n",
       "            <td>2020-05-15 02:33:07</td>\n",
       "        </tr>\n",
       "        <tr>\n",
       "            <td>2020-04-30 02:32:31</td>\n",
       "        </tr>\n",
       "        <tr>\n",
       "            <td>2021-02-08 08:30:45</td>\n",
       "        </tr>\n",
       "        <tr>\n",
       "            <td>2021-08-29 07:30:58</td>\n",
       "        </tr>\n",
       "        <tr>\n",
       "            <td>2021-06-09 04:31:16</td>\n",
       "        </tr>\n",
       "        <tr>\n",
       "            <td>2021-05-29 04:30:58</td>\n",
       "        </tr>\n",
       "        <tr>\n",
       "            <td>2020-07-03 04:34:05</td>\n",
       "        </tr>\n",
       "        <tr>\n",
       "            <td>2021-01-26 05:30:28</td>\n",
       "        </tr>\n",
       "        <tr>\n",
       "            <td>2020-07-08 05:34:00</td>\n",
       "        </tr>\n",
       "        <tr>\n",
       "            <td>2020-12-25 05:30:37</td>\n",
       "        </tr>\n",
       "        <tr>\n",
       "            <td>2020-12-16 05:30:42</td>\n",
       "        </tr>\n",
       "        <tr>\n",
       "            <td>2021-05-27 07:30:47</td>\n",
       "        </tr>\n",
       "        <tr>\n",
       "            <td>2021-04-24 04:30:47</td>\n",
       "        </tr>\n",
       "        <tr>\n",
       "            <td>2021-11-08 04:32:16</td>\n",
       "        </tr>\n",
       "        <tr>\n",
       "            <td>2020-06-05 02:33:15</td>\n",
       "        </tr>\n",
       "        <tr>\n",
       "            <td>2021-03-18 08:31:01</td>\n",
       "        </tr>\n",
       "        <tr>\n",
       "            <td>2021-07-16 04:30:42</td>\n",
       "        </tr>\n",
       "        <tr>\n",
       "            <td>2020-11-05 06:05:43</td>\n",
       "        </tr>\n",
       "        <tr>\n",
       "            <td>2020-08-26 04:30:22</td>\n",
       "        </tr>\n",
       "        <tr>\n",
       "            <td>2021-04-12 07:30:55</td>\n",
       "        </tr>\n",
       "        <tr>\n",
       "            <td>2021-08-30 04:30:57</td>\n",
       "        </tr>\n",
       "        <tr>\n",
       "            <td>2020-10-29 04:30:35</td>\n",
       "        </tr>\n",
       "        <tr>\n",
       "            <td>2021-01-19 09:30:34</td>\n",
       "        </tr>\n",
       "        <tr>\n",
       "            <td>2020-06-26 04:33:54</td>\n",
       "        </tr>\n",
       "        <tr>\n",
       "            <td>2021-04-30 07:31:03</td>\n",
       "        </tr>\n",
       "        <tr>\n",
       "            <td>2021-03-13 08:31:17</td>\n",
       "        </tr>\n",
       "        <tr>\n",
       "            <td>2020-08-25 04:30:29</td>\n",
       "        </tr>\n",
       "        <tr>\n",
       "            <td>2020-05-11 02:32:34</td>\n",
       "        </tr>\n",
       "        <tr>\n",
       "            <td>2021-04-13 04:30:56</td>\n",
       "        </tr>\n",
       "        <tr>\n",
       "            <td>2020-12-15 05:30:31</td>\n",
       "        </tr>\n",
       "        <tr>\n",
       "            <td>2021-07-13 04:30:46</td>\n",
       "        </tr>\n",
       "        <tr>\n",
       "            <td>2021-06-27 07:31:19</td>\n",
       "        </tr>\n",
       "        <tr>\n",
       "            <td>2021-10-17 04:31:29</td>\n",
       "        </tr>\n",
       "        <tr>\n",
       "            <td>2021-09-15 03:31:56</td>\n",
       "        </tr>\n",
       "        <tr>\n",
       "            <td>2020-05-08 02:32:36</td>\n",
       "        </tr>\n",
       "        <tr>\n",
       "            <td>2020-10-03 04:30:36</td>\n",
       "        </tr>\n",
       "        <tr>\n",
       "            <td>2021-07-12 04:31:00</td>\n",
       "        </tr>\n",
       "        <tr>\n",
       "            <td>2021-05-25 07:31:51</td>\n",
       "        </tr>\n",
       "        <tr>\n",
       "            <td>2021-01-29 08:30:32</td>\n",
       "        </tr>\n",
       "        <tr>\n",
       "            <td>2020-10-19 04:30:24</td>\n",
       "        </tr>\n",
       "        <tr>\n",
       "            <td>2021-06-24 04:31:08</td>\n",
       "        </tr>\n",
       "        <tr>\n",
       "            <td>2020-10-26 04:30:38</td>\n",
       "        </tr>\n",
       "        <tr>\n",
       "            <td>2020-05-16 02:32:24</td>\n",
       "        </tr>\n",
       "        <tr>\n",
       "            <td>2021-02-20 08:30:31</td>\n",
       "        </tr>\n",
       "        <tr>\n",
       "            <td>2020-11-21 05:30:30</td>\n",
       "        </tr>\n",
       "        <tr>\n",
       "            <td>2020-08-31 04:30:24</td>\n",
       "        </tr>\n",
       "        <tr>\n",
       "            <td>2020-12-02 05:30:41</td>\n",
       "        </tr>\n",
       "        <tr>\n",
       "            <td>2020-09-20 04:30:31</td>\n",
       "        </tr>\n",
       "        <tr>\n",
       "            <td>2021-05-29 07:31:17</td>\n",
       "        </tr>\n",
       "        <tr>\n",
       "            <td>2021-10-10 04:31:24</td>\n",
       "        </tr>\n",
       "        <tr>\n",
       "            <td>2021-05-18 07:30:50</td>\n",
       "        </tr>\n",
       "        <tr>\n",
       "            <td>2021-10-24 04:31:17</td>\n",
       "        </tr>\n",
       "        <tr>\n",
       "            <td>2021-10-04 04:31:20</td>\n",
       "        </tr>\n",
       "        <tr>\n",
       "            <td>2021-04-29 04:30:35</td>\n",
       "        </tr>\n",
       "        <tr>\n",
       "            <td>2021-02-04 08:30:28</td>\n",
       "        </tr>\n",
       "        <tr>\n",
       "            <td>2020-08-21 04:30:30</td>\n",
       "        </tr>\n",
       "        <tr>\n",
       "            <td>2021-03-04 08:31:01</td>\n",
       "        </tr>\n",
       "        <tr>\n",
       "            <td>2021-07-01 07:30:44</td>\n",
       "        </tr>\n",
       "        <tr>\n",
       "            <td>2020-05-28 02:32:37</td>\n",
       "        </tr>\n",
       "        <tr>\n",
       "            <td>2020-05-03 02:32:33</td>\n",
       "        </tr>\n",
       "        <tr>\n",
       "            <td>2021-04-01 07:31:21</td>\n",
       "        </tr>\n",
       "        <tr>\n",
       "            <td>2020-07-05 04:34:00</td>\n",
       "        </tr>\n",
       "        <tr>\n",
       "            <td>2021-09-26 04:31:50</td>\n",
       "        </tr>\n",
       "        <tr>\n",
       "            <td>2021-03-16 05:31:04</td>\n",
       "        </tr>\n",
       "        <tr>\n",
       "            <td>2021-01-08 09:30:35</td>\n",
       "        </tr>\n",
       "        <tr>\n",
       "            <td>2021-08-18 07:30:41</td>\n",
       "        </tr>\n",
       "        <tr>\n",
       "            <td>2021-06-06 04:31:26</td>\n",
       "        </tr>\n",
       "        <tr>\n",
       "            <td>2020-06-23 04:33:35</td>\n",
       "        </tr>\n",
       "        <tr>\n",
       "            <td>2021-09-11 07:31:57</td>\n",
       "        </tr>\n",
       "        <tr>\n",
       "            <td>2021-07-02 04:31:14</td>\n",
       "        </tr>\n",
       "        <tr>\n",
       "            <td>2021-05-18 04:30:48</td>\n",
       "        </tr>\n",
       "        <tr>\n",
       "            <td>2021-03-29 07:31:02</td>\n",
       "        </tr>\n",
       "        <tr>\n",
       "            <td>2021-04-25 07:30:46</td>\n",
       "        </tr>\n",
       "        <tr>\n",
       "            <td>2020-04-12 23:18:15</td>\n",
       "        </tr>\n",
       "        <tr>\n",
       "            <td>2021-03-02 08:30:59</td>\n",
       "        </tr>\n",
       "        <tr>\n",
       "            <td>2021-05-05 04:30:45</td>\n",
       "        </tr>\n",
       "        <tr>\n",
       "            <td>2020-11-01 04:39:05</td>\n",
       "        </tr>\n",
       "        <tr>\n",
       "            <td>2021-03-13 05:30:48</td>\n",
       "        </tr>\n",
       "        <tr>\n",
       "            <td>2020-09-28 04:30:36</td>\n",
       "        </tr>\n",
       "        <tr>\n",
       "            <td>2021-10-16 04:32:21</td>\n",
       "        </tr>\n",
       "        <tr>\n",
       "            <td>2021-05-11 04:31:00</td>\n",
       "        </tr>\n",
       "        <tr>\n",
       "            <td>2021-11-19 04:31:51</td>\n",
       "        </tr>\n",
       "        <tr>\n",
       "            <td>2021-09-20 04:31:19</td>\n",
       "        </tr>\n",
       "        <tr>\n",
       "            <td>2021-10-01 04:31:22</td>\n",
       "        </tr>\n",
       "        <tr>\n",
       "            <td>2020-05-19 02:32:23</td>\n",
       "        </tr>\n",
       "        <tr>\n",
       "            <td>2021-10-23 04:31:32</td>\n",
       "        </tr>\n",
       "        <tr>\n",
       "            <td>2021-09-19 04:31:17</td>\n",
       "        </tr>\n",
       "        <tr>\n",
       "            <td>2020-07-13 04:43:16</td>\n",
       "        </tr>\n",
       "        <tr>\n",
       "            <td>2021-09-15 07:32:15</td>\n",
       "        </tr>\n",
       "        <tr>\n",
       "            <td>2021-03-21 05:30:52</td>\n",
       "        </tr>\n",
       "        <tr>\n",
       "            <td>2021-08-17 04:30:48</td>\n",
       "        </tr>\n",
       "        <tr>\n",
       "            <td>2020-11-10 05:42:01</td>\n",
       "        </tr>\n",
       "        <tr>\n",
       "            <td>2020-11-09 05:30:38</td>\n",
       "        </tr>\n",
       "        <tr>\n",
       "            <td>2021-05-04 07:31:00</td>\n",
       "        </tr>\n",
       "        <tr>\n",
       "            <td>2021-03-03 05:30:49</td>\n",
       "        </tr>\n",
       "        <tr>\n",
       "            <td>2021-10-31 04:32:19</td>\n",
       "        </tr>\n",
       "        <tr>\n",
       "            <td>2021-05-28 04:31:06</td>\n",
       "        </tr>\n",
       "        <tr>\n",
       "            <td>2020-09-24 04:30:25</td>\n",
       "        </tr>\n",
       "        <tr>\n",
       "            <td>2021-02-20 05:30:30</td>\n",
       "        </tr>\n",
       "        <tr>\n",
       "            <td>2021-01-01 05:30:27</td>\n",
       "        </tr>\n",
       "        <tr>\n",
       "            <td>2021-02-09 05:30:43</td>\n",
       "        </tr>\n",
       "        <tr>\n",
       "            <td>2020-08-18 04:30:23</td>\n",
       "        </tr>\n",
       "        <tr>\n",
       "            <td>2021-02-13 08:31:01</td>\n",
       "        </tr>\n",
       "        <tr>\n",
       "            <td>2021-05-01 07:30:34</td>\n",
       "        </tr>\n",
       "        <tr>\n",
       "            <td>2020-09-26 04:30:24</td>\n",
       "        </tr>\n",
       "        <tr>\n",
       "            <td>2021-09-16 04:31:56</td>\n",
       "        </tr>\n",
       "        <tr>\n",
       "            <td>2021-09-21 07:31:51</td>\n",
       "        </tr>\n",
       "        <tr>\n",
       "            <td>2021-04-02 04:30:39</td>\n",
       "        </tr>\n",
       "        <tr>\n",
       "            <td>2021-03-05 08:30:53</td>\n",
       "        </tr>\n",
       "        <tr>\n",
       "            <td>2021-06-13 04:31:29</td>\n",
       "        </tr>\n",
       "        <tr>\n",
       "            <td>2021-08-18 04:31:10</td>\n",
       "        </tr>\n",
       "        <tr>\n",
       "            <td>2020-07-22 04:34:54</td>\n",
       "        </tr>\n",
       "        <tr>\n",
       "            <td>2021-05-16 07:31:27</td>\n",
       "        </tr>\n",
       "        <tr>\n",
       "            <td>2021-10-22 04:31:18</td>\n",
       "        </tr>\n",
       "        <tr>\n",
       "            <td>2020-08-22 04:30:29</td>\n",
       "        </tr>\n",
       "        <tr>\n",
       "            <td>2021-01-30 08:30:40</td>\n",
       "        </tr>\n",
       "        <tr>\n",
       "            <td>2021-06-15 04:31:17</td>\n",
       "        </tr>\n",
       "        <tr>\n",
       "            <td>2020-07-10 04:34:42</td>\n",
       "        </tr>\n",
       "        <tr>\n",
       "            <td>2021-05-20 07:31:01</td>\n",
       "        </tr>\n",
       "        <tr>\n",
       "            <td>2021-04-17 07:31:00</td>\n",
       "        </tr>\n",
       "        <tr>\n",
       "            <td>2021-05-20 04:31:17</td>\n",
       "        </tr>\n",
       "        <tr>\n",
       "            <td>2021-05-13 04:31:15</td>\n",
       "        </tr>\n",
       "        <tr>\n",
       "            <td>2021-05-12 04:31:06</td>\n",
       "        </tr>\n",
       "        <tr>\n",
       "            <td>2020-09-21 04:30:33</td>\n",
       "        </tr>\n",
       "        <tr>\n",
       "            <td>2020-07-12 04:34:43</td>\n",
       "        </tr>\n",
       "        <tr>\n",
       "            <td>2021-01-17 05:30:35</td>\n",
       "        </tr>\n",
       "        <tr>\n",
       "            <td>2020-10-07 04:30:35</td>\n",
       "        </tr>\n",
       "        <tr>\n",
       "            <td>2021-10-21 04:31:52</td>\n",
       "        </tr>\n",
       "        <tr>\n",
       "            <td>2021-08-25 04:31:23</td>\n",
       "        </tr>\n",
       "        <tr>\n",
       "            <td>2021-10-09 04:32:14</td>\n",
       "        </tr>\n",
       "        <tr>\n",
       "            <td>2021-03-30 07:30:52</td>\n",
       "        </tr>\n",
       "        <tr>\n",
       "            <td>2021-03-24 08:31:28</td>\n",
       "        </tr>\n",
       "        <tr>\n",
       "            <td>2021-01-27 08:30:30</td>\n",
       "        </tr>\n",
       "        <tr>\n",
       "            <td>2020-05-26 02:32:41</td>\n",
       "        </tr>\n",
       "        <tr>\n",
       "            <td>2021-02-16 08:31:10</td>\n",
       "        </tr>\n",
       "        <tr>\n",
       "            <td>2020-07-28 04:59:02</td>\n",
       "        </tr>\n",
       "        <tr>\n",
       "            <td>2021-07-19 04:30:57</td>\n",
       "        </tr>\n",
       "        <tr>\n",
       "            <td>2020-07-27 04:35:15</td>\n",
       "        </tr>\n",
       "        <tr>\n",
       "            <td>2020-08-28 04:30:22</td>\n",
       "        </tr>\n",
       "        <tr>\n",
       "            <td>2020-07-20 05:34:58</td>\n",
       "        </tr>\n",
       "        <tr>\n",
       "            <td>2020-10-23 04:30:40</td>\n",
       "        </tr>\n",
       "        <tr>\n",
       "            <td>2021-09-21 04:31:47</td>\n",
       "        </tr>\n",
       "        <tr>\n",
       "            <td>2020-05-20 02:32:25</td>\n",
       "        </tr>\n",
       "        <tr>\n",
       "            <td>2021-01-31 08:30:39</td>\n",
       "        </tr>\n",
       "        <tr>\n",
       "            <td>2021-01-13 09:30:45</td>\n",
       "        </tr>\n",
       "        <tr>\n",
       "            <td>2020-05-27 02:32:37</td>\n",
       "        </tr>\n",
       "    </tbody>\n",
       "</table>"
      ],
      "text/plain": [
       "[(datetime.datetime(2020, 10, 31, 4, 30, 34),),\n",
       " (datetime.datetime(2021, 4, 12, 4, 30, 34),),\n",
       " (datetime.datetime(2020, 9, 10, 4, 30, 24),),\n",
       " (datetime.datetime(2020, 6, 30, 4, 34, 2),),\n",
       " (datetime.datetime(2021, 3, 25, 8, 31),),\n",
       " (datetime.datetime(2021, 8, 24, 4, 31, 24),),\n",
       " (datetime.datetime(2021, 7, 6, 4, 30, 55),),\n",
       " (datetime.datetime(2021, 4, 23, 7, 30, 57),),\n",
       " (datetime.datetime(2021, 3, 9, 5, 30, 55),),\n",
       " (datetime.datetime(2021, 11, 28, 4, 32, 14),),\n",
       " (datetime.datetime(2020, 7, 30, 4, 35, 17),),\n",
       " (datetime.datetime(2021, 3, 30, 4, 31),),\n",
       " (None,),\n",
       " (datetime.datetime(2021, 4, 11, 7, 30, 58),),\n",
       " (datetime.datetime(2021, 11, 5, 4, 31, 58),),\n",
       " (datetime.datetime(2021, 7, 8, 4, 31, 15),),\n",
       " (datetime.datetime(2021, 1, 10, 5, 30, 28),),\n",
       " (datetime.datetime(2020, 8, 15, 4, 30, 23),),\n",
       " (datetime.datetime(2020, 9, 3, 4, 30, 31),),\n",
       " (datetime.datetime(2020, 6, 12, 5, 10, 5),),\n",
       " (datetime.datetime(2021, 3, 14, 8, 30, 48),),\n",
       " (datetime.datetime(2020, 10, 20, 4, 30, 29),),\n",
       " (datetime.datetime(2021, 10, 8, 4, 31, 23),),\n",
       " (datetime.datetime(2021, 11, 14, 4, 32),),\n",
       " (datetime.datetime(2021, 8, 23, 4, 31, 10),),\n",
       " (datetime.datetime(2020, 5, 18, 2, 32, 26),),\n",
       " (datetime.datetime(2021, 1, 22, 5, 30, 39),),\n",
       " (datetime.datetime(2021, 1, 30, 5, 30, 40),),\n",
       " (datetime.datetime(2021, 5, 9, 4, 31, 8),),\n",
       " (datetime.datetime(2020, 8, 10, 4, 35, 8),),\n",
       " (datetime.datetime(2020, 8, 8, 4, 35, 11),),\n",
       " (datetime.datetime(2020, 11, 4, 5, 30, 25),),\n",
       " (datetime.datetime(2020, 6, 14, 3, 33, 28),),\n",
       " (datetime.datetime(2021, 11, 4, 4, 32, 32),),\n",
       " (datetime.datetime(2021, 5, 9, 7, 30, 54),),\n",
       " (datetime.datetime(2021, 6, 14, 4, 31, 36),),\n",
       " (datetime.datetime(2021, 6, 2, 7, 31, 32),),\n",
       " (datetime.datetime(2020, 7, 9, 4, 34, 36),),\n",
       " (datetime.datetime(2020, 8, 27, 4, 30, 22),),\n",
       " (datetime.datetime(2021, 3, 1, 5, 30, 39),),\n",
       " (datetime.datetime(2020, 12, 20, 5, 30, 33),),\n",
       " (datetime.datetime(2021, 9, 27, 4, 31, 36),),\n",
       " (datetime.datetime(2021, 9, 10, 7, 31, 21),),\n",
       " (datetime.datetime(2021, 2, 21, 5, 30, 53),),\n",
       " (datetime.datetime(2020, 12, 28, 5, 30, 44),),\n",
       " (datetime.datetime(2021, 3, 27, 5, 31, 28),),\n",
       " (datetime.datetime(2020, 12, 12, 5, 30, 32),),\n",
       " (datetime.datetime(2021, 10, 6, 4, 32, 22),),\n",
       " (datetime.datetime(2020, 8, 12, 4, 30, 24),),\n",
       " (datetime.datetime(2020, 8, 29, 4, 30, 22),),\n",
       " (datetime.datetime(2021, 5, 15, 4, 31, 25),),\n",
       " (datetime.datetime(2021, 1, 13, 5, 30, 34),),\n",
       " (datetime.datetime(2021, 2, 27, 5, 30, 48),),\n",
       " (datetime.datetime(2021, 9, 24, 7, 31, 12),),\n",
       " (datetime.datetime(2021, 7, 22, 4, 31, 11),),\n",
       " (datetime.datetime(2020, 9, 16, 4, 30, 32),),\n",
       " (datetime.datetime(2021, 1, 18, 9, 30, 43),),\n",
       " (datetime.datetime(2021, 1, 17, 9, 30, 45),),\n",
       " (datetime.datetime(2021, 9, 9, 7, 31, 20),),\n",
       " (datetime.datetime(2021, 5, 6, 4, 30, 57),),\n",
       " (datetime.datetime(2020, 6, 17, 4, 33, 33),),\n",
       " (datetime.datetime(2020, 10, 4, 4, 30, 24),),\n",
       " (datetime.datetime(2020, 8, 17, 4, 30, 23),),\n",
       " (datetime.datetime(2021, 8, 9, 4, 30, 46),),\n",
       " (datetime.datetime(2021, 11, 2, 4, 32, 36),),\n",
       " (datetime.datetime(2021, 2, 24, 8, 30, 30),),\n",
       " (datetime.datetime(2021, 5, 3, 4, 30, 41),),\n",
       " (datetime.datetime(2021, 2, 25, 5, 31),),\n",
       " (datetime.datetime(2020, 6, 29, 4, 33, 57),),\n",
       " (datetime.datetime(2021, 5, 22, 4, 31, 30),),\n",
       " (datetime.datetime(2021, 7, 18, 4, 31, 17),),\n",
       " (datetime.datetime(2020, 10, 27, 4, 30, 25),),\n",
       " (datetime.datetime(2021, 9, 28, 4, 31, 25),),\n",
       " (datetime.datetime(2020, 7, 18, 4, 34, 58),),\n",
       " (datetime.datetime(2020, 12, 8, 5, 30, 26),),\n",
       " (datetime.datetime(2021, 9, 30, 7, 31, 27),),\n",
       " (datetime.datetime(2021, 7, 28, 4, 31, 19),),\n",
       " (datetime.datetime(2021, 7, 26, 4, 31, 1),),\n",
       " (datetime.datetime(2021, 7, 7, 7, 30, 42),),\n",
       " (datetime.datetime(2021, 2, 15, 5, 31, 10),),\n",
       " (datetime.datetime(2020, 7, 23, 5, 15, 18),),\n",
       " (datetime.datetime(2021, 6, 19, 4, 31, 8),),\n",
       " (datetime.datetime(2021, 11, 20, 4, 32, 51),),\n",
       " (datetime.datetime(2020, 12, 10, 5, 30, 26),),\n",
       " (datetime.datetime(2020, 11, 28, 5, 30, 35),),\n",
       " (datetime.datetime(2021, 2, 23, 8, 30, 54),),\n",
       " (datetime.datetime(2021, 1, 20, 9, 30, 27),),\n",
       " (datetime.datetime(2021, 5, 30, 7, 30, 32),),\n",
       " (datetime.datetime(2021, 5, 26, 7, 30, 58),),\n",
       " (datetime.datetime(2020, 11, 18, 5, 42),),\n",
       " (datetime.datetime(2021, 4, 21, 7, 30, 41),),\n",
       " (datetime.datetime(2021, 6, 16, 7, 31, 30),),\n",
       " (datetime.datetime(2021, 6, 5, 4, 31, 23),),\n",
       " (datetime.datetime(2021, 2, 14, 5, 30, 42),),\n",
       " (datetime.datetime(2021, 9, 29, 4, 31, 45),),\n",
       " (datetime.datetime(2020, 6, 22, 4, 33, 33),),\n",
       " (datetime.datetime(2021, 9, 14, 4, 31, 27),),\n",
       " (datetime.datetime(2021, 4, 20, 7, 30, 55),),\n",
       " (datetime.datetime(2021, 8, 26, 4, 31, 2),),\n",
       " (datetime.datetime(2021, 8, 24, 7, 30, 48),),\n",
       " (datetime.datetime(2021, 7, 1, 4, 30, 56),),\n",
       " (datetime.datetime(2021, 6, 10, 4, 31, 20),),\n",
       " (datetime.datetime(2020, 11, 6, 5, 30, 35),),\n",
       " (datetime.datetime(2021, 4, 18, 7, 30, 46),),\n",
       " (datetime.datetime(2020, 8, 20, 4, 30, 22),),\n",
       " (datetime.datetime(2021, 5, 28, 7, 30, 43),),\n",
       " (datetime.datetime(2021, 5, 10, 7, 30, 55),),\n",
       " (datetime.datetime(2020, 11, 30, 5, 30, 26),),\n",
       " (datetime.datetime(2020, 7, 1, 4, 34, 5),),\n",
       " (datetime.datetime(2021, 5, 25, 4, 31, 49),),\n",
       " (datetime.datetime(2021, 1, 4, 5, 30, 45),),\n",
       " (datetime.datetime(2021, 5, 2, 7, 30, 45),),\n",
       " (datetime.datetime(2021, 1, 6, 5, 30, 39),),\n",
       " (datetime.datetime(2021, 7, 30, 4, 30, 58),),\n",
       " (datetime.datetime(2021, 7, 15, 4, 30, 56),),\n",
       " (datetime.datetime(2020, 5, 24, 2, 32, 48),),\n",
       " (datetime.datetime(2021, 11, 9, 4, 32, 6),),\n",
       " (datetime.datetime(2021, 2, 7, 5, 30, 57),),\n",
       " (datetime.datetime(2021, 9, 11, 4, 31, 41),),\n",
       " (datetime.datetime(2021, 11, 3, 6, 26, 25),),\n",
       " (datetime.datetime(2021, 1, 25, 8, 30, 35),),\n",
       " (datetime.datetime(2020, 4, 22, 23, 40, 26),),\n",
       " (datetime.datetime(2021, 2, 1, 5, 30, 44),),\n",
       " (datetime.datetime(2021, 1, 19, 5, 30, 28),),\n",
       " (datetime.datetime(2020, 12, 14, 5, 30, 41),),\n",
       " (datetime.datetime(2021, 1, 27, 5, 30, 51),),\n",
       " (datetime.datetime(2021, 11, 10, 4, 31, 55),),\n",
       " (datetime.datetime(2021, 2, 5, 8, 30, 29),),\n",
       " (datetime.datetime(2021, 10, 19, 4, 31, 25),),\n",
       " (datetime.datetime(2021, 4, 8, 7, 30, 39),),\n",
       " (datetime.datetime(2021, 2, 25, 8, 30, 46),),\n",
       " (datetime.datetime(2020, 6, 1, 2, 32, 54),),\n",
       " (datetime.datetime(2021, 3, 26, 5, 30, 37),),\n",
       " (datetime.datetime(2020, 8, 14, 4, 30, 24),),\n",
       " (datetime.datetime(2020, 9, 14, 4, 30, 37),),\n",
       " (datetime.datetime(2021, 8, 11, 4, 31, 15),),\n",
       " (datetime.datetime(2021, 6, 4, 4, 32, 1),),\n",
       " (datetime.datetime(2020, 8, 16, 4, 30, 18),),\n",
       " (datetime.datetime(2021, 7, 17, 4, 30, 56),),\n",
       " (datetime.datetime(2021, 3, 17, 5, 31),),\n",
       " (datetime.datetime(2021, 11, 16, 4, 33, 28),),\n",
       " (datetime.datetime(2021, 1, 14, 5, 30, 28),),\n",
       " (datetime.datetime(2021, 8, 13, 4, 31, 21),),\n",
       " (datetime.datetime(2021, 4, 5, 4, 30, 40),),\n",
       " (datetime.datetime(2020, 12, 7, 5, 30, 36),),\n",
       " (datetime.datetime(2020, 4, 21, 23, 40, 34),),\n",
       " (datetime.datetime(2020, 4, 28, 2, 32, 46),),\n",
       " (datetime.datetime(2021, 4, 3, 7, 30, 45),),\n",
       " (datetime.datetime(2021, 8, 28, 7, 31, 10),),\n",
       " (datetime.datetime(2021, 7, 27, 4, 31, 10),),\n",
       " (datetime.datetime(2020, 11, 26, 5, 30, 40),),\n",
       " (datetime.datetime(2020, 5, 13, 3, 32, 30),),\n",
       " (datetime.datetime(2021, 2, 26, 5, 30, 48),),\n",
       " (datetime.datetime(2021, 2, 19, 5, 31, 4),),\n",
       " (datetime.datetime(2021, 7, 14, 4, 30, 39),),\n",
       " (datetime.datetime(2020, 5, 25, 2, 32, 50),),\n",
       " (datetime.datetime(2021, 5, 12, 7, 31, 16),),\n",
       " (datetime.datetime(2021, 8, 11, 7, 31, 15),),\n",
       " (datetime.datetime(2021, 2, 11, 8, 30, 52),),\n",
       " (datetime.datetime(2021, 7, 31, 4, 31, 4),),\n",
       " (datetime.datetime(2020, 7, 7, 4, 34, 13),),\n",
       " (datetime.datetime(2021, 5, 23, 7, 31, 23),),\n",
       " (datetime.datetime(2020, 5, 4, 2, 32, 32),),\n",
       " (datetime.datetime(2020, 12, 13, 5, 30, 42),),\n",
       " (datetime.datetime(2020, 4, 20, 23, 44, 33),),\n",
       " (datetime.datetime(2021, 4, 13, 7, 30, 54),),\n",
       " (datetime.datetime(2021, 2, 4, 5, 30, 42),),\n",
       " (datetime.datetime(2021, 1, 16, 9, 30, 46),),\n",
       " (datetime.datetime(2021, 9, 23, 4, 31, 15),),\n",
       " (datetime.datetime(2021, 11, 11, 4, 31, 59),),\n",
       " (datetime.datetime(2020, 9, 12, 4, 30, 24),),\n",
       " (datetime.datetime(2021, 6, 6, 7, 31, 25),),\n",
       " (datetime.datetime(2020, 12, 9, 5, 30, 36),),\n",
       " (datetime.datetime(2021, 11, 30, 4, 33, 39),),\n",
       " (datetime.datetime(2020, 6, 15, 3, 33, 25),),\n",
       " (datetime.datetime(2021, 5, 24, 4, 31, 18),),\n",
       " (datetime.datetime(2020, 11, 12, 5, 30, 39),),\n",
       " (datetime.datetime(2021, 3, 15, 8, 31, 14),),\n",
       " (datetime.datetime(2020, 7, 17, 4, 35, 2),),\n",
       " (datetime.datetime(2021, 8, 14, 4, 31, 6),),\n",
       " (datetime.datetime(2021, 6, 5, 7, 31, 7),),\n",
       " (datetime.datetime(2021, 3, 12, 5, 30, 41),),\n",
       " (datetime.datetime(2021, 1, 23, 8, 30, 39),),\n",
       " (datetime.datetime(2021, 2, 18, 5, 30, 52),),\n",
       " (datetime.datetime(2020, 5, 22, 2, 36, 57),),\n",
       " (datetime.datetime(2021, 5, 13, 7, 31, 24),),\n",
       " (datetime.datetime(2021, 8, 16, 4, 31, 19),),\n",
       " (datetime.datetime(2021, 1, 23, 5, 30, 27),),\n",
       " (datetime.datetime(2021, 2, 6, 5, 30, 40),),\n",
       " (datetime.datetime(2021, 5, 7, 4, 30, 42),),\n",
       " (datetime.datetime(2021, 4, 27, 4, 30, 56),),\n",
       " (datetime.datetime(2021, 6, 20, 4, 30, 53),),\n",
       " (datetime.datetime(2021, 2, 19, 8, 30, 54),),\n",
       " (datetime.datetime(2020, 10, 28, 4, 30, 37),),\n",
       " (datetime.datetime(2021, 4, 30, 4, 30, 59),),\n",
       " (datetime.datetime(2021, 7, 9, 4, 30, 41),),\n",
       " (datetime.datetime(2021, 3, 15, 5, 31, 6),),\n",
       " (datetime.datetime(2020, 12, 17, 5, 30, 43),),\n",
       " (datetime.datetime(2021, 7, 4, 4, 30, 43),),\n",
       " (datetime.datetime(2020, 4, 15, 22, 56, 51),),\n",
       " (datetime.datetime(2020, 11, 20, 5, 30, 34),),\n",
       " (datetime.datetime(2020, 11, 19, 5, 30, 29),),\n",
       " (datetime.datetime(2021, 4, 1, 4, 30, 33),),\n",
       " (datetime.datetime(2020, 8, 23, 4, 30, 28),),\n",
       " (datetime.datetime(2021, 3, 6, 8, 31, 6),),\n",
       " (datetime.datetime(2021, 3, 19, 5, 30, 59),),\n",
       " (datetime.datetime(2021, 2, 17, 5, 30, 30),),\n",
       " (datetime.datetime(2020, 4, 25, 6, 32, 46),),\n",
       " (datetime.datetime(2020, 10, 25, 4, 30, 24),),\n",
       " (datetime.datetime(2021, 9, 7, 4, 31, 55),),\n",
       " (datetime.datetime(2021, 11, 6, 4, 32, 28),),\n",
       " (datetime.datetime(2021, 8, 2, 4, 30, 45),),\n",
       " (datetime.datetime(2020, 5, 29, 2, 32, 58),),\n",
       " (datetime.datetime(2021, 8, 3, 4, 30, 43),),\n",
       " (datetime.datetime(2021, 4, 7, 7, 30, 57),),\n",
       " (datetime.datetime(2021, 1, 12, 5, 30, 28),),\n",
       " (datetime.datetime(2021, 2, 8, 5, 30, 33),),\n",
       " (datetime.datetime(2021, 6, 12, 4, 31, 38),),\n",
       " (datetime.datetime(2021, 4, 6, 7, 30, 46),),\n",
       " (datetime.datetime(2021, 11, 17, 4, 32, 19),),\n",
       " (datetime.datetime(2021, 2, 22, 8, 30, 43),),\n",
       " (datetime.datetime(2021, 2, 14, 8, 31, 1),),\n",
       " (datetime.datetime(2021, 11, 12, 4, 32, 16),),\n",
       " (datetime.datetime(2020, 4, 14, 0, 42),),\n",
       " (datetime.datetime(2021, 9, 5, 4, 31, 15),),\n",
       " (datetime.datetime(2021, 7, 10, 4, 31, 17),),\n",
       " (datetime.datetime(2020, 10, 12, 4, 30, 24),),\n",
       " (datetime.datetime(2021, 4, 21, 4, 30, 46),),\n",
       " (datetime.datetime(2021, 8, 4, 4, 31, 4),),\n",
       " (datetime.datetime(2021, 7, 18, 7, 31, 1),),\n",
       " (datetime.datetime(2020, 4, 17, 23, 30, 52),),\n",
       " (datetime.datetime(2020, 8, 7, 4, 35, 29),),\n",
       " (datetime.datetime(2021, 5, 24, 7, 31, 12),),\n",
       " (datetime.datetime(2021, 3, 3, 8, 31),),\n",
       " (datetime.datetime(2021, 2, 23, 5, 30, 53),),\n",
       " (datetime.datetime(2020, 12, 1, 5, 30, 26),),\n",
       " (datetime.datetime(2021, 8, 7, 4, 31, 8),),\n",
       " (datetime.datetime(2021, 5, 5, 7, 30, 56),),\n",
       " (datetime.datetime(2020, 12, 30, 5, 30, 45),),\n",
       " (datetime.datetime(2020, 8, 4, 4, 42, 12),),\n",
       " (datetime.datetime(2020, 6, 3, 2, 33, 21),),\n",
       " (datetime.datetime(2020, 6, 28, 4, 34, 18),),\n",
       " (datetime.datetime(2021, 6, 17, 4, 30, 41),),\n",
       " (datetime.datetime(2021, 1, 14, 9, 30, 29),),\n",
       " (datetime.datetime(2020, 5, 31, 2, 32, 52),),\n",
       " (datetime.datetime(2021, 4, 28, 7, 31, 3),),\n",
       " (datetime.datetime(2021, 8, 27, 4, 30, 55),),\n",
       " (datetime.datetime(2020, 8, 1, 4, 36, 46),),\n",
       " (datetime.datetime(2021, 1, 8, 5, 30, 47),),\n",
       " (datetime.datetime(2020, 9, 6, 4, 30, 30),),\n",
       " (datetime.datetime(2020, 11, 8, 5, 30, 26),),\n",
       " (datetime.datetime(2021, 3, 21, 8, 31, 3),),\n",
       " (datetime.datetime(2021, 6, 3, 4, 31, 34),),\n",
       " (datetime.datetime(2021, 9, 18, 4, 31),),\n",
       " (datetime.datetime(2021, 1, 11, 5, 30, 40),),\n",
       " (datetime.datetime(2021, 11, 24, 4, 32, 22),),\n",
       " (datetime.datetime(2021, 9, 2, 4, 31, 17),),\n",
       " (datetime.datetime(2021, 6, 25, 4, 30, 58),),\n",
       " (datetime.datetime(2021, 3, 4, 5, 30, 41),),\n",
       " (datetime.datetime(2020, 10, 6, 4, 30, 27),),\n",
       " (datetime.datetime(2021, 11, 27, 4, 32, 49),),\n",
       " (datetime.datetime(2020, 7, 15, 4, 34, 53),),\n",
       " (datetime.datetime(2020, 9, 5, 4, 30, 29),),\n",
       " (datetime.datetime(2020, 10, 8, 4, 30, 35),),\n",
       " (datetime.datetime(2020, 11, 2, 5, 30, 37),),\n",
       " (datetime.datetime(2021, 8, 9, 7, 31, 23),),\n",
       " (datetime.datetime(2020, 9, 7, 4, 30, 33),),\n",
       " (datetime.datetime(2021, 8, 10, 4, 30, 48),),\n",
       " (datetime.datetime(2021, 7, 25, 4, 31, 37),),\n",
       " (datetime.datetime(2021, 2, 24, 5, 31, 21),),\n",
       " (datetime.datetime(2021, 9, 9, 4, 31, 4),),\n",
       " (datetime.datetime(2021, 2, 2, 8, 30, 40),),\n",
       " (datetime.datetime(2021, 5, 7, 7, 30, 51),),\n",
       " (datetime.datetime(2021, 4, 22, 4, 30, 30),),\n",
       " (datetime.datetime(2020, 5, 2, 2, 32, 31),),\n",
       " (datetime.datetime(2020, 11, 11, 5, 30, 39),),\n",
       " (datetime.datetime(2021, 5, 23, 4, 31, 33),),\n",
       " (datetime.datetime(2021, 2, 15, 8, 30, 38),),\n",
       " (datetime.datetime(2021, 1, 24, 5, 30, 28),),\n",
       " (datetime.datetime(2021, 10, 3, 4, 31, 54),),\n",
       " (datetime.datetime(2020, 12, 5, 5, 30, 31),),\n",
       " (datetime.datetime(2020, 6, 27, 4, 33, 48),),\n",
       " (datetime.datetime(2020, 11, 27, 5, 30, 26),),\n",
       " (datetime.datetime(2021, 10, 12, 4, 31, 32),),\n",
       " (datetime.datetime(2021, 11, 18, 4, 32, 36),),\n",
       " (datetime.datetime(2021, 5, 6, 7, 30, 59),),\n",
       " (datetime.datetime(2020, 4, 16, 23, 30, 51),),\n",
       " (datetime.datetime(2021, 9, 28, 7, 31, 17),),\n",
       " (datetime.datetime(2021, 10, 7, 4, 31, 54),),\n",
       " (datetime.datetime(2021, 6, 2, 4, 30, 57),),\n",
       " (datetime.datetime(2020, 9, 8, 4, 30, 25),),\n",
       " (datetime.datetime(2021, 8, 31, 4, 31, 21),),\n",
       " (datetime.datetime(2021, 3, 8, 5, 31, 9),),\n",
       " (datetime.datetime(2020, 4, 24, 3, 33),),\n",
       " (datetime.datetime(2021, 1, 25, 5, 30, 45),),\n",
       " (datetime.datetime(2020, 11, 29, 5, 30, 26),),\n",
       " (datetime.datetime(2021, 2, 12, 8, 30, 43),),\n",
       " (datetime.datetime(2021, 6, 29, 7, 30, 59),),\n",
       " (datetime.datetime(2021, 4, 10, 7, 30, 45),),\n",
       " (datetime.datetime(2021, 5, 3, 7, 30, 56),),\n",
       " (datetime.datetime(2020, 8, 24, 4, 30, 23),),\n",
       " (datetime.datetime(2021, 10, 13, 4, 31, 30),),\n",
       " (datetime.datetime(2021, 3, 10, 5, 31, 8),),\n",
       " (datetime.datetime(2020, 5, 9, 2, 32, 39),),\n",
       " (datetime.datetime(2021, 3, 25, 5, 30, 43),),\n",
       " (datetime.datetime(2021, 1, 26, 8, 30, 28),),\n",
       " (datetime.datetime(2021, 6, 3, 7, 31, 26),),\n",
       " (datetime.datetime(2020, 9, 25, 4, 30, 27),),\n",
       " (datetime.datetime(2021, 10, 14, 4, 31, 55),),\n",
       " (datetime.datetime(2021, 7, 11, 4, 30, 47),),\n",
       " (datetime.datetime(2020, 11, 13, 5, 30, 30),),\n",
       " (datetime.datetime(2021, 10, 15, 4, 32, 14),),\n",
       " (datetime.datetime(2020, 11, 16, 5, 30, 30),),\n",
       " (datetime.datetime(2021, 6, 7, 4, 31, 14),),\n",
       " (datetime.datetime(2021, 3, 6, 4, 30, 38),),\n",
       " (datetime.datetime(2021, 2, 3, 8, 30, 42),),\n",
       " (datetime.datetime(2021, 2, 18, 8, 30, 52),),\n",
       " (datetime.datetime(2020, 6, 4, 2, 33, 23),),\n",
       " (datetime.datetime(2021, 11, 21, 4, 32, 41),),\n",
       " (datetime.datetime(2021, 11, 13, 4, 32, 40),),\n",
       " (datetime.datetime(2020, 10, 13, 4, 30, 36),),\n",
       " (datetime.datetime(2021, 8, 15, 4, 31, 24),),\n",
       " (datetime.datetime(2020, 6, 10, 4, 7, 14),),\n",
       " (datetime.datetime(2020, 11, 7, 5, 30, 37),),\n",
       " (datetime.datetime(2020, 9, 4, 4, 30, 31),),\n",
       " (datetime.datetime(2021, 6, 4, 7, 31, 53),),\n",
       " (datetime.datetime(2021, 4, 15, 7, 30, 52),),\n",
       " (datetime.datetime(2020, 12, 29, 5, 30, 33),),\n",
       " (datetime.datetime(2021, 8, 29, 4, 31, 43),),\n",
       " (datetime.datetime(2021, 3, 16, 8, 30, 54),),\n",
       " (datetime.datetime(2021, 5, 30, 4, 31, 16),),\n",
       " (datetime.datetime(2021, 5, 22, 7, 31, 25),),\n",
       " (datetime.datetime(2020, 9, 27, 4, 30, 34),),\n",
       " (datetime.datetime(2021, 11, 22, 4, 32, 3),),\n",
       " (datetime.datetime(2020, 4, 13, 23, 7, 54),),\n",
       " (datetime.datetime(2021, 3, 27, 8, 30, 58),),\n",
       " (datetime.datetime(2021, 10, 30, 4, 31, 53),),\n",
       " (datetime.datetime(2021, 4, 15, 4, 30, 32),),\n",
       " (datetime.datetime(2021, 3, 20, 8, 31, 2),),\n",
       " (datetime.datetime(2020, 11, 24, 5, 30, 26),),\n",
       " (datetime.datetime(2021, 4, 28, 4, 30, 34),),\n",
       " (datetime.datetime(2021, 3, 2, 5, 30, 53),),\n",
       " (datetime.datetime(2021, 3, 5, 5, 31, 7),),\n",
       " (datetime.datetime(2021, 1, 5, 5, 30, 33),),\n",
       " (datetime.datetime(2020, 9, 30, 4, 30, 25),),\n",
       " (datetime.datetime(2020, 9, 19, 4, 30, 26),),\n",
       " (datetime.datetime(2020, 10, 17, 4, 30, 24),),\n",
       " (datetime.datetime(2021, 8, 28, 4, 31, 4),),\n",
       " (datetime.datetime(2021, 1, 10, 9, 30, 31),),\n",
       " (datetime.datetime(2021, 8, 8, 4, 31, 21),),\n",
       " (datetime.datetime(2021, 5, 21, 7, 31, 13),),\n",
       " (datetime.datetime(2020, 9, 9, 4, 30, 32),),\n",
       " (datetime.datetime(2021, 8, 6, 7, 30, 44),),\n",
       " (datetime.datetime(2021, 2, 10, 8, 30, 40),),\n",
       " (datetime.datetime(2020, 12, 27, 5, 30, 43),),\n",
       " (datetime.datetime(2021, 7, 5, 4, 31, 17),),\n",
       " (datetime.datetime(2020, 12, 19, 5, 30, 27),),\n",
       " (datetime.datetime(2020, 7, 31, 4, 35, 31),),\n",
       " (datetime.datetime(2021, 9, 30, 4, 31, 20),),\n",
       " (datetime.datetime(2021, 4, 23, 4, 30, 31),),\n",
       " (datetime.datetime(2021, 10, 2, 4, 31, 30),),\n",
       " (datetime.datetime(2021, 6, 23, 7, 31, 11),),\n",
       " (datetime.datetime(2021, 6, 21, 4, 30, 46),),\n",
       " (datetime.datetime(2021, 4, 16, 7, 30, 33),),\n",
       " (datetime.datetime(2021, 10, 29, 4, 32, 1),),\n",
       " (datetime.datetime(2020, 5, 17, 2, 32, 37),),\n",
       " (datetime.datetime(2021, 1, 18, 5, 30, 33),),\n",
       " (datetime.datetime(2020, 8, 2, 4, 35, 5),),\n",
       " (datetime.datetime(2020, 6, 2, 2, 33, 16),),\n",
       " (datetime.datetime(2021, 2, 3, 5, 30, 38),),\n",
       " (datetime.datetime(2021, 8, 21, 4, 31, 6),),\n",
       " (datetime.datetime(2021, 1, 15, 9, 30, 46),),\n",
       " (datetime.datetime(2021, 4, 9, 7, 31),),\n",
       " (datetime.datetime(2021, 8, 12, 4, 31, 1),),\n",
       " (datetime.datetime(2021, 1, 28, 5, 30, 28),),\n",
       " (datetime.datetime(2021, 11, 25, 4, 33, 28),),\n",
       " (datetime.datetime(2021, 2, 6, 8, 30, 40),),\n",
       " (datetime.datetime(2021, 5, 21, 4, 31, 3),),\n",
       " (datetime.datetime(2020, 5, 10, 2, 32, 34),),\n",
       " (datetime.datetime(2020, 10, 30, 4, 30, 29),),\n",
       " (datetime.datetime(2020, 12, 3, 5, 30, 41),),\n",
       " (datetime.datetime(2020, 8, 3, 4, 34, 47),),\n",
       " (datetime.datetime(2020, 7, 26, 4, 35, 13),),\n",
       " (datetime.datetime(2021, 7, 20, 4, 30, 49),),\n",
       " (datetime.datetime(2021, 7, 10, 7, 30, 42),),\n",
       " (datetime.datetime(2021, 5, 8, 7, 31, 12),),\n",
       " (datetime.datetime(2021, 6, 23, 4, 30, 50),),\n",
       " (datetime.datetime(2021, 11, 15, 4, 32, 31),),\n",
       " (datetime.datetime(2020, 4, 27, 2, 32, 46),),\n",
       " (datetime.datetime(2021, 2, 2, 5, 30, 40),),\n",
       " (datetime.datetime(2021, 10, 25, 4, 31, 58),),\n",
       " (datetime.datetime(2020, 12, 24, 5, 30, 27),),\n",
       " (datetime.datetime(2021, 4, 3, 4, 30, 31),),\n",
       " (datetime.datetime(2021, 4, 7, 4, 30, 42),),\n",
       " (datetime.datetime(2021, 3, 11, 8, 31, 4),),\n",
       " (datetime.datetime(2020, 11, 15, 5, 30, 30),),\n",
       " (datetime.datetime(2021, 8, 20, 4, 31),),\n",
       " (datetime.datetime(2021, 5, 19, 7, 31, 32),),\n",
       " (datetime.datetime(2021, 11, 1, 4, 32, 12),),\n",
       " (datetime.datetime(2020, 7, 24, 5, 30, 54),),\n",
       " (datetime.datetime(2020, 7, 6, 4, 34, 10),),\n",
       " (datetime.datetime(2021, 8, 2, 7, 31, 19),),\n",
       " (datetime.datetime(2021, 4, 20, 4, 30, 55),),\n",
       " (datetime.datetime(2021, 6, 7, 7, 31, 21),),\n",
       " (datetime.datetime(2021, 6, 16, 4, 31, 11),),\n",
       " (datetime.datetime(2020, 5, 12, 3, 32, 31),),\n",
       " (datetime.datetime(2020, 12, 23, 5, 30, 33),),\n",
       " (datetime.datetime(2021, 9, 10, 4, 31, 45),),\n",
       " (datetime.datetime(2021, 6, 18, 4, 30, 52),),\n",
       " (datetime.datetime(2021, 9, 1, 4, 30, 44),),\n",
       " (datetime.datetime(2021, 3, 17, 8, 30, 46),),\n",
       " (datetime.datetime(2021, 3, 20, 5, 31, 9),),\n",
       " (datetime.datetime(2021, 8, 17, 7, 31, 6),),\n",
       " (datetime.datetime(2020, 9, 1, 4, 30, 22),),\n",
       " (datetime.datetime(2020, 10, 15, 4, 30, 37),),\n",
       " (datetime.datetime(2021, 6, 26, 4, 31, 8),),\n",
       " (datetime.datetime(2020, 5, 30, 2, 32, 55),),\n",
       " (datetime.datetime(2021, 2, 13, 5, 30, 30),),\n",
       " (datetime.datetime(2021, 10, 26, 4, 33, 10),),\n",
       " (datetime.datetime(2021, 8, 19, 4, 31, 11),),\n",
       " (datetime.datetime(2020, 6, 20, 4, 33, 32),),\n",
       " (datetime.datetime(2020, 5, 23, 2, 32, 47),),\n",
       " (datetime.datetime(2021, 4, 27, 7, 31, 9),),\n",
       " (datetime.datetime(2021, 5, 16, 4, 31, 18),),\n",
       " (datetime.datetime(2021, 2, 21, 8, 31, 19),),\n",
       " (datetime.datetime(2021, 8, 22, 4, 31, 19),),\n",
       " (datetime.datetime(2020, 7, 21, 4, 38, 59),),\n",
       " (datetime.datetime(2021, 6, 1, 4, 31, 22),),\n",
       " (datetime.datetime(2020, 8, 19, 4, 30),),\n",
       " (datetime.datetime(2021, 5, 1, 4, 30, 31),),\n",
       " (datetime.datetime(2020, 8, 30, 4, 30, 24),),\n",
       " (datetime.datetime(2021, 6, 1, 7, 31, 21),),\n",
       " (datetime.datetime(2021, 3, 7, 8, 30, 37),),\n",
       " (datetime.datetime(2020, 6, 24, 4, 33, 41),),\n",
       " (datetime.datetime(2021, 5, 17, 7, 31, 41),),\n",
       " (datetime.datetime(2021, 1, 11, 9, 30, 28),),\n",
       " (datetime.datetime(2021, 1, 3, 5, 30, 33),),\n",
       " (datetime.datetime(2020, 9, 15, 3, 30, 30),),\n",
       " (datetime.datetime(2021, 4, 14, 7, 30, 58),),\n",
       " (datetime.datetime(2021, 10, 20, 4, 31, 26),),\n",
       " (datetime.datetime(2021, 3, 29, 4, 31, 8),),\n",
       " (datetime.datetime(2020, 4, 29, 2, 32, 33),),\n",
       " (datetime.datetime(2021, 7, 21, 4, 31, 8),),\n",
       " (datetime.datetime(2020, 4, 14, 23, 33, 31),),\n",
       " (datetime.datetime(2021, 4, 26, 7, 31, 3),),\n",
       " (datetime.datetime(2021, 1, 21, 5, 30, 34),),\n",
       " (datetime.datetime(2020, 10, 2, 4, 30, 36),),\n",
       " (datetime.datetime(2021, 3, 11, 5, 30, 58),),\n",
       " (datetime.datetime(2020, 6, 21, 4, 33, 37),),\n",
       " (datetime.datetime(2021, 2, 28, 5, 30, 29),),\n",
       " (datetime.datetime(2020, 11, 25, 5, 30, 40),),\n",
       " (datetime.datetime(2020, 10, 18, 4, 30, 24),),\n",
       " (datetime.datetime(2020, 12, 22, 5, 30, 44),),\n",
       " (datetime.datetime(2020, 6, 16, 4, 33, 22),),\n",
       " (datetime.datetime(2021, 7, 17, 7, 30, 40),),\n",
       " (datetime.datetime(2020, 12, 31, 5, 30, 27),),\n",
       " (datetime.datetime(2020, 10, 24, 4, 30, 33),),\n",
       " (datetime.datetime(2021, 7, 2, 7, 30, 43),),\n",
       " (datetime.datetime(2020, 11, 14, 5, 30, 30),),\n",
       " (datetime.datetime(2021, 4, 14, 4, 30, 32),),\n",
       " (datetime.datetime(2020, 5, 5, 2, 32, 38),),\n",
       " (datetime.datetime(2020, 5, 1, 2, 32, 32),),\n",
       " (datetime.datetime(2020, 6, 9, 3, 33, 19),),\n",
       " (datetime.datetime(2021, 4, 4, 4, 30, 32),),\n",
       " (datetime.datetime(2020, 5, 14, 3, 32, 32),),\n",
       " (datetime.datetime(2021, 3, 22, 8, 30, 50),),\n",
       " (datetime.datetime(2020, 10, 9, 4, 30, 36),),\n",
       " (datetime.datetime(2021, 2, 17, 8, 30, 41),),\n",
       " (datetime.datetime(2020, 5, 7, 2, 32, 32),),\n",
       " (datetime.datetime(2021, 9, 25, 4, 31, 33),),\n",
       " (datetime.datetime(2021, 5, 27, 4, 30, 49),),\n",
       " (datetime.datetime(2020, 4, 18, 22, 32, 47),),\n",
       " (datetime.datetime(2020, 9, 13, 4, 32),),\n",
       " (datetime.datetime(2021, 11, 26, 4, 32, 55),),\n",
       " (datetime.datetime(2021, 6, 30, 4, 30, 49),),\n",
       " (datetime.datetime(2021, 1, 9, 5, 30, 45),),\n",
       " (datetime.datetime(2020, 10, 14, 4, 30, 28),),\n",
       " (datetime.datetime(2020, 8, 13, 4, 30, 24),),\n",
       " (datetime.datetime(2020, 9, 11, 4, 30, 23),),\n",
       " (datetime.datetime(2021, 6, 28, 4, 31, 29),),\n",
       " (datetime.datetime(2020, 9, 29, 4, 30, 25),),\n",
       " (datetime.datetime(2021, 10, 27, 4, 33, 7),),\n",
       " (datetime.datetime(2021, 9, 13, 4, 31, 17),),\n",
       " (datetime.datetime(2021, 9, 8, 4, 31, 29),),\n",
       " (datetime.datetime(2020, 9, 23, 4, 30, 25),),\n",
       " (datetime.datetime(2021, 4, 19, 7, 30, 33),),\n",
       " (datetime.datetime(2021, 4, 11, 4, 30, 51),),\n",
       " (datetime.datetime(2021, 4, 9, 4, 30, 59),),\n",
       " (datetime.datetime(2021, 1, 20, 5, 30, 46),),\n",
       " (datetime.datetime(2021, 4, 10, 4, 30, 47),),\n",
       " (datetime.datetime(2021, 2, 12, 5, 30, 51),),\n",
       " (datetime.datetime(2021, 4, 29, 7, 31, 3),),\n",
       " (datetime.datetime(2021, 5, 2, 4, 30, 59),),\n",
       " (datetime.datetime(2021, 5, 10, 4, 30, 58),),\n",
       " (datetime.datetime(2021, 4, 6, 4, 30, 57),),\n",
       " (datetime.datetime(2020, 9, 18, 5, 10, 31),),\n",
       " (datetime.datetime(2020, 7, 2, 4, 33, 59),),\n",
       " (datetime.datetime(2021, 1, 31, 5, 30, 41),),\n",
       " (datetime.datetime(2021, 4, 18, 4, 30, 57),),\n",
       " (datetime.datetime(2021, 3, 12, 8, 31, 9),),\n",
       " (datetime.datetime(2021, 7, 29, 4, 30, 41),),\n",
       " (datetime.datetime(2021, 2, 26, 8, 30, 29),),\n",
       " (datetime.datetime(2021, 4, 8, 4, 30, 30),),\n",
       " (datetime.datetime(2021, 2, 10, 5, 30, 29),),\n",
       " (datetime.datetime(2021, 1, 2, 5, 30, 44),),\n",
       " (datetime.datetime(2021, 3, 23, 5, 31, 19),),\n",
       " (datetime.datetime(2021, 8, 5, 4, 30, 41),),\n",
       " (datetime.datetime(2021, 3, 14, 5, 31, 9),),\n",
       " (datetime.datetime(2020, 7, 4, 4, 34, 4),),\n",
       " (datetime.datetime(2020, 4, 19, 23, 41, 1),),\n",
       " (datetime.datetime(2020, 6, 11, 3, 33, 54),),\n",
       " (datetime.datetime(2021, 11, 23, 4, 32, 11),),\n",
       " (datetime.datetime(2020, 12, 18, 5, 30, 33),),\n",
       " (datetime.datetime(2021, 4, 22, 7, 30, 56),),\n",
       " (datetime.datetime(2020, 12, 26, 5, 30, 27),),\n",
       " (datetime.datetime(2021, 3, 23, 8, 31, 9),),\n",
       " (datetime.datetime(2021, 9, 4, 4, 31, 8),),\n",
       " (datetime.datetime(2021, 4, 19, 4, 30, 30),),\n",
       " (datetime.datetime(2020, 7, 19, 4, 35, 12),),\n",
       " (datetime.datetime(2021, 6, 8, 4, 31, 10),),\n",
       " (datetime.datetime(2021, 7, 24, 4, 31, 1),),\n",
       " (datetime.datetime(2021, 1, 7, 5, 30, 38),),\n",
       " (datetime.datetime(2021, 9, 22, 4, 32, 2),),\n",
       " (datetime.datetime(2021, 5, 11, 7, 31, 18),),\n",
       " (datetime.datetime(2020, 11, 17, 5, 30, 30),),\n",
       " (datetime.datetime(2021, 5, 8, 4, 30, 57),),\n",
       " (datetime.datetime(2021, 3, 31, 7, 31, 23),),\n",
       " (datetime.datetime(2021, 2, 9, 8, 30, 43),),\n",
       " (datetime.datetime(2021, 12, 1, 4, 33, 18),),\n",
       " (datetime.datetime(2021, 5, 17, 4, 31, 14),),\n",
       " (datetime.datetime(2021, 2, 1, 8, 30, 40),),\n",
       " (datetime.datetime(2021, 1, 29, 5, 30, 28),),\n",
       " (datetime.datetime(2021, 3, 7, 5, 31, 30),),\n",
       " (datetime.datetime(2021, 8, 1, 4, 30, 43),),\n",
       " (datetime.datetime(2021, 1, 21, 8, 30, 39),),\n",
       " (datetime.datetime(2021, 1, 16, 5, 30, 49),),\n",
       " (datetime.datetime(2021, 4, 16, 4, 31, 3),),\n",
       " (datetime.datetime(2021, 10, 5, 4, 32, 2),),\n",
       " (datetime.datetime(2021, 5, 31, 4, 31, 50),),\n",
       " (datetime.datetime(2020, 7, 29, 4, 35, 24),),\n",
       " (datetime.datetime(2021, 6, 11, 4, 30, 52),),\n",
       " (datetime.datetime(2020, 4, 26, 2, 32, 45),),\n",
       " (datetime.datetime(2021, 7, 4, 7, 30, 58),),\n",
       " (datetime.datetime(2021, 4, 17, 4, 31, 7),),\n",
       " (datetime.datetime(2020, 10, 1, 4, 30, 28),),\n",
       " (datetime.datetime(2021, 6, 22, 4, 30, 44),),\n",
       " (datetime.datetime(2021, 10, 18, 4, 32, 57),),\n",
       " (datetime.datetime(2021, 3, 28, 8, 30, 56),),\n",
       " (datetime.datetime(2021, 5, 4, 4, 30, 32),),\n",
       " (datetime.datetime(2021, 5, 14, 4, 31, 1),),\n",
       " (datetime.datetime(2020, 11, 3, 6, 0, 57),),\n",
       " (datetime.datetime(2021, 2, 22, 5, 30, 43),),\n",
       " (datetime.datetime(2020, 10, 11, 4, 30, 32),),\n",
       " (datetime.datetime(2021, 7, 3, 4, 30, 56),),\n",
       " (datetime.datetime(2021, 6, 29, 4, 30, 56),),\n",
       " (datetime.datetime(2021, 8, 6, 4, 30, 49),),\n",
       " (datetime.datetime(2021, 5, 19, 4, 30, 44),),\n",
       " (datetime.datetime(2021, 5, 26, 4, 30, 58),),\n",
       " (datetime.datetime(2021, 11, 29, 4, 32, 7),),\n",
       " (datetime.datetime(2020, 9, 2, 4, 30, 23),),\n",
       " (datetime.datetime(2020, 6, 25, 5, 27, 8),),\n",
       " (datetime.datetime(2020, 10, 22, 4, 30, 36),),\n",
       " (datetime.datetime(2021, 2, 7, 8, 30, 40),),\n",
       " (datetime.datetime(2021, 4, 25, 4, 30, 46),),\n",
       " (datetime.datetime(2020, 6, 19, 4, 33, 29),),\n",
       " (datetime.datetime(2021, 3, 18, 5, 31, 1),),\n",
       " (datetime.datetime(2020, 5, 6, 2, 32, 35),),\n",
       " (datetime.datetime(2021, 3, 22, 5, 30, 46),),\n",
       " (datetime.datetime(2020, 10, 5, 4, 30, 35),),\n",
       " (datetime.datetime(2020, 7, 14, 4, 34, 58),),\n",
       " (datetime.datetime(2021, 5, 15, 7, 30, 54),),\n",
       " (datetime.datetime(2020, 4, 20, 23, 36, 47),),\n",
       " (datetime.datetime(2020, 5, 21, 2, 32, 54),),\n",
       " (datetime.datetime(2021, 1, 12, 9, 30, 29),),\n",
       " (datetime.datetime(2021, 9, 6, 4, 31, 49),),\n",
       " (datetime.datetime(2020, 8, 6, 4, 35, 14),),\n",
       " (datetime.datetime(2021, 10, 28, 4, 32, 59),),\n",
       " (datetime.datetime(2021, 2, 16, 5, 31),),\n",
       " (datetime.datetime(2021, 6, 27, 4, 31, 21),),\n",
       " (datetime.datetime(2020, 6, 7, 3, 53, 50),),\n",
       " (datetime.datetime(2021, 3, 24, 5, 31, 13),),\n",
       " (datetime.datetime(2020, 7, 11, 4, 34, 39),),\n",
       " (datetime.datetime(2020, 12, 11, 5, 30, 31),),\n",
       " (datetime.datetime(2020, 6, 8, 3, 33, 42),),\n",
       " (datetime.datetime(2020, 9, 22, 4, 30, 33),),\n",
       " (datetime.datetime(2021, 7, 7, 4, 30, 47),),\n",
       " (datetime.datetime(2021, 3, 10, 8, 30, 50),),\n",
       " (datetime.datetime(2020, 10, 16, 4, 30, 37),),\n",
       " (datetime.datetime(2021, 9, 3, 4, 32, 21),),\n",
       " (datetime.datetime(2021, 4, 26, 4, 30, 31),),\n",
       " (datetime.datetime(2021, 5, 31, 7, 31, 29),),\n",
       " (datetime.datetime(2020, 9, 17, 4, 30, 32),),\n",
       " (datetime.datetime(2021, 3, 28, 5, 31, 16),),\n",
       " (datetime.datetime(2021, 1, 24, 8, 30, 39),),\n",
       " (datetime.datetime(2021, 3, 19, 8, 31, 6),),\n",
       " (datetime.datetime(2020, 7, 16, 4, 45, 12),),\n",
       " (datetime.datetime(2020, 7, 25, 4, 47, 52),),\n",
       " (datetime.datetime(2021, 1, 15, 5, 30, 28),),\n",
       " (datetime.datetime(2020, 6, 13, 3, 33, 25),),\n",
       " (datetime.datetime(2020, 12, 21, 5, 30, 38),),\n",
       " (datetime.datetime(2020, 6, 6, 2, 33, 9),),\n",
       " (datetime.datetime(2020, 12, 6, 5, 30, 26),),\n",
       " (datetime.datetime(2021, 9, 17, 4, 31, 58),),\n",
       " (datetime.datetime(2020, 11, 23, 5, 30, 34),),\n",
       " (datetime.datetime(2020, 6, 18, 4, 33, 30),),\n",
       " (datetime.datetime(2021, 6, 8, 7, 31, 11),),\n",
       " (datetime.datetime(2020, 10, 10, 4, 30, 24),),\n",
       " (datetime.datetime(2020, 8, 11, 4, 35, 27),),\n",
       " (datetime.datetime(2020, 11, 22, 5, 30, 30),),\n",
       " (datetime.datetime(2021, 10, 11, 4, 31, 18),),\n",
       " (datetime.datetime(2021, 4, 2, 7, 30, 30),),\n",
       " (datetime.datetime(2020, 8, 5, 4, 34, 56),),\n",
       " (datetime.datetime(2021, 11, 7, 4, 32, 11),),\n",
       " (datetime.datetime(2020, 8, 9, 4, 35, 7),),\n",
       " (datetime.datetime(2021, 2, 11, 5, 30, 49),),\n",
       " (datetime.datetime(2020, 10, 21, 4, 30, 32),),\n",
       " (datetime.datetime(2021, 2, 5, 5, 30, 47),),\n",
       " (datetime.datetime(2021, 9, 24, 4, 31, 40),),\n",
       " (datetime.datetime(2021, 3, 31, 4, 31, 15),),\n",
       " (datetime.datetime(2020, 12, 4, 5, 30, 41),),\n",
       " (datetime.datetime(2021, 11, 18, 7, 32, 6),),\n",
       " (datetime.datetime(2021, 7, 23, 4, 31, 30),),\n",
       " (datetime.datetime(2021, 9, 12, 4, 32, 9),),\n",
       " (datetime.datetime(2020, 5, 15, 2, 33, 7),),\n",
       " (datetime.datetime(2020, 4, 30, 2, 32, 31),),\n",
       " (datetime.datetime(2021, 2, 8, 8, 30, 45),),\n",
       " (datetime.datetime(2021, 8, 29, 7, 30, 58),),\n",
       " (datetime.datetime(2021, 6, 9, 4, 31, 16),),\n",
       " (datetime.datetime(2021, 5, 29, 4, 30, 58),),\n",
       " (datetime.datetime(2020, 7, 3, 4, 34, 5),),\n",
       " (datetime.datetime(2021, 1, 26, 5, 30, 28),),\n",
       " (datetime.datetime(2020, 7, 8, 5, 34),),\n",
       " (datetime.datetime(2020, 12, 25, 5, 30, 37),),\n",
       " (datetime.datetime(2020, 12, 16, 5, 30, 42),),\n",
       " (datetime.datetime(2021, 5, 27, 7, 30, 47),),\n",
       " (datetime.datetime(2021, 4, 24, 4, 30, 47),),\n",
       " (datetime.datetime(2021, 11, 8, 4, 32, 16),),\n",
       " (datetime.datetime(2020, 6, 5, 2, 33, 15),),\n",
       " (datetime.datetime(2021, 3, 18, 8, 31, 1),),\n",
       " (datetime.datetime(2021, 7, 16, 4, 30, 42),),\n",
       " (datetime.datetime(2020, 11, 5, 6, 5, 43),),\n",
       " (datetime.datetime(2020, 8, 26, 4, 30, 22),),\n",
       " (datetime.datetime(2021, 4, 12, 7, 30, 55),),\n",
       " (datetime.datetime(2021, 8, 30, 4, 30, 57),),\n",
       " (datetime.datetime(2020, 10, 29, 4, 30, 35),),\n",
       " (datetime.datetime(2021, 1, 19, 9, 30, 34),),\n",
       " (datetime.datetime(2020, 6, 26, 4, 33, 54),),\n",
       " (datetime.datetime(2021, 4, 30, 7, 31, 3),),\n",
       " (datetime.datetime(2021, 3, 13, 8, 31, 17),),\n",
       " (datetime.datetime(2020, 8, 25, 4, 30, 29),),\n",
       " (datetime.datetime(2020, 5, 11, 2, 32, 34),),\n",
       " (datetime.datetime(2021, 4, 13, 4, 30, 56),),\n",
       " (datetime.datetime(2020, 12, 15, 5, 30, 31),),\n",
       " (datetime.datetime(2021, 7, 13, 4, 30, 46),),\n",
       " (datetime.datetime(2021, 6, 27, 7, 31, 19),),\n",
       " (datetime.datetime(2021, 10, 17, 4, 31, 29),),\n",
       " (datetime.datetime(2021, 9, 15, 3, 31, 56),),\n",
       " (datetime.datetime(2020, 5, 8, 2, 32, 36),),\n",
       " (datetime.datetime(2020, 10, 3, 4, 30, 36),),\n",
       " (datetime.datetime(2021, 7, 12, 4, 31),),\n",
       " (datetime.datetime(2021, 5, 25, 7, 31, 51),),\n",
       " (datetime.datetime(2021, 1, 29, 8, 30, 32),),\n",
       " (datetime.datetime(2020, 10, 19, 4, 30, 24),),\n",
       " (datetime.datetime(2021, 6, 24, 4, 31, 8),),\n",
       " (datetime.datetime(2020, 10, 26, 4, 30, 38),),\n",
       " (datetime.datetime(2020, 5, 16, 2, 32, 24),),\n",
       " (datetime.datetime(2021, 2, 20, 8, 30, 31),),\n",
       " (datetime.datetime(2020, 11, 21, 5, 30, 30),),\n",
       " (datetime.datetime(2020, 8, 31, 4, 30, 24),),\n",
       " (datetime.datetime(2020, 12, 2, 5, 30, 41),),\n",
       " (datetime.datetime(2020, 9, 20, 4, 30, 31),),\n",
       " (datetime.datetime(2021, 5, 29, 7, 31, 17),),\n",
       " (datetime.datetime(2021, 10, 10, 4, 31, 24),),\n",
       " (datetime.datetime(2021, 5, 18, 7, 30, 50),),\n",
       " (datetime.datetime(2021, 10, 24, 4, 31, 17),),\n",
       " (datetime.datetime(2021, 10, 4, 4, 31, 20),),\n",
       " (datetime.datetime(2021, 4, 29, 4, 30, 35),),\n",
       " (datetime.datetime(2021, 2, 4, 8, 30, 28),),\n",
       " (datetime.datetime(2020, 8, 21, 4, 30, 30),),\n",
       " (datetime.datetime(2021, 3, 4, 8, 31, 1),),\n",
       " (datetime.datetime(2021, 7, 1, 7, 30, 44),),\n",
       " (datetime.datetime(2020, 5, 28, 2, 32, 37),),\n",
       " (datetime.datetime(2020, 5, 3, 2, 32, 33),),\n",
       " (datetime.datetime(2021, 4, 1, 7, 31, 21),),\n",
       " (datetime.datetime(2020, 7, 5, 4, 34),),\n",
       " (datetime.datetime(2021, 9, 26, 4, 31, 50),),\n",
       " (datetime.datetime(2021, 3, 16, 5, 31, 4),),\n",
       " (datetime.datetime(2021, 1, 8, 9, 30, 35),),\n",
       " (datetime.datetime(2021, 8, 18, 7, 30, 41),),\n",
       " (datetime.datetime(2021, 6, 6, 4, 31, 26),),\n",
       " (datetime.datetime(2020, 6, 23, 4, 33, 35),),\n",
       " (datetime.datetime(2021, 9, 11, 7, 31, 57),),\n",
       " (datetime.datetime(2021, 7, 2, 4, 31, 14),),\n",
       " (datetime.datetime(2021, 5, 18, 4, 30, 48),),\n",
       " (datetime.datetime(2021, 3, 29, 7, 31, 2),),\n",
       " (datetime.datetime(2021, 4, 25, 7, 30, 46),),\n",
       " (datetime.datetime(2020, 4, 12, 23, 18, 15),),\n",
       " (datetime.datetime(2021, 3, 2, 8, 30, 59),),\n",
       " (datetime.datetime(2021, 5, 5, 4, 30, 45),),\n",
       " (datetime.datetime(2020, 11, 1, 4, 39, 5),),\n",
       " (datetime.datetime(2021, 3, 13, 5, 30, 48),),\n",
       " (datetime.datetime(2020, 9, 28, 4, 30, 36),),\n",
       " (datetime.datetime(2021, 10, 16, 4, 32, 21),),\n",
       " (datetime.datetime(2021, 5, 11, 4, 31),),\n",
       " (datetime.datetime(2021, 11, 19, 4, 31, 51),),\n",
       " (datetime.datetime(2021, 9, 20, 4, 31, 19),),\n",
       " (datetime.datetime(2021, 10, 1, 4, 31, 22),),\n",
       " (datetime.datetime(2020, 5, 19, 2, 32, 23),),\n",
       " (datetime.datetime(2021, 10, 23, 4, 31, 32),),\n",
       " (datetime.datetime(2021, 9, 19, 4, 31, 17),),\n",
       " (datetime.datetime(2020, 7, 13, 4, 43, 16),),\n",
       " (datetime.datetime(2021, 9, 15, 7, 32, 15),),\n",
       " (datetime.datetime(2021, 3, 21, 5, 30, 52),),\n",
       " (datetime.datetime(2021, 8, 17, 4, 30, 48),),\n",
       " (datetime.datetime(2020, 11, 10, 5, 42, 1),),\n",
       " (datetime.datetime(2020, 11, 9, 5, 30, 38),),\n",
       " (datetime.datetime(2021, 5, 4, 7, 31),),\n",
       " (datetime.datetime(2021, 3, 3, 5, 30, 49),),\n",
       " (datetime.datetime(2021, 10, 31, 4, 32, 19),),\n",
       " (datetime.datetime(2021, 5, 28, 4, 31, 6),),\n",
       " (datetime.datetime(2020, 9, 24, 4, 30, 25),),\n",
       " (datetime.datetime(2021, 2, 20, 5, 30, 30),),\n",
       " (datetime.datetime(2021, 1, 1, 5, 30, 27),),\n",
       " (datetime.datetime(2021, 2, 9, 5, 30, 43),),\n",
       " (datetime.datetime(2020, 8, 18, 4, 30, 23),),\n",
       " (datetime.datetime(2021, 2, 13, 8, 31, 1),),\n",
       " (datetime.datetime(2021, 5, 1, 7, 30, 34),),\n",
       " (datetime.datetime(2020, 9, 26, 4, 30, 24),),\n",
       " (datetime.datetime(2021, 9, 16, 4, 31, 56),),\n",
       " (datetime.datetime(2021, 9, 21, 7, 31, 51),),\n",
       " (datetime.datetime(2021, 4, 2, 4, 30, 39),),\n",
       " (datetime.datetime(2021, 3, 5, 8, 30, 53),),\n",
       " (datetime.datetime(2021, 6, 13, 4, 31, 29),),\n",
       " (datetime.datetime(2021, 8, 18, 4, 31, 10),),\n",
       " (datetime.datetime(2020, 7, 22, 4, 34, 54),),\n",
       " (datetime.datetime(2021, 5, 16, 7, 31, 27),),\n",
       " (datetime.datetime(2021, 10, 22, 4, 31, 18),),\n",
       " (datetime.datetime(2020, 8, 22, 4, 30, 29),),\n",
       " (datetime.datetime(2021, 1, 30, 8, 30, 40),),\n",
       " (datetime.datetime(2021, 6, 15, 4, 31, 17),),\n",
       " (datetime.datetime(2020, 7, 10, 4, 34, 42),),\n",
       " (datetime.datetime(2021, 5, 20, 7, 31, 1),),\n",
       " (datetime.datetime(2021, 4, 17, 7, 31),),\n",
       " (datetime.datetime(2021, 5, 20, 4, 31, 17),),\n",
       " (datetime.datetime(2021, 5, 13, 4, 31, 15),),\n",
       " (datetime.datetime(2021, 5, 12, 4, 31, 6),),\n",
       " (datetime.datetime(2020, 9, 21, 4, 30, 33),),\n",
       " (datetime.datetime(2020, 7, 12, 4, 34, 43),),\n",
       " (datetime.datetime(2021, 1, 17, 5, 30, 35),),\n",
       " (datetime.datetime(2020, 10, 7, 4, 30, 35),),\n",
       " (datetime.datetime(2021, 10, 21, 4, 31, 52),),\n",
       " (datetime.datetime(2021, 8, 25, 4, 31, 23),),\n",
       " (datetime.datetime(2021, 10, 9, 4, 32, 14),),\n",
       " (datetime.datetime(2021, 3, 30, 7, 30, 52),),\n",
       " (datetime.datetime(2021, 3, 24, 8, 31, 28),),\n",
       " (datetime.datetime(2021, 1, 27, 8, 30, 30),),\n",
       " (datetime.datetime(2020, 5, 26, 2, 32, 41),),\n",
       " (datetime.datetime(2021, 2, 16, 8, 31, 10),),\n",
       " (datetime.datetime(2020, 7, 28, 4, 59, 2),),\n",
       " (datetime.datetime(2021, 7, 19, 4, 30, 57),),\n",
       " (datetime.datetime(2020, 7, 27, 4, 35, 15),),\n",
       " (datetime.datetime(2020, 8, 28, 4, 30, 22),),\n",
       " (datetime.datetime(2020, 7, 20, 5, 34, 58),),\n",
       " (datetime.datetime(2020, 10, 23, 4, 30, 40),),\n",
       " (datetime.datetime(2021, 9, 21, 4, 31, 47),),\n",
       " (datetime.datetime(2020, 5, 20, 2, 32, 25),),\n",
       " (datetime.datetime(2021, 1, 31, 8, 30, 39),),\n",
       " (datetime.datetime(2021, 1, 13, 9, 30, 45),),\n",
       " (datetime.datetime(2020, 5, 27, 2, 32, 37),)]"
      ]
     },
     "execution_count": 211,
     "metadata": {},
     "output_type": "execute_result"
    }
   ],
   "source": [
    "%%sql\n",
    "select distinct Last_Update from cases"
   ]
  },
  {
   "cell_type": "markdown",
   "id": "0a83670e",
   "metadata": {},
   "source": [
    "In the last_update table there are some values with none as last update, we will remove these records also"
   ]
  },
  {
   "cell_type": "code",
   "execution_count": 212,
   "id": "7b5509cc",
   "metadata": {},
   "outputs": [
    {
     "name": "stdout",
     "output_type": "stream",
     "text": [
      " * postgresql://student@/week13\n",
      "28 rows affected.\n"
     ]
    },
    {
     "data": {
      "text/plain": [
       "[]"
      ]
     },
     "execution_count": 212,
     "metadata": {},
     "output_type": "execute_result"
    }
   ],
   "source": [
    "%%sql\n",
    "DELETE from cases where province_state='Recovered'\n",
    "or last_update is null"
   ]
  },
  {
   "cell_type": "markdown",
   "id": "e27acf23",
   "metadata": {},
   "source": [
    "### Create the table people_vaccinated "
   ]
  },
  {
   "cell_type": "code",
   "execution_count": 213,
   "id": "10199601",
   "metadata": {},
   "outputs": [
    {
     "name": "stdout",
     "output_type": "stream",
     "text": [
      " * postgresql://student@/week13\n",
      "Done.\n",
      "Done.\n"
     ]
    },
    {
     "data": {
      "text/plain": [
       "[]"
      ]
     },
     "execution_count": 213,
     "metadata": {},
     "output_type": "execute_result"
    }
   ],
   "source": [
    "%%sql\n",
    "DROP TABLE IF EXISTS people_vaccinated CASCADE;\n",
    "\n",
    "CREATE TABLE people_vaccinated (\n",
    "FIPS int null,\n",
    "provinceP_state varchar(30) not null,\n",
    "country_region varchar(2) not null,\n",
    "Date timestamp not null,\n",
    "Lat float null,\n",
    "Long_ float null,\n",
    "Combined_key varchar(34) not null,\n",
    "Fully_vaccinated int null,\n",
    "partially_vaccinated int null \n",
    ")"
   ]
  },
  {
   "cell_type": "code",
   "execution_count": 214,
   "id": "80a88aea",
   "metadata": {},
   "outputs": [
    {
     "name": "stdout",
     "output_type": "stream",
     "text": [
      " * postgresql://student@/week13\n",
      "22212 rows affected.\n"
     ]
    },
    {
     "data": {
      "text/plain": [
       "[]"
      ]
     },
     "execution_count": 214,
     "metadata": {},
     "output_type": "execute_result"
    }
   ],
   "source": [
    "%%sql\n",
    "COPY people_vaccinated FROM '/home/ubuntu/notebooks/Final/people_vaccinated_us_timeline.csv'\n",
    "CSV\n",
    "HEADER;"
   ]
  },
  {
   "cell_type": "code",
   "execution_count": 215,
   "id": "6d29c8b6",
   "metadata": {},
   "outputs": [
    {
     "name": "stdout",
     "output_type": "stream",
     "text": [
      " * postgresql://student@/week13\n",
      "10 rows affected.\n"
     ]
    },
    {
     "data": {
      "text/html": [
       "<table>\n",
       "    <thead>\n",
       "        <tr>\n",
       "            <th>fips</th>\n",
       "            <th>provincep_state</th>\n",
       "            <th>country_region</th>\n",
       "            <th>date</th>\n",
       "            <th>lat</th>\n",
       "            <th>long_</th>\n",
       "            <th>combined_key</th>\n",
       "            <th>fully_vaccinated</th>\n",
       "            <th>partially_vaccinated</th>\n",
       "        </tr>\n",
       "    </thead>\n",
       "    <tbody>\n",
       "        <tr>\n",
       "            <td>1</td>\n",
       "            <td>Alabama</td>\n",
       "            <td>US</td>\n",
       "            <td>2020-12-10 00:00:00</td>\n",
       "            <td>32.3182</td>\n",
       "            <td>-86.9023</td>\n",
       "            <td>Alabama, US</td>\n",
       "            <td>None</td>\n",
       "            <td>None</td>\n",
       "        </tr>\n",
       "        <tr>\n",
       "            <td>1</td>\n",
       "            <td>Alabama</td>\n",
       "            <td>US</td>\n",
       "            <td>2020-12-11 00:00:00</td>\n",
       "            <td>32.3182</td>\n",
       "            <td>-86.9023</td>\n",
       "            <td>Alabama, US</td>\n",
       "            <td>None</td>\n",
       "            <td>None</td>\n",
       "        </tr>\n",
       "        <tr>\n",
       "            <td>1</td>\n",
       "            <td>Alabama</td>\n",
       "            <td>US</td>\n",
       "            <td>2020-12-12 00:00:00</td>\n",
       "            <td>32.3182</td>\n",
       "            <td>-86.9023</td>\n",
       "            <td>Alabama, US</td>\n",
       "            <td>None</td>\n",
       "            <td>None</td>\n",
       "        </tr>\n",
       "        <tr>\n",
       "            <td>1</td>\n",
       "            <td>Alabama</td>\n",
       "            <td>US</td>\n",
       "            <td>2020-12-13 00:00:00</td>\n",
       "            <td>32.3182</td>\n",
       "            <td>-86.9023</td>\n",
       "            <td>Alabama, US</td>\n",
       "            <td>None</td>\n",
       "            <td>None</td>\n",
       "        </tr>\n",
       "        <tr>\n",
       "            <td>1</td>\n",
       "            <td>Alabama</td>\n",
       "            <td>US</td>\n",
       "            <td>2020-12-14 00:00:00</td>\n",
       "            <td>32.3182</td>\n",
       "            <td>-86.9023</td>\n",
       "            <td>Alabama, US</td>\n",
       "            <td>None</td>\n",
       "            <td>None</td>\n",
       "        </tr>\n",
       "        <tr>\n",
       "            <td>1</td>\n",
       "            <td>Alabama</td>\n",
       "            <td>US</td>\n",
       "            <td>2020-12-15 00:00:00</td>\n",
       "            <td>32.3182</td>\n",
       "            <td>-86.9023</td>\n",
       "            <td>Alabama, US</td>\n",
       "            <td>None</td>\n",
       "            <td>None</td>\n",
       "        </tr>\n",
       "        <tr>\n",
       "            <td>1</td>\n",
       "            <td>Alabama</td>\n",
       "            <td>US</td>\n",
       "            <td>2020-12-16 00:00:00</td>\n",
       "            <td>32.3182</td>\n",
       "            <td>-86.9023</td>\n",
       "            <td>Alabama, US</td>\n",
       "            <td>None</td>\n",
       "            <td>None</td>\n",
       "        </tr>\n",
       "        <tr>\n",
       "            <td>1</td>\n",
       "            <td>Alabama</td>\n",
       "            <td>US</td>\n",
       "            <td>2020-12-17 00:00:00</td>\n",
       "            <td>32.3182</td>\n",
       "            <td>-86.9023</td>\n",
       "            <td>Alabama, US</td>\n",
       "            <td>None</td>\n",
       "            <td>None</td>\n",
       "        </tr>\n",
       "        <tr>\n",
       "            <td>1</td>\n",
       "            <td>Alabama</td>\n",
       "            <td>US</td>\n",
       "            <td>2020-12-18 00:00:00</td>\n",
       "            <td>32.3182</td>\n",
       "            <td>-86.9023</td>\n",
       "            <td>Alabama, US</td>\n",
       "            <td>None</td>\n",
       "            <td>None</td>\n",
       "        </tr>\n",
       "        <tr>\n",
       "            <td>1</td>\n",
       "            <td>Alabama</td>\n",
       "            <td>US</td>\n",
       "            <td>2020-12-19 00:00:00</td>\n",
       "            <td>32.3182</td>\n",
       "            <td>-86.9023</td>\n",
       "            <td>Alabama, US</td>\n",
       "            <td>None</td>\n",
       "            <td>None</td>\n",
       "        </tr>\n",
       "    </tbody>\n",
       "</table>"
      ],
      "text/plain": [
       "[(1, 'Alabama', 'US', datetime.datetime(2020, 12, 10, 0, 0), 32.3182, -86.9023, 'Alabama, US', None, None),\n",
       " (1, 'Alabama', 'US', datetime.datetime(2020, 12, 11, 0, 0), 32.3182, -86.9023, 'Alabama, US', None, None),\n",
       " (1, 'Alabama', 'US', datetime.datetime(2020, 12, 12, 0, 0), 32.3182, -86.9023, 'Alabama, US', None, None),\n",
       " (1, 'Alabama', 'US', datetime.datetime(2020, 12, 13, 0, 0), 32.3182, -86.9023, 'Alabama, US', None, None),\n",
       " (1, 'Alabama', 'US', datetime.datetime(2020, 12, 14, 0, 0), 32.3182, -86.9023, 'Alabama, US', None, None),\n",
       " (1, 'Alabama', 'US', datetime.datetime(2020, 12, 15, 0, 0), 32.3182, -86.9023, 'Alabama, US', None, None),\n",
       " (1, 'Alabama', 'US', datetime.datetime(2020, 12, 16, 0, 0), 32.3182, -86.9023, 'Alabama, US', None, None),\n",
       " (1, 'Alabama', 'US', datetime.datetime(2020, 12, 17, 0, 0), 32.3182, -86.9023, 'Alabama, US', None, None),\n",
       " (1, 'Alabama', 'US', datetime.datetime(2020, 12, 18, 0, 0), 32.3182, -86.9023, 'Alabama, US', None, None),\n",
       " (1, 'Alabama', 'US', datetime.datetime(2020, 12, 19, 0, 0), 32.3182, -86.9023, 'Alabama, US', None, None)]"
      ]
     },
     "execution_count": 215,
     "metadata": {},
     "output_type": "execute_result"
    }
   ],
   "source": [
    "%%sql\n",
    "select * from people_vaccinated\n",
    "limit 10"
   ]
  },
  {
   "cell_type": "markdown",
   "id": "52702a36",
   "metadata": {},
   "source": [
    "### Create the table Vaccine  "
   ]
  },
  {
   "cell_type": "code",
   "execution_count": 216,
   "id": "414c0df9",
   "metadata": {},
   "outputs": [
    {
     "name": "stdout",
     "output_type": "stream",
     "text": [
      " * postgresql://student@/week13\n",
      "Done.\n",
      "Done.\n"
     ]
    },
    {
     "data": {
      "text/plain": [
       "[]"
      ]
     },
     "execution_count": 216,
     "metadata": {},
     "output_type": "execute_result"
    }
   ],
   "source": [
    "%%sql\n",
    "DROP TABLE IF EXISTS vaccine CASCADE;\n",
    "\n",
    "CREATE TABLE vaccine (\n",
    " Province_state VARCHAR(64) NOT NULL,\n",
    " date TIMESTAMP NOT NULL,\n",
    " vaccine_type VARCHAR(64) NOT NULL,\n",
    " fips INTEGER NULL,\n",
    " country_region VARCHAR(3) NOT NULL,\n",
    " lat FLOAT NULL,\n",
    " long FLOAT NULL,\n",
    " doses_alloc INTEGER NULL,\n",
    " doses_shipped INTEGER NULL,\n",
    " doses_admin INTEGER NULL,\n",
    " stage_one_doses INTEGER NULL,\n",
    " stage_two_doses INTEGER NULL,\n",
    " combined_key VARCHAR(64) NULL\n",
    ")"
   ]
  },
  {
   "cell_type": "code",
   "execution_count": 217,
   "id": "50bdd53a",
   "metadata": {},
   "outputs": [
    {
     "name": "stdout",
     "output_type": "stream",
     "text": [
      " * postgresql://student@/week13\n",
      "121006 rows affected.\n"
     ]
    },
    {
     "data": {
      "text/plain": [
       "[]"
      ]
     },
     "execution_count": 217,
     "metadata": {},
     "output_type": "execute_result"
    }
   ],
   "source": [
    "%%sql\n",
    "COPY vaccine FROM '/home/ubuntu/notebooks/Final/vaccine_data_us_timeline.csv'\n",
    "CSV\n",
    "HEADER;"
   ]
  },
  {
   "cell_type": "code",
   "execution_count": 218,
   "id": "d473beb4",
   "metadata": {},
   "outputs": [
    {
     "name": "stdout",
     "output_type": "stream",
     "text": [
      " * postgresql://student@/week13\n",
      "10 rows affected.\n"
     ]
    },
    {
     "data": {
      "text/html": [
       "<table>\n",
       "    <thead>\n",
       "        <tr>\n",
       "            <th>province_state</th>\n",
       "            <th>date</th>\n",
       "            <th>vaccine_type</th>\n",
       "            <th>fips</th>\n",
       "            <th>country_region</th>\n",
       "            <th>lat</th>\n",
       "            <th>long</th>\n",
       "            <th>doses_alloc</th>\n",
       "            <th>doses_shipped</th>\n",
       "            <th>doses_admin</th>\n",
       "            <th>stage_one_doses</th>\n",
       "            <th>stage_two_doses</th>\n",
       "            <th>combined_key</th>\n",
       "        </tr>\n",
       "    </thead>\n",
       "    <tbody>\n",
       "        <tr>\n",
       "            <td>Alabama</td>\n",
       "            <td>2020-12-10 00:00:00</td>\n",
       "            <td>All</td>\n",
       "            <td>1</td>\n",
       "            <td>US</td>\n",
       "            <td>32.3182</td>\n",
       "            <td>-86.9023</td>\n",
       "            <td>None</td>\n",
       "            <td>None</td>\n",
       "            <td>None</td>\n",
       "            <td>None</td>\n",
       "            <td>None</td>\n",
       "            <td>Alabama, US</td>\n",
       "        </tr>\n",
       "        <tr>\n",
       "            <td>Alabama</td>\n",
       "            <td>2020-12-10 00:00:00</td>\n",
       "            <td>Moderna</td>\n",
       "            <td>1</td>\n",
       "            <td>US</td>\n",
       "            <td>32.3182</td>\n",
       "            <td>-86.9023</td>\n",
       "            <td>None</td>\n",
       "            <td>None</td>\n",
       "            <td>None</td>\n",
       "            <td>None</td>\n",
       "            <td>None</td>\n",
       "            <td>Alabama, US</td>\n",
       "        </tr>\n",
       "        <tr>\n",
       "            <td>Alabama</td>\n",
       "            <td>2020-12-10 00:00:00</td>\n",
       "            <td>Pfizer</td>\n",
       "            <td>1</td>\n",
       "            <td>US</td>\n",
       "            <td>32.3182</td>\n",
       "            <td>-86.9023</td>\n",
       "            <td>None</td>\n",
       "            <td>None</td>\n",
       "            <td>None</td>\n",
       "            <td>None</td>\n",
       "            <td>None</td>\n",
       "            <td>Alabama, US</td>\n",
       "        </tr>\n",
       "        <tr>\n",
       "            <td>Alabama</td>\n",
       "            <td>2020-12-11 00:00:00</td>\n",
       "            <td>All</td>\n",
       "            <td>1</td>\n",
       "            <td>US</td>\n",
       "            <td>32.3182</td>\n",
       "            <td>-86.9023</td>\n",
       "            <td>None</td>\n",
       "            <td>None</td>\n",
       "            <td>None</td>\n",
       "            <td>None</td>\n",
       "            <td>None</td>\n",
       "            <td>Alabama, US</td>\n",
       "        </tr>\n",
       "        <tr>\n",
       "            <td>Alabama</td>\n",
       "            <td>2020-12-11 00:00:00</td>\n",
       "            <td>Moderna</td>\n",
       "            <td>1</td>\n",
       "            <td>US</td>\n",
       "            <td>32.3182</td>\n",
       "            <td>-86.9023</td>\n",
       "            <td>None</td>\n",
       "            <td>None</td>\n",
       "            <td>None</td>\n",
       "            <td>None</td>\n",
       "            <td>None</td>\n",
       "            <td>Alabama, US</td>\n",
       "        </tr>\n",
       "        <tr>\n",
       "            <td>Alabama</td>\n",
       "            <td>2020-12-11 00:00:00</td>\n",
       "            <td>Pfizer</td>\n",
       "            <td>1</td>\n",
       "            <td>US</td>\n",
       "            <td>32.3182</td>\n",
       "            <td>-86.9023</td>\n",
       "            <td>None</td>\n",
       "            <td>None</td>\n",
       "            <td>None</td>\n",
       "            <td>None</td>\n",
       "            <td>None</td>\n",
       "            <td>Alabama, US</td>\n",
       "        </tr>\n",
       "        <tr>\n",
       "            <td>Alabama</td>\n",
       "            <td>2020-12-12 00:00:00</td>\n",
       "            <td>All</td>\n",
       "            <td>1</td>\n",
       "            <td>US</td>\n",
       "            <td>32.3182</td>\n",
       "            <td>-86.9023</td>\n",
       "            <td>None</td>\n",
       "            <td>None</td>\n",
       "            <td>None</td>\n",
       "            <td>None</td>\n",
       "            <td>None</td>\n",
       "            <td>Alabama, US</td>\n",
       "        </tr>\n",
       "        <tr>\n",
       "            <td>Alabama</td>\n",
       "            <td>2020-12-12 00:00:00</td>\n",
       "            <td>Moderna</td>\n",
       "            <td>1</td>\n",
       "            <td>US</td>\n",
       "            <td>32.3182</td>\n",
       "            <td>-86.9023</td>\n",
       "            <td>None</td>\n",
       "            <td>None</td>\n",
       "            <td>None</td>\n",
       "            <td>None</td>\n",
       "            <td>None</td>\n",
       "            <td>Alabama, US</td>\n",
       "        </tr>\n",
       "        <tr>\n",
       "            <td>Alabama</td>\n",
       "            <td>2020-12-12 00:00:00</td>\n",
       "            <td>Pfizer</td>\n",
       "            <td>1</td>\n",
       "            <td>US</td>\n",
       "            <td>32.3182</td>\n",
       "            <td>-86.9023</td>\n",
       "            <td>None</td>\n",
       "            <td>None</td>\n",
       "            <td>None</td>\n",
       "            <td>None</td>\n",
       "            <td>None</td>\n",
       "            <td>Alabama, US</td>\n",
       "        </tr>\n",
       "        <tr>\n",
       "            <td>Alabama</td>\n",
       "            <td>2020-12-13 00:00:00</td>\n",
       "            <td>All</td>\n",
       "            <td>1</td>\n",
       "            <td>US</td>\n",
       "            <td>32.3182</td>\n",
       "            <td>-86.9023</td>\n",
       "            <td>None</td>\n",
       "            <td>None</td>\n",
       "            <td>None</td>\n",
       "            <td>None</td>\n",
       "            <td>None</td>\n",
       "            <td>Alabama, US</td>\n",
       "        </tr>\n",
       "    </tbody>\n",
       "</table>"
      ],
      "text/plain": [
       "[('Alabama', datetime.datetime(2020, 12, 10, 0, 0), 'All', 1, 'US', 32.3182, -86.9023, None, None, None, None, None, 'Alabama, US'),\n",
       " ('Alabama', datetime.datetime(2020, 12, 10, 0, 0), 'Moderna', 1, 'US', 32.3182, -86.9023, None, None, None, None, None, 'Alabama, US'),\n",
       " ('Alabama', datetime.datetime(2020, 12, 10, 0, 0), 'Pfizer', 1, 'US', 32.3182, -86.9023, None, None, None, None, None, 'Alabama, US'),\n",
       " ('Alabama', datetime.datetime(2020, 12, 11, 0, 0), 'All', 1, 'US', 32.3182, -86.9023, None, None, None, None, None, 'Alabama, US'),\n",
       " ('Alabama', datetime.datetime(2020, 12, 11, 0, 0), 'Moderna', 1, 'US', 32.3182, -86.9023, None, None, None, None, None, 'Alabama, US'),\n",
       " ('Alabama', datetime.datetime(2020, 12, 11, 0, 0), 'Pfizer', 1, 'US', 32.3182, -86.9023, None, None, None, None, None, 'Alabama, US'),\n",
       " ('Alabama', datetime.datetime(2020, 12, 12, 0, 0), 'All', 1, 'US', 32.3182, -86.9023, None, None, None, None, None, 'Alabama, US'),\n",
       " ('Alabama', datetime.datetime(2020, 12, 12, 0, 0), 'Moderna', 1, 'US', 32.3182, -86.9023, None, None, None, None, None, 'Alabama, US'),\n",
       " ('Alabama', datetime.datetime(2020, 12, 12, 0, 0), 'Pfizer', 1, 'US', 32.3182, -86.9023, None, None, None, None, None, 'Alabama, US'),\n",
       " ('Alabama', datetime.datetime(2020, 12, 13, 0, 0), 'All', 1, 'US', 32.3182, -86.9023, None, None, None, None, None, 'Alabama, US')]"
      ]
     },
     "execution_count": 218,
     "metadata": {},
     "output_type": "execute_result"
    }
   ],
   "source": [
    "%%sql\n",
    "select * from vaccine\n",
    "limit 10"
   ]
  },
  {
   "cell_type": "code",
   "execution_count": 219,
   "id": "c4078e35",
   "metadata": {},
   "outputs": [
    {
     "name": "stdout",
     "output_type": "stream",
     "text": [
      " * postgresql://student@/week13\n",
      "7 rows affected.\n"
     ]
    },
    {
     "data": {
      "text/html": [
       "<table>\n",
       "    <thead>\n",
       "        <tr>\n",
       "            <th>vaccine_type</th>\n",
       "        </tr>\n",
       "    </thead>\n",
       "    <tbody>\n",
       "        <tr>\n",
       "            <td>Pfizer</td>\n",
       "        </tr>\n",
       "        <tr>\n",
       "            <td>Unknown</td>\n",
       "        </tr>\n",
       "        <tr>\n",
       "            <td>Janssen</td>\n",
       "        </tr>\n",
       "        <tr>\n",
       "            <td>unknown</td>\n",
       "        </tr>\n",
       "        <tr>\n",
       "            <td>All</td>\n",
       "        </tr>\n",
       "        <tr>\n",
       "            <td>Unassigned</td>\n",
       "        </tr>\n",
       "        <tr>\n",
       "            <td>Moderna</td>\n",
       "        </tr>\n",
       "    </tbody>\n",
       "</table>"
      ],
      "text/plain": [
       "[('Pfizer',),\n",
       " ('Unknown',),\n",
       " ('Janssen',),\n",
       " ('unknown',),\n",
       " ('All',),\n",
       " ('Unassigned',),\n",
       " ('Moderna',)]"
      ]
     },
     "execution_count": 219,
     "metadata": {},
     "output_type": "execute_result"
    }
   ],
   "source": [
    "%%sql\n",
    "select distinct vaccine_type from vaccine"
   ]
  },
  {
   "cell_type": "markdown",
   "id": "9f902b16",
   "metadata": {},
   "source": [
    "Some records regarding vaccine_type are unknown, we can remove these records as they will not help with our analysis. We can further clean data by removing unassigned values."
   ]
  },
  {
   "cell_type": "code",
   "execution_count": 220,
   "id": "ad109dc4",
   "metadata": {},
   "outputs": [
    {
     "name": "stdout",
     "output_type": "stream",
     "text": [
      " * postgresql://student@/week13\n",
      "37963 rows affected.\n"
     ]
    },
    {
     "data": {
      "text/plain": [
       "[]"
      ]
     },
     "execution_count": 220,
     "metadata": {},
     "output_type": "execute_result"
    }
   ],
   "source": [
    "%%sql\n",
    "DELETE from vaccine where lower(vaccine_type)='unknown' or lower(vaccine_type)='unassigned'"
   ]
  },
  {
   "cell_type": "markdown",
   "id": "d567bbda",
   "metadata": {},
   "source": [
    "### Create tests table"
   ]
  },
  {
   "cell_type": "code",
   "execution_count": 221,
   "id": "58a1ab57",
   "metadata": {},
   "outputs": [
    {
     "name": "stdout",
     "output_type": "stream",
     "text": [
      " * postgresql://student@/week13\n",
      "Done.\n",
      "Done.\n"
     ]
    },
    {
     "data": {
      "text/plain": [
       "[]"
      ]
     },
     "execution_count": 221,
     "metadata": {},
     "output_type": "execute_result"
    }
   ],
   "source": [
    "%%sql\n",
    "DROP TABLE IF EXISTS tests;\n",
    "CREATE TABLE tests (\n",
    "    date TIMESTAMP NOT NULL,\n",
    "    state VARCHAR(3) NOT NULL, \n",
    "    cases_conf_probable INTEGER NULL,  \n",
    "    cases_confirmed INTEGER NULL,\n",
    "    cases_probable INTEGER NULL,  \n",
    "    tests_viral_positive INTEGER NULL,\n",
    "    tests_viral_negative INTEGER NULL, \n",
    "    tests_viral_total INTEGER NULL, \n",
    "    tests_antigen_positive INTEGER NULL,\n",
    "    tests_antigen_total INTEGER NULL,\n",
    "    people_viral_positive INTEGER NULL,\n",
    "    people_viral_total INTEGER NULL,\n",
    "    people_antigen_positive INTEGER NULL,\n",
    "    people_antigen_total INTEGER NULL,\n",
    "    encounters_viral_total INTEGER NULL,\n",
    "    tests_combined_total INTEGER NULL   \n",
    ")"
   ]
  },
  {
   "cell_type": "code",
   "execution_count": 222,
   "id": "8d2de0ed",
   "metadata": {},
   "outputs": [
    {
     "name": "stdout",
     "output_type": "stream",
     "text": [
      " * postgresql://student@/week13\n",
      "36292 rows affected.\n"
     ]
    },
    {
     "data": {
      "text/plain": [
       "[]"
      ]
     },
     "execution_count": 222,
     "metadata": {},
     "output_type": "execute_result"
    }
   ],
   "source": [
    "%%sql\n",
    "COPY tests FROM '/home/ubuntu/notebooks/Final/time_series_covid19_US.csv'\n",
    "CSV\n",
    "HEADER;"
   ]
  },
  {
   "cell_type": "code",
   "execution_count": 223,
   "id": "03610455",
   "metadata": {},
   "outputs": [
    {
     "name": "stdout",
     "output_type": "stream",
     "text": [
      " * postgresql://student@/week13\n",
      "10 rows affected.\n"
     ]
    },
    {
     "data": {
      "text/html": [
       "<table>\n",
       "    <thead>\n",
       "        <tr>\n",
       "            <th>date</th>\n",
       "            <th>state</th>\n",
       "            <th>cases_conf_probable</th>\n",
       "            <th>cases_confirmed</th>\n",
       "            <th>cases_probable</th>\n",
       "            <th>tests_viral_positive</th>\n",
       "            <th>tests_viral_negative</th>\n",
       "            <th>tests_viral_total</th>\n",
       "            <th>tests_antigen_positive</th>\n",
       "            <th>tests_antigen_total</th>\n",
       "            <th>people_viral_positive</th>\n",
       "            <th>people_viral_total</th>\n",
       "            <th>people_antigen_positive</th>\n",
       "            <th>people_antigen_total</th>\n",
       "            <th>encounters_viral_total</th>\n",
       "            <th>tests_combined_total</th>\n",
       "        </tr>\n",
       "    </thead>\n",
       "    <tbody>\n",
       "        <tr>\n",
       "            <td>2020-03-06 00:00:00</td>\n",
       "            <td>AK</td>\n",
       "            <td>None</td>\n",
       "            <td>None</td>\n",
       "            <td>None</td>\n",
       "            <td>None</td>\n",
       "            <td>None</td>\n",
       "            <td>8</td>\n",
       "            <td>None</td>\n",
       "            <td>None</td>\n",
       "            <td>None</td>\n",
       "            <td>None</td>\n",
       "            <td>None</td>\n",
       "            <td>None</td>\n",
       "            <td>None</td>\n",
       "            <td>8</td>\n",
       "        </tr>\n",
       "        <tr>\n",
       "            <td>2020-03-07 00:00:00</td>\n",
       "            <td>AK</td>\n",
       "            <td>None</td>\n",
       "            <td>None</td>\n",
       "            <td>None</td>\n",
       "            <td>None</td>\n",
       "            <td>None</td>\n",
       "            <td>12</td>\n",
       "            <td>None</td>\n",
       "            <td>None</td>\n",
       "            <td>None</td>\n",
       "            <td>None</td>\n",
       "            <td>None</td>\n",
       "            <td>None</td>\n",
       "            <td>None</td>\n",
       "            <td>12</td>\n",
       "        </tr>\n",
       "        <tr>\n",
       "            <td>2020-03-08 00:00:00</td>\n",
       "            <td>AK</td>\n",
       "            <td>None</td>\n",
       "            <td>None</td>\n",
       "            <td>None</td>\n",
       "            <td>None</td>\n",
       "            <td>None</td>\n",
       "            <td>14</td>\n",
       "            <td>None</td>\n",
       "            <td>None</td>\n",
       "            <td>None</td>\n",
       "            <td>None</td>\n",
       "            <td>None</td>\n",
       "            <td>None</td>\n",
       "            <td>None</td>\n",
       "            <td>14</td>\n",
       "        </tr>\n",
       "        <tr>\n",
       "            <td>2020-03-09 00:00:00</td>\n",
       "            <td>AK</td>\n",
       "            <td>None</td>\n",
       "            <td>None</td>\n",
       "            <td>None</td>\n",
       "            <td>None</td>\n",
       "            <td>None</td>\n",
       "            <td>23</td>\n",
       "            <td>None</td>\n",
       "            <td>None</td>\n",
       "            <td>None</td>\n",
       "            <td>None</td>\n",
       "            <td>None</td>\n",
       "            <td>None</td>\n",
       "            <td>None</td>\n",
       "            <td>23</td>\n",
       "        </tr>\n",
       "        <tr>\n",
       "            <td>2020-03-10 00:00:00</td>\n",
       "            <td>AK</td>\n",
       "            <td>None</td>\n",
       "            <td>None</td>\n",
       "            <td>None</td>\n",
       "            <td>None</td>\n",
       "            <td>None</td>\n",
       "            <td>23</td>\n",
       "            <td>None</td>\n",
       "            <td>None</td>\n",
       "            <td>None</td>\n",
       "            <td>None</td>\n",
       "            <td>None</td>\n",
       "            <td>None</td>\n",
       "            <td>None</td>\n",
       "            <td>23</td>\n",
       "        </tr>\n",
       "        <tr>\n",
       "            <td>2020-03-11 00:00:00</td>\n",
       "            <td>AK</td>\n",
       "            <td>None</td>\n",
       "            <td>None</td>\n",
       "            <td>None</td>\n",
       "            <td>None</td>\n",
       "            <td>None</td>\n",
       "            <td>46</td>\n",
       "            <td>None</td>\n",
       "            <td>None</td>\n",
       "            <td>None</td>\n",
       "            <td>None</td>\n",
       "            <td>None</td>\n",
       "            <td>None</td>\n",
       "            <td>None</td>\n",
       "            <td>46</td>\n",
       "        </tr>\n",
       "        <tr>\n",
       "            <td>2020-03-12 00:00:00</td>\n",
       "            <td>AK</td>\n",
       "            <td>None</td>\n",
       "            <td>None</td>\n",
       "            <td>None</td>\n",
       "            <td>None</td>\n",
       "            <td>None</td>\n",
       "            <td>46</td>\n",
       "            <td>None</td>\n",
       "            <td>None</td>\n",
       "            <td>None</td>\n",
       "            <td>None</td>\n",
       "            <td>None</td>\n",
       "            <td>None</td>\n",
       "            <td>None</td>\n",
       "            <td>46</td>\n",
       "        </tr>\n",
       "        <tr>\n",
       "            <td>2020-03-13 00:00:00</td>\n",
       "            <td>AK</td>\n",
       "            <td>None</td>\n",
       "            <td>None</td>\n",
       "            <td>None</td>\n",
       "            <td>None</td>\n",
       "            <td>None</td>\n",
       "            <td>60</td>\n",
       "            <td>None</td>\n",
       "            <td>None</td>\n",
       "            <td>None</td>\n",
       "            <td>None</td>\n",
       "            <td>None</td>\n",
       "            <td>None</td>\n",
       "            <td>None</td>\n",
       "            <td>60</td>\n",
       "        </tr>\n",
       "        <tr>\n",
       "            <td>2020-03-14 00:00:00</td>\n",
       "            <td>AK</td>\n",
       "            <td>None</td>\n",
       "            <td>None</td>\n",
       "            <td>None</td>\n",
       "            <td>None</td>\n",
       "            <td>None</td>\n",
       "            <td>144</td>\n",
       "            <td>None</td>\n",
       "            <td>None</td>\n",
       "            <td>None</td>\n",
       "            <td>None</td>\n",
       "            <td>None</td>\n",
       "            <td>None</td>\n",
       "            <td>None</td>\n",
       "            <td>144</td>\n",
       "        </tr>\n",
       "        <tr>\n",
       "            <td>2020-03-15 00:00:00</td>\n",
       "            <td>AK</td>\n",
       "            <td>None</td>\n",
       "            <td>None</td>\n",
       "            <td>None</td>\n",
       "            <td>None</td>\n",
       "            <td>None</td>\n",
       "            <td>144</td>\n",
       "            <td>None</td>\n",
       "            <td>None</td>\n",
       "            <td>None</td>\n",
       "            <td>None</td>\n",
       "            <td>None</td>\n",
       "            <td>None</td>\n",
       "            <td>None</td>\n",
       "            <td>144</td>\n",
       "        </tr>\n",
       "    </tbody>\n",
       "</table>"
      ],
      "text/plain": [
       "[(datetime.datetime(2020, 3, 6, 0, 0), 'AK', None, None, None, None, None, 8, None, None, None, None, None, None, None, 8),\n",
       " (datetime.datetime(2020, 3, 7, 0, 0), 'AK', None, None, None, None, None, 12, None, None, None, None, None, None, None, 12),\n",
       " (datetime.datetime(2020, 3, 8, 0, 0), 'AK', None, None, None, None, None, 14, None, None, None, None, None, None, None, 14),\n",
       " (datetime.datetime(2020, 3, 9, 0, 0), 'AK', None, None, None, None, None, 23, None, None, None, None, None, None, None, 23),\n",
       " (datetime.datetime(2020, 3, 10, 0, 0), 'AK', None, None, None, None, None, 23, None, None, None, None, None, None, None, 23),\n",
       " (datetime.datetime(2020, 3, 11, 0, 0), 'AK', None, None, None, None, None, 46, None, None, None, None, None, None, None, 46),\n",
       " (datetime.datetime(2020, 3, 12, 0, 0), 'AK', None, None, None, None, None, 46, None, None, None, None, None, None, None, 46),\n",
       " (datetime.datetime(2020, 3, 13, 0, 0), 'AK', None, None, None, None, None, 60, None, None, None, None, None, None, None, 60),\n",
       " (datetime.datetime(2020, 3, 14, 0, 0), 'AK', None, None, None, None, None, 144, None, None, None, None, None, None, None, 144),\n",
       " (datetime.datetime(2020, 3, 15, 0, 0), 'AK', None, None, None, None, None, 144, None, None, None, None, None, None, None, 144)]"
      ]
     },
     "execution_count": 223,
     "metadata": {},
     "output_type": "execute_result"
    }
   ],
   "source": [
    "%%sql\n",
    "select * from tests\n",
    "limit 10"
   ]
  },
  {
   "cell_type": "markdown",
   "id": "e69e3e54",
   "metadata": {},
   "source": [
    "State values in tests table are abbreviations of states whereas in other tables there are full names of states. So, we have to match them to make the dimensional model. We will create a new column named province_state containing these."
   ]
  },
  {
   "cell_type": "code",
   "execution_count": 224,
   "id": "b855b10a",
   "metadata": {},
   "outputs": [
    {
     "name": "stdout",
     "output_type": "stream",
     "text": [
      " * postgresql://student@/week13\n",
      "Done.\n"
     ]
    },
    {
     "data": {
      "text/plain": [
       "[]"
      ]
     },
     "execution_count": 224,
     "metadata": {},
     "output_type": "execute_result"
    }
   ],
   "source": [
    "%%sql\n",
    "ALTER TABLE tests\n",
    "ADD COLUMN province_state Varchar (30)"
   ]
  },
  {
   "cell_type": "code",
   "execution_count": 225,
   "id": "ddff11a9",
   "metadata": {},
   "outputs": [
    {
     "name": "stdout",
     "output_type": "stream",
     "text": [
      " * postgresql://student@/week13\n",
      "36292 rows affected.\n"
     ]
    },
    {
     "data": {
      "text/plain": [
       "[]"
      ]
     },
     "execution_count": 225,
     "metadata": {},
     "output_type": "execute_result"
    }
   ],
   "source": [
    "%%sql\n",
    "Update tests\n",
    "Set province_state=CASE\n",
    "WHEN state = 'AK' THEN 'Alaska'\n",
    "WHEN state = 'AL' THEN  'Alabama' \n",
    "WHEN state = 'AZ' THEN  'Arizona' \n",
    "WHEN state = 'AR' THEN  'Arkansas' \n",
    "WHEN state = 'CA' THEN  'California' \n",
    "WHEN state = 'CT' THEN  'Connecticut' \n",
    "WHEN state = 'CO' THEN  'Colorado' \n",
    "WHEN state = 'DC' THEN  'District of Columbia' \n",
    "WHEN state = 'DE' THEN  'Celaware'\n",
    "WHEN state = 'FL' THEN  'Florida' \n",
    "WHEN state = 'GA' THEN  'Georgia' \n",
    "WHEN state = 'HI' THEN  'Hawaii' \n",
    "WHEN state = 'IA' THEN  'Iowa' \n",
    "WHEN state = 'ID' THEN  'Idaho' \n",
    "WHEN state = 'IL' THEN  'Illinois' \n",
    "WHEN state = 'IN' THEN  'Indiana' \n",
    "WHEN state = 'KS' THEN  'Kansas' \n",
    "WHEN state = 'KY' THEN  'Kentucky' \n",
    "WHEN state = 'LA' THEN  'Louisiana' \n",
    "WHEN state = 'MD' THEN  'Maryland' \n",
    "WHEN state = 'ME' THEN  'Maine' \n",
    "WHEN state = 'MS' THEN  'Mississippi' \n",
    "WHEN state = 'MN' THEN  'Minnesota' \n",
    "WHEN state = 'MT' THEN  'Montana' \n",
    "WHEN state = 'MO' THEN  'Missouri' \n",
    "WHEN state = 'MI' THEN  'Michigan' \n",
    "WHEN state = 'MA' THEN  'Massachusetts' \n",
    "WHEN state = 'NC' THEN  'North Carolina' \n",
    "WHEN state = 'ND' THEN  'North Dakota' \n",
    "WHEN state = 'NH' THEN  'New Hampshire' \n",
    "WHEN state = 'NJ' THEN  'New Jersey' \n",
    "WHEN state = 'NM' THEN  'New Mexico' \n",
    "WHEN state = 'NV' THEN  'Nevada' \n",
    "WHEN state = 'NY' THEN  'New York' \n",
    "WHEN state = 'NE' THEN  'Nebraska' \n",
    "WHEN state = 'OH' THEN  'Ohio' \n",
    "WHEN state = 'OK' THEN  'Oklahoma' \n",
    "WHEN state = 'OR' THEN  'Oregon' \n",
    "WHEN state = 'PA' THEN  'Pennsylvania' \n",
    "WHEN state = 'RI' THEN  'Rhode Island' \n",
    "WHEN state = 'SC' THEN  'South Carolina' \n",
    "WHEN state = 'SD' THEN  'South Dakota'\n",
    "WHEN state = 'TN' THEN  'Tennessee' \n",
    "WHEN state = 'TX' THEN  'Texas' \n",
    "WHEN state = 'UT' THEN  'Utah' \n",
    "WHEN state = 'VT' THEN  'Vermont' \n",
    "WHEN state = 'WA' THEN  'Washington' \n",
    "WHEN state = 'WI' THEN  'Wisconsin' \n",
    "WHEN state = 'WV' THEN  'West Virginia' \n",
    "WHEN state = 'WY' THEN  'Wyoming' \n",
    "WHEN state = 'VA' THEN  'Virginia'\n",
    "WHEN state = 'AS' THEN  'American Samoa'\n",
    "WHEN state = 'GU' THEN  'Guam'\n",
    "WHEN state = 'MP' THEN  'Northern Mariana Islands'\n",
    "WHEN state = 'MH' THEN  'Marshall Islands'\n",
    "WHEN state = 'FM' THEN  'Federated States of Micronesia'\n",
    "WHEN state = 'PW' THEN  'Palau'\n",
    "WHEN state = 'PR' THEN  'Puerto Rico'\n",
    "WHEN state = 'VI' THEN  'Virgin Islands'\n",
    "end"
   ]
  },
  {
   "cell_type": "code",
   "execution_count": 226,
   "id": "431afdf1",
   "metadata": {},
   "outputs": [
    {
     "name": "stdout",
     "output_type": "stream",
     "text": [
      " * postgresql://student@/week13\n",
      "5 rows affected.\n"
     ]
    },
    {
     "data": {
      "text/html": [
       "<table>\n",
       "    <thead>\n",
       "        <tr>\n",
       "            <th>state</th>\n",
       "            <th>province_state</th>\n",
       "        </tr>\n",
       "    </thead>\n",
       "    <tbody>\n",
       "        <tr>\n",
       "            <td>PA</td>\n",
       "            <td>Pennsylvania</td>\n",
       "        </tr>\n",
       "        <tr>\n",
       "            <td>MP</td>\n",
       "            <td>Northern Mariana Islands</td>\n",
       "        </tr>\n",
       "        <tr>\n",
       "            <td>OH</td>\n",
       "            <td>Ohio</td>\n",
       "        </tr>\n",
       "        <tr>\n",
       "            <td>TN</td>\n",
       "            <td>Tennessee</td>\n",
       "        </tr>\n",
       "        <tr>\n",
       "            <td>MS</td>\n",
       "            <td>Mississippi</td>\n",
       "        </tr>\n",
       "    </tbody>\n",
       "</table>"
      ],
      "text/plain": [
       "[('PA', 'Pennsylvania'),\n",
       " ('MP', 'Northern Mariana Islands'),\n",
       " ('OH', 'Ohio'),\n",
       " ('TN', 'Tennessee'),\n",
       " ('MS', 'Mississippi')]"
      ]
     },
     "execution_count": 226,
     "metadata": {},
     "output_type": "execute_result"
    }
   ],
   "source": [
    "%%sql\n",
    "select distinct state, province_state\n",
    "from tests\n",
    "limit 5"
   ]
  },
  {
   "cell_type": "markdown",
   "id": "dc42e58d",
   "metadata": {},
   "source": [
    "### Create US population table"
   ]
  },
  {
   "cell_type": "code",
   "execution_count": 227,
   "id": "e5173829",
   "metadata": {},
   "outputs": [
    {
     "name": "stdout",
     "output_type": "stream",
     "text": [
      " * postgresql://student@/week13\n",
      "Done.\n",
      "Done.\n"
     ]
    },
    {
     "data": {
      "text/plain": [
       "[]"
      ]
     },
     "execution_count": 227,
     "metadata": {},
     "output_type": "execute_result"
    }
   ],
   "source": [
    "%%sql\n",
    "DROP TABLE IF EXISTS USpopulation;\n",
    "\n",
    "CREATE TABLE USpopulation (\n",
    "    State VARCHAR(64) NOT NULL,\n",
    "    Population NUMERIC NULL    \n",
    ")"
   ]
  },
  {
   "cell_type": "code",
   "execution_count": 228,
   "id": "48f59f99",
   "metadata": {},
   "outputs": [
    {
     "name": "stdout",
     "output_type": "stream",
     "text": [
      " * postgresql://student@/week13\n",
      "52 rows affected.\n"
     ]
    },
    {
     "data": {
      "text/plain": [
       "[]"
      ]
     },
     "execution_count": 228,
     "metadata": {},
     "output_type": "execute_result"
    }
   ],
   "source": [
    "%%sql\n",
    "COPY USpopulation FROM '/home/ubuntu/notebooks/Final/DECENNIALPL2020.P1-2021-12-05T014429.csv'\n",
    "CSV\n",
    "HEADER;"
   ]
  },
  {
   "cell_type": "markdown",
   "id": "996d61f8",
   "metadata": {},
   "source": [
    "## Creating the dimensional tables"
   ]
  },
  {
   "cell_type": "markdown",
   "id": "8cf6fb9c",
   "metadata": {},
   "source": [
    "### Create dimension table place"
   ]
  },
  {
   "cell_type": "code",
   "execution_count": 229,
   "id": "d21ad2a6",
   "metadata": {},
   "outputs": [
    {
     "name": "stdout",
     "output_type": "stream",
     "text": [
      " * postgresql://student@/week13\n",
      "Done.\n",
      "Done.\n"
     ]
    },
    {
     "data": {
      "text/plain": [
       "[]"
      ]
     },
     "execution_count": 229,
     "metadata": {},
     "output_type": "execute_result"
    }
   ],
   "source": [
    "%%sql\n",
    "DROP TABLE IF EXISTS place;\n",
    "\n",
    "CREATE TABLE place (\n",
    "    key SERIAL PRIMARY KEY,\n",
    "    state VARCHAR(64)\n",
    ");"
   ]
  },
  {
   "cell_type": "code",
   "execution_count": 230,
   "id": "3325ea49",
   "metadata": {},
   "outputs": [
    {
     "name": "stdout",
     "output_type": "stream",
     "text": [
      " * postgresql://student@/week13\n",
      "68 rows affected.\n"
     ]
    },
    {
     "data": {
      "text/plain": [
       "[]"
      ]
     },
     "execution_count": 230,
     "metadata": {},
     "output_type": "execute_result"
    }
   ],
   "source": [
    "%%sql\n",
    "INSERT INTO place (state)\n",
    "select distinct province_state as state\n",
    "from cases\n",
    "union\n",
    "select distinct province_state as state\n",
    "from vaccine\n",
    "union\n",
    "select distinct provincep_state as state\n",
    "from people_vaccinated\n",
    "union\n",
    "select distinct province_state as state\n",
    "from tests"
   ]
  },
  {
   "cell_type": "code",
   "execution_count": 231,
   "id": "03977d39",
   "metadata": {},
   "outputs": [
    {
     "name": "stdout",
     "output_type": "stream",
     "text": [
      " * postgresql://student@/week13\n",
      "Done.\n"
     ]
    },
    {
     "data": {
      "text/plain": [
       "[]"
      ]
     },
     "execution_count": 231,
     "metadata": {},
     "output_type": "execute_result"
    }
   ],
   "source": [
    "%%sql\n",
    "ALTER TABLE cases\n",
    "ADD COLUMN state_key INTEGER,\n",
    "ADD CONSTRAINT fk_state\n",
    "    FOREIGN KEY (state_key)\n",
    "    REFERENCES place (key);"
   ]
  },
  {
   "cell_type": "code",
   "execution_count": 232,
   "id": "b45e4026",
   "metadata": {},
   "outputs": [
    {
     "name": "stdout",
     "output_type": "stream",
     "text": [
      " * postgresql://student@/week13\n",
      "1 rows affected.\n"
     ]
    },
    {
     "data": {
      "text/html": [
       "<table>\n",
       "    <thead>\n",
       "        <tr>\n",
       "            <th>province_state</th>\n",
       "            <th>country_region</th>\n",
       "            <th>last_update</th>\n",
       "            <th>lat</th>\n",
       "            <th>long_</th>\n",
       "            <th>confirmed</th>\n",
       "            <th>deaths</th>\n",
       "            <th>recovered</th>\n",
       "            <th>active</th>\n",
       "            <th>fips</th>\n",
       "            <th>incident_rate</th>\n",
       "            <th>total_test_results</th>\n",
       "            <th>people_hospitalized</th>\n",
       "            <th>case_fatality_ratio</th>\n",
       "            <th>uid</th>\n",
       "            <th>iso3</th>\n",
       "            <th>testing_rate</th>\n",
       "            <th>hospitalization_rate</th>\n",
       "            <th>state_key</th>\n",
       "        </tr>\n",
       "    </thead>\n",
       "    <tbody>\n",
       "        <tr>\n",
       "            <td>Alabama</td>\n",
       "            <td>US</td>\n",
       "            <td>2021-01-02 05:30:44</td>\n",
       "            <td>32.3182</td>\n",
       "            <td>-86.9023</td>\n",
       "            <td>365747.0</td>\n",
       "            <td>4872.0</td>\n",
       "            <td>202137.0</td>\n",
       "            <td>158738.0</td>\n",
       "            <td>1.0</td>\n",
       "            <td>7459.375895463867</td>\n",
       "            <td>3275341.0</td>\n",
       "            <td>None</td>\n",
       "            <td>1.3320683423240656</td>\n",
       "            <td>84000001.0</td>\n",
       "            <td>USA</td>\n",
       "            <td>66800.27369964625</td>\n",
       "            <td>None</td>\n",
       "            <td>None</td>\n",
       "        </tr>\n",
       "    </tbody>\n",
       "</table>"
      ],
      "text/plain": [
       "[('Alabama', 'US', datetime.datetime(2021, 1, 2, 5, 30, 44), 32.3182, -86.9023, 365747.0, 4872.0, 202137.0, 158738.0, 1.0, 7459.375895463867, 3275341.0, None, 1.3320683423240656, 84000001.0, 'USA', 66800.27369964625, None, None)]"
      ]
     },
     "execution_count": 232,
     "metadata": {},
     "output_type": "execute_result"
    }
   ],
   "source": [
    "%%sql \n",
    "select * from cases\n",
    "limit 1"
   ]
  },
  {
   "cell_type": "code",
   "execution_count": 233,
   "id": "e494fa64",
   "metadata": {},
   "outputs": [
    {
     "name": "stdout",
     "output_type": "stream",
     "text": [
      " * postgresql://student@/week13\n",
      "34674 rows affected.\n"
     ]
    },
    {
     "data": {
      "text/plain": [
       "[]"
      ]
     },
     "execution_count": 233,
     "metadata": {},
     "output_type": "execute_result"
    }
   ],
   "source": [
    "%%sql\n",
    "UPDATE cases\n",
    "SET state_key = place.key\n",
    "FROM place\n",
    "WHERE cases.province_state=place.state;"
   ]
  },
  {
   "cell_type": "code",
   "execution_count": 234,
   "id": "9c30b457",
   "metadata": {},
   "outputs": [
    {
     "name": "stdout",
     "output_type": "stream",
     "text": [
      " * postgresql://student@/week13\n",
      "Done.\n"
     ]
    },
    {
     "data": {
      "text/plain": [
       "[]"
      ]
     },
     "execution_count": 234,
     "metadata": {},
     "output_type": "execute_result"
    }
   ],
   "source": [
    "%%sql\n",
    "alter table cases drop column province_state, drop country_region, drop lat, drop long_"
   ]
  },
  {
   "cell_type": "code",
   "execution_count": 235,
   "id": "50cf4b74",
   "metadata": {},
   "outputs": [
    {
     "name": "stdout",
     "output_type": "stream",
     "text": [
      " * postgresql://student@/week13\n",
      "5 rows affected.\n"
     ]
    },
    {
     "data": {
      "text/html": [
       "<table>\n",
       "    <thead>\n",
       "        <tr>\n",
       "            <th>last_update</th>\n",
       "            <th>confirmed</th>\n",
       "            <th>deaths</th>\n",
       "            <th>recovered</th>\n",
       "            <th>active</th>\n",
       "            <th>fips</th>\n",
       "            <th>incident_rate</th>\n",
       "            <th>total_test_results</th>\n",
       "            <th>people_hospitalized</th>\n",
       "            <th>case_fatality_ratio</th>\n",
       "            <th>uid</th>\n",
       "            <th>iso3</th>\n",
       "            <th>testing_rate</th>\n",
       "            <th>hospitalization_rate</th>\n",
       "            <th>state_key</th>\n",
       "        </tr>\n",
       "    </thead>\n",
       "    <tbody>\n",
       "        <tr>\n",
       "            <td>2021-01-29 05:30:28</td>\n",
       "            <td>49.0</td>\n",
       "            <td>0.0</td>\n",
       "            <td>None</td>\n",
       "            <td>49.0</td>\n",
       "            <td>88888.0</td>\n",
       "            <td>None</td>\n",
       "            <td>None</td>\n",
       "            <td>None</td>\n",
       "            <td>0.0</td>\n",
       "            <td>84088888.0</td>\n",
       "            <td>USA</td>\n",
       "            <td>None</td>\n",
       "            <td>None</td>\n",
       "            <td>14</td>\n",
       "        </tr>\n",
       "        <tr>\n",
       "            <td>2021-02-17 05:30:30</td>\n",
       "            <td>49.0</td>\n",
       "            <td>0.0</td>\n",
       "            <td>None</td>\n",
       "            <td>49.0</td>\n",
       "            <td>88888.0</td>\n",
       "            <td>None</td>\n",
       "            <td>None</td>\n",
       "            <td>None</td>\n",
       "            <td>0.0</td>\n",
       "            <td>84088888.0</td>\n",
       "            <td>USA</td>\n",
       "            <td>None</td>\n",
       "            <td>None</td>\n",
       "            <td>14</td>\n",
       "        </tr>\n",
       "        <tr>\n",
       "            <td>2020-04-12 23:18:15</td>\n",
       "            <td>1970.0</td>\n",
       "            <td>96.0</td>\n",
       "            <td>865.0</td>\n",
       "            <td>1874.0</td>\n",
       "            <td>40.0</td>\n",
       "            <td>53.85995428</td>\n",
       "            <td>22760.0</td>\n",
       "            <td>446.0</td>\n",
       "            <td>4.873096447</td>\n",
       "            <td>84000040.0</td>\n",
       "            <td>USA</td>\n",
       "            <td>622.2601824</td>\n",
       "            <td>22.63959391</td>\n",
       "            <td>61</td>\n",
       "        </tr>\n",
       "        <tr>\n",
       "            <td>2020-04-12 23:18:15</td>\n",
       "            <td>1527.0</td>\n",
       "            <td>52.0</td>\n",
       "            <td>None</td>\n",
       "            <td>1475.0</td>\n",
       "            <td>41.0</td>\n",
       "            <td>38.1076067</td>\n",
       "            <td>29758.0</td>\n",
       "            <td>359.0</td>\n",
       "            <td>3.405370007</td>\n",
       "            <td>84000041.0</td>\n",
       "            <td>USA</td>\n",
       "            <td>742.6366471</td>\n",
       "            <td>23.51015062</td>\n",
       "            <td>55</td>\n",
       "        </tr>\n",
       "        <tr>\n",
       "            <td>2021-04-13 04:30:56</td>\n",
       "            <td>89229.0</td>\n",
       "            <td>1257.0</td>\n",
       "            <td>None</td>\n",
       "            <td>None</td>\n",
       "            <td>33.0</td>\n",
       "            <td>6562.350381809076</td>\n",
       "            <td>1733889.0</td>\n",
       "            <td>None</td>\n",
       "            <td>1.408734828362976</td>\n",
       "            <td>84000033.0</td>\n",
       "            <td>USA</td>\n",
       "            <td>127518.93600919607</td>\n",
       "            <td>None</td>\n",
       "            <td>44</td>\n",
       "        </tr>\n",
       "    </tbody>\n",
       "</table>"
      ],
      "text/plain": [
       "[(datetime.datetime(2021, 1, 29, 5, 30, 28), 49.0, 0.0, None, 49.0, 88888.0, None, None, None, 0.0, 84088888.0, 'USA', None, None, 14),\n",
       " (datetime.datetime(2021, 2, 17, 5, 30, 30), 49.0, 0.0, None, 49.0, 88888.0, None, None, None, 0.0, 84088888.0, 'USA', None, None, 14),\n",
       " (datetime.datetime(2020, 4, 12, 23, 18, 15), 1970.0, 96.0, 865.0, 1874.0, 40.0, 53.85995428, 22760.0, 446.0, 4.873096447, 84000040.0, 'USA', 622.2601824, 22.63959391, 61),\n",
       " (datetime.datetime(2020, 4, 12, 23, 18, 15), 1527.0, 52.0, None, 1475.0, 41.0, 38.1076067, 29758.0, 359.0, 3.405370007, 84000041.0, 'USA', 742.6366471, 23.51015062, 55),\n",
       " (datetime.datetime(2021, 4, 13, 4, 30, 56), 89229.0, 1257.0, None, None, 33.0, 6562.350381809076, 1733889.0, None, 1.408734828362976, 84000033.0, 'USA', 127518.93600919607, None, 44)]"
      ]
     },
     "execution_count": 235,
     "metadata": {},
     "output_type": "execute_result"
    }
   ],
   "source": [
    "%%sql\n",
    "select * from cases \n",
    "limit 5"
   ]
  },
  {
   "cell_type": "code",
   "execution_count": 236,
   "id": "501975d9",
   "metadata": {},
   "outputs": [
    {
     "name": "stdout",
     "output_type": "stream",
     "text": [
      " * postgresql://student@/week13\n",
      "Done.\n"
     ]
    },
    {
     "data": {
      "text/plain": [
       "[]"
      ]
     },
     "execution_count": 236,
     "metadata": {},
     "output_type": "execute_result"
    }
   ],
   "source": [
    "%%sql\n",
    "ALTER TABLE vaccine\n",
    "ADD COLUMN state_key INTEGER,\n",
    "ADD CONSTRAINT fk_state\n",
    "    FOREIGN KEY (state_key)\n",
    "    REFERENCES place (key);"
   ]
  },
  {
   "cell_type": "code",
   "execution_count": 237,
   "id": "d9952bd3",
   "metadata": {},
   "outputs": [
    {
     "name": "stdout",
     "output_type": "stream",
     "text": [
      " * postgresql://student@/week13\n",
      "83043 rows affected.\n"
     ]
    },
    {
     "data": {
      "text/plain": [
       "[]"
      ]
     },
     "execution_count": 237,
     "metadata": {},
     "output_type": "execute_result"
    }
   ],
   "source": [
    "%%sql\n",
    "UPDATE vaccine\n",
    "SET state_key = place.key\n",
    "FROM place\n",
    "WHERE vaccine.province_state=place.state;"
   ]
  },
  {
   "cell_type": "code",
   "execution_count": 238,
   "id": "2747e725",
   "metadata": {},
   "outputs": [
    {
     "name": "stdout",
     "output_type": "stream",
     "text": [
      " * postgresql://student@/week13\n",
      "Done.\n"
     ]
    },
    {
     "data": {
      "text/plain": [
       "[]"
      ]
     },
     "execution_count": 238,
     "metadata": {},
     "output_type": "execute_result"
    }
   ],
   "source": [
    "%%sql\n",
    "alter table vaccine drop column province_state, drop country_region, drop lat, drop long, drop fips, drop combined_key"
   ]
  },
  {
   "cell_type": "code",
   "execution_count": 239,
   "id": "9f8cf44a",
   "metadata": {},
   "outputs": [
    {
     "name": "stdout",
     "output_type": "stream",
     "text": [
      " * postgresql://student@/week13\n",
      "5 rows affected.\n"
     ]
    },
    {
     "data": {
      "text/html": [
       "<table>\n",
       "    <thead>\n",
       "        <tr>\n",
       "            <th>date</th>\n",
       "            <th>vaccine_type</th>\n",
       "            <th>doses_alloc</th>\n",
       "            <th>doses_shipped</th>\n",
       "            <th>doses_admin</th>\n",
       "            <th>stage_one_doses</th>\n",
       "            <th>stage_two_doses</th>\n",
       "            <th>state_key</th>\n",
       "        </tr>\n",
       "    </thead>\n",
       "    <tbody>\n",
       "        <tr>\n",
       "            <td>2020-12-10 00:00:00</td>\n",
       "            <td>All</td>\n",
       "            <td>None</td>\n",
       "            <td>None</td>\n",
       "            <td>None</td>\n",
       "            <td>None</td>\n",
       "            <td>None</td>\n",
       "            <td>35</td>\n",
       "        </tr>\n",
       "        <tr>\n",
       "            <td>2020-12-10 00:00:00</td>\n",
       "            <td>Moderna</td>\n",
       "            <td>None</td>\n",
       "            <td>None</td>\n",
       "            <td>None</td>\n",
       "            <td>None</td>\n",
       "            <td>None</td>\n",
       "            <td>35</td>\n",
       "        </tr>\n",
       "        <tr>\n",
       "            <td>2020-12-10 00:00:00</td>\n",
       "            <td>Pfizer</td>\n",
       "            <td>None</td>\n",
       "            <td>None</td>\n",
       "            <td>None</td>\n",
       "            <td>None</td>\n",
       "            <td>None</td>\n",
       "            <td>35</td>\n",
       "        </tr>\n",
       "        <tr>\n",
       "            <td>2020-12-11 00:00:00</td>\n",
       "            <td>All</td>\n",
       "            <td>None</td>\n",
       "            <td>None</td>\n",
       "            <td>None</td>\n",
       "            <td>None</td>\n",
       "            <td>None</td>\n",
       "            <td>35</td>\n",
       "        </tr>\n",
       "        <tr>\n",
       "            <td>2020-12-11 00:00:00</td>\n",
       "            <td>Moderna</td>\n",
       "            <td>None</td>\n",
       "            <td>None</td>\n",
       "            <td>None</td>\n",
       "            <td>None</td>\n",
       "            <td>None</td>\n",
       "            <td>35</td>\n",
       "        </tr>\n",
       "    </tbody>\n",
       "</table>"
      ],
      "text/plain": [
       "[(datetime.datetime(2020, 12, 10, 0, 0), 'All', None, None, None, None, None, 35),\n",
       " (datetime.datetime(2020, 12, 10, 0, 0), 'Moderna', None, None, None, None, None, 35),\n",
       " (datetime.datetime(2020, 12, 10, 0, 0), 'Pfizer', None, None, None, None, None, 35),\n",
       " (datetime.datetime(2020, 12, 11, 0, 0), 'All', None, None, None, None, None, 35),\n",
       " (datetime.datetime(2020, 12, 11, 0, 0), 'Moderna', None, None, None, None, None, 35)]"
      ]
     },
     "execution_count": 239,
     "metadata": {},
     "output_type": "execute_result"
    }
   ],
   "source": [
    "%%sql\n",
    "select * from vaccine \n",
    "limit 5"
   ]
  },
  {
   "cell_type": "code",
   "execution_count": 240,
   "id": "069de8e3",
   "metadata": {},
   "outputs": [
    {
     "name": "stdout",
     "output_type": "stream",
     "text": [
      " * postgresql://student@/week13\n",
      "Done.\n"
     ]
    },
    {
     "data": {
      "text/plain": [
       "[]"
      ]
     },
     "execution_count": 240,
     "metadata": {},
     "output_type": "execute_result"
    }
   ],
   "source": [
    "%%sql\n",
    "ALTER TABLE people_vaccinated\n",
    "ADD COLUMN state_key INTEGER,\n",
    "ADD CONSTRAINT fk_state\n",
    "    FOREIGN KEY (state_key)\n",
    "    REFERENCES place (key);"
   ]
  },
  {
   "cell_type": "code",
   "execution_count": 241,
   "id": "cad0c032",
   "metadata": {},
   "outputs": [
    {
     "name": "stdout",
     "output_type": "stream",
     "text": [
      " * postgresql://student@/week13\n",
      "22212 rows affected.\n"
     ]
    },
    {
     "data": {
      "text/plain": [
       "[]"
      ]
     },
     "execution_count": 241,
     "metadata": {},
     "output_type": "execute_result"
    }
   ],
   "source": [
    "%%sql\n",
    "UPDATE people_vaccinated\n",
    "SET state_key = place.key\n",
    "FROM place\n",
    "WHERE people_vaccinated.provincep_state=place.state;"
   ]
  },
  {
   "cell_type": "code",
   "execution_count": 242,
   "id": "f51748da",
   "metadata": {},
   "outputs": [
    {
     "name": "stdout",
     "output_type": "stream",
     "text": [
      " * postgresql://student@/week13\n",
      "Done.\n"
     ]
    },
    {
     "data": {
      "text/plain": [
       "[]"
      ]
     },
     "execution_count": 242,
     "metadata": {},
     "output_type": "execute_result"
    }
   ],
   "source": [
    "%%sql\n",
    "alter table people_vaccinated drop column combined_key, drop country_region, drop fips, drop provincep_state"
   ]
  },
  {
   "cell_type": "code",
   "execution_count": 243,
   "id": "93190a6f",
   "metadata": {},
   "outputs": [
    {
     "name": "stdout",
     "output_type": "stream",
     "text": [
      " * postgresql://student@/week13\n",
      "5 rows affected.\n"
     ]
    },
    {
     "data": {
      "text/html": [
       "<table>\n",
       "    <thead>\n",
       "        <tr>\n",
       "            <th>date</th>\n",
       "            <th>lat</th>\n",
       "            <th>long_</th>\n",
       "            <th>fully_vaccinated</th>\n",
       "            <th>partially_vaccinated</th>\n",
       "            <th>state_key</th>\n",
       "        </tr>\n",
       "    </thead>\n",
       "    <tbody>\n",
       "        <tr>\n",
       "            <td>2021-09-25 00:00:00</td>\n",
       "            <td>38.3135</td>\n",
       "            <td>-117.0554</td>\n",
       "            <td>1551977</td>\n",
       "            <td>307485</td>\n",
       "            <td>31</td>\n",
       "        </tr>\n",
       "        <tr>\n",
       "            <td>2020-12-10 00:00:00</td>\n",
       "            <td>32.3182</td>\n",
       "            <td>-86.9023</td>\n",
       "            <td>None</td>\n",
       "            <td>None</td>\n",
       "            <td>35</td>\n",
       "        </tr>\n",
       "        <tr>\n",
       "            <td>2020-12-11 00:00:00</td>\n",
       "            <td>32.3182</td>\n",
       "            <td>-86.9023</td>\n",
       "            <td>None</td>\n",
       "            <td>None</td>\n",
       "            <td>35</td>\n",
       "        </tr>\n",
       "        <tr>\n",
       "            <td>2020-12-12 00:00:00</td>\n",
       "            <td>32.3182</td>\n",
       "            <td>-86.9023</td>\n",
       "            <td>None</td>\n",
       "            <td>None</td>\n",
       "            <td>35</td>\n",
       "        </tr>\n",
       "        <tr>\n",
       "            <td>2020-12-13 00:00:00</td>\n",
       "            <td>32.3182</td>\n",
       "            <td>-86.9023</td>\n",
       "            <td>None</td>\n",
       "            <td>None</td>\n",
       "            <td>35</td>\n",
       "        </tr>\n",
       "    </tbody>\n",
       "</table>"
      ],
      "text/plain": [
       "[(datetime.datetime(2021, 9, 25, 0, 0), 38.3135, -117.0554, 1551977, 307485, 31),\n",
       " (datetime.datetime(2020, 12, 10, 0, 0), 32.3182, -86.9023, None, None, 35),\n",
       " (datetime.datetime(2020, 12, 11, 0, 0), 32.3182, -86.9023, None, None, 35),\n",
       " (datetime.datetime(2020, 12, 12, 0, 0), 32.3182, -86.9023, None, None, 35),\n",
       " (datetime.datetime(2020, 12, 13, 0, 0), 32.3182, -86.9023, None, None, 35)]"
      ]
     },
     "execution_count": 243,
     "metadata": {},
     "output_type": "execute_result"
    }
   ],
   "source": [
    "%%sql\n",
    "select * from people_vaccinated \n",
    "limit 5"
   ]
  },
  {
   "cell_type": "code",
   "execution_count": 244,
   "id": "7cff5808",
   "metadata": {},
   "outputs": [
    {
     "name": "stdout",
     "output_type": "stream",
     "text": [
      " * postgresql://student@/week13\n",
      "Done.\n"
     ]
    },
    {
     "data": {
      "text/plain": [
       "[]"
      ]
     },
     "execution_count": 244,
     "metadata": {},
     "output_type": "execute_result"
    }
   ],
   "source": [
    "%%sql\n",
    "ALTER TABLE tests\n",
    "ADD COLUMN state_key INTEGER,\n",
    "ADD CONSTRAINT fk_state\n",
    "    FOREIGN KEY (state_key)\n",
    "    REFERENCES place (key);"
   ]
  },
  {
   "cell_type": "code",
   "execution_count": 245,
   "id": "fd45a486",
   "metadata": {},
   "outputs": [
    {
     "name": "stdout",
     "output_type": "stream",
     "text": [
      " * postgresql://student@/week13\n",
      "36292 rows affected.\n"
     ]
    },
    {
     "data": {
      "text/plain": [
       "[]"
      ]
     },
     "execution_count": 245,
     "metadata": {},
     "output_type": "execute_result"
    }
   ],
   "source": [
    "%%sql\n",
    "UPDATE tests\n",
    "SET state_key = place.key\n",
    "FROM place\n",
    "WHERE tests.province_state=place.state;"
   ]
  },
  {
   "cell_type": "code",
   "execution_count": 246,
   "id": "d2934c3a",
   "metadata": {},
   "outputs": [
    {
     "name": "stdout",
     "output_type": "stream",
     "text": [
      " * postgresql://student@/week13\n",
      "Done.\n"
     ]
    },
    {
     "data": {
      "text/plain": [
       "[]"
      ]
     },
     "execution_count": 246,
     "metadata": {},
     "output_type": "execute_result"
    }
   ],
   "source": [
    "%%sql\n",
    "alter table tests drop column state, drop column province_state"
   ]
  },
  {
   "cell_type": "code",
   "execution_count": 247,
   "id": "38b94ae5",
   "metadata": {},
   "outputs": [
    {
     "name": "stdout",
     "output_type": "stream",
     "text": [
      " * postgresql://student@/week13\n",
      "5 rows affected.\n"
     ]
    },
    {
     "data": {
      "text/html": [
       "<table>\n",
       "    <thead>\n",
       "        <tr>\n",
       "            <th>date</th>\n",
       "            <th>cases_conf_probable</th>\n",
       "            <th>cases_confirmed</th>\n",
       "            <th>cases_probable</th>\n",
       "            <th>tests_viral_positive</th>\n",
       "            <th>tests_viral_negative</th>\n",
       "            <th>tests_viral_total</th>\n",
       "            <th>tests_antigen_positive</th>\n",
       "            <th>tests_antigen_total</th>\n",
       "            <th>people_viral_positive</th>\n",
       "            <th>people_viral_total</th>\n",
       "            <th>people_antigen_positive</th>\n",
       "            <th>people_antigen_total</th>\n",
       "            <th>encounters_viral_total</th>\n",
       "            <th>tests_combined_total</th>\n",
       "            <th>state_key</th>\n",
       "        </tr>\n",
       "    </thead>\n",
       "    <tbody>\n",
       "        <tr>\n",
       "            <td>2020-02-12 00:00:00</td>\n",
       "            <td>0</td>\n",
       "            <td>None</td>\n",
       "            <td>None</td>\n",
       "            <td>None</td>\n",
       "            <td>None</td>\n",
       "            <td>None</td>\n",
       "            <td>None</td>\n",
       "            <td>None</td>\n",
       "            <td>None</td>\n",
       "            <td>None</td>\n",
       "            <td>None</td>\n",
       "            <td>None</td>\n",
       "            <td>8</td>\n",
       "            <td>None</td>\n",
       "            <td>12</td>\n",
       "        </tr>\n",
       "        <tr>\n",
       "            <td>2020-03-06 00:00:00</td>\n",
       "            <td>None</td>\n",
       "            <td>None</td>\n",
       "            <td>None</td>\n",
       "            <td>None</td>\n",
       "            <td>None</td>\n",
       "            <td>8</td>\n",
       "            <td>None</td>\n",
       "            <td>None</td>\n",
       "            <td>None</td>\n",
       "            <td>None</td>\n",
       "            <td>None</td>\n",
       "            <td>None</td>\n",
       "            <td>None</td>\n",
       "            <td>8</td>\n",
       "            <td>40</td>\n",
       "        </tr>\n",
       "        <tr>\n",
       "            <td>2020-03-07 00:00:00</td>\n",
       "            <td>None</td>\n",
       "            <td>None</td>\n",
       "            <td>None</td>\n",
       "            <td>None</td>\n",
       "            <td>None</td>\n",
       "            <td>12</td>\n",
       "            <td>None</td>\n",
       "            <td>None</td>\n",
       "            <td>None</td>\n",
       "            <td>None</td>\n",
       "            <td>None</td>\n",
       "            <td>None</td>\n",
       "            <td>None</td>\n",
       "            <td>12</td>\n",
       "            <td>40</td>\n",
       "        </tr>\n",
       "        <tr>\n",
       "            <td>2020-03-08 00:00:00</td>\n",
       "            <td>None</td>\n",
       "            <td>None</td>\n",
       "            <td>None</td>\n",
       "            <td>None</td>\n",
       "            <td>None</td>\n",
       "            <td>14</td>\n",
       "            <td>None</td>\n",
       "            <td>None</td>\n",
       "            <td>None</td>\n",
       "            <td>None</td>\n",
       "            <td>None</td>\n",
       "            <td>None</td>\n",
       "            <td>None</td>\n",
       "            <td>14</td>\n",
       "            <td>40</td>\n",
       "        </tr>\n",
       "        <tr>\n",
       "            <td>2020-03-09 00:00:00</td>\n",
       "            <td>None</td>\n",
       "            <td>None</td>\n",
       "            <td>None</td>\n",
       "            <td>None</td>\n",
       "            <td>None</td>\n",
       "            <td>23</td>\n",
       "            <td>None</td>\n",
       "            <td>None</td>\n",
       "            <td>None</td>\n",
       "            <td>None</td>\n",
       "            <td>None</td>\n",
       "            <td>None</td>\n",
       "            <td>None</td>\n",
       "            <td>23</td>\n",
       "            <td>40</td>\n",
       "        </tr>\n",
       "    </tbody>\n",
       "</table>"
      ],
      "text/plain": [
       "[(datetime.datetime(2020, 2, 12, 0, 0), 0, None, None, None, None, None, None, None, None, None, None, None, 8, None, 12),\n",
       " (datetime.datetime(2020, 3, 6, 0, 0), None, None, None, None, None, 8, None, None, None, None, None, None, None, 8, 40),\n",
       " (datetime.datetime(2020, 3, 7, 0, 0), None, None, None, None, None, 12, None, None, None, None, None, None, None, 12, 40),\n",
       " (datetime.datetime(2020, 3, 8, 0, 0), None, None, None, None, None, 14, None, None, None, None, None, None, None, 14, 40),\n",
       " (datetime.datetime(2020, 3, 9, 0, 0), None, None, None, None, None, 23, None, None, None, None, None, None, None, 23, 40)]"
      ]
     },
     "execution_count": 247,
     "metadata": {},
     "output_type": "execute_result"
    }
   ],
   "source": [
    "%%sql\n",
    "select * from tests\n",
    "limit 5"
   ]
  },
  {
   "cell_type": "code",
   "execution_count": 248,
   "id": "302ea136",
   "metadata": {},
   "outputs": [
    {
     "name": "stdout",
     "output_type": "stream",
     "text": [
      " * postgresql://student@/week13\n",
      "Done.\n"
     ]
    },
    {
     "data": {
      "text/plain": [
       "[]"
      ]
     },
     "execution_count": 248,
     "metadata": {},
     "output_type": "execute_result"
    }
   ],
   "source": [
    "%%sql\n",
    "ALTER TABLE USpopulation\n",
    "ADD COLUMN state_key INTEGER,\n",
    "ADD CONSTRAINT fk_state\n",
    "    FOREIGN KEY (state_key)\n",
    "    REFERENCES place (key);"
   ]
  },
  {
   "cell_type": "code",
   "execution_count": 249,
   "id": "55a93754",
   "metadata": {},
   "outputs": [
    {
     "name": "stdout",
     "output_type": "stream",
     "text": [
      " * postgresql://student@/week13\n",
      "52 rows affected.\n"
     ]
    },
    {
     "data": {
      "text/plain": [
       "[]"
      ]
     },
     "execution_count": 249,
     "metadata": {},
     "output_type": "execute_result"
    }
   ],
   "source": [
    "%%sql\n",
    "UPDATE USpopulation\n",
    "SET state_key = place.key\n",
    "FROM place\n",
    "WHERE USpopulation.State=place.state;"
   ]
  },
  {
   "cell_type": "code",
   "execution_count": 250,
   "id": "f458070c",
   "metadata": {},
   "outputs": [
    {
     "name": "stdout",
     "output_type": "stream",
     "text": [
      " * postgresql://student@/week13\n",
      "Done.\n"
     ]
    },
    {
     "data": {
      "text/plain": [
       "[]"
      ]
     },
     "execution_count": 250,
     "metadata": {},
     "output_type": "execute_result"
    }
   ],
   "source": [
    "%%sql\n",
    "alter table USpopulation drop column state"
   ]
  },
  {
   "cell_type": "code",
   "execution_count": 251,
   "id": "d40b204d",
   "metadata": {},
   "outputs": [
    {
     "name": "stdout",
     "output_type": "stream",
     "text": [
      " * postgresql://student@/week13\n",
      "5 rows affected.\n"
     ]
    },
    {
     "data": {
      "text/html": [
       "<table>\n",
       "    <thead>\n",
       "        <tr>\n",
       "            <th>population</th>\n",
       "            <th>state_key</th>\n",
       "        </tr>\n",
       "    </thead>\n",
       "    <tbody>\n",
       "        <tr>\n",
       "            <td>3011524</td>\n",
       "            <td>1</td>\n",
       "        </tr>\n",
       "        <tr>\n",
       "            <td>2117522</td>\n",
       "            <td>2</td>\n",
       "        </tr>\n",
       "        <tr>\n",
       "            <td>7705281</td>\n",
       "            <td>3</td>\n",
       "        </tr>\n",
       "        <tr>\n",
       "            <td>4657757</td>\n",
       "            <td>5</td>\n",
       "        </tr>\n",
       "        <tr>\n",
       "            <td>689545</td>\n",
       "            <td>8</td>\n",
       "        </tr>\n",
       "    </tbody>\n",
       "</table>"
      ],
      "text/plain": [
       "[(Decimal('3011524'), 1),\n",
       " (Decimal('2117522'), 2),\n",
       " (Decimal('7705281'), 3),\n",
       " (Decimal('4657757'), 5),\n",
       " (Decimal('689545'), 8)]"
      ]
     },
     "execution_count": 251,
     "metadata": {},
     "output_type": "execute_result"
    }
   ],
   "source": [
    "%%sql\n",
    "select * from USpopulation\n",
    "limit 5"
   ]
  },
  {
   "cell_type": "markdown",
   "id": "35163429",
   "metadata": {},
   "source": [
    "### Create dimension table date"
   ]
  },
  {
   "cell_type": "code",
   "execution_count": 252,
   "id": "46ad08f2",
   "metadata": {},
   "outputs": [
    {
     "name": "stdout",
     "output_type": "stream",
     "text": [
      " * postgresql://student@/week13\n",
      "10 rows affected.\n"
     ]
    },
    {
     "data": {
      "text/html": [
       "<table>\n",
       "    <thead>\n",
       "        <tr>\n",
       "            <th>last_update</th>\n",
       "            <th>hour</th>\n",
       "            <th>day</th>\n",
       "            <th>year</th>\n",
       "            <th>month_of_year_str</th>\n",
       "            <th>month_of_year</th>\n",
       "            <th>day_of_month</th>\n",
       "            <th>day_of_week_str</th>\n",
       "            <th>quarter_of_year</th>\n",
       "        </tr>\n",
       "    </thead>\n",
       "    <tbody>\n",
       "        <tr>\n",
       "            <td>2020-12-31 05:30:27</td>\n",
       "            <td>2020-12-31 05:00:00</td>\n",
       "            <td>2020-12-31</td>\n",
       "            <td>2020</td>\n",
       "            <td>December </td>\n",
       "            <td>12</td>\n",
       "            <td>31</td>\n",
       "            <td>Thursday </td>\n",
       "            <td>4</td>\n",
       "        </tr>\n",
       "        <tr>\n",
       "            <td>2021-03-18 08:31:01</td>\n",
       "            <td>2021-03-18 08:00:00</td>\n",
       "            <td>2021-03-18</td>\n",
       "            <td>2021</td>\n",
       "            <td>March    </td>\n",
       "            <td>03</td>\n",
       "            <td>18</td>\n",
       "            <td>Thursday </td>\n",
       "            <td>1</td>\n",
       "        </tr>\n",
       "        <tr>\n",
       "            <td>2020-09-10 04:30:24</td>\n",
       "            <td>2020-09-10 04:00:00</td>\n",
       "            <td>2020-09-10</td>\n",
       "            <td>2020</td>\n",
       "            <td>September</td>\n",
       "            <td>09</td>\n",
       "            <td>10</td>\n",
       "            <td>Thursday </td>\n",
       "            <td>3</td>\n",
       "        </tr>\n",
       "        <tr>\n",
       "            <td>2021-01-12 09:30:29</td>\n",
       "            <td>2021-01-12 09:00:00</td>\n",
       "            <td>2021-01-12</td>\n",
       "            <td>2021</td>\n",
       "            <td>January  </td>\n",
       "            <td>01</td>\n",
       "            <td>12</td>\n",
       "            <td>Tuesday  </td>\n",
       "            <td>1</td>\n",
       "        </tr>\n",
       "        <tr>\n",
       "            <td>2021-03-27 05:31:28</td>\n",
       "            <td>2021-03-27 05:00:00</td>\n",
       "            <td>2021-03-27</td>\n",
       "            <td>2021</td>\n",
       "            <td>March    </td>\n",
       "            <td>03</td>\n",
       "            <td>27</td>\n",
       "            <td>Saturday </td>\n",
       "            <td>1</td>\n",
       "        </tr>\n",
       "        <tr>\n",
       "            <td>2020-10-08 04:30:35</td>\n",
       "            <td>2020-10-08 04:00:00</td>\n",
       "            <td>2020-10-08</td>\n",
       "            <td>2020</td>\n",
       "            <td>October  </td>\n",
       "            <td>10</td>\n",
       "            <td>08</td>\n",
       "            <td>Thursday </td>\n",
       "            <td>4</td>\n",
       "        </tr>\n",
       "        <tr>\n",
       "            <td>2021-05-04 04:30:32</td>\n",
       "            <td>2021-05-04 04:00:00</td>\n",
       "            <td>2021-05-04</td>\n",
       "            <td>2021</td>\n",
       "            <td>May      </td>\n",
       "            <td>05</td>\n",
       "            <td>04</td>\n",
       "            <td>Tuesday  </td>\n",
       "            <td>2</td>\n",
       "        </tr>\n",
       "        <tr>\n",
       "            <td>2020-09-18 05:10:31</td>\n",
       "            <td>2020-09-18 05:00:00</td>\n",
       "            <td>2020-09-18</td>\n",
       "            <td>2020</td>\n",
       "            <td>September</td>\n",
       "            <td>09</td>\n",
       "            <td>18</td>\n",
       "            <td>Friday   </td>\n",
       "            <td>3</td>\n",
       "        </tr>\n",
       "        <tr>\n",
       "            <td>2020-11-06 05:30:35</td>\n",
       "            <td>2020-11-06 05:00:00</td>\n",
       "            <td>2020-11-06</td>\n",
       "            <td>2020</td>\n",
       "            <td>November </td>\n",
       "            <td>11</td>\n",
       "            <td>06</td>\n",
       "            <td>Friday   </td>\n",
       "            <td>4</td>\n",
       "        </tr>\n",
       "        <tr>\n",
       "            <td>2021-01-17 05:30:35</td>\n",
       "            <td>2021-01-17 05:00:00</td>\n",
       "            <td>2021-01-17</td>\n",
       "            <td>2021</td>\n",
       "            <td>January  </td>\n",
       "            <td>01</td>\n",
       "            <td>17</td>\n",
       "            <td>Sunday   </td>\n",
       "            <td>1</td>\n",
       "        </tr>\n",
       "    </tbody>\n",
       "</table>"
      ],
      "text/plain": [
       "[(datetime.datetime(2020, 12, 31, 5, 30, 27), '2020-12-31 05:00:00', '2020-12-31', '2020', 'December ', '12', '31', 'Thursday ', '4'),\n",
       " (datetime.datetime(2021, 3, 18, 8, 31, 1), '2021-03-18 08:00:00', '2021-03-18', '2021', 'March    ', '03', '18', 'Thursday ', '1'),\n",
       " (datetime.datetime(2020, 9, 10, 4, 30, 24), '2020-09-10 04:00:00', '2020-09-10', '2020', 'September', '09', '10', 'Thursday ', '3'),\n",
       " (datetime.datetime(2021, 1, 12, 9, 30, 29), '2021-01-12 09:00:00', '2021-01-12', '2021', 'January  ', '01', '12', 'Tuesday  ', '1'),\n",
       " (datetime.datetime(2021, 3, 27, 5, 31, 28), '2021-03-27 05:00:00', '2021-03-27', '2021', 'March    ', '03', '27', 'Saturday ', '1'),\n",
       " (datetime.datetime(2020, 10, 8, 4, 30, 35), '2020-10-08 04:00:00', '2020-10-08', '2020', 'October  ', '10', '08', 'Thursday ', '4'),\n",
       " (datetime.datetime(2021, 5, 4, 4, 30, 32), '2021-05-04 04:00:00', '2021-05-04', '2021', 'May      ', '05', '04', 'Tuesday  ', '2'),\n",
       " (datetime.datetime(2020, 9, 18, 5, 10, 31), '2020-09-18 05:00:00', '2020-09-18', '2020', 'September', '09', '18', 'Friday   ', '3'),\n",
       " (datetime.datetime(2020, 11, 6, 5, 30, 35), '2020-11-06 05:00:00', '2020-11-06', '2020', 'November ', '11', '06', 'Friday   ', '4'),\n",
       " (datetime.datetime(2021, 1, 17, 5, 30, 35), '2021-01-17 05:00:00', '2021-01-17', '2021', 'January  ', '01', '17', 'Sunday   ', '1')]"
      ]
     },
     "execution_count": 252,
     "metadata": {},
     "output_type": "execute_result"
    }
   ],
   "source": [
    "%%sql\n",
    "SELECT DISTINCT last_update, \n",
    "    TO_CHAR(last_update, 'YYYY-MM-DD HH24:00:00') AS hour,\n",
    "    TO_CHAR(last_update, 'YYYY-MM-DD') AS day, \n",
    "    TO_CHAR(last_update, 'YYYY') AS year,\n",
    "    TO_CHAR(last_update, 'Month') AS month_of_year_str,\n",
    "    TO_CHAR(last_update, 'MM') AS month_of_year,\n",
    "    TO_CHAR(last_update, 'DD') AS day_of_month,\n",
    "    TO_CHAR(last_update, 'Day') AS day_of_week_str,\n",
    "    TO_CHAR(last_update, 'Q') AS quarter_of_year\n",
    "FROM cases\n",
    "LIMIT 10;"
   ]
  },
  {
   "cell_type": "code",
   "execution_count": 253,
   "id": "b8c41630",
   "metadata": {},
   "outputs": [
    {
     "name": "stdout",
     "output_type": "stream",
     "text": [
      " * postgresql://student@/week13\n",
      "Done.\n",
      "Done.\n"
     ]
    },
    {
     "data": {
      "text/plain": [
       "[]"
      ]
     },
     "execution_count": 253,
     "metadata": {},
     "output_type": "execute_result"
    }
   ],
   "source": [
    "%%sql\n",
    "DROP TABLE IF EXISTS Date;\n",
    "\n",
    "CREATE TABLE Date (\n",
    "    key SERIAL PRIMARY KEY,\n",
    "    hour CHAR(19),\n",
    "    day CHAR(10),\n",
    "    year INTEGER,\n",
    "    month_of_year_str VARCHAR(12),\n",
    "    month_of_year INTEGER,\n",
    "    day_of_month INTEGER,\n",
    "    day_of_week_str CHAR(9),\n",
    "    day_of_week INTEGER,\n",
    "    hour_of_day INTEGER,\n",
    "    quarter_of_year INTEGER\n",
    ");"
   ]
  },
  {
   "cell_type": "code",
   "execution_count": 254,
   "id": "78038353",
   "metadata": {},
   "outputs": [
    {
     "name": "stdout",
     "output_type": "stream",
     "text": [
      " * postgresql://student@/week13\n",
      "1463 rows affected.\n"
     ]
    },
    {
     "data": {
      "text/plain": [
       "[]"
      ]
     },
     "execution_count": 254,
     "metadata": {},
     "output_type": "execute_result"
    }
   ],
   "source": [
    "%%sql\n",
    "INSERT INTO Date (hour, day, year, month_of_year_str, month_of_year, day_of_month, \n",
    "                  day_of_week_str, day_of_week, \n",
    "                  hour_of_day, quarter_of_year)\n",
    "SELECT DISTINCT TO_CHAR(last_update, 'YYYY-MM-DD HH24:00:00') AS hour,\n",
    "    TO_CHAR(last_update, 'YYYY-MM-DD') AS day, \n",
    "    CAST(TO_CHAR(last_update, 'YYYY') AS INTEGER) AS year,\n",
    "    TO_CHAR(last_update, 'Month') AS month_of_year_str,\n",
    "    CAST(TO_CHAR(last_update, 'MM') AS INTEGER) AS month_of_year,\n",
    "    CAST(TO_CHAR(last_update, 'DD') AS INTEGER) AS day_of_month,\n",
    "    TO_CHAR(last_update, 'Day') AS day_of_week_str,\n",
    "    CAST(TO_CHAR(last_update, 'D') AS INTEGER) AS day_of_week,\n",
    "    CAST(TO_CHAR(last_update, 'HH24') AS INTEGER) AS hour_of_day,\n",
    "    CAST(TO_CHAR(last_update, 'Q') AS INTEGER) AS quarter_of_year\n",
    "FROM cases\n",
    "union\n",
    "SELECT DISTINCT TO_CHAR(date, 'YYYY-MM-DD HH24:00:00') AS hour,\n",
    "    TO_CHAR(date, 'YYYY-MM-DD') AS day, \n",
    "    CAST(TO_CHAR(date, 'YYYY') AS INTEGER) AS year,\n",
    "    TO_CHAR(date, 'Month') AS month_of_year_str,\n",
    "    CAST(TO_CHAR(date, 'MM') AS INTEGER) AS month_of_year,\n",
    "    CAST(TO_CHAR(date, 'DD') AS INTEGER) AS day_of_month,\n",
    "    TO_CHAR(date, 'Day') AS day_of_week_str,\n",
    "    CAST(TO_CHAR(date, 'D') AS INTEGER) AS day_of_week,\n",
    "    CAST(TO_CHAR(date, 'HH24') AS INTEGER) AS hour_of_day,\n",
    "    CAST(TO_CHAR(date, 'Q') AS INTEGER) AS quarter_of_year\n",
    "FROM vaccine\n",
    "union\n",
    "SELECT DISTINCT TO_CHAR(date, 'YYYY-MM-DD HH24:00:00') AS hour,\n",
    "    TO_CHAR(date, 'YYYY-MM-DD') AS day, \n",
    "    CAST(TO_CHAR(date, 'YYYY') AS INTEGER) AS year,\n",
    "    TO_CHAR(date, 'Month') AS month_of_year_str,\n",
    "    CAST(TO_CHAR(date, 'MM') AS INTEGER) AS month_of_year,\n",
    "    CAST(TO_CHAR(date, 'DD') AS INTEGER) AS day_of_month,\n",
    "    TO_CHAR(date, 'Day') AS day_of_week_str,\n",
    "    CAST(TO_CHAR(date, 'D') AS INTEGER) AS day_of_week,\n",
    "    CAST(TO_CHAR(date, 'HH24') AS INTEGER) AS hour_of_day,\n",
    "    CAST(TO_CHAR(date, 'Q') AS INTEGER) AS quarter_of_year\n",
    "FROM people_vaccinated\n",
    "union\n",
    "SELECT DISTINCT TO_CHAR(Date, 'YYYY-MM-DD HH24:00:00') AS hour,\n",
    "    TO_CHAR(Date, 'YYYY-MM-DD') AS day, \n",
    "    CAST(TO_CHAR(Date, 'YYYY') AS INTEGER) AS year,\n",
    "    TO_CHAR(Date, 'Month') AS month_of_year_str,\n",
    "    CAST(TO_CHAR(Date, 'MM') AS INTEGER) AS month_of_year,\n",
    "    CAST(TO_CHAR(Date, 'DD') AS INTEGER) AS day_of_month,\n",
    "    TO_CHAR(Date, 'Day') AS day_of_week_str,\n",
    "    CAST(TO_CHAR(Date, 'D') AS INTEGER) AS day_of_week,\n",
    "    CAST(TO_CHAR(Date, 'HH24') AS INTEGER) AS hour_of_day,\n",
    "    CAST(TO_CHAR(Date, 'Q') AS INTEGER) AS quarter_of_year\n",
    "FROM tests"
   ]
  },
  {
   "cell_type": "code",
   "execution_count": 255,
   "id": "0b1e37b5",
   "metadata": {},
   "outputs": [
    {
     "name": "stdout",
     "output_type": "stream",
     "text": [
      " * postgresql://student@/week13\n",
      "5 rows affected.\n"
     ]
    },
    {
     "data": {
      "text/html": [
       "<table>\n",
       "    <thead>\n",
       "        <tr>\n",
       "            <th>key</th>\n",
       "            <th>hour</th>\n",
       "            <th>day</th>\n",
       "            <th>year</th>\n",
       "            <th>month_of_year_str</th>\n",
       "            <th>month_of_year</th>\n",
       "            <th>day_of_month</th>\n",
       "            <th>day_of_week_str</th>\n",
       "            <th>day_of_week</th>\n",
       "            <th>hour_of_day</th>\n",
       "            <th>quarter_of_year</th>\n",
       "        </tr>\n",
       "    </thead>\n",
       "    <tbody>\n",
       "        <tr>\n",
       "            <td>1</td>\n",
       "            <td>2020-12-25 05:00:00</td>\n",
       "            <td>2020-12-25</td>\n",
       "            <td>2020</td>\n",
       "            <td>December </td>\n",
       "            <td>12</td>\n",
       "            <td>25</td>\n",
       "            <td>Friday   </td>\n",
       "            <td>6</td>\n",
       "            <td>5</td>\n",
       "            <td>4</td>\n",
       "        </tr>\n",
       "        <tr>\n",
       "            <td>2</td>\n",
       "            <td>2021-07-19 04:00:00</td>\n",
       "            <td>2021-07-19</td>\n",
       "            <td>2021</td>\n",
       "            <td>July     </td>\n",
       "            <td>7</td>\n",
       "            <td>19</td>\n",
       "            <td>Monday   </td>\n",
       "            <td>2</td>\n",
       "            <td>4</td>\n",
       "            <td>3</td>\n",
       "        </tr>\n",
       "        <tr>\n",
       "            <td>3</td>\n",
       "            <td>2021-08-26 04:00:00</td>\n",
       "            <td>2021-08-26</td>\n",
       "            <td>2021</td>\n",
       "            <td>August   </td>\n",
       "            <td>8</td>\n",
       "            <td>26</td>\n",
       "            <td>Thursday </td>\n",
       "            <td>5</td>\n",
       "            <td>4</td>\n",
       "            <td>3</td>\n",
       "        </tr>\n",
       "        <tr>\n",
       "            <td>4</td>\n",
       "            <td>2021-10-24 04:00:00</td>\n",
       "            <td>2021-10-24</td>\n",
       "            <td>2021</td>\n",
       "            <td>October  </td>\n",
       "            <td>10</td>\n",
       "            <td>24</td>\n",
       "            <td>Sunday   </td>\n",
       "            <td>1</td>\n",
       "            <td>4</td>\n",
       "            <td>4</td>\n",
       "        </tr>\n",
       "        <tr>\n",
       "            <td>5</td>\n",
       "            <td>2021-02-26 00:00:00</td>\n",
       "            <td>2021-02-26</td>\n",
       "            <td>2021</td>\n",
       "            <td>February </td>\n",
       "            <td>2</td>\n",
       "            <td>26</td>\n",
       "            <td>Friday   </td>\n",
       "            <td>6</td>\n",
       "            <td>0</td>\n",
       "            <td>1</td>\n",
       "        </tr>\n",
       "    </tbody>\n",
       "</table>"
      ],
      "text/plain": [
       "[(1, '2020-12-25 05:00:00', '2020-12-25', 2020, 'December ', 12, 25, 'Friday   ', 6, 5, 4),\n",
       " (2, '2021-07-19 04:00:00', '2021-07-19', 2021, 'July     ', 7, 19, 'Monday   ', 2, 4, 3),\n",
       " (3, '2021-08-26 04:00:00', '2021-08-26', 2021, 'August   ', 8, 26, 'Thursday ', 5, 4, 3),\n",
       " (4, '2021-10-24 04:00:00', '2021-10-24', 2021, 'October  ', 10, 24, 'Sunday   ', 1, 4, 4),\n",
       " (5, '2021-02-26 00:00:00', '2021-02-26', 2021, 'February ', 2, 26, 'Friday   ', 6, 0, 1)]"
      ]
     },
     "execution_count": 255,
     "metadata": {},
     "output_type": "execute_result"
    }
   ],
   "source": [
    "%%sql \n",
    "select * from date\n",
    "limit 5"
   ]
  },
  {
   "cell_type": "code",
   "execution_count": 256,
   "id": "80b3fc54",
   "metadata": {},
   "outputs": [
    {
     "name": "stdout",
     "output_type": "stream",
     "text": [
      " * postgresql://student@/week13\n",
      "Done.\n"
     ]
    },
    {
     "data": {
      "text/plain": [
       "[]"
      ]
     },
     "execution_count": 256,
     "metadata": {},
     "output_type": "execute_result"
    }
   ],
   "source": [
    "%%sql\n",
    "ALTER TABLE  cases\n",
    "ADD COLUMN Date_key INTEGER,\n",
    "ADD CONSTRAINT fk_Date\n",
    "    FOREIGN KEY (Date_key)\n",
    "    REFERENCES Date (key);"
   ]
  },
  {
   "cell_type": "code",
   "execution_count": 257,
   "id": "adc499c6",
   "metadata": {},
   "outputs": [
    {
     "name": "stdout",
     "output_type": "stream",
     "text": [
      " * postgresql://student@/week13\n",
      "34674 rows affected.\n"
     ]
    },
    {
     "data": {
      "text/plain": [
       "[]"
      ]
     },
     "execution_count": 257,
     "metadata": {},
     "output_type": "execute_result"
    }
   ],
   "source": [
    "%%sql\n",
    "UPDATE cases\n",
    "SET Date_key = Date.key\n",
    "FROM Date\n",
    "WHERE TO_CHAR(cases.last_update, 'YYYY-MM-DD HH24:00:00') = Date.hour;"
   ]
  },
  {
   "cell_type": "code",
   "execution_count": 258,
   "id": "6e87cc37",
   "metadata": {},
   "outputs": [
    {
     "name": "stdout",
     "output_type": "stream",
     "text": [
      " * postgresql://student@/week13\n",
      "Done.\n"
     ]
    },
    {
     "data": {
      "text/plain": [
       "[]"
      ]
     },
     "execution_count": 258,
     "metadata": {},
     "output_type": "execute_result"
    }
   ],
   "source": [
    "%%sql\n",
    "alter table cases drop column last_update"
   ]
  },
  {
   "cell_type": "code",
   "execution_count": 259,
   "id": "e53c386e",
   "metadata": {},
   "outputs": [
    {
     "name": "stdout",
     "output_type": "stream",
     "text": [
      " * postgresql://student@/week13\n",
      "5 rows affected.\n"
     ]
    },
    {
     "data": {
      "text/html": [
       "<table>\n",
       "    <thead>\n",
       "        <tr>\n",
       "            <th>confirmed</th>\n",
       "            <th>deaths</th>\n",
       "            <th>recovered</th>\n",
       "            <th>active</th>\n",
       "            <th>fips</th>\n",
       "            <th>incident_rate</th>\n",
       "            <th>total_test_results</th>\n",
       "            <th>people_hospitalized</th>\n",
       "            <th>case_fatality_ratio</th>\n",
       "            <th>uid</th>\n",
       "            <th>iso3</th>\n",
       "            <th>testing_rate</th>\n",
       "            <th>hospitalization_rate</th>\n",
       "            <th>state_key</th>\n",
       "            <th>date_key</th>\n",
       "        </tr>\n",
       "    </thead>\n",
       "    <tbody>\n",
       "        <tr>\n",
       "            <td>49.0</td>\n",
       "            <td>0.0</td>\n",
       "            <td>None</td>\n",
       "            <td>49.0</td>\n",
       "            <td>88888.0</td>\n",
       "            <td>None</td>\n",
       "            <td>None</td>\n",
       "            <td>None</td>\n",
       "            <td>0.0</td>\n",
       "            <td>84088888.0</td>\n",
       "            <td>USA</td>\n",
       "            <td>None</td>\n",
       "            <td>None</td>\n",
       "            <td>14</td>\n",
       "            <td>738</td>\n",
       "        </tr>\n",
       "        <tr>\n",
       "            <td>49.0</td>\n",
       "            <td>0.0</td>\n",
       "            <td>None</td>\n",
       "            <td>49.0</td>\n",
       "            <td>88888.0</td>\n",
       "            <td>None</td>\n",
       "            <td>None</td>\n",
       "            <td>None</td>\n",
       "            <td>0.0</td>\n",
       "            <td>84088888.0</td>\n",
       "            <td>USA</td>\n",
       "            <td>None</td>\n",
       "            <td>None</td>\n",
       "            <td>14</td>\n",
       "            <td>420</td>\n",
       "        </tr>\n",
       "        <tr>\n",
       "            <td>1527.0</td>\n",
       "            <td>52.0</td>\n",
       "            <td>None</td>\n",
       "            <td>1475.0</td>\n",
       "            <td>41.0</td>\n",
       "            <td>38.1076067</td>\n",
       "            <td>29758.0</td>\n",
       "            <td>359.0</td>\n",
       "            <td>3.405370007</td>\n",
       "            <td>84000041.0</td>\n",
       "            <td>USA</td>\n",
       "            <td>742.6366471</td>\n",
       "            <td>23.51015062</td>\n",
       "            <td>55</td>\n",
       "            <td>79</td>\n",
       "        </tr>\n",
       "        <tr>\n",
       "            <td>1970.0</td>\n",
       "            <td>96.0</td>\n",
       "            <td>865.0</td>\n",
       "            <td>1874.0</td>\n",
       "            <td>40.0</td>\n",
       "            <td>53.85995428</td>\n",
       "            <td>22760.0</td>\n",
       "            <td>446.0</td>\n",
       "            <td>4.873096447</td>\n",
       "            <td>84000040.0</td>\n",
       "            <td>USA</td>\n",
       "            <td>622.2601824</td>\n",
       "            <td>22.63959391</td>\n",
       "            <td>61</td>\n",
       "            <td>79</td>\n",
       "        </tr>\n",
       "        <tr>\n",
       "            <td>89229.0</td>\n",
       "            <td>1257.0</td>\n",
       "            <td>None</td>\n",
       "            <td>None</td>\n",
       "            <td>33.0</td>\n",
       "            <td>6562.350381809076</td>\n",
       "            <td>1733889.0</td>\n",
       "            <td>None</td>\n",
       "            <td>1.408734828362976</td>\n",
       "            <td>84000033.0</td>\n",
       "            <td>USA</td>\n",
       "            <td>127518.93600919607</td>\n",
       "            <td>None</td>\n",
       "            <td>44</td>\n",
       "            <td>194</td>\n",
       "        </tr>\n",
       "    </tbody>\n",
       "</table>"
      ],
      "text/plain": [
       "[(49.0, 0.0, None, 49.0, 88888.0, None, None, None, 0.0, 84088888.0, 'USA', None, None, 14, 738),\n",
       " (49.0, 0.0, None, 49.0, 88888.0, None, None, None, 0.0, 84088888.0, 'USA', None, None, 14, 420),\n",
       " (1527.0, 52.0, None, 1475.0, 41.0, 38.1076067, 29758.0, 359.0, 3.405370007, 84000041.0, 'USA', 742.6366471, 23.51015062, 55, 79),\n",
       " (1970.0, 96.0, 865.0, 1874.0, 40.0, 53.85995428, 22760.0, 446.0, 4.873096447, 84000040.0, 'USA', 622.2601824, 22.63959391, 61, 79),\n",
       " (89229.0, 1257.0, None, None, 33.0, 6562.350381809076, 1733889.0, None, 1.408734828362976, 84000033.0, 'USA', 127518.93600919607, None, 44, 194)]"
      ]
     },
     "execution_count": 259,
     "metadata": {},
     "output_type": "execute_result"
    }
   ],
   "source": [
    "%%sql\n",
    "select* from cases\n",
    "limit 5"
   ]
  },
  {
   "cell_type": "code",
   "execution_count": 260,
   "id": "1fa7161c",
   "metadata": {},
   "outputs": [
    {
     "name": "stdout",
     "output_type": "stream",
     "text": [
      " * postgresql://student@/week13\n",
      "Done.\n"
     ]
    },
    {
     "data": {
      "text/plain": [
       "[]"
      ]
     },
     "execution_count": 260,
     "metadata": {},
     "output_type": "execute_result"
    }
   ],
   "source": [
    "%%sql\n",
    "ALTER TABLE  vaccine\n",
    "ADD COLUMN Date_key INTEGER,\n",
    "ADD CONSTRAINT fk_Date\n",
    "    FOREIGN KEY (Date_key)\n",
    "    REFERENCES Date (key);"
   ]
  },
  {
   "cell_type": "code",
   "execution_count": 261,
   "id": "d084f0c5",
   "metadata": {},
   "outputs": [
    {
     "name": "stdout",
     "output_type": "stream",
     "text": [
      " * postgresql://student@/week13\n",
      "83043 rows affected.\n"
     ]
    },
    {
     "data": {
      "text/plain": [
       "[]"
      ]
     },
     "execution_count": 261,
     "metadata": {},
     "output_type": "execute_result"
    }
   ],
   "source": [
    "%%sql\n",
    "UPDATE vaccine\n",
    "SET Date_key = Date.key\n",
    "FROM Date\n",
    "WHERE TO_CHAR(vaccine.date, 'YYYY-MM-DD HH24:00:00') = Date.hour;"
   ]
  },
  {
   "cell_type": "code",
   "execution_count": 262,
   "id": "073d7495",
   "metadata": {},
   "outputs": [
    {
     "name": "stdout",
     "output_type": "stream",
     "text": [
      " * postgresql://student@/week13\n",
      "Done.\n"
     ]
    },
    {
     "data": {
      "text/plain": [
       "[]"
      ]
     },
     "execution_count": 262,
     "metadata": {},
     "output_type": "execute_result"
    }
   ],
   "source": [
    "%%sql\n",
    "alter table vaccine drop column date"
   ]
  },
  {
   "cell_type": "code",
   "execution_count": 263,
   "id": "0e054273",
   "metadata": {},
   "outputs": [
    {
     "name": "stdout",
     "output_type": "stream",
     "text": [
      " * postgresql://student@/week13\n",
      "5 rows affected.\n"
     ]
    },
    {
     "data": {
      "text/html": [
       "<table>\n",
       "    <thead>\n",
       "        <tr>\n",
       "            <th>vaccine_type</th>\n",
       "            <th>doses_alloc</th>\n",
       "            <th>doses_shipped</th>\n",
       "            <th>doses_admin</th>\n",
       "            <th>stage_one_doses</th>\n",
       "            <th>stage_two_doses</th>\n",
       "            <th>state_key</th>\n",
       "            <th>date_key</th>\n",
       "        </tr>\n",
       "    </thead>\n",
       "    <tbody>\n",
       "        <tr>\n",
       "            <td>Pfizer</td>\n",
       "            <td>None</td>\n",
       "            <td>None</td>\n",
       "            <td>None</td>\n",
       "            <td>None</td>\n",
       "            <td>None</td>\n",
       "            <td>35</td>\n",
       "            <td>8</td>\n",
       "        </tr>\n",
       "        <tr>\n",
       "            <td>Moderna</td>\n",
       "            <td>None</td>\n",
       "            <td>None</td>\n",
       "            <td>None</td>\n",
       "            <td>None</td>\n",
       "            <td>None</td>\n",
       "            <td>35</td>\n",
       "            <td>8</td>\n",
       "        </tr>\n",
       "        <tr>\n",
       "            <td>All</td>\n",
       "            <td>None</td>\n",
       "            <td>None</td>\n",
       "            <td>None</td>\n",
       "            <td>None</td>\n",
       "            <td>None</td>\n",
       "            <td>35</td>\n",
       "            <td>8</td>\n",
       "        </tr>\n",
       "        <tr>\n",
       "            <td>All</td>\n",
       "            <td>None</td>\n",
       "            <td>None</td>\n",
       "            <td>None</td>\n",
       "            <td>None</td>\n",
       "            <td>None</td>\n",
       "            <td>35</td>\n",
       "            <td>1390</td>\n",
       "        </tr>\n",
       "        <tr>\n",
       "            <td>Moderna</td>\n",
       "            <td>None</td>\n",
       "            <td>None</td>\n",
       "            <td>None</td>\n",
       "            <td>None</td>\n",
       "            <td>None</td>\n",
       "            <td>35</td>\n",
       "            <td>1390</td>\n",
       "        </tr>\n",
       "    </tbody>\n",
       "</table>"
      ],
      "text/plain": [
       "[('Pfizer', None, None, None, None, None, 35, 8),\n",
       " ('Moderna', None, None, None, None, None, 35, 8),\n",
       " ('All', None, None, None, None, None, 35, 8),\n",
       " ('All', None, None, None, None, None, 35, 1390),\n",
       " ('Moderna', None, None, None, None, None, 35, 1390)]"
      ]
     },
     "execution_count": 263,
     "metadata": {},
     "output_type": "execute_result"
    }
   ],
   "source": [
    "%%sql\n",
    "select* from vaccine\n",
    "limit 5"
   ]
  },
  {
   "cell_type": "code",
   "execution_count": 264,
   "id": "ebfe578e",
   "metadata": {},
   "outputs": [
    {
     "name": "stdout",
     "output_type": "stream",
     "text": [
      " * postgresql://student@/week13\n",
      "Done.\n"
     ]
    },
    {
     "data": {
      "text/plain": [
       "[]"
      ]
     },
     "execution_count": 264,
     "metadata": {},
     "output_type": "execute_result"
    }
   ],
   "source": [
    "%%sql\n",
    "ALTER TABLE  people_vaccinated\n",
    "ADD COLUMN Date_key INTEGER,\n",
    "ADD CONSTRAINT fk_Date\n",
    "    FOREIGN KEY (Date_key)\n",
    "    REFERENCES Date (key);"
   ]
  },
  {
   "cell_type": "code",
   "execution_count": 265,
   "id": "5150e5e7",
   "metadata": {},
   "outputs": [
    {
     "name": "stdout",
     "output_type": "stream",
     "text": [
      " * postgresql://student@/week13\n",
      "22212 rows affected.\n"
     ]
    },
    {
     "data": {
      "text/plain": [
       "[]"
      ]
     },
     "execution_count": 265,
     "metadata": {},
     "output_type": "execute_result"
    }
   ],
   "source": [
    "%%sql\n",
    "UPDATE people_vaccinated\n",
    "SET Date_key = Date.key\n",
    "FROM Date\n",
    "WHERE TO_CHAR(people_vaccinated.date, 'YYYY-MM-DD HH24:00:00') = Date.hour;"
   ]
  },
  {
   "cell_type": "code",
   "execution_count": 266,
   "id": "de279f1d",
   "metadata": {},
   "outputs": [
    {
     "name": "stdout",
     "output_type": "stream",
     "text": [
      " * postgresql://student@/week13\n",
      "Done.\n"
     ]
    },
    {
     "data": {
      "text/plain": [
       "[]"
      ]
     },
     "execution_count": 266,
     "metadata": {},
     "output_type": "execute_result"
    }
   ],
   "source": [
    "%%sql\n",
    "alter table people_vaccinated drop column date"
   ]
  },
  {
   "cell_type": "code",
   "execution_count": 267,
   "id": "082fb67b",
   "metadata": {},
   "outputs": [
    {
     "name": "stdout",
     "output_type": "stream",
     "text": [
      " * postgresql://student@/week13\n",
      "5 rows affected.\n"
     ]
    },
    {
     "data": {
      "text/html": [
       "<table>\n",
       "    <thead>\n",
       "        <tr>\n",
       "            <th>lat</th>\n",
       "            <th>long_</th>\n",
       "            <th>fully_vaccinated</th>\n",
       "            <th>partially_vaccinated</th>\n",
       "            <th>state_key</th>\n",
       "            <th>date_key</th>\n",
       "        </tr>\n",
       "    </thead>\n",
       "    <tbody>\n",
       "        <tr>\n",
       "            <td>47.5289</td>\n",
       "            <td>-99.784</td>\n",
       "            <td>None</td>\n",
       "            <td>None</td>\n",
       "            <td>45</td>\n",
       "            <td>34</td>\n",
       "        </tr>\n",
       "        <tr>\n",
       "            <td>None</td>\n",
       "            <td>None</td>\n",
       "            <td>None</td>\n",
       "            <td>None</td>\n",
       "            <td>56</td>\n",
       "            <td>34</td>\n",
       "        </tr>\n",
       "        <tr>\n",
       "            <td>47.4009</td>\n",
       "            <td>-121.4905</td>\n",
       "            <td>None</td>\n",
       "            <td>None</td>\n",
       "            <td>3</td>\n",
       "            <td>34</td>\n",
       "        </tr>\n",
       "        <tr>\n",
       "            <td>43.4525</td>\n",
       "            <td>-71.5639</td>\n",
       "            <td>None</td>\n",
       "            <td>None</td>\n",
       "            <td>44</td>\n",
       "            <td>163</td>\n",
       "        </tr>\n",
       "        <tr>\n",
       "            <td>61.3707</td>\n",
       "            <td>-152.4044</td>\n",
       "            <td>None</td>\n",
       "            <td>None</td>\n",
       "            <td>40</td>\n",
       "            <td>163</td>\n",
       "        </tr>\n",
       "    </tbody>\n",
       "</table>"
      ],
      "text/plain": [
       "[(47.5289, -99.784, None, None, 45, 34),\n",
       " (None, None, None, None, 56, 34),\n",
       " (47.4009, -121.4905, None, None, 3, 34),\n",
       " (43.4525, -71.5639, None, None, 44, 163),\n",
       " (61.3707, -152.4044, None, None, 40, 163)]"
      ]
     },
     "execution_count": 267,
     "metadata": {},
     "output_type": "execute_result"
    }
   ],
   "source": [
    "%%sql\n",
    "select* from people_vaccinated\n",
    "limit 5"
   ]
  },
  {
   "cell_type": "code",
   "execution_count": 268,
   "id": "4f1f85af",
   "metadata": {},
   "outputs": [
    {
     "name": "stdout",
     "output_type": "stream",
     "text": [
      " * postgresql://student@/week13\n",
      "Done.\n"
     ]
    },
    {
     "data": {
      "text/plain": [
       "[]"
      ]
     },
     "execution_count": 268,
     "metadata": {},
     "output_type": "execute_result"
    }
   ],
   "source": [
    "%%sql\n",
    "ALTER TABLE  tests\n",
    "ADD COLUMN Date_key INTEGER,\n",
    "ADD CONSTRAINT fk_Date\n",
    "    FOREIGN KEY (Date_key)\n",
    "    REFERENCES Date (key);"
   ]
  },
  {
   "cell_type": "code",
   "execution_count": 269,
   "id": "3a0ea891",
   "metadata": {},
   "outputs": [
    {
     "name": "stdout",
     "output_type": "stream",
     "text": [
      " * postgresql://student@/week13\n",
      "36292 rows affected.\n"
     ]
    },
    {
     "data": {
      "text/plain": [
       "[]"
      ]
     },
     "execution_count": 269,
     "metadata": {},
     "output_type": "execute_result"
    }
   ],
   "source": [
    "%%sql\n",
    "UPDATE tests\n",
    "SET Date_key = Date.key\n",
    "FROM Date\n",
    "WHERE TO_CHAR(tests.date, 'YYYY-MM-DD HH24:00:00') = Date.hour;"
   ]
  },
  {
   "cell_type": "code",
   "execution_count": 270,
   "id": "e1ccc0e9",
   "metadata": {},
   "outputs": [
    {
     "name": "stdout",
     "output_type": "stream",
     "text": [
      " * postgresql://student@/week13\n",
      "Done.\n"
     ]
    },
    {
     "data": {
      "text/plain": [
       "[]"
      ]
     },
     "execution_count": 270,
     "metadata": {},
     "output_type": "execute_result"
    }
   ],
   "source": [
    "%%sql\n",
    "alter table tests drop date"
   ]
  },
  {
   "cell_type": "code",
   "execution_count": 271,
   "id": "2a9cf51f",
   "metadata": {},
   "outputs": [
    {
     "name": "stdout",
     "output_type": "stream",
     "text": [
      " * postgresql://student@/week13\n",
      "5 rows affected.\n"
     ]
    },
    {
     "data": {
      "text/html": [
       "<table>\n",
       "    <thead>\n",
       "        <tr>\n",
       "            <th>cases_conf_probable</th>\n",
       "            <th>cases_confirmed</th>\n",
       "            <th>cases_probable</th>\n",
       "            <th>tests_viral_positive</th>\n",
       "            <th>tests_viral_negative</th>\n",
       "            <th>tests_viral_total</th>\n",
       "            <th>tests_antigen_positive</th>\n",
       "            <th>tests_antigen_total</th>\n",
       "            <th>people_viral_positive</th>\n",
       "            <th>people_viral_total</th>\n",
       "            <th>people_antigen_positive</th>\n",
       "            <th>people_antigen_total</th>\n",
       "            <th>encounters_viral_total</th>\n",
       "            <th>tests_combined_total</th>\n",
       "            <th>state_key</th>\n",
       "            <th>date_key</th>\n",
       "        </tr>\n",
       "    </thead>\n",
       "    <tbody>\n",
       "        <tr>\n",
       "            <td>0</td>\n",
       "            <td>None</td>\n",
       "            <td>None</td>\n",
       "            <td>None</td>\n",
       "            <td>None</td>\n",
       "            <td>None</td>\n",
       "            <td>None</td>\n",
       "            <td>None</td>\n",
       "            <td>None</td>\n",
       "            <td>None</td>\n",
       "            <td>None</td>\n",
       "            <td>None</td>\n",
       "            <td>8</td>\n",
       "            <td>None</td>\n",
       "            <td>12</td>\n",
       "            <td>331</td>\n",
       "        </tr>\n",
       "        <tr>\n",
       "            <td>None</td>\n",
       "            <td>None</td>\n",
       "            <td>None</td>\n",
       "            <td>None</td>\n",
       "            <td>None</td>\n",
       "            <td>8</td>\n",
       "            <td>None</td>\n",
       "            <td>None</td>\n",
       "            <td>None</td>\n",
       "            <td>None</td>\n",
       "            <td>None</td>\n",
       "            <td>None</td>\n",
       "            <td>None</td>\n",
       "            <td>8</td>\n",
       "            <td>40</td>\n",
       "            <td>317</td>\n",
       "        </tr>\n",
       "        <tr>\n",
       "            <td>None</td>\n",
       "            <td>None</td>\n",
       "            <td>None</td>\n",
       "            <td>None</td>\n",
       "            <td>None</td>\n",
       "            <td>12</td>\n",
       "            <td>None</td>\n",
       "            <td>None</td>\n",
       "            <td>None</td>\n",
       "            <td>None</td>\n",
       "            <td>None</td>\n",
       "            <td>None</td>\n",
       "            <td>None</td>\n",
       "            <td>12</td>\n",
       "            <td>40</td>\n",
       "            <td>861</td>\n",
       "        </tr>\n",
       "        <tr>\n",
       "            <td>None</td>\n",
       "            <td>None</td>\n",
       "            <td>None</td>\n",
       "            <td>None</td>\n",
       "            <td>None</td>\n",
       "            <td>14</td>\n",
       "            <td>None</td>\n",
       "            <td>None</td>\n",
       "            <td>None</td>\n",
       "            <td>None</td>\n",
       "            <td>None</td>\n",
       "            <td>None</td>\n",
       "            <td>None</td>\n",
       "            <td>14</td>\n",
       "            <td>40</td>\n",
       "            <td>1006</td>\n",
       "        </tr>\n",
       "        <tr>\n",
       "            <td>None</td>\n",
       "            <td>None</td>\n",
       "            <td>None</td>\n",
       "            <td>None</td>\n",
       "            <td>None</td>\n",
       "            <td>23</td>\n",
       "            <td>None</td>\n",
       "            <td>None</td>\n",
       "            <td>None</td>\n",
       "            <td>None</td>\n",
       "            <td>None</td>\n",
       "            <td>None</td>\n",
       "            <td>None</td>\n",
       "            <td>23</td>\n",
       "            <td>40</td>\n",
       "            <td>1079</td>\n",
       "        </tr>\n",
       "    </tbody>\n",
       "</table>"
      ],
      "text/plain": [
       "[(0, None, None, None, None, None, None, None, None, None, None, None, 8, None, 12, 331),\n",
       " (None, None, None, None, None, 8, None, None, None, None, None, None, None, 8, 40, 317),\n",
       " (None, None, None, None, None, 12, None, None, None, None, None, None, None, 12, 40, 861),\n",
       " (None, None, None, None, None, 14, None, None, None, None, None, None, None, 14, 40, 1006),\n",
       " (None, None, None, None, None, 23, None, None, None, None, None, None, None, 23, 40, 1079)]"
      ]
     },
     "execution_count": 271,
     "metadata": {},
     "output_type": "execute_result"
    }
   ],
   "source": [
    "%%sql\n",
    "select * from tests\n",
    "limit 5"
   ]
  },
  {
   "cell_type": "code",
   "execution_count": 272,
   "id": "73bbdf22",
   "metadata": {},
   "outputs": [
    {
     "name": "stdout",
     "output_type": "stream",
     "text": [
      " * postgresql://student@/week13\n",
      "5 rows affected.\n"
     ]
    },
    {
     "data": {
      "text/html": [
       "<table>\n",
       "    <thead>\n",
       "        <tr>\n",
       "            <th>key</th>\n",
       "            <th>state</th>\n",
       "        </tr>\n",
       "    </thead>\n",
       "    <tbody>\n",
       "        <tr>\n",
       "            <td>1</td>\n",
       "            <td>Arkansas</td>\n",
       "        </tr>\n",
       "        <tr>\n",
       "            <td>2</td>\n",
       "            <td>New Mexico</td>\n",
       "        </tr>\n",
       "        <tr>\n",
       "            <td>3</td>\n",
       "            <td>Washington</td>\n",
       "        </tr>\n",
       "        <tr>\n",
       "            <td>4</td>\n",
       "            <td>Celaware</td>\n",
       "        </tr>\n",
       "        <tr>\n",
       "            <td>5</td>\n",
       "            <td>Louisiana</td>\n",
       "        </tr>\n",
       "    </tbody>\n",
       "</table>"
      ],
      "text/plain": [
       "[(1, 'Arkansas'),\n",
       " (2, 'New Mexico'),\n",
       " (3, 'Washington'),\n",
       " (4, 'Celaware'),\n",
       " (5, 'Louisiana')]"
      ]
     },
     "execution_count": 272,
     "metadata": {},
     "output_type": "execute_result"
    }
   ],
   "source": [
    "%%sql\n",
    "select * from place\n",
    "limit 5"
   ]
  },
  {
   "cell_type": "code",
   "execution_count": 273,
   "id": "de47c096",
   "metadata": {},
   "outputs": [
    {
     "name": "stdout",
     "output_type": "stream",
     "text": [
      " * postgresql://student@/week13\n",
      "2 rows affected.\n"
     ]
    },
    {
     "data": {
      "text/html": [
       "<table>\n",
       "    <thead>\n",
       "        <tr>\n",
       "            <th>key</th>\n",
       "            <th>hour</th>\n",
       "            <th>day</th>\n",
       "            <th>year</th>\n",
       "            <th>month_of_year_str</th>\n",
       "            <th>month_of_year</th>\n",
       "            <th>day_of_month</th>\n",
       "            <th>day_of_week_str</th>\n",
       "            <th>day_of_week</th>\n",
       "            <th>hour_of_day</th>\n",
       "            <th>quarter_of_year</th>\n",
       "        </tr>\n",
       "    </thead>\n",
       "    <tbody>\n",
       "        <tr>\n",
       "            <td>1</td>\n",
       "            <td>2020-12-25 05:00:00</td>\n",
       "            <td>2020-12-25</td>\n",
       "            <td>2020</td>\n",
       "            <td>December </td>\n",
       "            <td>12</td>\n",
       "            <td>25</td>\n",
       "            <td>Friday   </td>\n",
       "            <td>6</td>\n",
       "            <td>5</td>\n",
       "            <td>4</td>\n",
       "        </tr>\n",
       "        <tr>\n",
       "            <td>2</td>\n",
       "            <td>2021-07-19 04:00:00</td>\n",
       "            <td>2021-07-19</td>\n",
       "            <td>2021</td>\n",
       "            <td>July     </td>\n",
       "            <td>7</td>\n",
       "            <td>19</td>\n",
       "            <td>Monday   </td>\n",
       "            <td>2</td>\n",
       "            <td>4</td>\n",
       "            <td>3</td>\n",
       "        </tr>\n",
       "    </tbody>\n",
       "</table>"
      ],
      "text/plain": [
       "[(1, '2020-12-25 05:00:00', '2020-12-25', 2020, 'December ', 12, 25, 'Friday   ', 6, 5, 4),\n",
       " (2, '2021-07-19 04:00:00', '2021-07-19', 2021, 'July     ', 7, 19, 'Monday   ', 2, 4, 3)]"
      ]
     },
     "execution_count": 273,
     "metadata": {},
     "output_type": "execute_result"
    }
   ],
   "source": [
    "%%sql\n",
    "select * from date\n",
    "limit 2"
   ]
  },
  {
   "cell_type": "markdown",
   "id": "945943bd",
   "metadata": {},
   "source": [
    "### Create dimension table Vaccine Type"
   ]
  },
  {
   "cell_type": "code",
   "execution_count": 274,
   "id": "833dea96",
   "metadata": {},
   "outputs": [
    {
     "name": "stdout",
     "output_type": "stream",
     "text": [
      " * postgresql://student@/week13\n",
      "Done.\n",
      "Done.\n"
     ]
    },
    {
     "data": {
      "text/plain": [
       "[]"
      ]
     },
     "execution_count": 274,
     "metadata": {},
     "output_type": "execute_result"
    }
   ],
   "source": [
    "%%sql\n",
    "DROP TABLE IF EXISTS vaccine_type;\n",
    "\n",
    "CREATE TABLE vaccine_type (\n",
    "    key SERIAL PRIMARY KEY,\n",
    "    V_type VARCHAR(64)\n",
    ");"
   ]
  },
  {
   "cell_type": "code",
   "execution_count": 275,
   "id": "4a073dfd",
   "metadata": {},
   "outputs": [
    {
     "name": "stdout",
     "output_type": "stream",
     "text": [
      " * postgresql://student@/week13\n",
      "4 rows affected.\n"
     ]
    },
    {
     "data": {
      "text/plain": [
       "[]"
      ]
     },
     "execution_count": 275,
     "metadata": {},
     "output_type": "execute_result"
    }
   ],
   "source": [
    "%%sql\n",
    "INSERT INTO vaccine_type (V_type)\n",
    "select distinct Vaccine_type as V_type\n",
    "from vaccine"
   ]
  },
  {
   "cell_type": "code",
   "execution_count": 276,
   "id": "eedd803c",
   "metadata": {},
   "outputs": [
    {
     "name": "stdout",
     "output_type": "stream",
     "text": [
      " * postgresql://student@/week13\n",
      "4 rows affected.\n"
     ]
    },
    {
     "data": {
      "text/html": [
       "<table>\n",
       "    <thead>\n",
       "        <tr>\n",
       "            <th>key</th>\n",
       "            <th>v_type</th>\n",
       "        </tr>\n",
       "    </thead>\n",
       "    <tbody>\n",
       "        <tr>\n",
       "            <td>1</td>\n",
       "            <td>Pfizer</td>\n",
       "        </tr>\n",
       "        <tr>\n",
       "            <td>2</td>\n",
       "            <td>Janssen</td>\n",
       "        </tr>\n",
       "        <tr>\n",
       "            <td>3</td>\n",
       "            <td>All</td>\n",
       "        </tr>\n",
       "        <tr>\n",
       "            <td>4</td>\n",
       "            <td>Moderna</td>\n",
       "        </tr>\n",
       "    </tbody>\n",
       "</table>"
      ],
      "text/plain": [
       "[(1, 'Pfizer'), (2, 'Janssen'), (3, 'All'), (4, 'Moderna')]"
      ]
     },
     "execution_count": 276,
     "metadata": {},
     "output_type": "execute_result"
    }
   ],
   "source": [
    "%%sql\n",
    "select * from vaccine_type"
   ]
  },
  {
   "cell_type": "code",
   "execution_count": 277,
   "id": "d1eb10e2",
   "metadata": {},
   "outputs": [
    {
     "name": "stdout",
     "output_type": "stream",
     "text": [
      " * postgresql://student@/week13\n",
      "Done.\n"
     ]
    },
    {
     "data": {
      "text/plain": [
       "[]"
      ]
     },
     "execution_count": 277,
     "metadata": {},
     "output_type": "execute_result"
    }
   ],
   "source": [
    "%%sql\n",
    "ALTER TABLE vaccine\n",
    "ADD COLUMN V_type_key int,\n",
    "ADD CONSTRAINT fk_vaccine_type\n",
    "    FOREIGN KEY (V_type_key)\n",
    "    REFERENCES vaccine_type(key)"
   ]
  },
  {
   "cell_type": "code",
   "execution_count": 278,
   "id": "0095983c",
   "metadata": {},
   "outputs": [
    {
     "name": "stdout",
     "output_type": "stream",
     "text": [
      " * postgresql://student@/week13\n",
      "83043 rows affected.\n"
     ]
    },
    {
     "data": {
      "text/plain": [
       "[]"
      ]
     },
     "execution_count": 278,
     "metadata": {},
     "output_type": "execute_result"
    }
   ],
   "source": [
    "%%sql\n",
    "UPDATE vaccine\n",
    "SET v_type_key = vaccine_type.key\n",
    "FROM vaccine_type\n",
    "WHERE vaccine.vaccine_type=vaccine_type.v_type"
   ]
  },
  {
   "cell_type": "code",
   "execution_count": 279,
   "id": "da5ab368",
   "metadata": {},
   "outputs": [
    {
     "name": "stdout",
     "output_type": "stream",
     "text": [
      " * postgresql://student@/week13\n",
      "Done.\n"
     ]
    },
    {
     "data": {
      "text/plain": [
       "[]"
      ]
     },
     "execution_count": 279,
     "metadata": {},
     "output_type": "execute_result"
    }
   ],
   "source": [
    "%%sql\n",
    "alter table vaccine drop column vaccine_type"
   ]
  },
  {
   "cell_type": "code",
   "execution_count": 280,
   "id": "67f9165f",
   "metadata": {},
   "outputs": [
    {
     "name": "stdout",
     "output_type": "stream",
     "text": [
      " * postgresql://student@/week13\n",
      "5 rows affected.\n"
     ]
    },
    {
     "data": {
      "text/html": [
       "<table>\n",
       "    <thead>\n",
       "        <tr>\n",
       "            <th>doses_alloc</th>\n",
       "            <th>doses_shipped</th>\n",
       "            <th>doses_admin</th>\n",
       "            <th>stage_one_doses</th>\n",
       "            <th>stage_two_doses</th>\n",
       "            <th>state_key</th>\n",
       "            <th>date_key</th>\n",
       "            <th>v_type_key</th>\n",
       "        </tr>\n",
       "    </thead>\n",
       "    <tbody>\n",
       "        <tr>\n",
       "            <td>None</td>\n",
       "            <td>None</td>\n",
       "            <td>None</td>\n",
       "            <td>None</td>\n",
       "            <td>None</td>\n",
       "            <td>35</td>\n",
       "            <td>8</td>\n",
       "            <td>1</td>\n",
       "        </tr>\n",
       "        <tr>\n",
       "            <td>None</td>\n",
       "            <td>None</td>\n",
       "            <td>None</td>\n",
       "            <td>None</td>\n",
       "            <td>None</td>\n",
       "            <td>35</td>\n",
       "            <td>8</td>\n",
       "            <td>4</td>\n",
       "        </tr>\n",
       "        <tr>\n",
       "            <td>None</td>\n",
       "            <td>None</td>\n",
       "            <td>None</td>\n",
       "            <td>None</td>\n",
       "            <td>None</td>\n",
       "            <td>35</td>\n",
       "            <td>8</td>\n",
       "            <td>3</td>\n",
       "        </tr>\n",
       "        <tr>\n",
       "            <td>None</td>\n",
       "            <td>None</td>\n",
       "            <td>None</td>\n",
       "            <td>None</td>\n",
       "            <td>None</td>\n",
       "            <td>35</td>\n",
       "            <td>1390</td>\n",
       "            <td>3</td>\n",
       "        </tr>\n",
       "        <tr>\n",
       "            <td>None</td>\n",
       "            <td>None</td>\n",
       "            <td>None</td>\n",
       "            <td>None</td>\n",
       "            <td>None</td>\n",
       "            <td>35</td>\n",
       "            <td>1390</td>\n",
       "            <td>4</td>\n",
       "        </tr>\n",
       "    </tbody>\n",
       "</table>"
      ],
      "text/plain": [
       "[(None, None, None, None, None, 35, 8, 1),\n",
       " (None, None, None, None, None, 35, 8, 4),\n",
       " (None, None, None, None, None, 35, 8, 3),\n",
       " (None, None, None, None, None, 35, 1390, 3),\n",
       " (None, None, None, None, None, 35, 1390, 4)]"
      ]
     },
     "execution_count": 280,
     "metadata": {},
     "output_type": "execute_result"
    }
   ],
   "source": [
    "%%sql \n",
    "select * from vaccine\n",
    "limit 5"
   ]
  },
  {
   "cell_type": "code",
   "execution_count": 281,
   "id": "0ebe046c-8b7f-4512-b06f-a546c0b0d860",
   "metadata": {},
   "outputs": [
    {
     "data": {
      "image/jpeg": "[encoded data removed]",
      "text/plain": [
       "<IPython.core.display.Image object>"
      ]
     },
     "execution_count": 281,
     "metadata": {},
     "output_type": "execute_result"
    }
   ],
   "source": [
    "from IPython.display import Image\n",
    "Image(\"StarSchema.jpeg\")"
   ]
  },
  {
   "cell_type": "markdown",
   "id": "ace5e403-d2be-454a-85fd-98d26e6200e9",
   "metadata": {},
   "source": [
    "# Data Analysis"
   ]
  },
  {
   "cell_type": "markdown",
   "id": "e833fa57",
   "metadata": {},
   "source": [
    "## Q1. How do vaccinations affect the positivity rate by state?"
   ]
  },
  {
   "cell_type": "markdown",
   "id": "9a983c50-4e1f-4722-956c-97feec9ff841",
   "metadata": {},
   "source": [
    "create a view to get the state, day, confirmed cases, and create 2 additional columns to get the cases from the previous day in order to calculate the daily increases\n",
    "\n",
    "then run some query to check the table/view displays expected data"
   ]
  },
  {
   "cell_type": "code",
   "execution_count": 282,
   "id": "12da5e9f",
   "metadata": {},
   "outputs": [
    {
     "name": "stdout",
     "output_type": "stream",
     "text": [
      " * postgresql://student@/week13\n",
      "Done.\n",
      "Done.\n"
     ]
    },
    {
     "data": {
      "text/plain": [
       "[]"
      ]
     },
     "execution_count": 282,
     "metadata": {},
     "output_type": "execute_result"
    }
   ],
   "source": [
    "%%sql\n",
    "\n",
    "DROP VIEW IF EXISTS positivity_Q1 ;\n",
    "\n",
    "CREATE VIEW positivity_Q1 AS\n",
    "\n",
    "SELECT state_key, state, day, confirmed,\n",
    "      LAG(confirmed) OVER (PARTITION BY state ORDER BY day ) AS previous_date,\n",
    "      confirmed - LAG(confirmed) OVER (PARTITION BY state ORDER BY day ) AS difference_previous_date\n",
    "FROM cases\n",
    "JOIN place\n",
    "    ON cases.state_key = place.key\n",
    "JOIN date\n",
    "    ON cases.date_key = date.key\n",
    "ORDER BY state, day"
   ]
  },
  {
   "cell_type": "code",
   "execution_count": 283,
   "id": "de8527ba-dd2d-4cb0-b421-7566e3984fa1",
   "metadata": {},
   "outputs": [
    {
     "name": "stdout",
     "output_type": "stream",
     "text": [
      " * postgresql://student@/week13\n",
      "5 rows affected.\n"
     ]
    },
    {
     "data": {
      "text/html": [
       "<table>\n",
       "    <thead>\n",
       "        <tr>\n",
       "            <th>state_key</th>\n",
       "            <th>state</th>\n",
       "            <th>day</th>\n",
       "            <th>confirmed</th>\n",
       "            <th>previous_date</th>\n",
       "            <th>difference_previous_date</th>\n",
       "        </tr>\n",
       "    </thead>\n",
       "    <tbody>\n",
       "        <tr>\n",
       "            <td>35</td>\n",
       "            <td>Alabama</td>\n",
       "            <td>2020-04-12</td>\n",
       "            <td>3667.0</td>\n",
       "            <td>None</td>\n",
       "            <td>None</td>\n",
       "        </tr>\n",
       "        <tr>\n",
       "            <td>35</td>\n",
       "            <td>Alabama</td>\n",
       "            <td>2020-04-13</td>\n",
       "            <td>3870.0</td>\n",
       "            <td>3667.0</td>\n",
       "            <td>203.0</td>\n",
       "        </tr>\n",
       "        <tr>\n",
       "            <td>35</td>\n",
       "            <td>Alabama</td>\n",
       "            <td>2020-04-14</td>\n",
       "            <td>4041.0</td>\n",
       "            <td>3870.0</td>\n",
       "            <td>171.0</td>\n",
       "        </tr>\n",
       "        <tr>\n",
       "            <td>35</td>\n",
       "            <td>Alabama</td>\n",
       "            <td>2020-04-15</td>\n",
       "            <td>4307.0</td>\n",
       "            <td>4041.0</td>\n",
       "            <td>266.0</td>\n",
       "        </tr>\n",
       "        <tr>\n",
       "            <td>35</td>\n",
       "            <td>Alabama</td>\n",
       "            <td>2020-04-16</td>\n",
       "            <td>4465.0</td>\n",
       "            <td>4307.0</td>\n",
       "            <td>158.0</td>\n",
       "        </tr>\n",
       "    </tbody>\n",
       "</table>"
      ],
      "text/plain": [
       "[(35, 'Alabama', '2020-04-12', 3667.0, None, None),\n",
       " (35, 'Alabama', '2020-04-13', 3870.0, 3667.0, 203.0),\n",
       " (35, 'Alabama', '2020-04-14', 4041.0, 3870.0, 171.0),\n",
       " (35, 'Alabama', '2020-04-15', 4307.0, 4041.0, 266.0),\n",
       " (35, 'Alabama', '2020-04-16', 4465.0, 4307.0, 158.0)]"
      ]
     },
     "execution_count": 283,
     "metadata": {},
     "output_type": "execute_result"
    }
   ],
   "source": [
    "%%sql\n",
    "\n",
    "select * from positivity_Q1 limit 5\n"
   ]
  },
  {
   "cell_type": "markdown",
   "id": "0dbf7e96-60be-40e4-84de-8484b058b3c2",
   "metadata": {},
   "source": [
    "create a view to get the state, day, those fully vaccinated, and create 2 additional columns to get the cases from the previous day in order to calculate the daily increases\n",
    "\n",
    "then run some query to check the table/view displays expected data"
   ]
  },
  {
   "cell_type": "code",
   "execution_count": 284,
   "id": "be291d02",
   "metadata": {},
   "outputs": [
    {
     "name": "stdout",
     "output_type": "stream",
     "text": [
      " * postgresql://student@/week13\n",
      "Done.\n",
      "Done.\n"
     ]
    },
    {
     "data": {
      "text/plain": [
       "[]"
      ]
     },
     "execution_count": 284,
     "metadata": {},
     "output_type": "execute_result"
    }
   ],
   "source": [
    "%%sql\n",
    "\n",
    "DROP VIEW IF EXISTS vaccination_Q1;\n",
    "\n",
    "CREATE VIEW vaccination_Q1 AS\n",
    "\n",
    "SELECT state_key, state, day, fully_vaccinated, \n",
    "      LAG(fully_vaccinated) OVER (PARTITION BY state ORDER BY day ) AS previous_date,\n",
    "      fully_vaccinated - LAG(fully_vaccinated) OVER (PARTITION BY state ORDER BY day ) AS difference_previous_date\n",
    "FROM people_vaccinated\n",
    "JOIN place\n",
    "    ON people_vaccinated.state_key = place.key\n",
    "JOIN date\n",
    "    ON people_vaccinated.date_key = date.key\n",
    "ORDER BY state, day"
   ]
  },
  {
   "cell_type": "code",
   "execution_count": 285,
   "id": "b8e8633e-17d5-45e2-b3d6-44621505494a",
   "metadata": {},
   "outputs": [
    {
     "name": "stdout",
     "output_type": "stream",
     "text": [
      " * postgresql://student@/week13\n",
      "5 rows affected.\n"
     ]
    },
    {
     "data": {
      "text/html": [
       "<table>\n",
       "    <thead>\n",
       "        <tr>\n",
       "            <th>state_key</th>\n",
       "            <th>state</th>\n",
       "            <th>day</th>\n",
       "            <th>fully_vaccinated</th>\n",
       "            <th>previous_date</th>\n",
       "            <th>difference_previous_date</th>\n",
       "        </tr>\n",
       "    </thead>\n",
       "    <tbody>\n",
       "        <tr>\n",
       "            <td>35</td>\n",
       "            <td>Alabama</td>\n",
       "            <td>2021-04-11</td>\n",
       "            <td>811323</td>\n",
       "            <td>788325</td>\n",
       "            <td>22998</td>\n",
       "        </tr>\n",
       "        <tr>\n",
       "            <td>35</td>\n",
       "            <td>Alabama</td>\n",
       "            <td>2021-04-12</td>\n",
       "            <td>819550</td>\n",
       "            <td>811323</td>\n",
       "            <td>8227</td>\n",
       "        </tr>\n",
       "        <tr>\n",
       "            <td>35</td>\n",
       "            <td>Alabama</td>\n",
       "            <td>2021-04-13</td>\n",
       "            <td>824052</td>\n",
       "            <td>819550</td>\n",
       "            <td>4502</td>\n",
       "        </tr>\n",
       "        <tr>\n",
       "            <td>35</td>\n",
       "            <td>Alabama</td>\n",
       "            <td>2021-04-14</td>\n",
       "            <td>844353</td>\n",
       "            <td>824052</td>\n",
       "            <td>20301</td>\n",
       "        </tr>\n",
       "        <tr>\n",
       "            <td>35</td>\n",
       "            <td>Alabama</td>\n",
       "            <td>2021-04-15</td>\n",
       "            <td>893002</td>\n",
       "            <td>844353</td>\n",
       "            <td>48649</td>\n",
       "        </tr>\n",
       "    </tbody>\n",
       "</table>"
      ],
      "text/plain": [
       "[(35, 'Alabama', '2021-04-11', 811323, 788325, 22998),\n",
       " (35, 'Alabama', '2021-04-12', 819550, 811323, 8227),\n",
       " (35, 'Alabama', '2021-04-13', 824052, 819550, 4502),\n",
       " (35, 'Alabama', '2021-04-14', 844353, 824052, 20301),\n",
       " (35, 'Alabama', '2021-04-15', 893002, 844353, 48649)]"
      ]
     },
     "execution_count": 285,
     "metadata": {},
     "output_type": "execute_result"
    }
   ],
   "source": [
    "%%sql\n",
    "\n",
    "select * from vaccination_Q1 where fully_vaccinated >800000 limit 5"
   ]
  },
  {
   "cell_type": "markdown",
   "id": "d81ac10a-a097-4be6-812e-e66e885ec042",
   "metadata": {},
   "source": [
    "create a table to get the daily fully vaccinated per million based on population of location\n",
    "\n",
    "then run some query to check the table/view displays expected data"
   ]
  },
  {
   "cell_type": "code",
   "execution_count": 286,
   "id": "e6afaecf-d810-4bc7-8bb9-9bbe1123397a",
   "metadata": {},
   "outputs": [
    {
     "name": "stdout",
     "output_type": "stream",
     "text": [
      " * postgresql://student@/week13\n",
      "Done.\n",
      "22212 rows affected.\n"
     ]
    },
    {
     "data": {
      "text/plain": [
       "[]"
      ]
     },
     "execution_count": 286,
     "metadata": {},
     "output_type": "execute_result"
    }
   ],
   "source": [
    "%%sql\n",
    "DROP Table IF EXISTS vaccianted_per_mil_Q1;\n",
    "\n",
    "CREATE Table vaccianted_per_mil_Q1 AS\n",
    "\n",
    "SELECT v.*, p.population,round(v.difference_previous_date/(p.population/1000000), 0) as vaccinated_per_mil\n",
    "FROM vaccination_Q1 v \n",
    "LEFT OUTER JOIN USpopulation p \n",
    "    ON v.state_key = p.state_key"
   ]
  },
  {
   "cell_type": "code",
   "execution_count": 287,
   "id": "9b70eeb6-34fe-40ba-bd4c-8cf79334cfb8",
   "metadata": {},
   "outputs": [
    {
     "name": "stdout",
     "output_type": "stream",
     "text": [
      " * postgresql://student@/week13\n",
      "5 rows affected.\n"
     ]
    },
    {
     "data": {
      "text/html": [
       "<table>\n",
       "    <thead>\n",
       "        <tr>\n",
       "            <th>state_key</th>\n",
       "            <th>state</th>\n",
       "            <th>day</th>\n",
       "            <th>fully_vaccinated</th>\n",
       "            <th>previous_date</th>\n",
       "            <th>difference_previous_date</th>\n",
       "            <th>population</th>\n",
       "            <th>vaccinated_per_mil</th>\n",
       "        </tr>\n",
       "    </thead>\n",
       "    <tbody>\n",
       "        <tr>\n",
       "            <td>35</td>\n",
       "            <td>Alabama</td>\n",
       "            <td>2021-04-11</td>\n",
       "            <td>811323</td>\n",
       "            <td>788325</td>\n",
       "            <td>22998</td>\n",
       "            <td>5024279</td>\n",
       "            <td>4577</td>\n",
       "        </tr>\n",
       "        <tr>\n",
       "            <td>35</td>\n",
       "            <td>Alabama</td>\n",
       "            <td>2021-04-12</td>\n",
       "            <td>819550</td>\n",
       "            <td>811323</td>\n",
       "            <td>8227</td>\n",
       "            <td>5024279</td>\n",
       "            <td>1637</td>\n",
       "        </tr>\n",
       "        <tr>\n",
       "            <td>35</td>\n",
       "            <td>Alabama</td>\n",
       "            <td>2021-04-13</td>\n",
       "            <td>824052</td>\n",
       "            <td>819550</td>\n",
       "            <td>4502</td>\n",
       "            <td>5024279</td>\n",
       "            <td>896</td>\n",
       "        </tr>\n",
       "        <tr>\n",
       "            <td>35</td>\n",
       "            <td>Alabama</td>\n",
       "            <td>2021-04-14</td>\n",
       "            <td>844353</td>\n",
       "            <td>824052</td>\n",
       "            <td>20301</td>\n",
       "            <td>5024279</td>\n",
       "            <td>4041</td>\n",
       "        </tr>\n",
       "        <tr>\n",
       "            <td>35</td>\n",
       "            <td>Alabama</td>\n",
       "            <td>2021-04-15</td>\n",
       "            <td>893002</td>\n",
       "            <td>844353</td>\n",
       "            <td>48649</td>\n",
       "            <td>5024279</td>\n",
       "            <td>9683</td>\n",
       "        </tr>\n",
       "    </tbody>\n",
       "</table>"
      ],
      "text/plain": [
       "[(35, 'Alabama', '2021-04-11', 811323, 788325, 22998, Decimal('5024279'), Decimal('4577')),\n",
       " (35, 'Alabama', '2021-04-12', 819550, 811323, 8227, Decimal('5024279'), Decimal('1637')),\n",
       " (35, 'Alabama', '2021-04-13', 824052, 819550, 4502, Decimal('5024279'), Decimal('896')),\n",
       " (35, 'Alabama', '2021-04-14', 844353, 824052, 20301, Decimal('5024279'), Decimal('4041')),\n",
       " (35, 'Alabama', '2021-04-15', 893002, 844353, 48649, Decimal('5024279'), Decimal('9683'))]"
      ]
     },
     "execution_count": 287,
     "metadata": {},
     "output_type": "execute_result"
    }
   ],
   "source": [
    "%%sql\n",
    "\n",
    "select * from vaccianted_per_mil_Q1 where fully_vaccinated >800000 limit 5"
   ]
  },
  {
   "cell_type": "markdown",
   "id": "43638095-be91-4997-b355-fb2068184df1",
   "metadata": {},
   "source": [
    "create a table to get the daily confirmed per million based on population of location\n",
    "\n",
    "then run some query to check the table/view displays expected data"
   ]
  },
  {
   "cell_type": "code",
   "execution_count": 288,
   "id": "0a89564c",
   "metadata": {},
   "outputs": [
    {
     "name": "stdout",
     "output_type": "stream",
     "text": [
      " * postgresql://student@/week13\n",
      "Done.\n",
      "34674 rows affected.\n"
     ]
    },
    {
     "data": {
      "text/plain": [
       "[]"
      ]
     },
     "execution_count": 288,
     "metadata": {},
     "output_type": "execute_result"
    }
   ],
   "source": [
    "%%sql\n",
    "DROP TABLE IF EXISTS positivity_per_mil_Q1;\n",
    "\n",
    "CREATE TABLE positivity_per_mil_Q1 as\n",
    "\n",
    "SELECT c.*, p.population, round(cast(c.difference_previous_date/(p.population/1000000) AS numeric), 0) as positivity_per_mil\n",
    "FROM positivity_Q1 c \n",
    "LEFT OUTER JOIN USpopulation p\n",
    "    ON c.state_key = p.state_key"
   ]
  },
  {
   "cell_type": "code",
   "execution_count": 289,
   "id": "f866bcda-042b-4c04-bba1-0443bb8c631e",
   "metadata": {},
   "outputs": [
    {
     "name": "stdout",
     "output_type": "stream",
     "text": [
      " * postgresql://student@/week13\n",
      "5 rows affected.\n"
     ]
    },
    {
     "data": {
      "text/html": [
       "<table>\n",
       "    <thead>\n",
       "        <tr>\n",
       "            <th>state_key</th>\n",
       "            <th>state</th>\n",
       "            <th>day</th>\n",
       "            <th>confirmed</th>\n",
       "            <th>previous_date</th>\n",
       "            <th>difference_previous_date</th>\n",
       "            <th>population</th>\n",
       "            <th>positivity_per_mil</th>\n",
       "        </tr>\n",
       "    </thead>\n",
       "    <tbody>\n",
       "        <tr>\n",
       "            <td>35</td>\n",
       "            <td>Alabama</td>\n",
       "            <td>2021-10-04</td>\n",
       "            <td>800692.0</td>\n",
       "            <td>799800.0</td>\n",
       "            <td>892.0</td>\n",
       "            <td>5024279</td>\n",
       "            <td>178</td>\n",
       "        </tr>\n",
       "        <tr>\n",
       "            <td>35</td>\n",
       "            <td>Alabama</td>\n",
       "            <td>2021-10-05</td>\n",
       "            <td>801428.0</td>\n",
       "            <td>800692.0</td>\n",
       "            <td>736.0</td>\n",
       "            <td>5024279</td>\n",
       "            <td>146</td>\n",
       "        </tr>\n",
       "        <tr>\n",
       "            <td>35</td>\n",
       "            <td>Alabama</td>\n",
       "            <td>2021-10-06</td>\n",
       "            <td>802977.0</td>\n",
       "            <td>801428.0</td>\n",
       "            <td>1549.0</td>\n",
       "            <td>5024279</td>\n",
       "            <td>308</td>\n",
       "        </tr>\n",
       "        <tr>\n",
       "            <td>35</td>\n",
       "            <td>Alabama</td>\n",
       "            <td>2021-10-07</td>\n",
       "            <td>804249.0</td>\n",
       "            <td>802977.0</td>\n",
       "            <td>1272.0</td>\n",
       "            <td>5024279</td>\n",
       "            <td>253</td>\n",
       "        </tr>\n",
       "        <tr>\n",
       "            <td>35</td>\n",
       "            <td>Alabama</td>\n",
       "            <td>2021-10-08</td>\n",
       "            <td>805511.0</td>\n",
       "            <td>804249.0</td>\n",
       "            <td>1262.0</td>\n",
       "            <td>5024279</td>\n",
       "            <td>251</td>\n",
       "        </tr>\n",
       "    </tbody>\n",
       "</table>"
      ],
      "text/plain": [
       "[(35, 'Alabama', '2021-10-04', 800692.0, 799800.0, 892.0, Decimal('5024279'), Decimal('178')),\n",
       " (35, 'Alabama', '2021-10-05', 801428.0, 800692.0, 736.0, Decimal('5024279'), Decimal('146')),\n",
       " (35, 'Alabama', '2021-10-06', 802977.0, 801428.0, 1549.0, Decimal('5024279'), Decimal('308')),\n",
       " (35, 'Alabama', '2021-10-07', 804249.0, 802977.0, 1272.0, Decimal('5024279'), Decimal('253')),\n",
       " (35, 'Alabama', '2021-10-08', 805511.0, 804249.0, 1262.0, Decimal('5024279'), Decimal('251'))]"
      ]
     },
     "execution_count": 289,
     "metadata": {},
     "output_type": "execute_result"
    }
   ],
   "source": [
    "%%sql\n",
    "\n",
    "select * from positivity_per_mil_Q1 where confirmed >800000 limit 5"
   ]
  },
  {
   "cell_type": "markdown",
   "id": "f8769ecb-828f-40e6-92c1-85db4f84de2c",
   "metadata": {},
   "source": [
    "join the two tables with the data of interest into a single table for further analysis\n",
    "\n",
    "then run some query to check the table/view displays expected data"
   ]
  },
  {
   "cell_type": "code",
   "execution_count": 290,
   "id": "d89fb42c",
   "metadata": {},
   "outputs": [
    {
     "name": "stdout",
     "output_type": "stream",
     "text": [
      " * postgresql://student@/week13\n",
      "Done.\n",
      "34674 rows affected.\n"
     ]
    },
    {
     "data": {
      "text/plain": [
       "[]"
      ]
     },
     "execution_count": 290,
     "metadata": {},
     "output_type": "execute_result"
    }
   ],
   "source": [
    "%%sql\n",
    "DROP TABLE IF EXISTS Q1_positive;\n",
    "\n",
    "CREATE TABLE Q1_positive as\n",
    "\n",
    "SELECT p.*, v.fully_vaccinated, v.previous_date as vaccinated_previous, v.difference_previous_date as vaccinated_daily, v.vaccinated_per_mil\n",
    "FROM positivity_per_mil_Q1 p LEFT OUTER JOIN vaccianted_per_mil_Q1 v\n",
    "ON p.state = v.state and p.day = v.day"
   ]
  },
  {
   "cell_type": "code",
   "execution_count": 291,
   "id": "77a9557c-08ed-46da-a0cc-ab4071491767",
   "metadata": {},
   "outputs": [
    {
     "name": "stdout",
     "output_type": "stream",
     "text": [
      " * postgresql://student@/week13\n",
      "3 rows affected.\n"
     ]
    },
    {
     "data": {
      "text/html": [
       "<table>\n",
       "    <thead>\n",
       "        <tr>\n",
       "            <th>state_key</th>\n",
       "            <th>state</th>\n",
       "            <th>day</th>\n",
       "            <th>confirmed</th>\n",
       "            <th>previous_date</th>\n",
       "            <th>difference_previous_date</th>\n",
       "            <th>population</th>\n",
       "            <th>positivity_per_mil</th>\n",
       "            <th>fully_vaccinated</th>\n",
       "            <th>vaccinated_previous</th>\n",
       "            <th>vaccinated_daily</th>\n",
       "            <th>vaccinated_per_mil</th>\n",
       "        </tr>\n",
       "    </thead>\n",
       "    <tbody>\n",
       "        <tr>\n",
       "            <td>8</td>\n",
       "            <td>District of Columbia</td>\n",
       "            <td>2021-06-16</td>\n",
       "            <td>49213.0</td>\n",
       "            <td>49200.0</td>\n",
       "            <td>13.0</td>\n",
       "            <td>689545</td>\n",
       "            <td>19</td>\n",
       "            <td>438316</td>\n",
       "            <td>347921</td>\n",
       "            <td>90395</td>\n",
       "            <td>131094</td>\n",
       "        </tr>\n",
       "        <tr>\n",
       "            <td>8</td>\n",
       "            <td>District of Columbia</td>\n",
       "            <td>2021-08-04</td>\n",
       "            <td>50800.0</td>\n",
       "            <td>50718.0</td>\n",
       "            <td>82.0</td>\n",
       "            <td>689545</td>\n",
       "            <td>119</td>\n",
       "            <td>483158</td>\n",
       "            <td>387859</td>\n",
       "            <td>95299</td>\n",
       "            <td>138206</td>\n",
       "        </tr>\n",
       "        <tr>\n",
       "            <td>29</td>\n",
       "            <td>Rhode Island</td>\n",
       "            <td>2021-06-07</td>\n",
       "            <td>151992.0</td>\n",
       "            <td>151992.0</td>\n",
       "            <td>0.0</td>\n",
       "            <td>1097379</td>\n",
       "            <td>0</td>\n",
       "            <td>662859</td>\n",
       "            <td>564011</td>\n",
       "            <td>98848</td>\n",
       "            <td>90076</td>\n",
       "        </tr>\n",
       "    </tbody>\n",
       "</table>"
      ],
      "text/plain": [
       "[(8, 'District of Columbia', '2021-06-16', 49213.0, 49200.0, 13.0, Decimal('689545'), Decimal('19'), 438316, 347921, 90395, Decimal('131094')),\n",
       " (8, 'District of Columbia', '2021-08-04', 50800.0, 50718.0, 82.0, Decimal('689545'), Decimal('119'), 483158, 387859, 95299, Decimal('138206')),\n",
       " (29, 'Rhode Island', '2021-06-07', 151992.0, 151992.0, 0.0, Decimal('1097379'), Decimal('0'), 662859, 564011, 98848, Decimal('90076'))]"
      ]
     },
     "execution_count": 291,
     "metadata": {},
     "output_type": "execute_result"
    }
   ],
   "source": [
    "%%sql\n",
    "\n",
    "select * from Q1_positive where vaccinated_per_mil >80000 limit 5"
   ]
  },
  {
   "cell_type": "markdown",
   "id": "36e6f177-8e93-4b7e-921c-302c3411bc07",
   "metadata": {},
   "source": [
    "export table as csv"
   ]
  },
  {
   "cell_type": "code",
   "execution_count": 292,
   "id": "f02b5905",
   "metadata": {},
   "outputs": [
    {
     "name": "stdout",
     "output_type": "stream",
     "text": [
      " * postgresql://student@/week13\n",
      "0 rows affected.\n"
     ]
    },
    {
     "data": {
      "text/html": [
       "<table>\n",
       "    <thead>\n",
       "        <tr>\n",
       "        </tr>\n",
       "    </thead>\n",
       "    <tbody>\n",
       "    </tbody>\n",
       "</table>"
      ],
      "text/plain": [
       "[]"
      ]
     },
     "execution_count": 292,
     "metadata": {},
     "output_type": "execute_result"
    }
   ],
   "source": [
    "%%sql\n",
    "\n",
    "\\copy (select * from Q1_positive) to '/home/ubuntu/notebooks/Final/Q1_positive.csv' with (format csv, header)"
   ]
  },
  {
   "cell_type": "code",
   "execution_count": 293,
   "id": "a1f5391f-28bc-4903-aa3b-95d947c6a2cf",
   "metadata": {},
   "outputs": [
    {
     "name": "stdout",
     "output_type": "stream",
     "text": [
      " * postgresql://student@/week13\n",
      "Done.\n",
      "Done.\n",
      "Done.\n"
     ]
    },
    {
     "data": {
      "text/plain": [
       "[]"
      ]
     },
     "execution_count": 293,
     "metadata": {},
     "output_type": "execute_result"
    }
   ],
   "source": [
    "%%sql\n",
    "\n",
    "DROP TABLE IF EXISTS positivity_per_mil_Q1;\n",
    "DROP TABLE IF EXISTS Q1_positive;\n",
    "DROP Table IF EXISTS vaccianted_per_mil_Q1;"
   ]
  },
  {
   "cell_type": "markdown",
   "id": "2d5b572d",
   "metadata": {},
   "source": [
    "Just an observation to share... the number of people vaccinated in a certain state does not mean they they are actually from that state.  For example, the total number of  fully vaccinated folks in dc is around 580k.  420k are actually DC residents. 160k are residets from outside of DC.  "
   ]
  },
  {
   "cell_type": "markdown",
   "id": "ff03c1df-fa01-400e-bafc-5d604e0a3f2d",
   "metadata": {},
   "source": [
    "Check file Q1 for conclusion and visualizations"
   ]
  },
  {
   "cell_type": "markdown",
   "id": "5eb3465b-e87c-4755-b1a2-389c1d613b6a",
   "metadata": {},
   "source": [
    "## Q2. Does higher testing capacity lead to higher positive rates?"
   ]
  },
  {
   "cell_type": "code",
   "execution_count": 294,
   "id": "f2123805-515b-45cb-9a14-736d08fc1cee",
   "metadata": {},
   "outputs": [],
   "source": [
    "# get the cumulative number of completed PCR tests per quarter, per year.\n",
    "# get the cumulative number of competed PCR tests that return positive per quarter, per year.\n",
    "# get the cumulative number of competed PCR tests that return negative per quarter, per year.\n",
    "# five states: Utah, Florida, Missouri, Connecticut, Oregon\n",
    "\n",
    "# get the cumulative number of completed PCR tests per month, per year.\n",
    "# get the cumulative number of competed PCR tests that return positive per month, per year.\n",
    "# get the cumulative number of competed PCR tests that return negative per month, per year.\n",
    "# five states: Utah, Florida, Missouri, Connecticut, Oregon"
   ]
  },
  {
   "cell_type": "code",
   "execution_count": 299,
   "id": "afcc5b66-d7ad-44f1-b13c-718e3978a958",
   "metadata": {
    "tags": []
   },
   "outputs": [
    {
     "name": "stdout",
     "output_type": "stream",
     "text": [
      " * postgresql://student@/week13\n",
      "Done.\n",
      "8 rows affected.\n"
     ]
    },
    {
     "data": {
      "text/plain": [
       "[]"
      ]
     },
     "execution_count": 299,
     "metadata": {},
     "output_type": "execute_result"
    }
   ],
   "source": [
    "%%sql\n",
    "DROP TABLE IF EXISTS utah_qtrly_viral_tests;\n",
    "\n",
    "CREATE TABLE utah_qtrly_viral_tests as\n",
    "\n",
    "SELECT state, quarter_of_year, year,\n",
    "    sum(tests_viral_total) total_viral_tests,\n",
    "    sum(tests_viral_positive) total_positive_viral_tests,\n",
    "    sum(tests_viral_negative) total_negative_viral_tests\n",
    "FROM tests\n",
    "JOIN place\n",
    "    ON tests.state_key = place.key\n",
    "JOIN date\n",
    "    ON tests.date_key = date.key\n",
    "WHERE state = 'Utah'\n",
    "GROUP BY state, quarter_of_year, year\n",
    "ORDER BY state, year, quarter_of_year;"
   ]
  },
  {
   "cell_type": "code",
   "execution_count": 302,
   "id": "6b33520b-8f64-4f2e-b4c5-20759bf44bef",
   "metadata": {},
   "outputs": [
    {
     "name": "stdout",
     "output_type": "stream",
     "text": [
      " * postgresql://student@/week13\n",
      "5 rows affected.\n"
     ]
    },
    {
     "data": {
      "text/html": [
       "<table>\n",
       "    <thead>\n",
       "        <tr>\n",
       "            <th>state</th>\n",
       "            <th>quarter_of_year</th>\n",
       "            <th>year</th>\n",
       "            <th>total_viral_tests</th>\n",
       "            <th>total_positive_viral_tests</th>\n",
       "            <th>total_negative_viral_tests</th>\n",
       "        </tr>\n",
       "    </thead>\n",
       "    <tbody>\n",
       "        <tr>\n",
       "            <td>Utah</td>\n",
       "            <td>1</td>\n",
       "            <td>2020</td>\n",
       "            <td>139475</td>\n",
       "            <td>7079</td>\n",
       "            <td>132396</td>\n",
       "        </tr>\n",
       "        <tr>\n",
       "            <td>Utah</td>\n",
       "            <td>2</td>\n",
       "            <td>2020</td>\n",
       "            <td>17376816</td>\n",
       "            <td>875206</td>\n",
       "            <td>16501610</td>\n",
       "        </tr>\n",
       "        <tr>\n",
       "            <td>Utah</td>\n",
       "            <td>3</td>\n",
       "            <td>2020</td>\n",
       "            <td>67166910</td>\n",
       "            <td>4712568</td>\n",
       "            <td>62454342</td>\n",
       "        </tr>\n",
       "        <tr>\n",
       "            <td>Utah</td>\n",
       "            <td>4</td>\n",
       "            <td>2020</td>\n",
       "            <td>150116660</td>\n",
       "            <td>15075755</td>\n",
       "            <td>135040905</td>\n",
       "        </tr>\n",
       "        <tr>\n",
       "            <td>Utah</td>\n",
       "            <td>1</td>\n",
       "            <td>2021</td>\n",
       "            <td>244466416</td>\n",
       "            <td>29407418</td>\n",
       "            <td>214938079</td>\n",
       "        </tr>\n",
       "    </tbody>\n",
       "</table>"
      ],
      "text/plain": [
       "[('Utah', 1, 2020, 139475, 7079, 132396),\n",
       " ('Utah', 2, 2020, 17376816, 875206, 16501610),\n",
       " ('Utah', 3, 2020, 67166910, 4712568, 62454342),\n",
       " ('Utah', 4, 2020, 150116660, 15075755, 135040905),\n",
       " ('Utah', 1, 2021, 244466416, 29407418, 214938079)]"
      ]
     },
     "execution_count": 302,
     "metadata": {},
     "output_type": "execute_result"
    }
   ],
   "source": [
    "%%sql\n",
    "select * from utah_qtrly_viral_tests limit 5"
   ]
  },
  {
   "cell_type": "code",
   "execution_count": 312,
   "id": "1feb910e-aff9-461e-affe-91d3611be725",
   "metadata": {},
   "outputs": [
    {
     "name": "stdout",
     "output_type": "stream",
     "text": [
      " * postgresql://student@/week13\n",
      "0 rows affected.\n"
     ]
    },
    {
     "data": {
      "text/html": [
       "<table>\n",
       "    <thead>\n",
       "        <tr>\n",
       "        </tr>\n",
       "    </thead>\n",
       "    <tbody>\n",
       "    </tbody>\n",
       "</table>"
      ],
      "text/plain": [
       "[]"
      ]
     },
     "execution_count": 312,
     "metadata": {},
     "output_type": "execute_result"
    }
   ],
   "source": [
    "%%sql\n",
    "\n",
    "\\copy (select * from utah_qtrly_viral_tests) to '/home/ubuntu/notebooks/Final/tables/utah_qtrly_viral_tests.csv' with (format csv, header)"
   ]
  },
  {
   "cell_type": "code",
   "execution_count": 304,
   "id": "0212eaa5-da8e-4c8e-b181-fb25f9776c44",
   "metadata": {},
   "outputs": [
    {
     "name": "stdout",
     "output_type": "stream",
     "text": [
      " * postgresql://student@/week13\n",
      "Done.\n",
      "22 rows affected.\n"
     ]
    },
    {
     "data": {
      "text/plain": [
       "[]"
      ]
     },
     "execution_count": 304,
     "metadata": {},
     "output_type": "execute_result"
    }
   ],
   "source": [
    "%%sql\n",
    "DROP TABLE IF EXISTS utah_mthly_viral_tests;\n",
    "\n",
    "CREATE TABLE utah_mthly_viral_tests as\n",
    "\n",
    "SELECT state, month_of_year, month_of_year_str, year,\n",
    "    sum(tests_viral_total) total_viral_tests,\n",
    "    sum(tests_viral_positive) total_positive_viral_tests,\n",
    "    sum(tests_viral_negative) total_negative_viral_tests\n",
    "FROM tests\n",
    "JOIN place\n",
    "    ON tests.state_key = place.key\n",
    "JOIN date\n",
    "    ON tests.date_key = date.key\n",
    "WHERE state = 'Utah'\n",
    "GROUP BY state, month_of_year, month_of_year_str, year\n",
    "ORDER BY state, year, month_of_year;"
   ]
  },
  {
   "cell_type": "code",
   "execution_count": 305,
   "id": "a20ef234-3bc7-4fc2-a51a-e6cdda62c5a3",
   "metadata": {},
   "outputs": [
    {
     "name": "stdout",
     "output_type": "stream",
     "text": [
      " * postgresql://student@/week13\n",
      "5 rows affected.\n"
     ]
    },
    {
     "data": {
      "text/html": [
       "<table>\n",
       "    <thead>\n",
       "        <tr>\n",
       "            <th>state</th>\n",
       "            <th>month_of_year</th>\n",
       "            <th>month_of_year_str</th>\n",
       "            <th>year</th>\n",
       "            <th>total_viral_tests</th>\n",
       "            <th>total_positive_viral_tests</th>\n",
       "            <th>total_negative_viral_tests</th>\n",
       "        </tr>\n",
       "    </thead>\n",
       "    <tbody>\n",
       "        <tr>\n",
       "            <td>Utah</td>\n",
       "            <td>3</td>\n",
       "            <td>March    </td>\n",
       "            <td>2020</td>\n",
       "            <td>139475</td>\n",
       "            <td>7079</td>\n",
       "            <td>132396</td>\n",
       "        </tr>\n",
       "        <tr>\n",
       "            <td>Utah</td>\n",
       "            <td>4</td>\n",
       "            <td>April    </td>\n",
       "            <td>2020</td>\n",
       "            <td>1944286</td>\n",
       "            <td>91046</td>\n",
       "            <td>1853240</td>\n",
       "        </tr>\n",
       "        <tr>\n",
       "            <td>Utah</td>\n",
       "            <td>5</td>\n",
       "            <td>May      </td>\n",
       "            <td>2020</td>\n",
       "            <td>5701893</td>\n",
       "            <td>250348</td>\n",
       "            <td>5451545</td>\n",
       "        </tr>\n",
       "        <tr>\n",
       "            <td>Utah</td>\n",
       "            <td>6</td>\n",
       "            <td>June     </td>\n",
       "            <td>2020</td>\n",
       "            <td>9730637</td>\n",
       "            <td>533812</td>\n",
       "            <td>9196825</td>\n",
       "        </tr>\n",
       "        <tr>\n",
       "            <td>Utah</td>\n",
       "            <td>7</td>\n",
       "            <td>July     </td>\n",
       "            <td>2020</td>\n",
       "            <td>16447702</td>\n",
       "            <td>1108436</td>\n",
       "            <td>15339266</td>\n",
       "        </tr>\n",
       "    </tbody>\n",
       "</table>"
      ],
      "text/plain": [
       "[('Utah', 3, 'March    ', 2020, 139475, 7079, 132396),\n",
       " ('Utah', 4, 'April    ', 2020, 1944286, 91046, 1853240),\n",
       " ('Utah', 5, 'May      ', 2020, 5701893, 250348, 5451545),\n",
       " ('Utah', 6, 'June     ', 2020, 9730637, 533812, 9196825),\n",
       " ('Utah', 7, 'July     ', 2020, 16447702, 1108436, 15339266)]"
      ]
     },
     "execution_count": 305,
     "metadata": {},
     "output_type": "execute_result"
    }
   ],
   "source": [
    "%%sql\n",
    "select * from utah_mthly_viral_tests limit 5"
   ]
  },
  {
   "cell_type": "code",
   "execution_count": 311,
   "id": "8d89fb85-71c0-45b1-bead-be7da4b620af",
   "metadata": {},
   "outputs": [
    {
     "name": "stdout",
     "output_type": "stream",
     "text": [
      " * postgresql://student@/week13\n",
      "0 rows affected.\n"
     ]
    },
    {
     "data": {
      "text/html": [
       "<table>\n",
       "    <thead>\n",
       "        <tr>\n",
       "        </tr>\n",
       "    </thead>\n",
       "    <tbody>\n",
       "    </tbody>\n",
       "</table>"
      ],
      "text/plain": [
       "[]"
      ]
     },
     "execution_count": 311,
     "metadata": {},
     "output_type": "execute_result"
    }
   ],
   "source": [
    "%%sql\n",
    "\n",
    "\\copy (select * from utah_mthly_viral_tests) to '/home/ubuntu/notebooks/Final/tables/utah_mthly_viral_tests.csv' with (format csv, header)"
   ]
  },
  {
   "cell_type": "code",
   "execution_count": 307,
   "id": "c688e2f6-b805-48ca-99f3-16dc98e96dea",
   "metadata": {},
   "outputs": [
    {
     "name": "stdout",
     "output_type": "stream",
     "text": [
      " * postgresql://student@/week13\n",
      "Done.\n",
      "8 rows affected.\n"
     ]
    },
    {
     "data": {
      "text/plain": [
       "[]"
      ]
     },
     "execution_count": 307,
     "metadata": {},
     "output_type": "execute_result"
    }
   ],
   "source": [
    "%%sql\n",
    "DROP TABLE IF EXISTS florida_qtrly_viral_tests;\n",
    "\n",
    "CREATE TABLE florida_qtrly_viral_tests as\n",
    "\n",
    "SELECT state, quarter_of_year, year,\n",
    "    sum(tests_viral_total) total_viral_tests,\n",
    "    sum(tests_viral_positive) total_positive_viral_tests,\n",
    "    sum(tests_viral_negative) total_negative_viral_test\n",
    "FROM tests\n",
    "JOIN place\n",
    "    ON tests.state_key = place.key\n",
    "JOIN date\n",
    "    ON tests.date_key = date.key\n",
    "WHERE state = 'Florida'\n",
    "GROUP BY state, quarter_of_year, year\n",
    "ORDER BY state, year, quarter_of_year;"
   ]
  },
  {
   "cell_type": "code",
   "execution_count": 308,
   "id": "9715ff21-ae77-40e8-bbeb-966cb71d510b",
   "metadata": {},
   "outputs": [
    {
     "name": "stdout",
     "output_type": "stream",
     "text": [
      " * postgresql://student@/week13\n",
      "5 rows affected.\n"
     ]
    },
    {
     "data": {
      "text/html": [
       "<table>\n",
       "    <thead>\n",
       "        <tr>\n",
       "            <th>state</th>\n",
       "            <th>quarter_of_year</th>\n",
       "            <th>year</th>\n",
       "            <th>total_viral_tests</th>\n",
       "            <th>total_positive_viral_tests</th>\n",
       "            <th>total_negative_viral_test</th>\n",
       "        </tr>\n",
       "    </thead>\n",
       "    <tbody>\n",
       "        <tr>\n",
       "            <td>Florida</td>\n",
       "            <td>1</td>\n",
       "            <td>2020</td>\n",
       "            <td>1505090</td>\n",
       "            <td>167004</td>\n",
       "            <td>1336576</td>\n",
       "        </tr>\n",
       "        <tr>\n",
       "            <td>Florida</td>\n",
       "            <td>2</td>\n",
       "            <td>2020</td>\n",
       "            <td>108859087</td>\n",
       "            <td>9839836</td>\n",
       "            <td>98775823</td>\n",
       "        </tr>\n",
       "        <tr>\n",
       "            <td>Florida</td>\n",
       "            <td>3</td>\n",
       "            <td>2020</td>\n",
       "            <td>631185759</td>\n",
       "            <td>77311594</td>\n",
       "            <td>550179315</td>\n",
       "        </tr>\n",
       "        <tr>\n",
       "            <td>Florida</td>\n",
       "            <td>4</td>\n",
       "            <td>2020</td>\n",
       "            <td>1210455082</td>\n",
       "            <td>123115107</td>\n",
       "            <td>1081190518</td>\n",
       "        </tr>\n",
       "        <tr>\n",
       "            <td>Florida</td>\n",
       "            <td>1</td>\n",
       "            <td>2021</td>\n",
       "            <td>1967121803</td>\n",
       "            <td>200742814</td>\n",
       "            <td>1756154752</td>\n",
       "        </tr>\n",
       "    </tbody>\n",
       "</table>"
      ],
      "text/plain": [
       "[('Florida', 1, 2020, 1505090, 167004, 1336576),\n",
       " ('Florida', 2, 2020, 108859087, 9839836, 98775823),\n",
       " ('Florida', 3, 2020, 631185759, 77311594, 550179315),\n",
       " ('Florida', 4, 2020, 1210455082, 123115107, 1081190518),\n",
       " ('Florida', 1, 2021, 1967121803, 200742814, 1756154752)]"
      ]
     },
     "execution_count": 308,
     "metadata": {},
     "output_type": "execute_result"
    }
   ],
   "source": [
    "%%sql\n",
    "select * from florida_qtrly_viral_tests limit 5"
   ]
  },
  {
   "cell_type": "code",
   "execution_count": 313,
   "id": "59c814f9-4e4c-4bac-8588-899e7415c178",
   "metadata": {},
   "outputs": [
    {
     "name": "stdout",
     "output_type": "stream",
     "text": [
      " * postgresql://student@/week13\n",
      "0 rows affected.\n"
     ]
    },
    {
     "data": {
      "text/html": [
       "<table>\n",
       "    <thead>\n",
       "        <tr>\n",
       "        </tr>\n",
       "    </thead>\n",
       "    <tbody>\n",
       "    </tbody>\n",
       "</table>"
      ],
      "text/plain": [
       "[]"
      ]
     },
     "execution_count": 313,
     "metadata": {},
     "output_type": "execute_result"
    }
   ],
   "source": [
    "%%sql\n",
    "\n",
    "\\copy (select * from florida_qtrly_viral_tests) to '/home/ubuntu/notebooks/Final/tables/florida_qtrly_viral_tests.csv' with (format csv, header)"
   ]
  },
  {
   "cell_type": "code",
   "execution_count": 310,
   "id": "2137a0dc-eb50-4db1-8e2d-f7753c006b3b",
   "metadata": {},
   "outputs": [
    {
     "name": "stdout",
     "output_type": "stream",
     "text": [
      " * postgresql://student@/week13\n",
      "Done.\n",
      "24 rows affected.\n"
     ]
    },
    {
     "data": {
      "text/plain": [
       "[]"
      ]
     },
     "execution_count": 310,
     "metadata": {},
     "output_type": "execute_result"
    }
   ],
   "source": [
    "%%sql\n",
    "DROP TABLE IF EXISTS florida_mthly_viral_tests;\n",
    "\n",
    "CREATE TABLE florida_mthly_viral_tests as\n",
    "\n",
    "SELECT state, month_of_year, month_of_year_str, year,\n",
    "    sum(tests_viral_total) total_viral_tests,\n",
    "    sum(tests_viral_positive) total_positive_viral_tests,\n",
    "    sum(tests_viral_negative) total_negative_viral_tests\n",
    "FROM tests\n",
    "JOIN place\n",
    "    ON tests.state_key = place.key\n",
    "JOIN date\n",
    "    ON tests.date_key = date.key\n",
    "WHERE state = 'Florida'\n",
    "GROUP BY state, month_of_year, month_of_year_str, year\n",
    "ORDER BY state, year, month_of_year;"
   ]
  },
  {
   "cell_type": "code",
   "execution_count": 314,
   "id": "ee586995-311e-4a41-a512-d16896ea69a1",
   "metadata": {},
   "outputs": [
    {
     "name": "stdout",
     "output_type": "stream",
     "text": [
      " * postgresql://student@/week13\n",
      "5 rows affected.\n"
     ]
    },
    {
     "data": {
      "text/html": [
       "<table>\n",
       "    <thead>\n",
       "        <tr>\n",
       "            <th>state</th>\n",
       "            <th>month_of_year</th>\n",
       "            <th>month_of_year_str</th>\n",
       "            <th>year</th>\n",
       "            <th>total_viral_tests</th>\n",
       "            <th>total_positive_viral_tests</th>\n",
       "            <th>total_negative_viral_tests</th>\n",
       "        </tr>\n",
       "    </thead>\n",
       "    <tbody>\n",
       "        <tr>\n",
       "            <td>Florida</td>\n",
       "            <td>1</td>\n",
       "            <td>January  </td>\n",
       "            <td>2020</td>\n",
       "            <td>None</td>\n",
       "            <td>None</td>\n",
       "            <td>None</td>\n",
       "        </tr>\n",
       "        <tr>\n",
       "            <td>Florida</td>\n",
       "            <td>2</td>\n",
       "            <td>February </td>\n",
       "            <td>2020</td>\n",
       "            <td>None</td>\n",
       "            <td>None</td>\n",
       "            <td>None</td>\n",
       "        </tr>\n",
       "        <tr>\n",
       "            <td>Florida</td>\n",
       "            <td>3</td>\n",
       "            <td>March    </td>\n",
       "            <td>2020</td>\n",
       "            <td>1505090</td>\n",
       "            <td>167004</td>\n",
       "            <td>1336576</td>\n",
       "        </tr>\n",
       "        <tr>\n",
       "            <td>Florida</td>\n",
       "            <td>4</td>\n",
       "            <td>April    </td>\n",
       "            <td>2020</td>\n",
       "            <td>11638246</td>\n",
       "            <td>1367903</td>\n",
       "            <td>10233313</td>\n",
       "        </tr>\n",
       "        <tr>\n",
       "            <td>Florida</td>\n",
       "            <td>5</td>\n",
       "            <td>May      </td>\n",
       "            <td>2020</td>\n",
       "            <td>32156314</td>\n",
       "            <td>2842979</td>\n",
       "            <td>29227368</td>\n",
       "        </tr>\n",
       "    </tbody>\n",
       "</table>"
      ],
      "text/plain": [
       "[('Florida', 1, 'January  ', 2020, None, None, None),\n",
       " ('Florida', 2, 'February ', 2020, None, None, None),\n",
       " ('Florida', 3, 'March    ', 2020, 1505090, 167004, 1336576),\n",
       " ('Florida', 4, 'April    ', 2020, 11638246, 1367903, 10233313),\n",
       " ('Florida', 5, 'May      ', 2020, 32156314, 2842979, 29227368)]"
      ]
     },
     "execution_count": 314,
     "metadata": {},
     "output_type": "execute_result"
    }
   ],
   "source": [
    "%%sql\n",
    "select * from florida_mthly_viral_tests limit 5"
   ]
  },
  {
   "cell_type": "code",
   "execution_count": 315,
   "id": "416b86b4-f53d-4c1b-8560-fb1ca058a9ff",
   "metadata": {},
   "outputs": [
    {
     "name": "stdout",
     "output_type": "stream",
     "text": [
      " * postgresql://student@/week13\n",
      "0 rows affected.\n"
     ]
    },
    {
     "data": {
      "text/html": [
       "<table>\n",
       "    <thead>\n",
       "        <tr>\n",
       "        </tr>\n",
       "    </thead>\n",
       "    <tbody>\n",
       "    </tbody>\n",
       "</table>"
      ],
      "text/plain": [
       "[]"
      ]
     },
     "execution_count": 315,
     "metadata": {},
     "output_type": "execute_result"
    }
   ],
   "source": [
    "%%sql\n",
    "\n",
    "\\copy (select * from florida_mthly_viral_tests) to '/home/ubuntu/notebooks/Final/tables/florida_mthly_viral_tests.csv' with (format csv, header)"
   ]
  },
  {
   "cell_type": "code",
   "execution_count": 316,
   "id": "8fd1bb11-a407-4e44-b473-f1b19724be9d",
   "metadata": {},
   "outputs": [
    {
     "name": "stdout",
     "output_type": "stream",
     "text": [
      " * postgresql://student@/week13\n",
      "Done.\n",
      "8 rows affected.\n"
     ]
    },
    {
     "data": {
      "text/plain": [
       "[]"
      ]
     },
     "execution_count": 316,
     "metadata": {},
     "output_type": "execute_result"
    }
   ],
   "source": [
    "%%sql\n",
    "DROP TABLE IF EXISTS missouri_qtrly_viral_tests;\n",
    "\n",
    "CREATE TABLE missouri_qtrly_viral_tests as\n",
    "\n",
    "SELECT state, quarter_of_year, year,\n",
    "    sum(tests_viral_total) total_viral_tests,\n",
    "    sum(tests_viral_positive) total_positive_viral_tests,\n",
    "    sum(tests_viral_negative) total_negative_viral_tests\n",
    "FROM tests\n",
    "JOIN place\n",
    "    ON tests.state_key = place.key\n",
    "JOIN date\n",
    "    ON tests.date_key = date.key\n",
    "WHERE state = 'Missouri'\n",
    "GROUP BY state, quarter_of_year, year\n",
    "ORDER BY state, year, quarter_of_year;"
   ]
  },
  {
   "cell_type": "code",
   "execution_count": 317,
   "id": "c71128b3-7e72-40f6-886e-dc937e22293f",
   "metadata": {},
   "outputs": [
    {
     "name": "stdout",
     "output_type": "stream",
     "text": [
      " * postgresql://student@/week13\n",
      "5 rows affected.\n"
     ]
    },
    {
     "data": {
      "text/html": [
       "<table>\n",
       "    <thead>\n",
       "        <tr>\n",
       "            <th>state</th>\n",
       "            <th>quarter_of_year</th>\n",
       "            <th>year</th>\n",
       "            <th>total_viral_tests</th>\n",
       "            <th>total_positive_viral_tests</th>\n",
       "            <th>total_negative_viral_tests</th>\n",
       "        </tr>\n",
       "    </thead>\n",
       "    <tbody>\n",
       "        <tr>\n",
       "            <td>Missouri</td>\n",
       "            <td>1</td>\n",
       "            <td>2020</td>\n",
       "            <td>125657</td>\n",
       "            <td>11892</td>\n",
       "            <td>113655</td>\n",
       "        </tr>\n",
       "        <tr>\n",
       "            <td>Missouri</td>\n",
       "            <td>2</td>\n",
       "            <td>2020</td>\n",
       "            <td>14665391</td>\n",
       "            <td>1114623</td>\n",
       "            <td>13640621</td>\n",
       "        </tr>\n",
       "        <tr>\n",
       "            <td>Missouri</td>\n",
       "            <td>3</td>\n",
       "            <td>2020</td>\n",
       "            <td>100579255</td>\n",
       "            <td>6996407</td>\n",
       "            <td>93410040</td>\n",
       "        </tr>\n",
       "        <tr>\n",
       "            <td>Missouri</td>\n",
       "            <td>4</td>\n",
       "            <td>2020</td>\n",
       "            <td>256921642</td>\n",
       "            <td>25568443</td>\n",
       "            <td>230856854</td>\n",
       "        </tr>\n",
       "        <tr>\n",
       "            <td>Missouri</td>\n",
       "            <td>1</td>\n",
       "            <td>2021</td>\n",
       "            <td>387521908</td>\n",
       "            <td>45929025</td>\n",
       "            <td>340798488</td>\n",
       "        </tr>\n",
       "    </tbody>\n",
       "</table>"
      ],
      "text/plain": [
       "[('Missouri', 1, 2020, 125657, 11892, 113655),\n",
       " ('Missouri', 2, 2020, 14665391, 1114623, 13640621),\n",
       " ('Missouri', 3, 2020, 100579255, 6996407, 93410040),\n",
       " ('Missouri', 4, 2020, 256921642, 25568443, 230856854),\n",
       " ('Missouri', 1, 2021, 387521908, 45929025, 340798488)]"
      ]
     },
     "execution_count": 317,
     "metadata": {},
     "output_type": "execute_result"
    }
   ],
   "source": [
    "%%sql\n",
    "select * from missouri_qtrly_viral_tests limit 5"
   ]
  },
  {
   "cell_type": "code",
   "execution_count": 318,
   "id": "635a54db-21cc-4032-bed6-807b64e13c54",
   "metadata": {},
   "outputs": [
    {
     "name": "stdout",
     "output_type": "stream",
     "text": [
      " * postgresql://student@/week13\n",
      "0 rows affected.\n"
     ]
    },
    {
     "data": {
      "text/html": [
       "<table>\n",
       "    <thead>\n",
       "        <tr>\n",
       "        </tr>\n",
       "    </thead>\n",
       "    <tbody>\n",
       "    </tbody>\n",
       "</table>"
      ],
      "text/plain": [
       "[]"
      ]
     },
     "execution_count": 318,
     "metadata": {},
     "output_type": "execute_result"
    }
   ],
   "source": [
    "%%sql\n",
    "\n",
    "\\copy (select * from missouri_qtrly_viral_tests) to '/home/ubuntu/notebooks/Final/tables/missouri_qtrly_viral_tests.csv' with (format csv, header)"
   ]
  },
  {
   "cell_type": "code",
   "execution_count": 320,
   "id": "43d0422e-1415-4d50-90b4-bb78eca64eaf",
   "metadata": {},
   "outputs": [
    {
     "name": "stdout",
     "output_type": "stream",
     "text": [
      " * postgresql://student@/week13\n",
      "Done.\n",
      "22 rows affected.\n"
     ]
    },
    {
     "data": {
      "text/plain": [
       "[]"
      ]
     },
     "execution_count": 320,
     "metadata": {},
     "output_type": "execute_result"
    }
   ],
   "source": [
    "%%sql\n",
    "DROP TABLE IF EXISTS missouri_mthly_viral_tests;\n",
    "\n",
    "CREATE TABLE missouri_mthly_viral_tests as\n",
    "\n",
    "SELECT state, month_of_year, month_of_year_str, year,\n",
    "    sum(tests_viral_total) total_viral_tests,\n",
    "    sum(tests_viral_positive) total_positive_viral_tests,\n",
    "    sum(tests_viral_negative) total_negative_viral_tests\n",
    "FROM tests\n",
    "JOIN place\n",
    "    ON tests.state_key = place.key\n",
    "JOIN date\n",
    "    ON tests.date_key = date.key\n",
    "WHERE state = 'Missouri'\n",
    "GROUP BY state, month_of_year, month_of_year_str, year\n",
    "ORDER BY state, year, month_of_year;"
   ]
  },
  {
   "cell_type": "code",
   "execution_count": 321,
   "id": "e7877c1f-fd75-44e7-a154-37d92863d03d",
   "metadata": {},
   "outputs": [
    {
     "name": "stdout",
     "output_type": "stream",
     "text": [
      " * postgresql://student@/week13\n",
      "5 rows affected.\n"
     ]
    },
    {
     "data": {
      "text/html": [
       "<table>\n",
       "    <thead>\n",
       "        <tr>\n",
       "            <th>state</th>\n",
       "            <th>month_of_year</th>\n",
       "            <th>month_of_year_str</th>\n",
       "            <th>year</th>\n",
       "            <th>total_viral_tests</th>\n",
       "            <th>total_positive_viral_tests</th>\n",
       "            <th>total_negative_viral_tests</th>\n",
       "        </tr>\n",
       "    </thead>\n",
       "    <tbody>\n",
       "        <tr>\n",
       "            <td>Missouri</td>\n",
       "            <td>3</td>\n",
       "            <td>March    </td>\n",
       "            <td>2020</td>\n",
       "            <td>125657</td>\n",
       "            <td>11892</td>\n",
       "            <td>113655</td>\n",
       "        </tr>\n",
       "        <tr>\n",
       "            <td>Missouri</td>\n",
       "            <td>4</td>\n",
       "            <td>April    </td>\n",
       "            <td>2020</td>\n",
       "            <td>1516463</td>\n",
       "            <td>172098</td>\n",
       "            <td>1342488</td>\n",
       "        </tr>\n",
       "        <tr>\n",
       "            <td>Missouri</td>\n",
       "            <td>5</td>\n",
       "            <td>May      </td>\n",
       "            <td>2020</td>\n",
       "            <td>4407666</td>\n",
       "            <td>391331</td>\n",
       "            <td>4011569</td>\n",
       "        </tr>\n",
       "        <tr>\n",
       "            <td>Missouri</td>\n",
       "            <td>6</td>\n",
       "            <td>June     </td>\n",
       "            <td>2020</td>\n",
       "            <td>8741262</td>\n",
       "            <td>551194</td>\n",
       "            <td>8286564</td>\n",
       "        </tr>\n",
       "        <tr>\n",
       "            <td>Missouri</td>\n",
       "            <td>7</td>\n",
       "            <td>July     </td>\n",
       "            <td>2020</td>\n",
       "            <td>20400232</td>\n",
       "            <td>1138822</td>\n",
       "            <td>19228314</td>\n",
       "        </tr>\n",
       "    </tbody>\n",
       "</table>"
      ],
      "text/plain": [
       "[('Missouri', 3, 'March    ', 2020, 125657, 11892, 113655),\n",
       " ('Missouri', 4, 'April    ', 2020, 1516463, 172098, 1342488),\n",
       " ('Missouri', 5, 'May      ', 2020, 4407666, 391331, 4011569),\n",
       " ('Missouri', 6, 'June     ', 2020, 8741262, 551194, 8286564),\n",
       " ('Missouri', 7, 'July     ', 2020, 20400232, 1138822, 19228314)]"
      ]
     },
     "execution_count": 321,
     "metadata": {},
     "output_type": "execute_result"
    }
   ],
   "source": [
    "%%sql\n",
    "select * from missouri_mthly_viral_tests limit 5"
   ]
  },
  {
   "cell_type": "code",
   "execution_count": 322,
   "id": "b7e193ba-cc5f-4f90-9b2f-1806b0128a77",
   "metadata": {},
   "outputs": [
    {
     "name": "stdout",
     "output_type": "stream",
     "text": [
      " * postgresql://student@/week13\n",
      "0 rows affected.\n"
     ]
    },
    {
     "data": {
      "text/html": [
       "<table>\n",
       "    <thead>\n",
       "        <tr>\n",
       "        </tr>\n",
       "    </thead>\n",
       "    <tbody>\n",
       "    </tbody>\n",
       "</table>"
      ],
      "text/plain": [
       "[]"
      ]
     },
     "execution_count": 322,
     "metadata": {},
     "output_type": "execute_result"
    }
   ],
   "source": [
    "%%sql\n",
    "\n",
    "\\copy (select * from missouri_mthly_viral_tests) to '/home/ubuntu/notebooks/Final/tables/missouri_mthly_viral_tests.csv' with (format csv, header)"
   ]
  },
  {
   "cell_type": "code",
   "execution_count": 323,
   "id": "ca74ef67-218d-4e43-8ddc-26c1eed5d0f5",
   "metadata": {},
   "outputs": [
    {
     "name": "stdout",
     "output_type": "stream",
     "text": [
      " * postgresql://student@/week13\n",
      "Done.\n",
      "8 rows affected.\n"
     ]
    },
    {
     "data": {
      "text/plain": [
       "[]"
      ]
     },
     "execution_count": 323,
     "metadata": {},
     "output_type": "execute_result"
    }
   ],
   "source": [
    "%%sql\n",
    "DROP TABLE IF EXISTS connecticut_qtrly_viral_tests;\n",
    "\n",
    "CREATE TABLE connecticut_qtrly_viral_tests as\n",
    "\n",
    "SELECT state, quarter_of_year, year,\n",
    "    sum(tests_viral_total) total_viral_tests,\n",
    "    sum(tests_viral_positive) total_positive_viral_tests,\n",
    "    sum(tests_viral_negative) total_negative_viral_tests\n",
    "FROM tests\n",
    "JOIN place\n",
    "    ON tests.state_key = place.key\n",
    "JOIN date\n",
    "    ON tests.date_key = date.key\n",
    "WHERE state = 'Connecticut'\n",
    "GROUP BY state, quarter_of_year, year\n",
    "ORDER BY state, year, quarter_of_year;"
   ]
  },
  {
   "cell_type": "code",
   "execution_count": 324,
   "id": "ab356556-3534-4c1e-a680-652d3548f4c4",
   "metadata": {},
   "outputs": [
    {
     "name": "stdout",
     "output_type": "stream",
     "text": [
      " * postgresql://student@/week13\n",
      "5 rows affected.\n"
     ]
    },
    {
     "data": {
      "text/html": [
       "<table>\n",
       "    <thead>\n",
       "        <tr>\n",
       "            <th>state</th>\n",
       "            <th>quarter_of_year</th>\n",
       "            <th>year</th>\n",
       "            <th>total_viral_tests</th>\n",
       "            <th>total_positive_viral_tests</th>\n",
       "            <th>total_negative_viral_tests</th>\n",
       "        </tr>\n",
       "    </thead>\n",
       "    <tbody>\n",
       "        <tr>\n",
       "            <td>Connecticut</td>\n",
       "            <td>1</td>\n",
       "            <td>2020</td>\n",
       "            <td>175810</td>\n",
       "            <td>41519</td>\n",
       "            <td>134182</td>\n",
       "        </tr>\n",
       "        <tr>\n",
       "            <td>Connecticut</td>\n",
       "            <td>2</td>\n",
       "            <td>2020</td>\n",
       "            <td>19120222</td>\n",
       "            <td>3635145</td>\n",
       "            <td>15419021</td>\n",
       "        </tr>\n",
       "        <tr>\n",
       "            <td>Connecticut</td>\n",
       "            <td>3</td>\n",
       "            <td>2020</td>\n",
       "            <td>100335337</td>\n",
       "            <td>5832399</td>\n",
       "            <td>94322045</td>\n",
       "        </tr>\n",
       "        <tr>\n",
       "            <td>Connecticut</td>\n",
       "            <td>4</td>\n",
       "            <td>2020</td>\n",
       "            <td>289525319</td>\n",
       "            <td>11763982</td>\n",
       "            <td>277375833</td>\n",
       "        </tr>\n",
       "        <tr>\n",
       "            <td>Connecticut</td>\n",
       "            <td>1</td>\n",
       "            <td>2021</td>\n",
       "            <td>534244483</td>\n",
       "            <td>26981797</td>\n",
       "            <td>506558388</td>\n",
       "        </tr>\n",
       "    </tbody>\n",
       "</table>"
      ],
      "text/plain": [
       "[('Connecticut', 1, 2020, 175810, 41519, 134182),\n",
       " ('Connecticut', 2, 2020, 19120222, 3635145, 15419021),\n",
       " ('Connecticut', 3, 2020, 100335337, 5832399, 94322045),\n",
       " ('Connecticut', 4, 2020, 289525319, 11763982, 277375833),\n",
       " ('Connecticut', 1, 2021, 534244483, 26981797, 506558388)]"
      ]
     },
     "execution_count": 324,
     "metadata": {},
     "output_type": "execute_result"
    }
   ],
   "source": [
    "%%sql\n",
    "select * from connecticut_qtrly_viral_tests limit 5"
   ]
  },
  {
   "cell_type": "code",
   "execution_count": 325,
   "id": "29dad0ee-7d80-4b9f-bd96-dce99a71180e",
   "metadata": {},
   "outputs": [
    {
     "name": "stdout",
     "output_type": "stream",
     "text": [
      " * postgresql://student@/week13\n",
      "0 rows affected.\n"
     ]
    },
    {
     "data": {
      "text/html": [
       "<table>\n",
       "    <thead>\n",
       "        <tr>\n",
       "        </tr>\n",
       "    </thead>\n",
       "    <tbody>\n",
       "    </tbody>\n",
       "</table>"
      ],
      "text/plain": [
       "[]"
      ]
     },
     "execution_count": 325,
     "metadata": {},
     "output_type": "execute_result"
    }
   ],
   "source": [
    "%%sql\n",
    "\n",
    "\\copy (select * from connecticut_qtrly_viral_tests) to '/home/ubuntu/notebooks/Final/tables/connecticut_qtrly_viral_tests.csv' with (format csv, header)"
   ]
  },
  {
   "cell_type": "code",
   "execution_count": 326,
   "id": "3c3bd055-5489-479c-98a8-94b4f366583c",
   "metadata": {},
   "outputs": [
    {
     "name": "stdout",
     "output_type": "stream",
     "text": [
      " * postgresql://student@/week13\n",
      "Done.\n",
      "23 rows affected.\n"
     ]
    },
    {
     "data": {
      "text/plain": [
       "[]"
      ]
     },
     "execution_count": 326,
     "metadata": {},
     "output_type": "execute_result"
    }
   ],
   "source": [
    "%%sql\n",
    "DROP TABLE IF EXISTS connecticut_mthly_viral_tests;\n",
    "\n",
    "CREATE TABLE connecticut_mthly_viral_tests as\n",
    "\n",
    "SELECT state, month_of_year, month_of_year_str, year,\n",
    "    sum(tests_viral_total) total_viral_tests,\n",
    "    sum(tests_viral_positive) total_positive_viral_tests,\n",
    "    sum(tests_viral_negative) total_negative_viral_tests\n",
    "FROM tests\n",
    "JOIN place\n",
    "    ON tests.state_key = place.key\n",
    "JOIN date\n",
    "    ON tests.date_key = date.key\n",
    "WHERE state = 'Connecticut'\n",
    "GROUP BY state, month_of_year, month_of_year_str, year\n",
    "ORDER BY state, year, month_of_year;"
   ]
  },
  {
   "cell_type": "code",
   "execution_count": 327,
   "id": "0cd524ba-0076-4a7e-aadb-349ce18e9ee5",
   "metadata": {},
   "outputs": [
    {
     "name": "stdout",
     "output_type": "stream",
     "text": [
      " * postgresql://student@/week13\n",
      "5 rows affected.\n"
     ]
    },
    {
     "data": {
      "text/html": [
       "<table>\n",
       "    <thead>\n",
       "        <tr>\n",
       "            <th>state</th>\n",
       "            <th>month_of_year</th>\n",
       "            <th>month_of_year_str</th>\n",
       "            <th>year</th>\n",
       "            <th>total_viral_tests</th>\n",
       "            <th>total_positive_viral_tests</th>\n",
       "            <th>total_negative_viral_tests</th>\n",
       "        </tr>\n",
       "    </thead>\n",
       "    <tbody>\n",
       "        <tr>\n",
       "            <td>Connecticut</td>\n",
       "            <td>2</td>\n",
       "            <td>February </td>\n",
       "            <td>2020</td>\n",
       "            <td>3</td>\n",
       "            <td>0</td>\n",
       "            <td>3</td>\n",
       "        </tr>\n",
       "        <tr>\n",
       "            <td>Connecticut</td>\n",
       "            <td>3</td>\n",
       "            <td>March    </td>\n",
       "            <td>2020</td>\n",
       "            <td>175807</td>\n",
       "            <td>41519</td>\n",
       "            <td>134179</td>\n",
       "        </tr>\n",
       "        <tr>\n",
       "            <td>Connecticut</td>\n",
       "            <td>4</td>\n",
       "            <td>April    </td>\n",
       "            <td>2020</td>\n",
       "            <td>1864486</td>\n",
       "            <td>616722</td>\n",
       "            <td>1244978</td>\n",
       "        </tr>\n",
       "        <tr>\n",
       "            <td>Connecticut</td>\n",
       "            <td>5</td>\n",
       "            <td>May      </td>\n",
       "            <td>2020</td>\n",
       "            <td>5767819</td>\n",
       "            <td>1362153</td>\n",
       "            <td>4381750</td>\n",
       "        </tr>\n",
       "        <tr>\n",
       "            <td>Connecticut</td>\n",
       "            <td>6</td>\n",
       "            <td>June     </td>\n",
       "            <td>2020</td>\n",
       "            <td>11487917</td>\n",
       "            <td>1656270</td>\n",
       "            <td>9792293</td>\n",
       "        </tr>\n",
       "    </tbody>\n",
       "</table>"
      ],
      "text/plain": [
       "[('Connecticut', 2, 'February ', 2020, 3, 0, 3),\n",
       " ('Connecticut', 3, 'March    ', 2020, 175807, 41519, 134179),\n",
       " ('Connecticut', 4, 'April    ', 2020, 1864486, 616722, 1244978),\n",
       " ('Connecticut', 5, 'May      ', 2020, 5767819, 1362153, 4381750),\n",
       " ('Connecticut', 6, 'June     ', 2020, 11487917, 1656270, 9792293)]"
      ]
     },
     "execution_count": 327,
     "metadata": {},
     "output_type": "execute_result"
    }
   ],
   "source": [
    "%%sql\n",
    "select * from connecticut_mthly_viral_tests limit 5"
   ]
  },
  {
   "cell_type": "code",
   "execution_count": 328,
   "id": "d072fabd-1f9b-42f0-9899-1b6c3b5c465f",
   "metadata": {},
   "outputs": [
    {
     "name": "stdout",
     "output_type": "stream",
     "text": [
      " * postgresql://student@/week13\n",
      "0 rows affected.\n"
     ]
    },
    {
     "data": {
      "text/html": [
       "<table>\n",
       "    <thead>\n",
       "        <tr>\n",
       "        </tr>\n",
       "    </thead>\n",
       "    <tbody>\n",
       "    </tbody>\n",
       "</table>"
      ],
      "text/plain": [
       "[]"
      ]
     },
     "execution_count": 328,
     "metadata": {},
     "output_type": "execute_result"
    }
   ],
   "source": [
    "%%sql\n",
    "\n",
    "\\copy (select * from connecticut_mthly_viral_tests) to '/home/ubuntu/notebooks/Final/tables/connecticut_mthly_viral_tests.csv' with (format csv, header)"
   ]
  },
  {
   "cell_type": "code",
   "execution_count": 329,
   "id": "a46de930-e925-4a5b-9a98-d0f5b43d59e7",
   "metadata": {},
   "outputs": [
    {
     "name": "stdout",
     "output_type": "stream",
     "text": [
      " * postgresql://student@/week13\n",
      "Done.\n",
      "8 rows affected.\n"
     ]
    },
    {
     "data": {
      "text/plain": [
       "[]"
      ]
     },
     "execution_count": 329,
     "metadata": {},
     "output_type": "execute_result"
    }
   ],
   "source": [
    "%%sql\n",
    "DROP TABLE IF EXISTS oregon_qtrly_viral_tests;\n",
    "\n",
    "CREATE TABLE oregon_qtrly_viral_tests as\n",
    "\n",
    "SELECT state, quarter_of_year, year,\n",
    "    sum(tests_viral_total) total_viral_tests,\n",
    "    sum(tests_viral_positive) total_positive_viral_tests,\n",
    "    sum(tests_viral_negative) total_negative_viral_tests\n",
    "FROM tests\n",
    "JOIN place\n",
    "    ON tests.state_key = place.key\n",
    "JOIN date\n",
    "    ON tests.date_key = date.key\n",
    "WHERE state = 'Oregon'\n",
    "GROUP BY state, quarter_of_year, year\n",
    "ORDER BY state, year, quarter_of_year;"
   ]
  },
  {
   "cell_type": "code",
   "execution_count": 330,
   "id": "82c21277-da09-42ee-b4ee-c1bbafb5d502",
   "metadata": {},
   "outputs": [
    {
     "name": "stdout",
     "output_type": "stream",
     "text": [
      " * postgresql://student@/week13\n",
      "5 rows affected.\n"
     ]
    },
    {
     "data": {
      "text/html": [
       "<table>\n",
       "    <thead>\n",
       "        <tr>\n",
       "            <th>state</th>\n",
       "            <th>quarter_of_year</th>\n",
       "            <th>year</th>\n",
       "            <th>total_viral_tests</th>\n",
       "            <th>total_positive_viral_tests</th>\n",
       "            <th>total_negative_viral_tests</th>\n",
       "        </tr>\n",
       "    </thead>\n",
       "    <tbody>\n",
       "        <tr>\n",
       "            <td>Oregon</td>\n",
       "            <td>1</td>\n",
       "            <td>2020</td>\n",
       "            <td>3878</td>\n",
       "            <td>2994</td>\n",
       "            <td>884</td>\n",
       "        </tr>\n",
       "        <tr>\n",
       "            <td>Oregon</td>\n",
       "            <td>2</td>\n",
       "            <td>2020</td>\n",
       "            <td>12764396</td>\n",
       "            <td>859335</td>\n",
       "            <td>11905061</td>\n",
       "        </tr>\n",
       "        <tr>\n",
       "            <td>Oregon</td>\n",
       "            <td>3</td>\n",
       "            <td>2020</td>\n",
       "            <td>67175803</td>\n",
       "            <td>3648168</td>\n",
       "            <td>63527635</td>\n",
       "        </tr>\n",
       "        <tr>\n",
       "            <td>Oregon</td>\n",
       "            <td>4</td>\n",
       "            <td>2020</td>\n",
       "            <td>161733800</td>\n",
       "            <td>8711558</td>\n",
       "            <td>153022242</td>\n",
       "        </tr>\n",
       "        <tr>\n",
       "            <td>Oregon</td>\n",
       "            <td>1</td>\n",
       "            <td>2021</td>\n",
       "            <td>307810991</td>\n",
       "            <td>18023557</td>\n",
       "            <td>289707925</td>\n",
       "        </tr>\n",
       "    </tbody>\n",
       "</table>"
      ],
      "text/plain": [
       "[('Oregon', 1, 2020, 3878, 2994, 884),\n",
       " ('Oregon', 2, 2020, 12764396, 859335, 11905061),\n",
       " ('Oregon', 3, 2020, 67175803, 3648168, 63527635),\n",
       " ('Oregon', 4, 2020, 161733800, 8711558, 153022242),\n",
       " ('Oregon', 1, 2021, 307810991, 18023557, 289707925)]"
      ]
     },
     "execution_count": 330,
     "metadata": {},
     "output_type": "execute_result"
    }
   ],
   "source": [
    "%%sql\n",
    "select * from oregon_qtrly_viral_tests limit 5"
   ]
  },
  {
   "cell_type": "code",
   "execution_count": 331,
   "id": "8e3f48aa-6825-4c70-91d1-df7967eaa904",
   "metadata": {},
   "outputs": [
    {
     "name": "stdout",
     "output_type": "stream",
     "text": [
      " * postgresql://student@/week13\n",
      "0 rows affected.\n"
     ]
    },
    {
     "data": {
      "text/html": [
       "<table>\n",
       "    <thead>\n",
       "        <tr>\n",
       "        </tr>\n",
       "    </thead>\n",
       "    <tbody>\n",
       "    </tbody>\n",
       "</table>"
      ],
      "text/plain": [
       "[]"
      ]
     },
     "execution_count": 331,
     "metadata": {},
     "output_type": "execute_result"
    }
   ],
   "source": [
    "%%sql\n",
    "\n",
    "\\copy (select * from oregon_qtrly_viral_tests) to '/home/ubuntu/notebooks/Final/tables/oregon_qtrly_viral_tests.csv' with (format csv, header)"
   ]
  },
  {
   "cell_type": "code",
   "execution_count": 332,
   "id": "a5cd0421-7158-438f-a0ba-800f10f23876",
   "metadata": {},
   "outputs": [
    {
     "name": "stdout",
     "output_type": "stream",
     "text": [
      " * postgresql://student@/week13\n",
      "Done.\n",
      "22 rows affected.\n"
     ]
    },
    {
     "data": {
      "text/plain": [
       "[]"
      ]
     },
     "execution_count": 332,
     "metadata": {},
     "output_type": "execute_result"
    }
   ],
   "source": [
    "%%sql\n",
    "DROP TABLE IF EXISTS oregon_mthly_viral_tests;\n",
    "\n",
    "CREATE TABLE oregon_mthly_viral_tests as\n",
    "\n",
    "SELECT state, month_of_year, month_of_year_str, year,\n",
    "    sum(tests_viral_total) total_viral_tests,\n",
    "    sum(tests_viral_positive) total_positive_viral_tests,\n",
    "    sum(tests_viral_negative) total_negative_viral_tests\n",
    "FROM tests\n",
    "JOIN place\n",
    "    ON tests.state_key = place.key\n",
    "JOIN date\n",
    "    ON tests.date_key = date.key\n",
    "WHERE state = 'Oregon'\n",
    "GROUP BY state, month_of_year, month_of_year_str, year\n",
    "ORDER BY state, year, month_of_year;"
   ]
  },
  {
   "cell_type": "code",
   "execution_count": 333,
   "id": "362d6a24-8e74-41ed-ab15-544f00b77be6",
   "metadata": {},
   "outputs": [
    {
     "name": "stdout",
     "output_type": "stream",
     "text": [
      " * postgresql://student@/week13\n",
      "5 rows affected.\n"
     ]
    },
    {
     "data": {
      "text/html": [
       "<table>\n",
       "    <thead>\n",
       "        <tr>\n",
       "            <th>state</th>\n",
       "            <th>month_of_year</th>\n",
       "            <th>month_of_year_str</th>\n",
       "            <th>year</th>\n",
       "            <th>total_viral_tests</th>\n",
       "            <th>total_positive_viral_tests</th>\n",
       "            <th>total_negative_viral_tests</th>\n",
       "        </tr>\n",
       "    </thead>\n",
       "    <tbody>\n",
       "        <tr>\n",
       "            <td>Oregon</td>\n",
       "            <td>3</td>\n",
       "            <td>March    </td>\n",
       "            <td>2020</td>\n",
       "            <td>3878</td>\n",
       "            <td>2994</td>\n",
       "            <td>884</td>\n",
       "        </tr>\n",
       "        <tr>\n",
       "            <td>Oregon</td>\n",
       "            <td>4</td>\n",
       "            <td>April    </td>\n",
       "            <td>2020</td>\n",
       "            <td>1007468</td>\n",
       "            <td>135890</td>\n",
       "            <td>871578</td>\n",
       "        </tr>\n",
       "        <tr>\n",
       "            <td>Oregon</td>\n",
       "            <td>5</td>\n",
       "            <td>May      </td>\n",
       "            <td>2020</td>\n",
       "            <td>3835945</td>\n",
       "            <td>289975</td>\n",
       "            <td>3545970</td>\n",
       "        </tr>\n",
       "        <tr>\n",
       "            <td>Oregon</td>\n",
       "            <td>6</td>\n",
       "            <td>June     </td>\n",
       "            <td>2020</td>\n",
       "            <td>7920983</td>\n",
       "            <td>433470</td>\n",
       "            <td>7487513</td>\n",
       "        </tr>\n",
       "        <tr>\n",
       "            <td>Oregon</td>\n",
       "            <td>7</td>\n",
       "            <td>July     </td>\n",
       "            <td>2020</td>\n",
       "            <td>15286064</td>\n",
       "            <td>779236</td>\n",
       "            <td>14506828</td>\n",
       "        </tr>\n",
       "    </tbody>\n",
       "</table>"
      ],
      "text/plain": [
       "[('Oregon', 3, 'March    ', 2020, 3878, 2994, 884),\n",
       " ('Oregon', 4, 'April    ', 2020, 1007468, 135890, 871578),\n",
       " ('Oregon', 5, 'May      ', 2020, 3835945, 289975, 3545970),\n",
       " ('Oregon', 6, 'June     ', 2020, 7920983, 433470, 7487513),\n",
       " ('Oregon', 7, 'July     ', 2020, 15286064, 779236, 14506828)]"
      ]
     },
     "execution_count": 333,
     "metadata": {},
     "output_type": "execute_result"
    }
   ],
   "source": [
    "%%sql\n",
    "select * from oregon_mthly_viral_tests limit 5"
   ]
  },
  {
   "cell_type": "code",
   "execution_count": 335,
   "id": "9f619058-351e-45d4-b9d4-0b9e2115976f",
   "metadata": {},
   "outputs": [
    {
     "name": "stdout",
     "output_type": "stream",
     "text": [
      " * postgresql://student@/week13\n",
      "0 rows affected.\n"
     ]
    },
    {
     "data": {
      "text/html": [
       "<table>\n",
       "    <thead>\n",
       "        <tr>\n",
       "        </tr>\n",
       "    </thead>\n",
       "    <tbody>\n",
       "    </tbody>\n",
       "</table>"
      ],
      "text/plain": [
       "[]"
      ]
     },
     "execution_count": 335,
     "metadata": {},
     "output_type": "execute_result"
    }
   ],
   "source": [
    "%%sql\n",
    "\n",
    "\\copy (select * from oregon_mthly_viral_tests) to '/home/ubuntu/notebooks/Final/tables/oregon_mthly_viral_tests.csv' with (format csv, header)"
   ]
  },
  {
   "cell_type": "code",
   "execution_count": 336,
   "id": "12e2c7ec-823a-49de-964b-4d97ffb2400b",
   "metadata": {},
   "outputs": [],
   "source": [
    "# get the cumulative number of completed antigen tests per quarter, per year.\n",
    "# get the cumulative number of competed antigen tests that return positive per quarter, per year.\n",
    "# five states: Iowa, Texas, Virginia, Maine, Georgia\n",
    "\n",
    "# get the cumulative number of completed antigen tests per month, per year.\n",
    "# get the cumulative number of competed antigen tests that return positive per month, per year.\n",
    "# five states: Iowa, Texas, Virginia, Maine, Georgia"
   ]
  },
  {
   "cell_type": "code",
   "execution_count": 337,
   "id": "fd938463-fa31-4383-8462-c614137fbc9e",
   "metadata": {
    "tags": []
   },
   "outputs": [
    {
     "name": "stdout",
     "output_type": "stream",
     "text": [
      " * postgresql://student@/week13\n",
      "Done.\n",
      "8 rows affected.\n"
     ]
    },
    {
     "data": {
      "text/plain": [
       "[]"
      ]
     },
     "execution_count": 337,
     "metadata": {},
     "output_type": "execute_result"
    }
   ],
   "source": [
    "%%sql\n",
    "DROP TABLE IF EXISTS iowa_qtrly_antigen_tests;\n",
    "\n",
    "CREATE TABLE iowa_qtrly_antigen_tests as\n",
    "\n",
    "SELECT state, quarter_of_year, year,\n",
    "    sum(tests_antigen_total) total_antigen_tests,\n",
    "    sum(tests_antigen_positive) total_positive_antigen_tests\n",
    "FROM tests\n",
    "JOIN place\n",
    "    ON tests.state_key = place.key\n",
    "JOIN date\n",
    "    ON tests.date_key = date.key\n",
    "WHERE state = 'Iowa'\n",
    "GROUP BY state, quarter_of_year, year\n",
    "ORDER BY state, year, quarter_of_year;"
   ]
  },
  {
   "cell_type": "code",
   "execution_count": 338,
   "id": "b50a1605-8c45-4914-ad2e-243cef85d350",
   "metadata": {},
   "outputs": [
    {
     "name": "stdout",
     "output_type": "stream",
     "text": [
      " * postgresql://student@/week13\n",
      "5 rows affected.\n"
     ]
    },
    {
     "data": {
      "text/html": [
       "<table>\n",
       "    <thead>\n",
       "        <tr>\n",
       "            <th>state</th>\n",
       "            <th>quarter_of_year</th>\n",
       "            <th>year</th>\n",
       "            <th>total_antigen_tests</th>\n",
       "            <th>total_positive_antigen_tests</th>\n",
       "        </tr>\n",
       "    </thead>\n",
       "    <tbody>\n",
       "        <tr>\n",
       "            <td>Iowa</td>\n",
       "            <td>1</td>\n",
       "            <td>2020</td>\n",
       "            <td>None</td>\n",
       "            <td>None</td>\n",
       "        </tr>\n",
       "        <tr>\n",
       "            <td>Iowa</td>\n",
       "            <td>2</td>\n",
       "            <td>2020</td>\n",
       "            <td>None</td>\n",
       "            <td>None</td>\n",
       "        </tr>\n",
       "        <tr>\n",
       "            <td>Iowa</td>\n",
       "            <td>3</td>\n",
       "            <td>2020</td>\n",
       "            <td>None</td>\n",
       "            <td>None</td>\n",
       "        </tr>\n",
       "        <tr>\n",
       "            <td>Iowa</td>\n",
       "            <td>4</td>\n",
       "            <td>2020</td>\n",
       "            <td>18418941</td>\n",
       "            <td>977076</td>\n",
       "        </tr>\n",
       "        <tr>\n",
       "            <td>Iowa</td>\n",
       "            <td>1</td>\n",
       "            <td>2021</td>\n",
       "            <td>108762533</td>\n",
       "            <td>5059630</td>\n",
       "        </tr>\n",
       "    </tbody>\n",
       "</table>"
      ],
      "text/plain": [
       "[('Iowa', 1, 2020, None, None),\n",
       " ('Iowa', 2, 2020, None, None),\n",
       " ('Iowa', 3, 2020, None, None),\n",
       " ('Iowa', 4, 2020, 18418941, 977076),\n",
       " ('Iowa', 1, 2021, 108762533, 5059630)]"
      ]
     },
     "execution_count": 338,
     "metadata": {},
     "output_type": "execute_result"
    }
   ],
   "source": [
    "%%sql\n",
    "select * from iowa_qtrly_antigen_tests limit 5"
   ]
  },
  {
   "cell_type": "code",
   "execution_count": 340,
   "id": "ceea17ee-accb-4a25-bb63-0e04cfda3e59",
   "metadata": {},
   "outputs": [
    {
     "name": "stdout",
     "output_type": "stream",
     "text": [
      " * postgresql://student@/week13\n",
      "0 rows affected.\n"
     ]
    },
    {
     "data": {
      "text/html": [
       "<table>\n",
       "    <thead>\n",
       "        <tr>\n",
       "        </tr>\n",
       "    </thead>\n",
       "    <tbody>\n",
       "    </tbody>\n",
       "</table>"
      ],
      "text/plain": [
       "[]"
      ]
     },
     "execution_count": 340,
     "metadata": {},
     "output_type": "execute_result"
    }
   ],
   "source": [
    "%%sql\n",
    "\n",
    "\\copy (select * from iowa_qtrly_antigen_tests) to '/home/ubuntu/notebooks/Final/tables2/iowa_qtrly_antigen_tests.csv' with (format csv, header)"
   ]
  },
  {
   "cell_type": "code",
   "execution_count": 341,
   "id": "cc562a1a-9982-475a-b5a7-871c205b0156",
   "metadata": {
    "tags": []
   },
   "outputs": [
    {
     "name": "stdout",
     "output_type": "stream",
     "text": [
      " * postgresql://student@/week13\n",
      "Done.\n",
      "22 rows affected.\n"
     ]
    },
    {
     "data": {
      "text/plain": [
       "[]"
      ]
     },
     "execution_count": 341,
     "metadata": {},
     "output_type": "execute_result"
    }
   ],
   "source": [
    "%%sql\n",
    "DROP TABLE IF EXISTS iowa_mthly_antigen_tests;\n",
    "\n",
    "CREATE TABLE iowa_mthly_antigen_tests as\n",
    "\n",
    "SELECT state, month_of_year, month_of_year_str, year,\n",
    "    sum(tests_antigen_total) total_antigen_tests,\n",
    "    sum(tests_antigen_positive) total_positive_antigen_tests\n",
    "FROM tests\n",
    "JOIN place\n",
    "    ON tests.state_key = place.key\n",
    "JOIN date\n",
    "    ON tests.date_key = date.key\n",
    "WHERE state = 'Iowa'\n",
    "GROUP BY state, month_of_year, month_of_year_str, year\n",
    "ORDER BY state, year, month_of_year;"
   ]
  },
  {
   "cell_type": "code",
   "execution_count": 342,
   "id": "21c6b28a-1d99-425c-bead-a7729127fade",
   "metadata": {},
   "outputs": [
    {
     "name": "stdout",
     "output_type": "stream",
     "text": [
      " * postgresql://student@/week13\n",
      "5 rows affected.\n"
     ]
    },
    {
     "data": {
      "text/html": [
       "<table>\n",
       "    <thead>\n",
       "        <tr>\n",
       "            <th>state</th>\n",
       "            <th>month_of_year</th>\n",
       "            <th>month_of_year_str</th>\n",
       "            <th>year</th>\n",
       "            <th>total_antigen_tests</th>\n",
       "            <th>total_positive_antigen_tests</th>\n",
       "        </tr>\n",
       "    </thead>\n",
       "    <tbody>\n",
       "        <tr>\n",
       "            <td>Iowa</td>\n",
       "            <td>3</td>\n",
       "            <td>March    </td>\n",
       "            <td>2020</td>\n",
       "            <td>None</td>\n",
       "            <td>None</td>\n",
       "        </tr>\n",
       "        <tr>\n",
       "            <td>Iowa</td>\n",
       "            <td>4</td>\n",
       "            <td>April    </td>\n",
       "            <td>2020</td>\n",
       "            <td>None</td>\n",
       "            <td>None</td>\n",
       "        </tr>\n",
       "        <tr>\n",
       "            <td>Iowa</td>\n",
       "            <td>5</td>\n",
       "            <td>May      </td>\n",
       "            <td>2020</td>\n",
       "            <td>None</td>\n",
       "            <td>None</td>\n",
       "        </tr>\n",
       "        <tr>\n",
       "            <td>Iowa</td>\n",
       "            <td>6</td>\n",
       "            <td>June     </td>\n",
       "            <td>2020</td>\n",
       "            <td>None</td>\n",
       "            <td>None</td>\n",
       "        </tr>\n",
       "        <tr>\n",
       "            <td>Iowa</td>\n",
       "            <td>7</td>\n",
       "            <td>July     </td>\n",
       "            <td>2020</td>\n",
       "            <td>None</td>\n",
       "            <td>None</td>\n",
       "        </tr>\n",
       "    </tbody>\n",
       "</table>"
      ],
      "text/plain": [
       "[('Iowa', 3, 'March    ', 2020, None, None),\n",
       " ('Iowa', 4, 'April    ', 2020, None, None),\n",
       " ('Iowa', 5, 'May      ', 2020, None, None),\n",
       " ('Iowa', 6, 'June     ', 2020, None, None),\n",
       " ('Iowa', 7, 'July     ', 2020, None, None)]"
      ]
     },
     "execution_count": 342,
     "metadata": {},
     "output_type": "execute_result"
    }
   ],
   "source": [
    "%%sql\n",
    "select * from iowa_mthly_antigen_tests limit 5"
   ]
  },
  {
   "cell_type": "code",
   "execution_count": 343,
   "id": "3d9a82a2-ba31-436d-bf23-72e11e400521",
   "metadata": {},
   "outputs": [
    {
     "name": "stdout",
     "output_type": "stream",
     "text": [
      " * postgresql://student@/week13\n",
      "0 rows affected.\n"
     ]
    },
    {
     "data": {
      "text/html": [
       "<table>\n",
       "    <thead>\n",
       "        <tr>\n",
       "        </tr>\n",
       "    </thead>\n",
       "    <tbody>\n",
       "    </tbody>\n",
       "</table>"
      ],
      "text/plain": [
       "[]"
      ]
     },
     "execution_count": 343,
     "metadata": {},
     "output_type": "execute_result"
    }
   ],
   "source": [
    "%%sql\n",
    "\n",
    "\\copy (select * from iowa_mthly_antigen_tests) to '/home/ubuntu/notebooks/Final/tables2/iowa_mthly_antigen_tests.csv' with (format csv, header)"
   ]
  },
  {
   "cell_type": "code",
   "execution_count": 344,
   "id": "2d3ab8b2-2e73-4d96-9158-4ab4fce578e9",
   "metadata": {
    "tags": []
   },
   "outputs": [
    {
     "name": "stdout",
     "output_type": "stream",
     "text": [
      " * postgresql://student@/week13\n",
      "Done.\n",
      "8 rows affected.\n"
     ]
    },
    {
     "data": {
      "text/plain": [
       "[]"
      ]
     },
     "execution_count": 344,
     "metadata": {},
     "output_type": "execute_result"
    }
   ],
   "source": [
    "%%sql\n",
    "DROP TABLE IF EXISTS texas_qtrly_antigen_tests;\n",
    "\n",
    "CREATE TABLE texas_qtrly_antigen_tests as\n",
    "\n",
    "SELECT state, quarter_of_year, year,\n",
    "    sum(tests_antigen_total) total_antigen_tests,\n",
    "    sum(tests_antigen_positive) total_positive_antigen_tests\n",
    "FROM tests\n",
    "JOIN place\n",
    "    ON tests.state_key = place.key\n",
    "JOIN date\n",
    "    ON tests.date_key = date.key\n",
    "WHERE state = 'Texas'\n",
    "GROUP BY state, quarter_of_year, year\n",
    "ORDER BY state, year, quarter_of_year;"
   ]
  },
  {
   "cell_type": "code",
   "execution_count": 345,
   "id": "4f705e75-9f5d-4d36-a6fa-ce082e2ae1d2",
   "metadata": {},
   "outputs": [
    {
     "name": "stdout",
     "output_type": "stream",
     "text": [
      " * postgresql://student@/week13\n",
      "5 rows affected.\n"
     ]
    },
    {
     "data": {
      "text/html": [
       "<table>\n",
       "    <thead>\n",
       "        <tr>\n",
       "            <th>state</th>\n",
       "            <th>quarter_of_year</th>\n",
       "            <th>year</th>\n",
       "            <th>total_antigen_tests</th>\n",
       "            <th>total_positive_antigen_tests</th>\n",
       "        </tr>\n",
       "    </thead>\n",
       "    <tbody>\n",
       "        <tr>\n",
       "            <td>Texas</td>\n",
       "            <td>1</td>\n",
       "            <td>2020</td>\n",
       "            <td>None</td>\n",
       "            <td>None</td>\n",
       "        </tr>\n",
       "        <tr>\n",
       "            <td>Texas</td>\n",
       "            <td>2</td>\n",
       "            <td>2020</td>\n",
       "            <td>102330</td>\n",
       "            <td>17752</td>\n",
       "        </tr>\n",
       "        <tr>\n",
       "            <td>Texas</td>\n",
       "            <td>3</td>\n",
       "            <td>2020</td>\n",
       "            <td>7903477</td>\n",
       "            <td>986925</td>\n",
       "        </tr>\n",
       "        <tr>\n",
       "            <td>Texas</td>\n",
       "            <td>4</td>\n",
       "            <td>2020</td>\n",
       "            <td>55721104</td>\n",
       "            <td>4579349</td>\n",
       "        </tr>\n",
       "        <tr>\n",
       "            <td>Texas</td>\n",
       "            <td>1</td>\n",
       "            <td>2021</td>\n",
       "            <td>188091070</td>\n",
       "            <td>15871704</td>\n",
       "        </tr>\n",
       "    </tbody>\n",
       "</table>"
      ],
      "text/plain": [
       "[('Texas', 1, 2020, None, None),\n",
       " ('Texas', 2, 2020, 102330, 17752),\n",
       " ('Texas', 3, 2020, 7903477, 986925),\n",
       " ('Texas', 4, 2020, 55721104, 4579349),\n",
       " ('Texas', 1, 2021, 188091070, 15871704)]"
      ]
     },
     "execution_count": 345,
     "metadata": {},
     "output_type": "execute_result"
    }
   ],
   "source": [
    "%%sql\n",
    "select * from texas_qtrly_antigen_tests limit 5"
   ]
  },
  {
   "cell_type": "code",
   "execution_count": 346,
   "id": "2202571a-cc36-4ff2-b8e9-fa537a0d8f7e",
   "metadata": {},
   "outputs": [
    {
     "name": "stdout",
     "output_type": "stream",
     "text": [
      " * postgresql://student@/week13\n",
      "0 rows affected.\n"
     ]
    },
    {
     "data": {
      "text/html": [
       "<table>\n",
       "    <thead>\n",
       "        <tr>\n",
       "        </tr>\n",
       "    </thead>\n",
       "    <tbody>\n",
       "    </tbody>\n",
       "</table>"
      ],
      "text/plain": [
       "[]"
      ]
     },
     "execution_count": 346,
     "metadata": {},
     "output_type": "execute_result"
    }
   ],
   "source": [
    "%%sql\n",
    "\n",
    "\\copy (select * from texas_qtrly_antigen_tests) to '/home/ubuntu/notebooks/Final/tables2/texas_qtrly_antigen_tests.csv' with (format csv, header)"
   ]
  },
  {
   "cell_type": "code",
   "execution_count": 347,
   "id": "da4af92e-f0e6-4d40-af28-a0c0bdf07a06",
   "metadata": {
    "tags": []
   },
   "outputs": [
    {
     "name": "stdout",
     "output_type": "stream",
     "text": [
      " * postgresql://student@/week13\n",
      "Done.\n",
      "22 rows affected.\n"
     ]
    },
    {
     "data": {
      "text/plain": [
       "[]"
      ]
     },
     "execution_count": 347,
     "metadata": {},
     "output_type": "execute_result"
    }
   ],
   "source": [
    "%%sql\n",
    "DROP TABLE IF EXISTS texas_mthly_antigen_tests;\n",
    "\n",
    "CREATE TABLE texas_mthly_antigen_tests as\n",
    "\n",
    "SELECT state, month_of_year, month_of_year_str, year,\n",
    "    sum(tests_antigen_total) total_antigen_tests,\n",
    "    sum(tests_antigen_positive) total_positive_antigen_tests\n",
    "FROM tests\n",
    "JOIN place\n",
    "    ON tests.state_key = place.key\n",
    "JOIN date\n",
    "    ON tests.date_key = date.key\n",
    "WHERE state = 'Texas'\n",
    "GROUP BY state, month_of_year, month_of_year_str, year\n",
    "ORDER BY state, year, month_of_year;"
   ]
  },
  {
   "cell_type": "code",
   "execution_count": 348,
   "id": "29dae7e7-c06f-4b20-889a-900731548d01",
   "metadata": {},
   "outputs": [
    {
     "name": "stdout",
     "output_type": "stream",
     "text": [
      " * postgresql://student@/week13\n",
      "5 rows affected.\n"
     ]
    },
    {
     "data": {
      "text/html": [
       "<table>\n",
       "    <thead>\n",
       "        <tr>\n",
       "            <th>state</th>\n",
       "            <th>month_of_year</th>\n",
       "            <th>month_of_year_str</th>\n",
       "            <th>year</th>\n",
       "            <th>total_antigen_tests</th>\n",
       "            <th>total_positive_antigen_tests</th>\n",
       "        </tr>\n",
       "    </thead>\n",
       "    <tbody>\n",
       "        <tr>\n",
       "            <td>Texas</td>\n",
       "            <td>3</td>\n",
       "            <td>March    </td>\n",
       "            <td>2020</td>\n",
       "            <td>None</td>\n",
       "            <td>None</td>\n",
       "        </tr>\n",
       "        <tr>\n",
       "            <td>Texas</td>\n",
       "            <td>4</td>\n",
       "            <td>April    </td>\n",
       "            <td>2020</td>\n",
       "            <td>None</td>\n",
       "            <td>None</td>\n",
       "        </tr>\n",
       "        <tr>\n",
       "            <td>Texas</td>\n",
       "            <td>5</td>\n",
       "            <td>May      </td>\n",
       "            <td>2020</td>\n",
       "            <td>617</td>\n",
       "            <td>34</td>\n",
       "        </tr>\n",
       "        <tr>\n",
       "            <td>Texas</td>\n",
       "            <td>6</td>\n",
       "            <td>June     </td>\n",
       "            <td>2020</td>\n",
       "            <td>101713</td>\n",
       "            <td>17718</td>\n",
       "        </tr>\n",
       "        <tr>\n",
       "            <td>Texas</td>\n",
       "            <td>7</td>\n",
       "            <td>July     </td>\n",
       "            <td>2020</td>\n",
       "            <td>982473</td>\n",
       "            <td>187287</td>\n",
       "        </tr>\n",
       "    </tbody>\n",
       "</table>"
      ],
      "text/plain": [
       "[('Texas', 3, 'March    ', 2020, None, None),\n",
       " ('Texas', 4, 'April    ', 2020, None, None),\n",
       " ('Texas', 5, 'May      ', 2020, 617, 34),\n",
       " ('Texas', 6, 'June     ', 2020, 101713, 17718),\n",
       " ('Texas', 7, 'July     ', 2020, 982473, 187287)]"
      ]
     },
     "execution_count": 348,
     "metadata": {},
     "output_type": "execute_result"
    }
   ],
   "source": [
    "%%sql\n",
    "select * from texas_mthly_antigen_tests limit 5"
   ]
  },
  {
   "cell_type": "code",
   "execution_count": 349,
   "id": "65194845-6a1c-440a-9fb1-53f721f2a67d",
   "metadata": {},
   "outputs": [
    {
     "name": "stdout",
     "output_type": "stream",
     "text": [
      " * postgresql://student@/week13\n",
      "0 rows affected.\n"
     ]
    },
    {
     "data": {
      "text/html": [
       "<table>\n",
       "    <thead>\n",
       "        <tr>\n",
       "        </tr>\n",
       "    </thead>\n",
       "    <tbody>\n",
       "    </tbody>\n",
       "</table>"
      ],
      "text/plain": [
       "[]"
      ]
     },
     "execution_count": 349,
     "metadata": {},
     "output_type": "execute_result"
    }
   ],
   "source": [
    "%%sql\n",
    "\n",
    "\\copy (select * from texas_mthly_antigen_tests) to '/home/ubuntu/notebooks/Final/tables2/texas_mthly_antigen_tests.csv' with (format csv, header)"
   ]
  },
  {
   "cell_type": "code",
   "execution_count": 350,
   "id": "52f908db-1871-4927-9a9c-bcf31d89bc7e",
   "metadata": {},
   "outputs": [
    {
     "name": "stdout",
     "output_type": "stream",
     "text": [
      " * postgresql://student@/week13\n",
      "Done.\n",
      "8 rows affected.\n"
     ]
    },
    {
     "data": {
      "text/plain": [
       "[]"
      ]
     },
     "execution_count": 350,
     "metadata": {},
     "output_type": "execute_result"
    }
   ],
   "source": [
    "%%sql\n",
    "DROP TABLE IF EXISTS virginia_qtrly_antigen_tests;\n",
    "\n",
    "CREATE TABLE virginia_qtrly_antigen_tests as\n",
    "\n",
    "SELECT state, quarter_of_year, year,\n",
    "    sum(tests_antigen_total) total_antigen_tests,\n",
    "    sum(tests_antigen_positive) total_positive_antigen_tests\n",
    "FROM tests\n",
    "JOIN place\n",
    "    ON tests.state_key = place.key\n",
    "JOIN date\n",
    "    ON tests.date_key = date.key\n",
    "WHERE state = 'Virginia'\n",
    "GROUP BY state, quarter_of_year, year\n",
    "ORDER BY state, year, quarter_of_year;"
   ]
  },
  {
   "cell_type": "code",
   "execution_count": 351,
   "id": "43ce148c-6873-4867-abdb-6e9bb69227ac",
   "metadata": {},
   "outputs": [
    {
     "name": "stdout",
     "output_type": "stream",
     "text": [
      " * postgresql://student@/week13\n",
      "5 rows affected.\n"
     ]
    },
    {
     "data": {
      "text/html": [
       "<table>\n",
       "    <thead>\n",
       "        <tr>\n",
       "            <th>state</th>\n",
       "            <th>quarter_of_year</th>\n",
       "            <th>year</th>\n",
       "            <th>total_antigen_tests</th>\n",
       "            <th>total_positive_antigen_tests</th>\n",
       "        </tr>\n",
       "    </thead>\n",
       "    <tbody>\n",
       "        <tr>\n",
       "            <td>Virginia</td>\n",
       "            <td>1</td>\n",
       "            <td>2020</td>\n",
       "            <td>768</td>\n",
       "            <td>34</td>\n",
       "        </tr>\n",
       "        <tr>\n",
       "            <td>Virginia</td>\n",
       "            <td>2</td>\n",
       "            <td>2020</td>\n",
       "            <td>9024</td>\n",
       "            <td>3538</td>\n",
       "        </tr>\n",
       "        <tr>\n",
       "            <td>Virginia</td>\n",
       "            <td>3</td>\n",
       "            <td>2020</td>\n",
       "            <td>636621</td>\n",
       "            <td>121583</td>\n",
       "        </tr>\n",
       "        <tr>\n",
       "            <td>Virginia</td>\n",
       "            <td>4</td>\n",
       "            <td>2020</td>\n",
       "            <td>25946142</td>\n",
       "            <td>1818811</td>\n",
       "        </tr>\n",
       "        <tr>\n",
       "            <td>Virginia</td>\n",
       "            <td>1</td>\n",
       "            <td>2021</td>\n",
       "            <td>105905006</td>\n",
       "            <td>9555662</td>\n",
       "        </tr>\n",
       "    </tbody>\n",
       "</table>"
      ],
      "text/plain": [
       "[('Virginia', 1, 2020, 768, 34),\n",
       " ('Virginia', 2, 2020, 9024, 3538),\n",
       " ('Virginia', 3, 2020, 636621, 121583),\n",
       " ('Virginia', 4, 2020, 25946142, 1818811),\n",
       " ('Virginia', 1, 2021, 105905006, 9555662)]"
      ]
     },
     "execution_count": 351,
     "metadata": {},
     "output_type": "execute_result"
    }
   ],
   "source": [
    "%%sql\n",
    "select * from virginia_qtrly_antigen_tests limit 5"
   ]
  },
  {
   "cell_type": "code",
   "execution_count": 352,
   "id": "fa3640da-a5c4-413e-928d-b076d1c062c5",
   "metadata": {},
   "outputs": [
    {
     "name": "stdout",
     "output_type": "stream",
     "text": [
      " * postgresql://student@/week13\n",
      "0 rows affected.\n"
     ]
    },
    {
     "data": {
      "text/html": [
       "<table>\n",
       "    <thead>\n",
       "        <tr>\n",
       "        </tr>\n",
       "    </thead>\n",
       "    <tbody>\n",
       "    </tbody>\n",
       "</table>"
      ],
      "text/plain": [
       "[]"
      ]
     },
     "execution_count": 352,
     "metadata": {},
     "output_type": "execute_result"
    }
   ],
   "source": [
    "%%sql\n",
    "\n",
    "\\copy (select * from virginia_qtrly_antigen_tests) to '/home/ubuntu/notebooks/Final/tables2/virginia_qtrly_antigen_tests.csv' with (format csv, header)"
   ]
  },
  {
   "cell_type": "code",
   "execution_count": 353,
   "id": "6a7ffa4d-3810-4a73-ad7c-6cf6e2c513a3",
   "metadata": {},
   "outputs": [
    {
     "name": "stdout",
     "output_type": "stream",
     "text": [
      " * postgresql://student@/week13\n",
      "Done.\n",
      "24 rows affected.\n"
     ]
    },
    {
     "data": {
      "text/plain": [
       "[]"
      ]
     },
     "execution_count": 353,
     "metadata": {},
     "output_type": "execute_result"
    }
   ],
   "source": [
    "%%sql\n",
    "DROP TABLE IF EXISTS virginia_mthly_antigen_tests;\n",
    "\n",
    "CREATE TABLE virginia_mthly_antigen_tests as\n",
    "\n",
    "SELECT state, month_of_year, month_of_year_str, year,\n",
    "    sum(tests_antigen_total) total_antigen_tests,\n",
    "    sum(tests_antigen_positive) total_positive_antigen_tests\n",
    "FROM tests\n",
    "JOIN place\n",
    "    ON tests.state_key = place.key\n",
    "JOIN date\n",
    "    ON tests.date_key = date.key\n",
    "WHERE state = 'Virginia'\n",
    "GROUP BY state, month_of_year, month_of_year_str, year\n",
    "ORDER BY state, year, month_of_year;"
   ]
  },
  {
   "cell_type": "code",
   "execution_count": 354,
   "id": "d1a20082-b25a-43e9-9534-9a486be639eb",
   "metadata": {},
   "outputs": [
    {
     "name": "stdout",
     "output_type": "stream",
     "text": [
      " * postgresql://student@/week13\n",
      "5 rows affected.\n"
     ]
    },
    {
     "data": {
      "text/html": [
       "<table>\n",
       "    <thead>\n",
       "        <tr>\n",
       "            <th>state</th>\n",
       "            <th>month_of_year</th>\n",
       "            <th>month_of_year_str</th>\n",
       "            <th>year</th>\n",
       "            <th>total_antigen_tests</th>\n",
       "            <th>total_positive_antigen_tests</th>\n",
       "        </tr>\n",
       "    </thead>\n",
       "    <tbody>\n",
       "        <tr>\n",
       "            <td>Virginia</td>\n",
       "            <td>1</td>\n",
       "            <td>January  </td>\n",
       "            <td>2020</td>\n",
       "            <td>8</td>\n",
       "            <td>0</td>\n",
       "        </tr>\n",
       "        <tr>\n",
       "            <td>Virginia</td>\n",
       "            <td>2</td>\n",
       "            <td>February </td>\n",
       "            <td>2020</td>\n",
       "            <td>200</td>\n",
       "            <td>1</td>\n",
       "        </tr>\n",
       "        <tr>\n",
       "            <td>Virginia</td>\n",
       "            <td>3</td>\n",
       "            <td>March    </td>\n",
       "            <td>2020</td>\n",
       "            <td>560</td>\n",
       "            <td>33</td>\n",
       "        </tr>\n",
       "        <tr>\n",
       "            <td>Virginia</td>\n",
       "            <td>4</td>\n",
       "            <td>April    </td>\n",
       "            <td>2020</td>\n",
       "            <td>708</td>\n",
       "            <td>164</td>\n",
       "        </tr>\n",
       "        <tr>\n",
       "            <td>Virginia</td>\n",
       "            <td>5</td>\n",
       "            <td>May      </td>\n",
       "            <td>2020</td>\n",
       "            <td>2875</td>\n",
       "            <td>773</td>\n",
       "        </tr>\n",
       "    </tbody>\n",
       "</table>"
      ],
      "text/plain": [
       "[('Virginia', 1, 'January  ', 2020, 8, 0),\n",
       " ('Virginia', 2, 'February ', 2020, 200, 1),\n",
       " ('Virginia', 3, 'March    ', 2020, 560, 33),\n",
       " ('Virginia', 4, 'April    ', 2020, 708, 164),\n",
       " ('Virginia', 5, 'May      ', 2020, 2875, 773)]"
      ]
     },
     "execution_count": 354,
     "metadata": {},
     "output_type": "execute_result"
    }
   ],
   "source": [
    "%%sql\n",
    "select * from virginia_mthly_antigen_tests limit 5"
   ]
  },
  {
   "cell_type": "code",
   "execution_count": 355,
   "id": "dd540137-a538-4b9d-a38d-27b5a12ec222",
   "metadata": {},
   "outputs": [
    {
     "name": "stdout",
     "output_type": "stream",
     "text": [
      " * postgresql://student@/week13\n",
      "0 rows affected.\n"
     ]
    },
    {
     "data": {
      "text/html": [
       "<table>\n",
       "    <thead>\n",
       "        <tr>\n",
       "        </tr>\n",
       "    </thead>\n",
       "    <tbody>\n",
       "    </tbody>\n",
       "</table>"
      ],
      "text/plain": [
       "[]"
      ]
     },
     "execution_count": 355,
     "metadata": {},
     "output_type": "execute_result"
    }
   ],
   "source": [
    "%%sql\n",
    "\n",
    "\\copy (select * from virginia_mthly_antigen_tests) to '/home/ubuntu/notebooks/Final/tables2/virginia_mthly_antigen_tests.csv' with (format csv, header)"
   ]
  },
  {
   "cell_type": "code",
   "execution_count": 356,
   "id": "6c6e811a-3362-4d2d-9555-aa59446ffc25",
   "metadata": {},
   "outputs": [
    {
     "name": "stdout",
     "output_type": "stream",
     "text": [
      " * postgresql://student@/week13\n",
      "Done.\n",
      "8 rows affected.\n"
     ]
    },
    {
     "data": {
      "text/plain": [
       "[]"
      ]
     },
     "execution_count": 356,
     "metadata": {},
     "output_type": "execute_result"
    }
   ],
   "source": [
    "%%sql\n",
    "DROP TABLE IF EXISTS maine_qtrly_antigen_tests;\n",
    "\n",
    "CREATE TABLE maine_qtrly_antigen_tests as\n",
    "\n",
    "SELECT state, quarter_of_year, year,\n",
    "    sum(tests_antigen_total) total_antigen_tests,\n",
    "    sum(tests_antigen_positive) total_positive_antigen_tests\n",
    "FROM tests\n",
    "JOIN place\n",
    "    ON tests.state_key = place.key\n",
    "JOIN date\n",
    "    ON tests.date_key = date.key\n",
    "WHERE state = 'Maine'\n",
    "GROUP BY state, quarter_of_year, year\n",
    "ORDER BY state, year, quarter_of_year;"
   ]
  },
  {
   "cell_type": "code",
   "execution_count": 357,
   "id": "17124e5d-dd0e-47e0-a021-9be62557a801",
   "metadata": {},
   "outputs": [
    {
     "name": "stdout",
     "output_type": "stream",
     "text": [
      " * postgresql://student@/week13\n",
      "5 rows affected.\n"
     ]
    },
    {
     "data": {
      "text/html": [
       "<table>\n",
       "    <thead>\n",
       "        <tr>\n",
       "            <th>state</th>\n",
       "            <th>quarter_of_year</th>\n",
       "            <th>year</th>\n",
       "            <th>total_antigen_tests</th>\n",
       "            <th>total_positive_antigen_tests</th>\n",
       "        </tr>\n",
       "    </thead>\n",
       "    <tbody>\n",
       "        <tr>\n",
       "            <td>Maine</td>\n",
       "            <td>1</td>\n",
       "            <td>2020</td>\n",
       "            <td>None</td>\n",
       "            <td>None</td>\n",
       "        </tr>\n",
       "        <tr>\n",
       "            <td>Maine</td>\n",
       "            <td>2</td>\n",
       "            <td>2020</td>\n",
       "            <td>None</td>\n",
       "            <td>None</td>\n",
       "        </tr>\n",
       "        <tr>\n",
       "            <td>Maine</td>\n",
       "            <td>3</td>\n",
       "            <td>2020</td>\n",
       "            <td>None</td>\n",
       "            <td>None</td>\n",
       "        </tr>\n",
       "        <tr>\n",
       "            <td>Maine</td>\n",
       "            <td>4</td>\n",
       "            <td>2020</td>\n",
       "            <td>1643801</td>\n",
       "            <td>69384</td>\n",
       "        </tr>\n",
       "        <tr>\n",
       "            <td>Maine</td>\n",
       "            <td>1</td>\n",
       "            <td>2021</td>\n",
       "            <td>15013107</td>\n",
       "            <td>781164</td>\n",
       "        </tr>\n",
       "    </tbody>\n",
       "</table>"
      ],
      "text/plain": [
       "[('Maine', 1, 2020, None, None),\n",
       " ('Maine', 2, 2020, None, None),\n",
       " ('Maine', 3, 2020, None, None),\n",
       " ('Maine', 4, 2020, 1643801, 69384),\n",
       " ('Maine', 1, 2021, 15013107, 781164)]"
      ]
     },
     "execution_count": 357,
     "metadata": {},
     "output_type": "execute_result"
    }
   ],
   "source": [
    "%%sql\n",
    "select * from maine_qtrly_antigen_tests limit 5"
   ]
  },
  {
   "cell_type": "code",
   "execution_count": 358,
   "id": "7f7e7984-94f0-41a6-90ca-0548ea1fb1d1",
   "metadata": {},
   "outputs": [
    {
     "name": "stdout",
     "output_type": "stream",
     "text": [
      " * postgresql://student@/week13\n",
      "0 rows affected.\n"
     ]
    },
    {
     "data": {
      "text/html": [
       "<table>\n",
       "    <thead>\n",
       "        <tr>\n",
       "        </tr>\n",
       "    </thead>\n",
       "    <tbody>\n",
       "    </tbody>\n",
       "</table>"
      ],
      "text/plain": [
       "[]"
      ]
     },
     "execution_count": 358,
     "metadata": {},
     "output_type": "execute_result"
    }
   ],
   "source": [
    "%%sql\n",
    "\n",
    "\\copy (select * from maine_qtrly_antigen_tests) to '/home/ubuntu/notebooks/Final/tables2/maine_qtrly_antigen_tests.csv' with (format csv, header)"
   ]
  },
  {
   "cell_type": "code",
   "execution_count": 359,
   "id": "d8f2a032-ee72-4b28-93b3-ad9911bb52f3",
   "metadata": {},
   "outputs": [
    {
     "name": "stdout",
     "output_type": "stream",
     "text": [
      " * postgresql://student@/week13\n",
      "Done.\n",
      "22 rows affected.\n"
     ]
    },
    {
     "data": {
      "text/plain": [
       "[]"
      ]
     },
     "execution_count": 359,
     "metadata": {},
     "output_type": "execute_result"
    }
   ],
   "source": [
    "%%sql\n",
    "DROP TABLE IF EXISTS maine_mthly_antigen_tests;\n",
    "\n",
    "CREATE TABLE maine_mthly_antigen_tests as\n",
    "\n",
    "SELECT state, month_of_year, month_of_year_str, year,\n",
    "    sum(tests_antigen_total) total_antigen_tests,\n",
    "    sum(tests_antigen_positive) total_positive_antigen_tests\n",
    "FROM tests\n",
    "JOIN place\n",
    "    ON tests.state_key = place.key\n",
    "JOIN date\n",
    "    ON tests.date_key = date.key\n",
    "WHERE state = 'Maine'\n",
    "GROUP BY state, month_of_year, month_of_year_str, year\n",
    "ORDER BY state, year, month_of_year;"
   ]
  },
  {
   "cell_type": "code",
   "execution_count": 360,
   "id": "38f5be51-e69c-45a2-bfe2-42a134adfac3",
   "metadata": {},
   "outputs": [
    {
     "name": "stdout",
     "output_type": "stream",
     "text": [
      " * postgresql://student@/week13\n",
      "5 rows affected.\n"
     ]
    },
    {
     "data": {
      "text/html": [
       "<table>\n",
       "    <thead>\n",
       "        <tr>\n",
       "            <th>state</th>\n",
       "            <th>month_of_year</th>\n",
       "            <th>month_of_year_str</th>\n",
       "            <th>year</th>\n",
       "            <th>total_antigen_tests</th>\n",
       "            <th>total_positive_antigen_tests</th>\n",
       "        </tr>\n",
       "    </thead>\n",
       "    <tbody>\n",
       "        <tr>\n",
       "            <td>Maine</td>\n",
       "            <td>3</td>\n",
       "            <td>March    </td>\n",
       "            <td>2020</td>\n",
       "            <td>None</td>\n",
       "            <td>None</td>\n",
       "        </tr>\n",
       "        <tr>\n",
       "            <td>Maine</td>\n",
       "            <td>4</td>\n",
       "            <td>April    </td>\n",
       "            <td>2020</td>\n",
       "            <td>None</td>\n",
       "            <td>None</td>\n",
       "        </tr>\n",
       "        <tr>\n",
       "            <td>Maine</td>\n",
       "            <td>5</td>\n",
       "            <td>May      </td>\n",
       "            <td>2020</td>\n",
       "            <td>None</td>\n",
       "            <td>None</td>\n",
       "        </tr>\n",
       "        <tr>\n",
       "            <td>Maine</td>\n",
       "            <td>6</td>\n",
       "            <td>June     </td>\n",
       "            <td>2020</td>\n",
       "            <td>None</td>\n",
       "            <td>None</td>\n",
       "        </tr>\n",
       "        <tr>\n",
       "            <td>Maine</td>\n",
       "            <td>7</td>\n",
       "            <td>July     </td>\n",
       "            <td>2020</td>\n",
       "            <td>None</td>\n",
       "            <td>None</td>\n",
       "        </tr>\n",
       "    </tbody>\n",
       "</table>"
      ],
      "text/plain": [
       "[('Maine', 3, 'March    ', 2020, None, None),\n",
       " ('Maine', 4, 'April    ', 2020, None, None),\n",
       " ('Maine', 5, 'May      ', 2020, None, None),\n",
       " ('Maine', 6, 'June     ', 2020, None, None),\n",
       " ('Maine', 7, 'July     ', 2020, None, None)]"
      ]
     },
     "execution_count": 360,
     "metadata": {},
     "output_type": "execute_result"
    }
   ],
   "source": [
    "%%sql\n",
    "select * from maine_mthly_antigen_tests limit 5"
   ]
  },
  {
   "cell_type": "code",
   "execution_count": 361,
   "id": "cfe89f01-12d7-4752-b97a-564741dd9ea8",
   "metadata": {},
   "outputs": [
    {
     "name": "stdout",
     "output_type": "stream",
     "text": [
      " * postgresql://student@/week13\n",
      "0 rows affected.\n"
     ]
    },
    {
     "data": {
      "text/html": [
       "<table>\n",
       "    <thead>\n",
       "        <tr>\n",
       "        </tr>\n",
       "    </thead>\n",
       "    <tbody>\n",
       "    </tbody>\n",
       "</table>"
      ],
      "text/plain": [
       "[]"
      ]
     },
     "execution_count": 361,
     "metadata": {},
     "output_type": "execute_result"
    }
   ],
   "source": [
    "%%sql\n",
    "\n",
    "\\copy (select * from maine_mthly_antigen_tests) to '/home/ubuntu/notebooks/Final/tables2/maine_mthly_antigen_tests.csv' with (format csv, header)"
   ]
  },
  {
   "cell_type": "code",
   "execution_count": 362,
   "id": "9a069526-33b5-418a-82c7-a37865d9ec31",
   "metadata": {},
   "outputs": [
    {
     "name": "stdout",
     "output_type": "stream",
     "text": [
      " * postgresql://student@/week13\n",
      "Done.\n",
      "8 rows affected.\n"
     ]
    },
    {
     "data": {
      "text/plain": [
       "[]"
      ]
     },
     "execution_count": 362,
     "metadata": {},
     "output_type": "execute_result"
    }
   ],
   "source": [
    "%%sql\n",
    "DROP TABLE IF EXISTS georgia_qtrly_antigen_tests;\n",
    "\n",
    "CREATE TABLE georgia_qtrly_antigen_tests as\n",
    "\n",
    "SELECT state, quarter_of_year, year,\n",
    "    sum(tests_antigen_total) total_antigen_tests,\n",
    "    sum(tests_antigen_positive) total_positive_antigen_tests\n",
    "FROM tests\n",
    "JOIN place\n",
    "    ON tests.state_key = place.key\n",
    "JOIN date\n",
    "    ON tests.date_key = date.key\n",
    "WHERE state = 'Georgia'\n",
    "GROUP BY state, quarter_of_year, year\n",
    "ORDER BY state, year, quarter_of_year;"
   ]
  },
  {
   "cell_type": "code",
   "execution_count": 363,
   "id": "57459e33-5ce8-4c1b-874f-6bdf91bf32a1",
   "metadata": {},
   "outputs": [
    {
     "name": "stdout",
     "output_type": "stream",
     "text": [
      " * postgresql://student@/week13\n",
      "5 rows affected.\n"
     ]
    },
    {
     "data": {
      "text/html": [
       "<table>\n",
       "    <thead>\n",
       "        <tr>\n",
       "            <th>state</th>\n",
       "            <th>quarter_of_year</th>\n",
       "            <th>year</th>\n",
       "            <th>total_antigen_tests</th>\n",
       "            <th>total_positive_antigen_tests</th>\n",
       "        </tr>\n",
       "    </thead>\n",
       "    <tbody>\n",
       "        <tr>\n",
       "            <td>Georgia</td>\n",
       "            <td>1</td>\n",
       "            <td>2020</td>\n",
       "            <td>None</td>\n",
       "            <td>None</td>\n",
       "        </tr>\n",
       "        <tr>\n",
       "            <td>Georgia</td>\n",
       "            <td>2</td>\n",
       "            <td>2020</td>\n",
       "            <td>None</td>\n",
       "            <td>None</td>\n",
       "        </tr>\n",
       "        <tr>\n",
       "            <td>Georgia</td>\n",
       "            <td>3</td>\n",
       "            <td>2020</td>\n",
       "            <td>None</td>\n",
       "            <td>None</td>\n",
       "        </tr>\n",
       "        <tr>\n",
       "            <td>Georgia</td>\n",
       "            <td>4</td>\n",
       "            <td>2020</td>\n",
       "            <td>None</td>\n",
       "            <td>None</td>\n",
       "        </tr>\n",
       "        <tr>\n",
       "            <td>Georgia</td>\n",
       "            <td>1</td>\n",
       "            <td>2021</td>\n",
       "            <td>60518148</td>\n",
       "            <td>6939800</td>\n",
       "        </tr>\n",
       "    </tbody>\n",
       "</table>"
      ],
      "text/plain": [
       "[('Georgia', 1, 2020, None, None),\n",
       " ('Georgia', 2, 2020, None, None),\n",
       " ('Georgia', 3, 2020, None, None),\n",
       " ('Georgia', 4, 2020, None, None),\n",
       " ('Georgia', 1, 2021, 60518148, 6939800)]"
      ]
     },
     "execution_count": 363,
     "metadata": {},
     "output_type": "execute_result"
    }
   ],
   "source": [
    "%%sql\n",
    "select * from georgia_qtrly_antigen_tests limit 5"
   ]
  },
  {
   "cell_type": "code",
   "execution_count": 364,
   "id": "4fca6c03-e5e8-469a-918d-372df8e5fa45",
   "metadata": {},
   "outputs": [
    {
     "name": "stdout",
     "output_type": "stream",
     "text": [
      " * postgresql://student@/week13\n",
      "0 rows affected.\n"
     ]
    },
    {
     "data": {
      "text/html": [
       "<table>\n",
       "    <thead>\n",
       "        <tr>\n",
       "        </tr>\n",
       "    </thead>\n",
       "    <tbody>\n",
       "    </tbody>\n",
       "</table>"
      ],
      "text/plain": [
       "[]"
      ]
     },
     "execution_count": 364,
     "metadata": {},
     "output_type": "execute_result"
    }
   ],
   "source": [
    "%%sql\n",
    "\n",
    "\\copy (select * from georgia_qtrly_antigen_tests) to '/home/ubuntu/notebooks/Final/tables2/georgia_qtrly_antigen_tests.csv' with (format csv, header)"
   ]
  },
  {
   "cell_type": "code",
   "execution_count": 365,
   "id": "3432be0d-038a-4524-b415-8775303e3f73",
   "metadata": {},
   "outputs": [
    {
     "name": "stdout",
     "output_type": "stream",
     "text": [
      " * postgresql://student@/week13\n",
      "Done.\n",
      "22 rows affected.\n"
     ]
    },
    {
     "data": {
      "text/plain": [
       "[]"
      ]
     },
     "execution_count": 365,
     "metadata": {},
     "output_type": "execute_result"
    }
   ],
   "source": [
    "%%sql\n",
    "DROP TABLE IF EXISTS georgia_mthly_antigen_tests;\n",
    "\n",
    "CREATE TABLE georgia_mthly_antigen_tests as\n",
    "\n",
    "SELECT state, month_of_year, month_of_year_str, year,\n",
    "    sum(tests_antigen_total) total_antigen_tests,\n",
    "    sum(tests_antigen_positive) total_positive_antigen_tests\n",
    "FROM tests\n",
    "JOIN place\n",
    "    ON tests.state_key = place.key\n",
    "JOIN date\n",
    "    ON tests.date_key = date.key\n",
    "WHERE state = 'Georgia'\n",
    "GROUP BY state, month_of_year, month_of_year_str, year\n",
    "ORDER BY state, year, month_of_year;"
   ]
  },
  {
   "cell_type": "code",
   "execution_count": 366,
   "id": "9d3c2cf7-c526-4ccd-8a71-8e7088ab55c7",
   "metadata": {},
   "outputs": [
    {
     "name": "stdout",
     "output_type": "stream",
     "text": [
      " * postgresql://student@/week13\n",
      "5 rows affected.\n"
     ]
    },
    {
     "data": {
      "text/html": [
       "<table>\n",
       "    <thead>\n",
       "        <tr>\n",
       "            <th>state</th>\n",
       "            <th>month_of_year</th>\n",
       "            <th>month_of_year_str</th>\n",
       "            <th>year</th>\n",
       "            <th>total_antigen_tests</th>\n",
       "            <th>total_positive_antigen_tests</th>\n",
       "        </tr>\n",
       "    </thead>\n",
       "    <tbody>\n",
       "        <tr>\n",
       "            <td>Georgia</td>\n",
       "            <td>3</td>\n",
       "            <td>March    </td>\n",
       "            <td>2020</td>\n",
       "            <td>None</td>\n",
       "            <td>None</td>\n",
       "        </tr>\n",
       "        <tr>\n",
       "            <td>Georgia</td>\n",
       "            <td>4</td>\n",
       "            <td>April    </td>\n",
       "            <td>2020</td>\n",
       "            <td>None</td>\n",
       "            <td>None</td>\n",
       "        </tr>\n",
       "        <tr>\n",
       "            <td>Georgia</td>\n",
       "            <td>5</td>\n",
       "            <td>May      </td>\n",
       "            <td>2020</td>\n",
       "            <td>None</td>\n",
       "            <td>None</td>\n",
       "        </tr>\n",
       "        <tr>\n",
       "            <td>Georgia</td>\n",
       "            <td>6</td>\n",
       "            <td>June     </td>\n",
       "            <td>2020</td>\n",
       "            <td>None</td>\n",
       "            <td>None</td>\n",
       "        </tr>\n",
       "        <tr>\n",
       "            <td>Georgia</td>\n",
       "            <td>7</td>\n",
       "            <td>July     </td>\n",
       "            <td>2020</td>\n",
       "            <td>None</td>\n",
       "            <td>None</td>\n",
       "        </tr>\n",
       "    </tbody>\n",
       "</table>"
      ],
      "text/plain": [
       "[('Georgia', 3, 'March    ', 2020, None, None),\n",
       " ('Georgia', 4, 'April    ', 2020, None, None),\n",
       " ('Georgia', 5, 'May      ', 2020, None, None),\n",
       " ('Georgia', 6, 'June     ', 2020, None, None),\n",
       " ('Georgia', 7, 'July     ', 2020, None, None)]"
      ]
     },
     "execution_count": 366,
     "metadata": {},
     "output_type": "execute_result"
    }
   ],
   "source": [
    "%%sql\n",
    "select * from georgia_mthly_antigen_tests limit 5"
   ]
  },
  {
   "cell_type": "code",
   "execution_count": 367,
   "id": "699ee494-bf99-4555-ac9e-f2231b9e06fc",
   "metadata": {},
   "outputs": [
    {
     "name": "stdout",
     "output_type": "stream",
     "text": [
      " * postgresql://student@/week13\n",
      "0 rows affected.\n"
     ]
    },
    {
     "data": {
      "text/html": [
       "<table>\n",
       "    <thead>\n",
       "        <tr>\n",
       "        </tr>\n",
       "    </thead>\n",
       "    <tbody>\n",
       "    </tbody>\n",
       "</table>"
      ],
      "text/plain": [
       "[]"
      ]
     },
     "execution_count": 367,
     "metadata": {},
     "output_type": "execute_result"
    }
   ],
   "source": [
    "%%sql\n",
    "\n",
    "\\copy (select * from georgia_mthly_antigen_tests) to '/home/ubuntu/notebooks/Final/tables2/georgia_mthly_antigen_tests.csv' with (format csv, header)"
   ]
  },
  {
   "cell_type": "markdown",
   "id": "956b32f1-5985-4a3d-b971-35b671e3840f",
   "metadata": {},
   "source": [
    "Check file Q2 for conclusion and visualizations"
   ]
  },
  {
   "cell_type": "markdown",
   "id": "47eff27c-b603-4ef5-9453-b7c9b92f9399",
   "metadata": {},
   "source": [
    "## Q3. What test types are more popular based on state?"
   ]
  },
  {
   "cell_type": "code",
   "execution_count": 368,
   "id": "3894e9e9-bcf8-4a43-a39f-c2e9e18751d6",
   "metadata": {},
   "outputs": [
    {
     "name": "stdout",
     "output_type": "stream",
     "text": [
      " * postgresql://student@/week13\n",
      "12 rows affected.\n"
     ]
    },
    {
     "data": {
      "text/html": [
       "<table>\n",
       "    <thead>\n",
       "        <tr>\n",
       "            <th>state</th>\n",
       "            <th>total_antigen_tests</th>\n",
       "            <th>total_positive_antigen_tests</th>\n",
       "            <th>total_viral_tests</th>\n",
       "            <th>total_positive_viral_tests</th>\n",
       "            <th>total_tests</th>\n",
       "            <th>percent_antigen_tests</th>\n",
       "            <th>percent_viral_tests</th>\n",
       "        </tr>\n",
       "    </thead>\n",
       "    <tbody>\n",
       "        <tr>\n",
       "            <td>Maine</td>\n",
       "            <td>134128624</td>\n",
       "            <td>7228596</td>\n",
       "            <td>819676528</td>\n",
       "            <td>19764442</td>\n",
       "            <td>953805152</td>\n",
       "            <td>14</td>\n",
       "            <td>85</td>\n",
       "        </tr>\n",
       "        <tr>\n",
       "            <td>Puerto Rico</td>\n",
       "            <td>460169676</td>\n",
       "            <td>13787401</td>\n",
       "            <td>942334929</td>\n",
       "            <td>78387655</td>\n",
       "            <td>1402504605</td>\n",
       "            <td>32</td>\n",
       "            <td>67</td>\n",
       "        </tr>\n",
       "        <tr>\n",
       "            <td>Iowa</td>\n",
       "            <td>646915920</td>\n",
       "            <td>26461993</td>\n",
       "            <td>1191249531</td>\n",
       "            <td>125080166</td>\n",
       "            <td>1838165451</td>\n",
       "            <td>35</td>\n",
       "            <td>64</td>\n",
       "        </tr>\n",
       "        <tr>\n",
       "            <td>Utah</td>\n",
       "            <td>530147228</td>\n",
       "            <td>30851631</td>\n",
       "            <td>1445445166</td>\n",
       "            <td>154065784</td>\n",
       "            <td>1975592394</td>\n",
       "            <td>26</td>\n",
       "            <td>73</td>\n",
       "        </tr>\n",
       "        <tr>\n",
       "            <td>Kentucky</td>\n",
       "            <td>353661256</td>\n",
       "            <td>41061918</td>\n",
       "            <td>1891919249</td>\n",
       "            <td>142563493</td>\n",
       "            <td>2245580505</td>\n",
       "            <td>15</td>\n",
       "            <td>84</td>\n",
       "        </tr>\n",
       "        <tr>\n",
       "            <td>Missouri</td>\n",
       "            <td>631123533</td>\n",
       "            <td>42820371</td>\n",
       "            <td>2248929702</td>\n",
       "            <td>238473378</td>\n",
       "            <td>2880053235</td>\n",
       "            <td>21</td>\n",
       "            <td>78</td>\n",
       "        </tr>\n",
       "        <tr>\n",
       "            <td>South Carolina</td>\n",
       "            <td>507352307</td>\n",
       "            <td>54010971</td>\n",
       "            <td>2514708089</td>\n",
       "            <td>262830336</td>\n",
       "            <td>3022060396</td>\n",
       "            <td>16</td>\n",
       "            <td>83</td>\n",
       "        </tr>\n",
       "        <tr>\n",
       "            <td>Connecticut</td>\n",
       "            <td>239880549</td>\n",
       "            <td>12066054</td>\n",
       "            <td>3093703638</td>\n",
       "            <td>138667873</td>\n",
       "            <td>3333584187</td>\n",
       "            <td>7</td>\n",
       "            <td>92</td>\n",
       "        </tr>\n",
       "        <tr>\n",
       "            <td>Georgia</td>\n",
       "            <td>746195477</td>\n",
       "            <td>71582776</td>\n",
       "            <td>2888531862</td>\n",
       "            <td>294173822</td>\n",
       "            <td>3634727339</td>\n",
       "            <td>20</td>\n",
       "            <td>79</td>\n",
       "        </tr>\n",
       "        <tr>\n",
       "            <td>Tennessee</td>\n",
       "            <td>790168088</td>\n",
       "            <td>69338504</td>\n",
       "            <td>3154934772</td>\n",
       "            <td>333058230</td>\n",
       "            <td>3945102860</td>\n",
       "            <td>20</td>\n",
       "            <td>79</td>\n",
       "        </tr>\n",
       "        <tr>\n",
       "            <td>Ohio</td>\n",
       "            <td>1100742596</td>\n",
       "            <td>50200850</td>\n",
       "            <td>5007308979</td>\n",
       "            <td>381093051</td>\n",
       "            <td>6108051575</td>\n",
       "            <td>18</td>\n",
       "            <td>81</td>\n",
       "        </tr>\n",
       "        <tr>\n",
       "            <td>Texas</td>\n",
       "            <td>1772983977</td>\n",
       "            <td>114064038</td>\n",
       "            <td>10318935579</td>\n",
       "            <td>1244569904</td>\n",
       "            <td>12091919556</td>\n",
       "            <td>14</td>\n",
       "            <td>85</td>\n",
       "        </tr>\n",
       "    </tbody>\n",
       "</table>"
      ],
      "text/plain": [
       "[('Maine', 134128624, 7228596, 819676528, 19764442, 953805152, 14, 85),\n",
       " ('Puerto Rico', 460169676, 13787401, 942334929, 78387655, 1402504605, 32, 67),\n",
       " ('Iowa', 646915920, 26461993, 1191249531, 125080166, 1838165451, 35, 64),\n",
       " ('Utah', 530147228, 30851631, 1445445166, 154065784, 1975592394, 26, 73),\n",
       " ('Kentucky', 353661256, 41061918, 1891919249, 142563493, 2245580505, 15, 84),\n",
       " ('Missouri', 631123533, 42820371, 2248929702, 238473378, 2880053235, 21, 78),\n",
       " ('South Carolina', 507352307, 54010971, 2514708089, 262830336, 3022060396, 16, 83),\n",
       " ('Connecticut', 239880549, 12066054, 3093703638, 138667873, 3333584187, 7, 92),\n",
       " ('Georgia', 746195477, 71582776, 2888531862, 294173822, 3634727339, 20, 79),\n",
       " ('Tennessee', 790168088, 69338504, 3154934772, 333058230, 3945102860, 20, 79),\n",
       " ('Ohio', 1100742596, 50200850, 5007308979, 381093051, 6108051575, 18, 81),\n",
       " ('Texas', 1772983977, 114064038, 10318935579, 1244569904, 12091919556, 14, 85)]"
      ]
     },
     "execution_count": 368,
     "metadata": {},
     "output_type": "execute_result"
    }
   ],
   "source": [
    "%%sql\n",
    "SELECT state,\n",
    "    sum(tests_antigen_total) total_antigen_tests,\n",
    "    sum(tests_antigen_positive) total_positive_antigen_tests,\n",
    "    sum(tests_viral_total) total_viral_tests,\n",
    "    sum(tests_viral_positive) total_positive_viral_tests,\n",
    "    sum(tests_antigen_total+tests_viral_total) total_tests,\n",
    "    sum(tests_antigen_total)*100/sum(tests_antigen_total+tests_viral_total) as percent_antigen_tests,\n",
    "    sum(tests_viral_total)*100/sum(tests_antigen_total+tests_viral_total) as percent_viral_tests\n",
    "    \n",
    "FROM tests\n",
    "JOIN place\n",
    "    ON tests.state_key = place.key\n",
    "where tests_antigen_total is not null\n",
    "and tests_antigen_positive is not null\n",
    "and tests_viral_total is not null\n",
    "and tests_viral_positive is not null\n",
    "\n",
    "GROUP BY state\n",
    "ORDER BY total_tests"
   ]
  },
  {
   "cell_type": "code",
   "execution_count": 369,
   "id": "461c4036-0fd5-4258-9ffd-1127c9778986",
   "metadata": {},
   "outputs": [
    {
     "name": "stdout",
     "output_type": "stream",
     "text": [
      " * postgresql://student@/week13\n",
      "12 rows affected.\n"
     ]
    },
    {
     "data": {
      "text/html": [
       "<table>\n",
       "    <thead>\n",
       "        <tr>\n",
       "            <th>state</th>\n",
       "            <th>total_antigen_tests</th>\n",
       "            <th>total_positive_antigen_tests</th>\n",
       "            <th>total_viral_tests</th>\n",
       "            <th>total_positive_viral_tests</th>\n",
       "            <th>percent_antigen_positive</th>\n",
       "            <th>percent_viral_positive</th>\n",
       "        </tr>\n",
       "    </thead>\n",
       "    <tbody>\n",
       "        <tr>\n",
       "            <td>Connecticut</td>\n",
       "            <td>239880549</td>\n",
       "            <td>12066054</td>\n",
       "            <td>3093703638</td>\n",
       "            <td>138667873</td>\n",
       "            <td>5.0</td>\n",
       "            <td>4.0</td>\n",
       "        </tr>\n",
       "        <tr>\n",
       "            <td>Georgia</td>\n",
       "            <td>746195477</td>\n",
       "            <td>71582776</td>\n",
       "            <td>2888531862</td>\n",
       "            <td>294173822</td>\n",
       "            <td>9.0</td>\n",
       "            <td>10.0</td>\n",
       "        </tr>\n",
       "        <tr>\n",
       "            <td>Iowa</td>\n",
       "            <td>646915920</td>\n",
       "            <td>26461993</td>\n",
       "            <td>1191249531</td>\n",
       "            <td>125080166</td>\n",
       "            <td>4.0</td>\n",
       "            <td>10.0</td>\n",
       "        </tr>\n",
       "        <tr>\n",
       "            <td>Kentucky</td>\n",
       "            <td>353661256</td>\n",
       "            <td>41061918</td>\n",
       "            <td>1891919249</td>\n",
       "            <td>142563493</td>\n",
       "            <td>11.0</td>\n",
       "            <td>7.0</td>\n",
       "        </tr>\n",
       "        <tr>\n",
       "            <td>Maine</td>\n",
       "            <td>134128624</td>\n",
       "            <td>7228596</td>\n",
       "            <td>819676528</td>\n",
       "            <td>19764442</td>\n",
       "            <td>5.0</td>\n",
       "            <td>2.0</td>\n",
       "        </tr>\n",
       "        <tr>\n",
       "            <td>Missouri</td>\n",
       "            <td>631123533</td>\n",
       "            <td>42820371</td>\n",
       "            <td>2248929702</td>\n",
       "            <td>238473378</td>\n",
       "            <td>6.0</td>\n",
       "            <td>10.0</td>\n",
       "        </tr>\n",
       "        <tr>\n",
       "            <td>Ohio</td>\n",
       "            <td>1100742596</td>\n",
       "            <td>50200850</td>\n",
       "            <td>5007308979</td>\n",
       "            <td>381093051</td>\n",
       "            <td>4.0</td>\n",
       "            <td>7.0</td>\n",
       "        </tr>\n",
       "        <tr>\n",
       "            <td>Puerto Rico</td>\n",
       "            <td>460169676</td>\n",
       "            <td>13787401</td>\n",
       "            <td>942334929</td>\n",
       "            <td>78387655</td>\n",
       "            <td>2.0</td>\n",
       "            <td>8.0</td>\n",
       "        </tr>\n",
       "        <tr>\n",
       "            <td>South Carolina</td>\n",
       "            <td>507352307</td>\n",
       "            <td>54010971</td>\n",
       "            <td>2514708089</td>\n",
       "            <td>262830336</td>\n",
       "            <td>10.0</td>\n",
       "            <td>10.0</td>\n",
       "        </tr>\n",
       "        <tr>\n",
       "            <td>Tennessee</td>\n",
       "            <td>790168088</td>\n",
       "            <td>69338504</td>\n",
       "            <td>3154934772</td>\n",
       "            <td>333058230</td>\n",
       "            <td>8.0</td>\n",
       "            <td>10.0</td>\n",
       "        </tr>\n",
       "        <tr>\n",
       "            <td>Texas</td>\n",
       "            <td>1772983977</td>\n",
       "            <td>114064038</td>\n",
       "            <td>10318935579</td>\n",
       "            <td>1244569904</td>\n",
       "            <td>6.0</td>\n",
       "            <td>12.0</td>\n",
       "        </tr>\n",
       "        <tr>\n",
       "            <td>Utah</td>\n",
       "            <td>530147228</td>\n",
       "            <td>30851631</td>\n",
       "            <td>1445445166</td>\n",
       "            <td>154065784</td>\n",
       "            <td>5.0</td>\n",
       "            <td>10.0</td>\n",
       "        </tr>\n",
       "    </tbody>\n",
       "</table>"
      ],
      "text/plain": [
       "[('Connecticut', 239880549, 12066054, 3093703638, 138667873, 5.0, 4.0),\n",
       " ('Georgia', 746195477, 71582776, 2888531862, 294173822, 9.0, 10.0),\n",
       " ('Iowa', 646915920, 26461993, 1191249531, 125080166, 4.0, 10.0),\n",
       " ('Kentucky', 353661256, 41061918, 1891919249, 142563493, 11.0, 7.0),\n",
       " ('Maine', 134128624, 7228596, 819676528, 19764442, 5.0, 2.0),\n",
       " ('Missouri', 631123533, 42820371, 2248929702, 238473378, 6.0, 10.0),\n",
       " ('Ohio', 1100742596, 50200850, 5007308979, 381093051, 4.0, 7.0),\n",
       " ('Puerto Rico', 460169676, 13787401, 942334929, 78387655, 2.0, 8.0),\n",
       " ('South Carolina', 507352307, 54010971, 2514708089, 262830336, 10.0, 10.0),\n",
       " ('Tennessee', 790168088, 69338504, 3154934772, 333058230, 8.0, 10.0),\n",
       " ('Texas', 1772983977, 114064038, 10318935579, 1244569904, 6.0, 12.0),\n",
       " ('Utah', 530147228, 30851631, 1445445166, 154065784, 5.0, 10.0)]"
      ]
     },
     "execution_count": 369,
     "metadata": {},
     "output_type": "execute_result"
    }
   ],
   "source": [
    "%%sql\n",
    "SELECT state,\n",
    "    sum(tests_antigen_total) total_antigen_tests,\n",
    "    sum(tests_antigen_positive) total_positive_antigen_tests,\n",
    "    sum(tests_viral_total) total_viral_tests,\n",
    "    sum(tests_viral_positive) total_positive_viral_tests,\n",
    "    round(sum(tests_antigen_positive)*100/sum(tests_antigen_total)) as percent_antigen_positive,\n",
    "    round(sum(tests_viral_positive)*100/sum(tests_viral_total)) as percent_viral_positive\n",
    "    \n",
    "FROM tests\n",
    "JOIN place\n",
    "    ON tests.state_key = place.key\n",
    "where tests_antigen_total is not null\n",
    "and tests_antigen_positive is not null\n",
    "and tests_viral_total is not null\n",
    "and tests_viral_positive is not null\n",
    "\n",
    "GROUP BY state\n",
    "ORDER BY state"
   ]
  },
  {
   "cell_type": "code",
   "execution_count": null,
   "id": "e4c0b412",
   "metadata": {},
   "outputs": [],
   "source": []
  },
  {
   "cell_type": "markdown",
   "id": "a449d5ba-918d-412d-b3af-d9f502590b20",
   "metadata": {},
   "source": [
    "## Q4. Does the distribution of doses shipped differ among states?"
   ]
  },
  {
   "cell_type": "markdown",
   "id": "dd0f3d9a-a60a-4789-a3b8-2f0936d0159b",
   "metadata": {
    "tags": []
   },
   "source": [
    "### Get the daily distribution of doses alloc, admin, shipped across states"
   ]
  },
  {
   "cell_type": "code",
   "execution_count": 370,
   "id": "ee77a0d4-0d09-43b9-b315-ea462b770fac",
   "metadata": {},
   "outputs": [
    {
     "name": "stdout",
     "output_type": "stream",
     "text": [
      " * postgresql://student@/week13\n",
      "Done.\n",
      "Done.\n"
     ]
    },
    {
     "data": {
      "text/plain": [
       "[]"
      ]
     },
     "execution_count": 370,
     "metadata": {},
     "output_type": "execute_result"
    }
   ],
   "source": [
    "%%sql\n",
    "DROP VIEW if exists distribution;\n",
    "\n",
    "CREATE VIEW distribution AS\n",
    "\n",
    "SELECT state_key, state, day, v_type_key, \n",
    "      doses_alloc - LAG(doses_alloc) OVER (PARTITION BY state ORDER BY day) AS daily_alloc,\n",
    "      doses_admin - LAG(doses_admin) OVER (PARTITION BY state ORDER BY day) AS daily_admin,\n",
    "      doses_shipped - LAG(doses_shipped) OVER (PARTITION BY state ORDER BY day) AS daily_shipped\n",
    "        \n",
    "FROM vaccine\n",
    "JOIN place\n",
    "    ON vaccine.state_key = place.key\n",
    "JOIN date\n",
    "    ON vaccine.date_key = date.key\n",
    "    \n",
    "WHERE v_type_key = 2\n",
    "ORDER BY state, day"
   ]
  },
  {
   "cell_type": "code",
   "execution_count": 371,
   "id": "27a90f87-27a5-467d-b288-7c467801e255",
   "metadata": {},
   "outputs": [
    {
     "name": "stdout",
     "output_type": "stream",
     "text": [
      " * postgresql://student@/week13\n",
      "5 rows affected.\n"
     ]
    },
    {
     "data": {
      "text/html": [
       "<table>\n",
       "    <thead>\n",
       "        <tr>\n",
       "            <th>state_key</th>\n",
       "            <th>state</th>\n",
       "            <th>day</th>\n",
       "            <th>v_type_key</th>\n",
       "            <th>daily_alloc</th>\n",
       "            <th>daily_admin</th>\n",
       "            <th>daily_shipped</th>\n",
       "        </tr>\n",
       "    </thead>\n",
       "    <tbody>\n",
       "        <tr>\n",
       "            <td>62</td>\n",
       "            <td>Maryland</td>\n",
       "            <td>2021-04-01</td>\n",
       "            <td>2</td>\n",
       "            <td>None</td>\n",
       "            <td>5051</td>\n",
       "            <td>None</td>\n",
       "        </tr>\n",
       "        <tr>\n",
       "            <td>62</td>\n",
       "            <td>Maryland</td>\n",
       "            <td>2021-04-02</td>\n",
       "            <td>2</td>\n",
       "            <td>None</td>\n",
       "            <td>5038</td>\n",
       "            <td>None</td>\n",
       "        </tr>\n",
       "        <tr>\n",
       "            <td>62</td>\n",
       "            <td>Maryland</td>\n",
       "            <td>2021-04-03</td>\n",
       "            <td>2</td>\n",
       "            <td>None</td>\n",
       "            <td>5280</td>\n",
       "            <td>None</td>\n",
       "        </tr>\n",
       "        <tr>\n",
       "            <td>62</td>\n",
       "            <td>Maryland</td>\n",
       "            <td>2021-04-04</td>\n",
       "            <td>2</td>\n",
       "            <td>None</td>\n",
       "            <td>4483</td>\n",
       "            <td>None</td>\n",
       "        </tr>\n",
       "        <tr>\n",
       "            <td>62</td>\n",
       "            <td>Maryland</td>\n",
       "            <td>2021-04-05</td>\n",
       "            <td>2</td>\n",
       "            <td>None</td>\n",
       "            <td>1073</td>\n",
       "            <td>None</td>\n",
       "        </tr>\n",
       "    </tbody>\n",
       "</table>"
      ],
      "text/plain": [
       "[(62, 'Maryland', '2021-04-01', 2, None, 5051, None),\n",
       " (62, 'Maryland', '2021-04-02', 2, None, 5038, None),\n",
       " (62, 'Maryland', '2021-04-03', 2, None, 5280, None),\n",
       " (62, 'Maryland', '2021-04-04', 2, None, 4483, None),\n",
       " (62, 'Maryland', '2021-04-05', 2, None, 1073, None)]"
      ]
     },
     "execution_count": 371,
     "metadata": {},
     "output_type": "execute_result"
    }
   ],
   "source": [
    "%%sql\n",
    "\n",
    "select * from distribution\n",
    "WHERE day between '2021-04-01' and '2021-06-30' \n",
    "and state Like 'Maryland'\n",
    "limit 5"
   ]
  },
  {
   "cell_type": "markdown",
   "id": "e5609f49-e82b-46c7-974c-50892d649d33",
   "metadata": {},
   "source": [
    "### Join population info and calculate shipped doses per million ppl"
   ]
  },
  {
   "cell_type": "code",
   "execution_count": 372,
   "id": "0a5909a5-6d31-406d-9344-4068e8af298d",
   "metadata": {},
   "outputs": [
    {
     "name": "stdout",
     "output_type": "stream",
     "text": [
      " * postgresql://student@/week13\n",
      "Done.\n",
      "17025 rows affected.\n"
     ]
    },
    {
     "data": {
      "text/plain": [
       "[]"
      ]
     },
     "execution_count": 372,
     "metadata": {},
     "output_type": "execute_result"
    }
   ],
   "source": [
    "%%sql\n",
    "DROP TABLE IF EXISTS distribution_per_mil;\n",
    "\n",
    "CREATE TABLE distribution_per_mil as\n",
    "\n",
    "SELECT d.*, p.population, round(d.daily_shipped/(p.population/1000000),2) as doses_per_mil\n",
    "FROM distribution d \n",
    "LEFT OUTER JOIN USpopulation p\n",
    "    ON d.state_key = p.state_key"
   ]
  },
  {
   "cell_type": "code",
   "execution_count": 373,
   "id": "96f591c7-6bb6-4055-807e-25f1c78181b1",
   "metadata": {
    "tags": []
   },
   "outputs": [
    {
     "name": "stdout",
     "output_type": "stream",
     "text": [
      " * postgresql://student@/week13\n",
      "5 rows affected.\n"
     ]
    },
    {
     "data": {
      "text/html": [
       "<table>\n",
       "    <thead>\n",
       "        <tr>\n",
       "            <th>state_key</th>\n",
       "            <th>state</th>\n",
       "            <th>day</th>\n",
       "            <th>v_type_key</th>\n",
       "            <th>daily_alloc</th>\n",
       "            <th>daily_admin</th>\n",
       "            <th>daily_shipped</th>\n",
       "            <th>population</th>\n",
       "            <th>doses_per_mil</th>\n",
       "        </tr>\n",
       "    </thead>\n",
       "    <tbody>\n",
       "        <tr>\n",
       "            <td>62</td>\n",
       "            <td>Maryland</td>\n",
       "            <td>2021-04-01</td>\n",
       "            <td>2</td>\n",
       "            <td>None</td>\n",
       "            <td>5051</td>\n",
       "            <td>None</td>\n",
       "            <td>6177224</td>\n",
       "            <td>None</td>\n",
       "        </tr>\n",
       "        <tr>\n",
       "            <td>62</td>\n",
       "            <td>Maryland</td>\n",
       "            <td>2021-04-02</td>\n",
       "            <td>2</td>\n",
       "            <td>None</td>\n",
       "            <td>5038</td>\n",
       "            <td>None</td>\n",
       "            <td>6177224</td>\n",
       "            <td>None</td>\n",
       "        </tr>\n",
       "        <tr>\n",
       "            <td>62</td>\n",
       "            <td>Maryland</td>\n",
       "            <td>2021-04-03</td>\n",
       "            <td>2</td>\n",
       "            <td>None</td>\n",
       "            <td>5280</td>\n",
       "            <td>None</td>\n",
       "            <td>6177224</td>\n",
       "            <td>None</td>\n",
       "        </tr>\n",
       "        <tr>\n",
       "            <td>62</td>\n",
       "            <td>Maryland</td>\n",
       "            <td>2021-04-04</td>\n",
       "            <td>2</td>\n",
       "            <td>None</td>\n",
       "            <td>4483</td>\n",
       "            <td>None</td>\n",
       "            <td>6177224</td>\n",
       "            <td>None</td>\n",
       "        </tr>\n",
       "        <tr>\n",
       "            <td>62</td>\n",
       "            <td>Maryland</td>\n",
       "            <td>2021-04-05</td>\n",
       "            <td>2</td>\n",
       "            <td>None</td>\n",
       "            <td>1073</td>\n",
       "            <td>None</td>\n",
       "            <td>6177224</td>\n",
       "            <td>None</td>\n",
       "        </tr>\n",
       "    </tbody>\n",
       "</table>"
      ],
      "text/plain": [
       "[(62, 'Maryland', '2021-04-01', 2, None, 5051, None, Decimal('6177224'), None),\n",
       " (62, 'Maryland', '2021-04-02', 2, None, 5038, None, Decimal('6177224'), None),\n",
       " (62, 'Maryland', '2021-04-03', 2, None, 5280, None, Decimal('6177224'), None),\n",
       " (62, 'Maryland', '2021-04-04', 2, None, 4483, None, Decimal('6177224'), None),\n",
       " (62, 'Maryland', '2021-04-05', 2, None, 1073, None, Decimal('6177224'), None)]"
      ]
     },
     "execution_count": 373,
     "metadata": {},
     "output_type": "execute_result"
    }
   ],
   "source": [
    "%%sql\n",
    "\n",
    "select * from distribution_per_mil\n",
    "WHERE day between '2021-04-01' and '2021-06-30' \n",
    "and state Like 'Maryland'\n",
    "limit 5"
   ]
  },
  {
   "cell_type": "markdown",
   "id": "847d0026-ea26-40ef-9530-e5bec26c13b5",
   "metadata": {},
   "source": [
    "### Export data"
   ]
  },
  {
   "cell_type": "code",
   "execution_count": 374,
   "id": "4189a918-bc77-400a-9298-a8e28620aea2",
   "metadata": {
    "tags": []
   },
   "outputs": [
    {
     "name": "stdout",
     "output_type": "stream",
     "text": [
      " * postgresql://student@/week13\n",
      "0 rows affected.\n"
     ]
    },
    {
     "data": {
      "text/html": [
       "<table>\n",
       "    <thead>\n",
       "        <tr>\n",
       "        </tr>\n",
       "    </thead>\n",
       "    <tbody>\n",
       "    </tbody>\n",
       "</table>"
      ],
      "text/plain": [
       "[]"
      ]
     },
     "execution_count": 374,
     "metadata": {},
     "output_type": "execute_result"
    }
   ],
   "source": [
    "%%sql\n",
    "\n",
    "\\copy (select * from distribution_per_mil) to '/home/ubuntu/notebooks/Final/distribution_per_mil.csv' with (format csv, header)"
   ]
  },
  {
   "cell_type": "markdown",
   "id": "2d16c1f3-7247-4778-92d0-5b5af1850d4d",
   "metadata": {},
   "source": [
    "### Drop tables"
   ]
  },
  {
   "cell_type": "code",
   "execution_count": 375,
   "id": "a261f6a9-d15b-4f3c-aba3-fad87b3466d9",
   "metadata": {
    "tags": []
   },
   "outputs": [
    {
     "name": "stdout",
     "output_type": "stream",
     "text": [
      " * postgresql://student@/week13\n",
      "Done.\n"
     ]
    },
    {
     "data": {
      "text/plain": [
       "[]"
      ]
     },
     "execution_count": 375,
     "metadata": {},
     "output_type": "execute_result"
    }
   ],
   "source": [
    "%%sql\n",
    "\n",
    "DROP TABLE IF EXISTS distribution_per_mil;"
   ]
  },
  {
   "cell_type": "markdown",
   "id": "086a17d6-557f-472a-bca1-cc402cfabbba",
   "metadata": {},
   "source": [
    "Check Q4.ipynb for conclusion and visualization"
   ]
  }
 ],
 "metadata": {
  "kernelspec": {
   "display_name": "Python 3 (ipykernel)",
   "language": "python",
   "name": "python3"
  },
  "language_info": {
   "codemirror_mode": {
    "name": "ipython",
    "version": 3
   },
   "file_extension": ".py",
   "mimetype": "text/x-python",
   "name": "python",
   "nbconvert_exporter": "python",
   "pygments_lexer": "ipython3",
   "version": "3.8.10"
  }
 },
 "nbformat": 4,
 "nbformat_minor": 5
}
