{
 "cells": [
  {
   "cell_type": "markdown",
   "id": "0dfc2908-b62f-4628-beb6-a5977400a348",
   "metadata": {},
   "source": [
    "# Conclusion"
   ]
  },
  {
   "cell_type": "markdown",
   "id": "2c25dd2b-551e-4e8f-9b9c-2c7ccbd9a845",
   "metadata": {},
   "source": [
    "##### Increased testing capacity does not appear to lead to a significant increase in positive test results. The total number of viral and antigen tests per month were caluclated and compared against each subsequent month for several U.S. states. As the number of tests performed in each state increased, there appears to be a strong correlation to an increase in negative test results. Positive test results appear to increase slightly as testing capacity increases. However, the correlation seems mild."
   ]
  },
  {
   "cell_type": "markdown",
   "id": "889eab28-5ad6-49c8-8f28-03601e48b8c0",
   "metadata": {},
   "source": [
    "## Viral Testing"
   ]
  },
  {
   "cell_type": "code",
   "execution_count": null,
   "id": "7a3fec71-bf8c-40a1-83f2-e53ac3ea4a89",
   "metadata": {},
   "outputs": [],
   "source": [
    "from IPython.display import Image\n",
    "Image(url=\"https://raw.githubusercontent.com/tivonj/Images/main/connecticut_viral_bar1.png\")"
   ]
  },
  {
   "cell_type": "code",
   "execution_count": null,
   "id": "08adedaa-7901-435b-9d86-f88df099ec0d",
   "metadata": {},
   "outputs": [],
   "source": [
    "Image(url=\"https://raw.githubusercontent.com/tivonj/Images/main/connecticut_viral_bar2.png\")"
   ]
  },
  {
   "cell_type": "code",
   "execution_count": null,
   "id": "ea05170f-3e5a-496d-b763-71554ed22019",
   "metadata": {},
   "outputs": [],
   "source": [
    "Image(url=\"https://raw.githubusercontent.com/tivonj/Images/main/connecticut_viral_line_chart.png\")"
   ]
  },
  {
   "cell_type": "markdown",
   "id": "d45b48ac-778e-418d-9543-ec25c0c6db66",
   "metadata": {},
   "source": [
    "## Antigen Testing"
   ]
  },
  {
   "cell_type": "code",
   "execution_count": null,
   "id": "581bac3f-0f6f-4d7a-b11a-ec94e7bdb453",
   "metadata": {},
   "outputs": [],
   "source": [
    "Image(url=\"https://raw.githubusercontent.com/tivonj/Images/main/virginia_antigen_bar1.png\")"
   ]
  },
  {
   "cell_type": "code",
   "execution_count": null,
   "id": "fac0d40e-1b05-40e5-90af-76dbf02d7cf5",
   "metadata": {},
   "outputs": [],
   "source": [
    "Image(url=\"https://raw.githubusercontent.com/tivonj/Images/main/virginia_antigen_bar2.png\")"
   ]
  },
  {
   "cell_type": "code",
   "execution_count": null,
   "id": "acb51d26-1b1f-4c1e-bff3-9f0ce048f44b",
   "metadata": {},
   "outputs": [],
   "source": [
    "Image(url=\"https://raw.githubusercontent.com/tivonj/Images/main/virginia_antigen_line_chart.png\")"
   ]
  }
 ],
 "metadata": {
  "kernelspec": {
   "display_name": "Python 3 (ipykernel)",
   "language": "python",
   "name": "python3"
  },
  "language_info": {
   "codemirror_mode": {
    "name": "ipython",
    "version": 3
   },
   "file_extension": ".py",
   "mimetype": "text/x-python",
   "name": "python",
   "nbconvert_exporter": "python",
   "pygments_lexer": "ipython3",
   "version": "3.8.10"
  }
 },
 "nbformat": 4,
 "nbformat_minor": 5
}
