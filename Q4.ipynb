{
 "cells": [
  {
   "cell_type": "markdown",
   "id": "3ccebec5-4116-4bcc-9a3b-984bc71dac09",
   "metadata": {},
   "source": [
    "### Insight and Conclusion"
   ]
  },
  {
   "cell_type": "markdown",
   "id": "ed5d05dc-8dcb-419f-b34e-aed5f4bce470",
   "metadata": {},
   "source": [
    "We are interested in whether different regions would influence the distribution of doses being shipped, and whether it has anything corresponding to blue or red states."
   ]
  },
  {
   "cell_type": "markdown",
   "id": "7f185aa3-3821-4689-b80a-87fa11b1966d",
   "metadata": {},
   "source": [
    "We examine the amount of doses shipped per million people by quarter. By the first quarter of 2021, we see that the south and west region received relatively less doses, with 1.7 times the difference (350k ~ 600k). Moving on to the second quarter, the south region still receive relatively less doses and also the middle part of the US, with also 1.7 times the difference (700k ~ 1.2m). By the end of 2021, the distribution of doses become nearly the same across every states (1.4m ~ 1.8m)."
   ]
  },
  {
   "cell_type": "markdown",
   "id": "e67cd0ee-49bf-4c9b-a924-396f58d3ce7a",
   "metadata": {},
   "source": [
    "### Some direction for future investigation"
   ]
  },
  {
   "cell_type": "markdown",
   "id": "7350dfc2-ac3e-41ea-9105-f588c3ad58d3",
   "metadata": {},
   "source": [
    "It seems perhaps Q2 has the most similar distribution that corresponding to the blue/red states (lower left picture). However, we cannot jump to the conclusion that the political view a state holds influences the vaccines received, but we still have to look into the distribution of the positivity/hospitality/deaths rate to understand how the distribution is decided."
   ]
  },
  {
   "cell_type": "code",
   "execution_count": null,
   "id": "96905fa8-65f9-4faa-b117-82e34f1d0c82",
   "metadata": {},
   "outputs": [],
   "source": [
    "from IPython.display import Image\n",
    "Image(\"~Q1.jpg\")"
   ]
  },
  {
   "cell_type": "code",
   "execution_count": null,
   "id": "0f27281f-40b2-4dba-9044-b7fc434ba01d",
   "metadata": {},
   "outputs": [],
   "source": [
    "from IPython.display import Image\n",
    "Image(\"~Q2.jpg\")"
   ]
  },
  {
   "cell_type": "code",
   "execution_count": null,
   "id": "e0543f19-1010-420e-a083-853bf24ca325",
   "metadata": {},
   "outputs": [],
   "source": [
    "from IPython.display import Image\n",
    "Image(\"~Q4.jpg\")"
   ]
  },
  {
   "cell_type": "code",
   "execution_count": null,
   "id": "146ee1b0-1b58-474e-bc61-5a1b76c44f8b",
   "metadata": {},
   "outputs": [],
   "source": []
  }
 ],
 "metadata": {
  "kernelspec": {
   "display_name": "Python 3 (ipykernel)",
   "language": "python",
   "name": "python3"
  },
  "language_info": {
   "codemirror_mode": {
    "name": "ipython",
    "version": 3
   },
   "file_extension": ".py",
   "mimetype": "text/x-python",
   "name": "python",
   "nbconvert_exporter": "python",
   "pygments_lexer": "ipython3",
   "version": "3.8.10"
  }
 },
 "nbformat": 4,
 "nbformat_minor": 5
}
